{
 "cells": [
  {
   "cell_type": "markdown",
   "metadata": {},
   "source": [
    "## Indicadores Socieconomicos de chicago\n",
    "\n",
    "Se trabajara con una base de datos obtenida a partir de un archivo .csv que contiene algunos indicadores socioeconomicos de Chicago. Para mas informacion de esta base de datos, puede consultar  [the city of Chicago's website](https://data.cityofchicago.org/Health-Human-Services/Census-Data-Selected-socioeconomic-indicators-in-C/kn9c-c2s2?cm_mmc=Email_Newsletter-_-Developer_Ed%2BTech-_-WW_WW-_-SkillsNetwork-Courses-IBMDeveloperSkillsNetwork-DB0201EN-SkillsNetwork-20127838&cm_mmca1=000026UJ&cm_mmca2=10006555&cm_mmca3=M12345678&cvosrc=email.Newsletter.M12345678&cvo_campaign=000026UJ&cm_mmc=Email_Newsletter-_-Developer_Ed%2BTech-_-WW_WW-_-SkillsNetwork-Courses-IBMDeveloperSkillsNetwork-DB0201EN-SkillsNetwork-20127838&cm_mmca1=000026UJ&cm_mmca2=10006555&cm_mmca3=M12345678&cvosrc=email.Newsletter.M12345678&cvo_campaign=000026UJ), \n",
    "\n",
    "Las variables de dicho dataset son las siguientes:\n",
    "\n",
    "-   **Número de área comunitaria** (`ca`): Usado para identificar de manera unica cada fila\n",
    "\n",
    "-   **Nombre del área comunitaria** (`community_area_name`): El nombre de la region en la ciudad de Chicago \n",
    "\n",
    "-   **Porcentaje de viviendas abarrotadas** (`percent_of_housing_crowded`): Porcentaje de unidades de vivienda ocupadas con mas de una persona por habitacion\n",
    "\n",
    "-   **Porcentaje de hogares por debajo de la pobreza** (`percent_households_below_poverty`): Porcentejae de hogares que viven por debajo de la linea de pobreza federal\n",
    "\n",
    "-   **Porcentaje de desempleados mayores de 16 años** (`percent_aged_16_unemployed`): Porcentaje de personas mayores a 16 que estan desempleados\n",
    "\n",
    "-   **Porcentaje de mayores de 25 años sin diploma de escuela secundaria** (`percent_aged_25_without_high_school_diploma`): Porcentaje de personas mayores a 25 sin educacion secundaria\n",
    "\n",
    "-   **Porcentaje de menores de edad** 18 o más de 64: porcentaje de la población menor de 18 o mayor de 64 años (`percent_aged_under_18_or_over_64`): (ej. dependents)\n",
    "\n",
    "-   **Ingreso Per capita** (`per_capita_income_`): El ingreso per cápita del área comunitaria se estima como la suma de los ingresos agregados a nivel de zona dividida por la población total\n",
    "\n",
    "-   **Indice de dificultad** (`hardship_index`): Puntaje que incorpora cada uno de los seis indicadores socioeconómicos seleccionados\n"
   ]
  },
  {
   "cell_type": "markdown",
   "metadata": {},
   "source": [
    "## Problemas\n",
    "\n",
    "### Problema 1\n",
    "\n",
    "##### Cuantas filas hay en la tabla?\n"
   ]
  },
  {
   "cell_type": "code",
   "execution_count": 5,
   "metadata": {
    "ExecuteTime": {
     "end_time": "2020-12-07T18:20:57.982438Z",
     "start_time": "2020-12-07T18:20:57.978087Z"
    }
   },
   "outputs": [],
   "source": [
    "import os\n",
    "import sqlite3\n",
    "directory = os.getcwd()\n",
    "con = sqlite3.connect(directory + \"//bases de datos//chicago.db\")\n",
    "cursorObj = con.cursor()"
   ]
  },
  {
   "cell_type": "code",
   "execution_count": 13,
   "metadata": {
    "ExecuteTime": {
     "end_time": "2020-12-07T18:33:14.613075Z",
     "start_time": "2020-12-07T18:33:14.601993Z"
    }
   },
   "outputs": [
    {
     "data": {
      "text/plain": [
       "'jcxq-k9xf'"
      ]
     },
     "execution_count": 13,
     "metadata": {},
     "output_type": "execute_result"
    }
   ],
   "source": [
    "cursorObj.execute('''SELECT name\n",
    "                    FROM sqlite_master\n",
    "                    WHERE type = \"table\"''')\n",
    "tabla = cursorObj.fetchall()[0][0]\n",
    "tabla"
   ]
  },
  {
   "cell_type": "code",
   "execution_count": 15,
   "metadata": {
    "ExecuteTime": {
     "end_time": "2020-12-07T18:33:30.738812Z",
     "start_time": "2020-12-07T18:33:30.730582Z"
    }
   },
   "outputs": [
    {
     "ename": "OperationalError",
     "evalue": "near \"-\": syntax error",
     "output_type": "error",
     "traceback": [
      "\u001b[1;31m---------------------------------------------------------------------------\u001b[0m",
      "\u001b[1;31mOperationalError\u001b[0m                          Traceback (most recent call last)",
      "\u001b[1;32m<ipython-input-15-c9cb93d7b0b8>\u001b[0m in \u001b[0;36m<module>\u001b[1;34m\u001b[0m\n\u001b[1;32m----> 1\u001b[1;33m cursorObj.execute(f'''SELECT *\n\u001b[0m\u001b[0;32m      2\u001b[0m                     FROM {tabla}''')\n",
      "\u001b[1;31mOperationalError\u001b[0m: near \"-\": syntax error"
     ]
    }
   ],
   "source": [
    "cursorObj.execute(f'''SELECT *\n",
    "                    FROM {tabla}''')"
   ]
  },
  {
   "cell_type": "markdown",
   "metadata": {},
   "source": [
    "### Problema 2\n",
    "\n",
    "##### ¿Cuántas áreas comunitarias en Chicago tienen un índice de dificultad mayor a 50.0?\n"
   ]
  },
  {
   "cell_type": "code",
   "execution_count": null,
   "metadata": {
    "collapsed": true
   },
   "outputs": [],
   "source": []
  },
  {
   "cell_type": "markdown",
   "metadata": {},
   "source": [
    "### Problema 3\n",
    "\n",
    "##### ¿Cuál es el valor máximo del índice de dificultades en este conjunto de datos?"
   ]
  },
  {
   "cell_type": "code",
   "execution_count": null,
   "metadata": {
    "collapsed": true
   },
   "outputs": [],
   "source": []
  },
  {
   "cell_type": "markdown",
   "metadata": {},
   "source": [
    "### Problema 4\n",
    "\n",
    "##### ¿Qué área de la comunidad tiene el índice de dificultades más alto?\n"
   ]
  },
  {
   "cell_type": "code",
   "execution_count": null,
   "metadata": {
    "collapsed": true
   },
   "outputs": [],
   "source": []
  },
  {
   "cell_type": "markdown",
   "metadata": {},
   "source": [
    "### Problema 5\n",
    "\n",
    "##### ¿Qué áreas de la comunidad de Chicago tienen ingresos per cápita superiores a $ 60,000?\n"
   ]
  },
  {
   "cell_type": "code",
   "execution_count": null,
   "metadata": {
    "collapsed": true
   },
   "outputs": [],
   "source": []
  },
  {
   "cell_type": "markdown",
   "metadata": {},
   "source": [
    "### Problema 6\n",
    "\n",
    "##### Cree un diagrama de dispersión usando las variables `per_capita_income_` y ` hardship_index`. Explique la correlación entre las dos variables. \n"
   ]
  },
  {
   "cell_type": "code",
   "execution_count": null,
   "metadata": {
    "collapsed": true
   },
   "outputs": [],
   "source": []
  }
 ],
 "metadata": {
  "kernelspec": {
   "display_name": "Python 3",
   "language": "python",
   "name": "python3"
  },
  "language_info": {
   "codemirror_mode": {
    "name": "ipython",
    "version": 3
   },
   "file_extension": ".py",
   "mimetype": "text/x-python",
   "name": "python",
   "nbconvert_exporter": "python",
   "pygments_lexer": "ipython3",
   "version": "3.8.3"
  },
  "toc": {
   "base_numbering": 1,
   "nav_menu": {},
   "number_sections": true,
   "sideBar": true,
   "skip_h1_title": false,
   "title_cell": "Table of Contents",
   "title_sidebar": "Contents",
   "toc_cell": false,
   "toc_position": {},
   "toc_section_display": true,
   "toc_window_display": false
  },
  "varInspector": {
   "cols": {
    "lenName": 16,
    "lenType": 16,
    "lenVar": 40
   },
   "kernels_config": {
    "python": {
     "delete_cmd_postfix": "",
     "delete_cmd_prefix": "del ",
     "library": "var_list.py",
     "varRefreshCmd": "print(var_dic_list())"
    },
    "r": {
     "delete_cmd_postfix": ") ",
     "delete_cmd_prefix": "rm(",
     "library": "var_list.r",
     "varRefreshCmd": "cat(var_dic_list()) "
    }
   },
   "types_to_exclude": [
    "module",
    "function",
    "builtin_function_or_method",
    "instance",
    "_Feature"
   ],
   "window_display": false
  },
  "widgets": {
   "state": {},
   "version": "1.1.2"
  }
 },
 "nbformat": 4,
 "nbformat_minor": 2
}
