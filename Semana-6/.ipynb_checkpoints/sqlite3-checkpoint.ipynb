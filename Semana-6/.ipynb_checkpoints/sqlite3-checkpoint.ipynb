{
 "cells": [
  {
   "cell_type": "markdown",
   "metadata": {},
   "source": [
    "# SQLite 3"
   ]
  },
  {
   "cell_type": "code",
   "execution_count": null,
   "metadata": {
    "ExecuteTime": {
     "end_time": "2020-12-03T22:49:32.789262Z",
     "start_time": "2020-12-03T22:49:32.785250Z"
    }
   },
   "outputs": [],
   "source": [
    "import sqlite3\n",
    "import os"
   ]
  },
  {
   "cell_type": "code",
   "execution_count": null,
   "metadata": {
    "ExecuteTime": {
     "end_time": "2020-12-03T22:12:24.442425Z",
     "start_time": "2020-12-03T22:12:24.402727Z"
    }
   },
   "outputs": [],
   "source": [
    "ls"
   ]
  },
  {
   "cell_type": "code",
   "execution_count": null,
   "metadata": {
    "ExecuteTime": {
     "end_time": "2020-12-03T22:49:35.529474Z",
     "start_time": "2020-12-03T22:49:35.525475Z"
    }
   },
   "outputs": [],
   "source": [
    "directorio = os.getcwd()"
   ]
  },
  {
   "cell_type": "markdown",
   "metadata": {},
   "source": [
    "Se crea la conexion con la base de datos"
   ]
  },
  {
   "cell_type": "code",
   "execution_count": null,
   "metadata": {
    "ExecuteTime": {
     "end_time": "2020-12-03T22:49:37.241182Z",
     "start_time": "2020-12-03T22:49:37.237193Z"
    }
   },
   "outputs": [],
   "source": [
    "# Si en lugar de usar el nombre de una base de datos, se usa el argumento :memory:, se creara una base de datos \n",
    "# en la memoria\n",
    "\n",
    "con = sqlite3.connect(directorio + '//bases de datos//prueba.db')"
   ]
  },
  {
   "cell_type": "markdown",
   "metadata": {
    "ExecuteTime": {
     "end_time": "2020-12-03T22:11:56.485689Z",
     "start_time": "2020-12-03T22:11:56.478549Z"
    }
   },
   "source": [
    "Luego de crear una conexion, es necesario crear un objeto __cursor__ , el cual sera un metodo del objeto conexion creado antes."
   ]
  },
  {
   "cell_type": "code",
   "execution_count": null,
   "metadata": {
    "ExecuteTime": {
     "end_time": "2020-12-03T22:49:44.870961Z",
     "start_time": "2020-12-03T22:49:44.867003Z"
    }
   },
   "outputs": [],
   "source": [
    "cursorObj = con.cursor()"
   ]
  },
  {
   "cell_type": "markdown",
   "metadata": {},
   "source": [
    "Con el objeto cursor creado, ya se pueden ejecutar instrucciones SQL usando el metodo <span class=\"mark\">.execute()</span>"
   ]
  },
  {
   "cell_type": "code",
   "execution_count": null,
   "metadata": {
    "ExecuteTime": {
     "end_time": "2020-12-03T22:50:24.509626Z",
     "start_time": "2020-12-03T22:50:24.316742Z"
    }
   },
   "outputs": [],
   "source": [
    "cursorObj.execute(\"CREATE TABLE employees(\"\n",
    "                  \"id integer PRIMARY KEY, \"\n",
    "                  \"name text, \"\n",
    "                  \"salary real, \"\n",
    "                  \"department text,\" \n",
    "                  \"position text, \"\n",
    "                  \"hireDate text)\")\n",
    "con.commit()"
   ]
  },
  {
   "cell_type": "markdown",
   "metadata": {},
   "source": [
    "El método <span class=\"mark\">commit()</span> guarda todos los cambios"
   ]
  },
  {
   "cell_type": "code",
   "execution_count": null,
   "metadata": {
    "ExecuteTime": {
     "end_time": "2020-12-03T22:50:26.111495Z",
     "start_time": "2020-12-03T22:50:26.017182Z"
    }
   },
   "outputs": [],
   "source": [
    "cursorObj.execute(\"INSERT INTO employees\"\n",
    "                  \"(id, name, salary, department, position, hireDate)\"\n",
    "                  \"VALUES(1, 'John', 700, 'HR', 'Manager', '2017-01-04')\")\n",
    "con.commit()"
   ]
  },
  {
   "cell_type": "code",
   "execution_count": null,
   "metadata": {
    "ExecuteTime": {
     "end_time": "2020-12-03T22:50:28.635990Z",
     "start_time": "2020-12-03T22:50:28.463444Z"
    }
   },
   "outputs": [],
   "source": [
    "entities = (3, 'Andrew', 800, 'IT', 'Tech', '2018-02-06')\n",
    "cursorObj.execute('''INSERT INTO employees(id, name, salary, department, position, hireDate) \n",
    "                    VALUES(?, ?, ?, ?, ?, ?)''', entities)\n",
    "con.commit()"
   ]
  },
  {
   "cell_type": "code",
   "execution_count": null,
   "metadata": {
    "ExecuteTime": {
     "end_time": "2020-12-03T22:50:33.386212Z",
     "start_time": "2020-12-03T22:50:33.383213Z"
    }
   },
   "outputs": [],
   "source": [
    "cursorObj.execute(\"SELECT * FROM Employees\")\n",
    "filas = cursorObj.fetchall()"
   ]
  },
  {
   "cell_type": "code",
   "execution_count": null,
   "metadata": {
    "ExecuteTime": {
     "end_time": "2020-12-03T22:50:46.932150Z",
     "start_time": "2020-12-03T22:50:46.928179Z"
    }
   },
   "outputs": [],
   "source": [
    "print(type(filas))\n",
    "print(filas)"
   ]
  },
  {
   "cell_type": "markdown",
   "metadata": {},
   "source": [
    "Listar las tablas"
   ]
  },
  {
   "cell_type": "code",
   "execution_count": null,
   "metadata": {
    "ExecuteTime": {
     "end_time": "2020-12-03T22:37:33.862593Z",
     "start_time": "2020-12-03T22:37:33.858571Z"
    }
   },
   "outputs": [],
   "source": [
    "cursorObj.execute('''SELECT name\n",
    "                    FROM sqlite_master\n",
    "                    WHERE type = \"table\"''')\n",
    "print(cursorObj.fetchall())"
   ]
  },
  {
   "cell_type": "markdown",
   "metadata": {},
   "source": [
    "Para crear una tabla, es necesario verificar si esta existe. Para ello podemos usar la estructura\n",
    "    \n",
    "    create table if not exists table_name (column1, column2, …, columnN)"
   ]
  },
  {
   "cell_type": "code",
   "execution_count": null,
   "metadata": {
    "ExecuteTime": {
     "end_time": "2020-12-03T22:40:09.169028Z",
     "start_time": "2020-12-03T22:40:08.739926Z"
    }
   },
   "outputs": [],
   "source": [
    "cursorObj.execute('CREATE TABLE IF NOT EXISTS ejemplo(id integer, name text)')"
   ]
  },
  {
   "cell_type": "markdown",
   "metadata": {},
   "source": [
    "Para eliminar una tabla, tenemos dos opciones, eliminarla directamente con la sentencia <span class=\"mark\">DROP</span>:\n",
    "\n",
    "        drop table table_name\n",
    "        \n",
    "o usar la siguiente estructura:\n",
    "\n",
    "        cursorObj.execute('create table if not exists projects(id integer, name text)')"
   ]
  },
  {
   "cell_type": "code",
   "execution_count": null,
   "metadata": {
    "ExecuteTime": {
     "end_time": "2020-12-03T22:43:25.296765Z",
     "start_time": "2020-12-03T22:43:24.854618Z"
    }
   },
   "outputs": [],
   "source": [
    "cursorObj.execute('DROP TABLE IF EXISTS ejemplo')"
   ]
  },
  {
   "cell_type": "markdown",
   "metadata": {},
   "source": [
    "## Posibles excepciones"
   ]
  },
  {
   "cell_type": "markdown",
   "metadata": {},
   "source": [
    "<span class=\"mark\">DatabaseError</span>\n",
    "\n",
    "Cualquier error relacionado con la base de datos genera el DatabaseError.\n",
    "\n",
    "<span class=\"mark\">IntegrityError</span>\n",
    "\n",
    "IntegrityError es una subclase de DatabaseError y se genera cuando hay un problema de integridad de los datos, por ejemplo, los datos foráneos no se actualizan en todas las tablas, lo que resulta en una inconsistencia de los datos.\n",
    "\n",
    "<span class=\"mark\">ProgrammingError</span>\n",
    "\n",
    "La excepción ProgrammingError se produce cuando hay errores de sintaxis o no se encuentra la tabla o se llama a la función con un número incorrecto de parámetros / argumentos.\n",
    "\n",
    "<span class=\"mark\">OperationalError</span>\n",
    "\n",
    "Esta excepción se produce cuando fallan las operaciones de la base de datos, por ejemplo, una desconexión inusual. Esto no es culpa de los programadores.\n",
    "\n",
    "<span class=\"mark\">NotSupportedError</span>\n",
    "\n",
    "Ocurre cuando utilizas algunos métodos que no están definidos o no son compatibles con la base de datos, se genera la excepción NotSupportedError"
   ]
  },
  {
   "cell_type": "markdown",
   "metadata": {},
   "source": [
    "Al finalizar el uso, es buena practica cerrar la conexion"
   ]
  },
  {
   "cell_type": "code",
   "execution_count": null,
   "metadata": {
    "ExecuteTime": {
     "end_time": "2020-12-03T22:48:44.217092Z",
     "start_time": "2020-12-03T22:48:44.213136Z"
    }
   },
   "outputs": [],
   "source": [
    "con.close()"
   ]
  },
  {
   "cell_type": "code",
   "execution_count": null,
   "metadata": {},
   "outputs": [],
   "source": []
  },
  {
   "cell_type": "code",
   "execution_count": null,
   "metadata": {},
   "outputs": [],
   "source": []
  },
  {
   "cell_type": "code",
   "execution_count": null,
   "metadata": {},
   "outputs": [],
   "source": []
  }
 ],
 "metadata": {
  "kernelspec": {
   "display_name": "Python 3",
   "language": "python",
   "name": "python3"
  },
  "language_info": {
   "codemirror_mode": {
    "name": "ipython",
    "version": 3
   },
   "file_extension": ".py",
   "mimetype": "text/x-python",
   "name": "python",
   "nbconvert_exporter": "python",
   "pygments_lexer": "ipython3",
   "version": "3.8.3"
  },
  "toc": {
   "base_numbering": 1,
   "nav_menu": {},
   "number_sections": true,
   "sideBar": true,
   "skip_h1_title": false,
   "title_cell": "Table of Contents",
   "title_sidebar": "Contents",
   "toc_cell": false,
   "toc_position": {},
   "toc_section_display": true,
   "toc_window_display": false
  },
  "varInspector": {
   "cols": {
    "lenName": 16,
    "lenType": 16,
    "lenVar": 40
   },
   "kernels_config": {
    "python": {
     "delete_cmd_postfix": "",
     "delete_cmd_prefix": "del ",
     "library": "var_list.py",
     "varRefreshCmd": "print(var_dic_list())"
    },
    "r": {
     "delete_cmd_postfix": ") ",
     "delete_cmd_prefix": "rm(",
     "library": "var_list.r",
     "varRefreshCmd": "cat(var_dic_list()) "
    }
   },
   "types_to_exclude": [
    "module",
    "function",
    "builtin_function_or_method",
    "instance",
    "_Feature"
   ],
   "window_display": false
  }
 },
 "nbformat": 4,
 "nbformat_minor": 4
}
