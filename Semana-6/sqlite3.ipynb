{
 "cells": [
  {
   "cell_type": "markdown",
   "metadata": {},
   "source": [
    "# SQLite 3"
   ]
  },
  {
   "cell_type": "code",
   "execution_count": 1,
   "metadata": {
    "ExecuteTime": {
     "end_time": "2020-12-05T00:47:36.914327Z",
     "start_time": "2020-12-05T00:47:36.910337Z"
    }
   },
   "outputs": [],
   "source": [
    "import sqlite3\n",
    "import os"
   ]
  },
  {
   "cell_type": "code",
   "execution_count": 2,
   "metadata": {
    "ExecuteTime": {
     "end_time": "2020-12-05T00:47:52.862510Z",
     "start_time": "2020-12-05T00:47:52.790707Z"
    }
   },
   "outputs": [
    {
     "name": "stdout",
     "output_type": "stream",
     "text": [
      " El volumen de la unidad D es DATOS\n",
      " El número de serie del volumen es: C986-2420\n",
      "\n",
      " Directorio de d:\\DOCUMENTOS\\GitHub\\Curso-ciencia-de-datos\\Semana-6\n",
      "\n",
      "04/12/2020  07:34 p. m.    <DIR>          .\n",
      "04/12/2020  07:34 p. m.    <DIR>          ..\n",
      "03/12/2020  05:09 p. m.    <DIR>          .ipynb_checkpoints\n",
      "04/12/2020  07:07 p. m.    <DIR>          bases de datos\n",
      "30/11/2020  03:55 p. m.         1.119.644 Bases de Datos.pptx\n",
      "01/12/2020  06:34 p. m.            18.191 Cuestionario 1.docx\n",
      "03/12/2020  06:25 p. m.            21.609 Cuestionario 2.docx\n",
      "03/12/2020  07:58 p. m.            26.346 Cuestionario 3.docx\n",
      "04/12/2020  07:34 p. m.            23.808 Cuestionario 4.docx\n",
      "30/11/2020  11:33 a. m.           501.385 introduccion.pptx\n",
      "04/12/2020  05:18 p. m.             6.099 miniproyecto.ipynb\n",
      "03/12/2020  07:04 p. m.           999.960 sql parte 2.pptx\n",
      "04/12/2020  07:08 p. m.           742.368 sql parte 3.pptx\n",
      "02/12/2020  11:04 a. m.         2.779.011 sql.pptx\n",
      "03/12/2020  06:00 p. m.            10.043 sqlite3.ipynb\n",
      "              11 archivos      6.248.464 bytes\n",
      "               4 dirs  336.941.973.504 bytes libres\n"
     ]
    }
   ],
   "source": [
    "ls"
   ]
  },
  {
   "cell_type": "code",
   "execution_count": 3,
   "metadata": {
    "ExecuteTime": {
     "end_time": "2020-12-05T00:48:30.721265Z",
     "start_time": "2020-12-05T00:48:30.710296Z"
    }
   },
   "outputs": [],
   "source": [
    "directorio = os.getcwd()"
   ]
  },
  {
   "cell_type": "markdown",
   "metadata": {},
   "source": [
    "Se crea la conexion con la base de datos"
   ]
  },
  {
   "cell_type": "code",
   "execution_count": 4,
   "metadata": {
    "ExecuteTime": {
     "end_time": "2020-12-05T00:50:00.678649Z",
     "start_time": "2020-12-05T00:50:00.670664Z"
    }
   },
   "outputs": [],
   "source": [
    "# Si en lugar de usar el nombre de una base de datos, se usa el argumento :memory:, se creara una base de datos \n",
    "# en la memoria\n",
    "\n",
    "con = sqlite3.connect(directorio + '//bases de datos//prueba.db')"
   ]
  },
  {
   "cell_type": "code",
   "execution_count": 5,
   "metadata": {
    "ExecuteTime": {
     "end_time": "2020-12-05T00:50:09.267748Z",
     "start_time": "2020-12-05T00:50:09.262762Z"
    }
   },
   "outputs": [
    {
     "name": "stdout",
     "output_type": "stream",
     "text": [
      "<sqlite3.Connection object at 0x000001A34E7744E0>\n"
     ]
    }
   ],
   "source": [
    "print(con)"
   ]
  },
  {
   "cell_type": "markdown",
   "metadata": {
    "ExecuteTime": {
     "end_time": "2020-12-03T22:11:56.485689Z",
     "start_time": "2020-12-03T22:11:56.478549Z"
    }
   },
   "source": [
    "Luego de crear una conexion, es necesario crear un objeto __cursor__ , el cual sera un metodo del objeto conexion creado antes."
   ]
  },
  {
   "cell_type": "code",
   "execution_count": 6,
   "metadata": {
    "ExecuteTime": {
     "end_time": "2020-12-05T00:51:01.819099Z",
     "start_time": "2020-12-05T00:51:01.813116Z"
    }
   },
   "outputs": [],
   "source": [
    "cursorObj = con.cursor()"
   ]
  },
  {
   "cell_type": "markdown",
   "metadata": {},
   "source": [
    "Con el objeto cursor creado, ya se pueden ejecutar instrucciones SQL usando el metodo <span class=\"mark\">.execute()</span>"
   ]
  },
  {
   "cell_type": "code",
   "execution_count": 7,
   "metadata": {
    "ExecuteTime": {
     "end_time": "2020-12-05T00:54:02.347318Z",
     "start_time": "2020-12-05T00:54:01.900879Z"
    }
   },
   "outputs": [],
   "source": [
    "cursorObj.execute('''CREATE TABLE employees(\n",
    "                  id integer PRIMARY KEY, \n",
    "                  name text, \n",
    "                  salary real, \n",
    "                  department text, \n",
    "                  position text, \n",
    "                  hireDate text)''')\n",
    "con.commit()"
   ]
  },
  {
   "cell_type": "markdown",
   "metadata": {},
   "source": [
    "El método <span class=\"mark\">commit()</span> guarda todos los cambios"
   ]
  },
  {
   "cell_type": "code",
   "execution_count": 8,
   "metadata": {
    "ExecuteTime": {
     "end_time": "2020-12-05T00:55:33.103441Z",
     "start_time": "2020-12-05T00:55:32.647669Z"
    }
   },
   "outputs": [],
   "source": [
    "cursorObj.execute(\"INSERT INTO employees\"\n",
    "                  \"(id, name, salary, department, position, hireDate)\"\n",
    "                  \"VALUES(1, 'John', 700, 'HR', 'Manager', '2017-01-04')\")\n",
    "con.commit()"
   ]
  },
  {
   "cell_type": "code",
   "execution_count": 9,
   "metadata": {
    "ExecuteTime": {
     "end_time": "2020-12-05T00:57:19.439714Z",
     "start_time": "2020-12-05T00:57:19.005486Z"
    }
   },
   "outputs": [],
   "source": [
    "entities = (3, 'Andrew', 800, 'IT', 'Tech', '2018-02-06')\n",
    "cursorObj.execute('''INSERT INTO employees(id, name, salary, department, position, hireDate) \n",
    "                    VALUES(?, ?, ?, ?, ?, ?)''', entities)\n",
    "con.commit()"
   ]
  },
  {
   "cell_type": "code",
   "execution_count": 12,
   "metadata": {
    "ExecuteTime": {
     "end_time": "2020-12-05T00:59:10.518638Z",
     "start_time": "2020-12-05T00:59:10.511651Z"
    },
    "run_control": {
     "marked": false
    }
   },
   "outputs": [],
   "source": [
    "cursorObj.execute(\"SELECT * FROM Employees\")\n",
    "filas = cursorObj.fetchall()"
   ]
  },
  {
   "cell_type": "code",
   "execution_count": 13,
   "metadata": {
    "ExecuteTime": {
     "end_time": "2020-12-05T00:59:22.925537Z",
     "start_time": "2020-12-05T00:59:22.918556Z"
    }
   },
   "outputs": [
    {
     "name": "stdout",
     "output_type": "stream",
     "text": [
      "<class 'list'>\n",
      "[(1, 'John', 700.0, 'HR', 'Manager', '2017-01-04'), (3, 'Andrew', 800.0, 'IT', 'Tech', '2018-02-06')]\n"
     ]
    }
   ],
   "source": [
    "print(type(filas))\n",
    "print(filas)"
   ]
  },
  {
   "cell_type": "markdown",
   "metadata": {},
   "source": [
    "Listar las tablas"
   ]
  },
  {
   "cell_type": "code",
   "execution_count": 20,
   "metadata": {
    "ExecuteTime": {
     "end_time": "2020-12-05T01:05:24.612096Z",
     "start_time": "2020-12-05T01:05:24.439558Z"
    }
   },
   "outputs": [
    {
     "ename": "ProgrammingError",
     "evalue": "Cannot operate on a closed database.",
     "output_type": "error",
     "traceback": [
      "\u001b[1;31m---------------------------------------------------------------------------\u001b[0m",
      "\u001b[1;31mProgrammingError\u001b[0m                          Traceback (most recent call last)",
      "\u001b[1;32m<ipython-input-20-39db329cc0d6>\u001b[0m in \u001b[0;36m<module>\u001b[1;34m\u001b[0m\n\u001b[1;32m----> 1\u001b[1;33m cursorObj.execute('''SELECT name\n\u001b[0m\u001b[0;32m      2\u001b[0m                     \u001b[0mFROM\u001b[0m \u001b[0msqlite_master\u001b[0m\u001b[1;33m\u001b[0m\u001b[1;33m\u001b[0m\u001b[0m\n\u001b[0;32m      3\u001b[0m                     WHERE type = \"table\"''')\n\u001b[0;32m      4\u001b[0m \u001b[0mprint\u001b[0m\u001b[1;33m(\u001b[0m\u001b[0mcursorObj\u001b[0m\u001b[1;33m.\u001b[0m\u001b[0mfetchall\u001b[0m\u001b[1;33m(\u001b[0m\u001b[1;33m)\u001b[0m\u001b[1;33m)\u001b[0m\u001b[1;33m\u001b[0m\u001b[1;33m\u001b[0m\u001b[0m\n",
      "\u001b[1;31mProgrammingError\u001b[0m: Cannot operate on a closed database."
     ]
    }
   ],
   "source": [
    "cursorObj.execute('''SELECT name\n",
    "                    FROM sqlite_master\n",
    "                    WHERE type = \"table\"''')\n",
    "print(cursorObj.fetchall())"
   ]
  },
  {
   "cell_type": "markdown",
   "metadata": {},
   "source": [
    "Para crear una tabla, es necesario verificar si esta existe. Para ello podemos usar la estructura\n",
    "    \n",
    "    create table if not exists table_name (column1, column2, …, columnN)"
   ]
  },
  {
   "cell_type": "code",
   "execution_count": 15,
   "metadata": {
    "ExecuteTime": {
     "end_time": "2020-12-05T01:02:16.221926Z",
     "start_time": "2020-12-05T01:02:15.779569Z"
    }
   },
   "outputs": [
    {
     "data": {
      "text/plain": [
       "<sqlite3.Cursor at 0x1a34e7b9180>"
      ]
     },
     "execution_count": 15,
     "metadata": {},
     "output_type": "execute_result"
    }
   ],
   "source": [
    "cursorObj.execute('CREATE TABLE IF NOT EXISTS ejemplo(id integer, name text)')"
   ]
  },
  {
   "cell_type": "markdown",
   "metadata": {},
   "source": [
    "Para eliminar una tabla, tenemos dos opciones, eliminarla directamente con la sentencia <span class=\"mark\">DROP</span>:\n",
    "\n",
    "        drop table table_name\n",
    "        \n",
    "o usar la siguiente estructura:\n",
    "\n",
    "        cursorObj.execute('create table if not exists projects(id integer, name text)')"
   ]
  },
  {
   "cell_type": "code",
   "execution_count": 17,
   "metadata": {
    "ExecuteTime": {
     "end_time": "2020-12-05T01:03:30.465453Z",
     "start_time": "2020-12-05T01:03:30.016748Z"
    }
   },
   "outputs": [
    {
     "data": {
      "text/plain": [
       "<sqlite3.Cursor at 0x1a34e7b9180>"
      ]
     },
     "execution_count": 17,
     "metadata": {},
     "output_type": "execute_result"
    }
   ],
   "source": [
    "cursorObj.execute('DROP TABLE IF EXISTS ejemplo')"
   ]
  },
  {
   "cell_type": "markdown",
   "metadata": {},
   "source": [
    "## Posibles excepciones"
   ]
  },
  {
   "cell_type": "markdown",
   "metadata": {},
   "source": [
    "<span class=\"mark\">DatabaseError</span>\n",
    "\n",
    "Cualquier error relacionado con la base de datos genera el DatabaseError.\n",
    "\n",
    "<span class=\"mark\">IntegrityError</span>\n",
    "\n",
    "IntegrityError es una subclase de DatabaseError y se genera cuando hay un problema de integridad de los datos, por ejemplo, los datos foráneos no se actualizan en todas las tablas, lo que resulta en una inconsistencia de los datos.\n",
    "\n",
    "<span class=\"mark\">ProgrammingError</span>\n",
    "\n",
    "La excepción ProgrammingError se produce cuando hay errores de sintaxis o no se encuentra la tabla o se llama a la función con un número incorrecto de parámetros / argumentos.\n",
    "\n",
    "<span class=\"mark\">OperationalError</span>\n",
    "\n",
    "Esta excepción se produce cuando fallan las operaciones de la base de datos, por ejemplo, una desconexión inusual. Esto no es culpa de los programadores.\n",
    "\n",
    "<span class=\"mark\">NotSupportedError</span>\n",
    "\n",
    "Ocurre cuando utilizas algunos métodos que no están definidos o no son compatibles con la base de datos, se genera la excepción NotSupportedError"
   ]
  },
  {
   "cell_type": "markdown",
   "metadata": {},
   "source": [
    "Al finalizar el uso, es buena practica cerrar la conexion"
   ]
  },
  {
   "cell_type": "code",
   "execution_count": 19,
   "metadata": {
    "ExecuteTime": {
     "end_time": "2020-12-05T01:05:18.549128Z",
     "start_time": "2020-12-05T01:05:18.538159Z"
    }
   },
   "outputs": [],
   "source": [
    "con.close()"
   ]
  },
  {
   "cell_type": "code",
   "execution_count": null,
   "metadata": {},
   "outputs": [],
   "source": []
  },
  {
   "cell_type": "code",
   "execution_count": null,
   "metadata": {},
   "outputs": [],
   "source": []
  },
  {
   "cell_type": "code",
   "execution_count": null,
   "metadata": {},
   "outputs": [],
   "source": []
  }
 ],
 "metadata": {
  "kernelspec": {
   "display_name": "Python 3",
   "language": "python",
   "name": "python3"
  },
  "language_info": {
   "codemirror_mode": {
    "name": "ipython",
    "version": 3
   },
   "file_extension": ".py",
   "mimetype": "text/x-python",
   "name": "python",
   "nbconvert_exporter": "python",
   "pygments_lexer": "ipython3",
   "version": "3.8.3"
  },
  "toc": {
   "base_numbering": 1,
   "nav_menu": {},
   "number_sections": true,
   "sideBar": true,
   "skip_h1_title": false,
   "title_cell": "Table of Contents",
   "title_sidebar": "Contents",
   "toc_cell": false,
   "toc_position": {},
   "toc_section_display": true,
   "toc_window_display": false
  },
  "varInspector": {
   "cols": {
    "lenName": 16,
    "lenType": 16,
    "lenVar": 40
   },
   "kernels_config": {
    "python": {
     "delete_cmd_postfix": "",
     "delete_cmd_prefix": "del ",
     "library": "var_list.py",
     "varRefreshCmd": "print(var_dic_list())"
    },
    "r": {
     "delete_cmd_postfix": ") ",
     "delete_cmd_prefix": "rm(",
     "library": "var_list.r",
     "varRefreshCmd": "cat(var_dic_list()) "
    }
   },
   "types_to_exclude": [
    "module",
    "function",
    "builtin_function_or_method",
    "instance",
    "_Feature"
   ],
   "window_display": false
  }
 },
 "nbformat": 4,
 "nbformat_minor": 4
}
