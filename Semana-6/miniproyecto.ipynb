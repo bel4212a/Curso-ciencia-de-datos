{
 "cells": [
  {
   "cell_type": "markdown",
   "metadata": {},
   "source": [
    "## Indicadores Socieconomicos de chicago\n",
    "\n",
    "Se trabajara con una base de datos obtenida a partir de un archivo .csv que contiene algunos indicadores socioeconomicos de Chicago. Para mas informacion de esta base de datos, puede consultar  [the city of Chicago's website](https://data.cityofchicago.org/Health-Human-Services/Census-Data-Selected-socioeconomic-indicators-in-C/kn9c-c2s2?cm_mmc=Email_Newsletter-_-Developer_Ed%2BTech-_-WW_WW-_-SkillsNetwork-Courses-IBMDeveloperSkillsNetwork-DB0201EN-SkillsNetwork-20127838&cm_mmca1=000026UJ&cm_mmca2=10006555&cm_mmca3=M12345678&cvosrc=email.Newsletter.M12345678&cvo_campaign=000026UJ&cm_mmc=Email_Newsletter-_-Developer_Ed%2BTech-_-WW_WW-_-SkillsNetwork-Courses-IBMDeveloperSkillsNetwork-DB0201EN-SkillsNetwork-20127838&cm_mmca1=000026UJ&cm_mmca2=10006555&cm_mmca3=M12345678&cvosrc=email.Newsletter.M12345678&cvo_campaign=000026UJ), \n",
    "\n",
    "Las variables de dicho dataset son las siguientes:\n",
    "\n",
    "-   **Número de área comunitaria** (`ca`): Usado para identificar de manera unica cada fila\n",
    "\n",
    "-   **Nombre del área comunitaria** (`community_area_name`): El nombre de la region en la ciudad de Chicago \n",
    "\n",
    "-   **Porcentaje de viviendas abarrotadas** (`percent_of_housing_crowded`): Porcentaje de unidades de vivienda ocupadas con mas de una persona por habitacion\n",
    "\n",
    "-   **Porcentaje de hogares por debajo de la pobreza** (`percent_households_below_poverty`): Porcentejae de hogares que viven por debajo de la linea de pobreza federal\n",
    "\n",
    "-   **Porcentaje de desempleados mayores de 16 años** (`percent_aged_16_unemployed`): Porcentaje de personas mayores a 16 que estan desempleados\n",
    "\n",
    "-   **Porcentaje de mayores de 25 años sin diploma de escuela secundaria** (`percent_aged_25_without_high_school_diploma`): Porcentaje de personas mayores a 25 sin educacion secundaria\n",
    "\n",
    "-   **Porcentaje de menores de edad** 18 o más de 64: porcentaje de la población menor de 18 o mayor de 64 años (`percent_aged_under_18_or_over_64`): (ej. dependents)\n",
    "\n",
    "-   **Ingreso Per capita** (`per_capita_income_`): El ingreso per cápita del área comunitaria se estima como la suma de los ingresos agregados a nivel de zona dividida por la población total\n",
    "\n",
    "-   **Indice de dificultad** (`hardship_index`): Puntaje que incorpora cada uno de los seis indicadores socioeconómicos seleccionados\n"
   ]
  },
  {
   "cell_type": "markdown",
   "metadata": {},
   "source": [
    "## Problemas\n",
    "\n",
    "### Problema 1\n",
    "\n",
    "##### Cuantas filas hay en la tabla?\n"
   ]
  },
  {
   "cell_type": "code",
   "execution_count": null,
   "metadata": {},
   "outputs": [],
   "source": []
  },
  {
   "cell_type": "markdown",
   "metadata": {},
   "source": [
    "### Problema 2\n",
    "\n",
    "##### ¿Cuántas áreas comunitarias en Chicago tienen un índice de dificultad mayor a 50.0?\n"
   ]
  },
  {
   "cell_type": "code",
   "execution_count": null,
   "metadata": {
    "collapsed": true
   },
   "outputs": [],
   "source": []
  },
  {
   "cell_type": "markdown",
   "metadata": {},
   "source": [
    "### Problema 3\n",
    "\n",
    "##### ¿Cuál es el valor máximo del índice de dificultades en este conjunto de datos?"
   ]
  },
  {
   "cell_type": "code",
   "execution_count": null,
   "metadata": {
    "collapsed": true
   },
   "outputs": [],
   "source": []
  },
  {
   "cell_type": "markdown",
   "metadata": {},
   "source": [
    "### Problema 4\n",
    "\n",
    "##### ¿Qué área de la comunidad tiene el índice de dificultades más alto?\n"
   ]
  },
  {
   "cell_type": "code",
   "execution_count": null,
   "metadata": {
    "collapsed": true
   },
   "outputs": [],
   "source": []
  },
  {
   "cell_type": "markdown",
   "metadata": {},
   "source": [
    "### Problema 5\n",
    "\n",
    "##### ¿Qué áreas de la comunidad de Chicago tienen ingresos per cápita superiores a $ 60,000?\n"
   ]
  },
  {
   "cell_type": "code",
   "execution_count": null,
   "metadata": {
    "collapsed": true
   },
   "outputs": [],
   "source": []
  },
  {
   "cell_type": "markdown",
   "metadata": {},
   "source": [
    "### Problema 6\n",
    "\n",
    "##### Cree un diagrama de dispersión usando las variables `per_capita_income_` y ` hardship_index`. Explique la correlación entre las dos variables. \n"
   ]
  },
  {
   "cell_type": "code",
   "execution_count": null,
   "metadata": {
    "collapsed": true
   },
   "outputs": [],
   "source": []
  }
 ],
 "metadata": {
  "kernelspec": {
   "display_name": "Python 3",
   "language": "python",
   "name": "python3"
  },
  "language_info": {
   "codemirror_mode": {
    "name": "ipython",
    "version": 3
   },
   "file_extension": ".py",
   "mimetype": "text/x-python",
   "name": "python",
   "nbconvert_exporter": "python",
   "pygments_lexer": "ipython3",
   "version": "3.8.3"
  },
  "toc": {
   "base_numbering": 1,
   "nav_menu": {},
   "number_sections": true,
   "sideBar": true,
   "skip_h1_title": false,
   "title_cell": "Table of Contents",
   "title_sidebar": "Contents",
   "toc_cell": false,
   "toc_position": {},
   "toc_section_display": true,
   "toc_window_display": false
  },
  "varInspector": {
   "cols": {
    "lenName": 16,
    "lenType": 16,
    "lenVar": 40
   },
   "kernels_config": {
    "python": {
     "delete_cmd_postfix": "",
     "delete_cmd_prefix": "del ",
     "library": "var_list.py",
     "varRefreshCmd": "print(var_dic_list())"
    },
    "r": {
     "delete_cmd_postfix": ") ",
     "delete_cmd_prefix": "rm(",
     "library": "var_list.r",
     "varRefreshCmd": "cat(var_dic_list()) "
    }
   },
   "types_to_exclude": [
    "module",
    "function",
    "builtin_function_or_method",
    "instance",
    "_Feature"
   ],
   "window_display": false
  },
  "widgets": {
   "state": {},
   "version": "1.1.2"
  }
 },
 "nbformat": 4,
 "nbformat_minor": 2
}
