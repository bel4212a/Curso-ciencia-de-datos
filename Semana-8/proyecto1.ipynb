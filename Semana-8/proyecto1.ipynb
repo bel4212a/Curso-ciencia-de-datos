{
 "cells": [
  {
   "cell_type": "markdown",
   "metadata": {},
   "source": [
    "# Trabajando con datos reales en python y SQL\n",
    "\n",
    "_Basado en el documento Lab: Working with a real world data-set using SQL and Python de https://cognitiveclass.ai/_"
   ]
  },
  {
   "cell_type": "markdown",
   "metadata": {},
   "source": [
    "## Escuelas Públicas de Chicago - Boletas de calificaciones de progreso (2011-2012)\n",
    "\n",
    "La ciudad de Chicago publicó un conjunto de datos que muestra todos los datos de rendimiento a nivel escolar utilizados para crear las boletas de calificaciones escolares para el año escolar 2011-2012. El conjunto de datos está disponible en el portal de datos de Chicago:\n",
    "https://data.cityofchicago.org/Education/Chicago-Public-Schools-Progress-Report-Cards-2011-/9xs2-f89t\n",
    "\n",
    "Este conjunto de datos incluye una gran cantidad de métricas. Empiece por familiarizarse con los tipos de métricas de la base de datos: https://data.cityofchicago.org/api/assets/AAD41A13-BE8A-4E67-B1F5-86E711E09D5F?download=true\n",
    "\n",
    "Los datos para trabajar en este notebook se encontraran en la carpeta _semana 8_ , con el nombre\n",
    "\n",
    "_Chicago_Public_Schools_-_Progress_Report_Cards__2011-2012-v3.csv_ .\n",
    "\n"
   ]
  },
  {
   "cell_type": "markdown",
   "metadata": {},
   "source": [
    "### Almacena el conjunto de datos en una tabla\n",
    "Primero, el archivo .csv debe almacenarse en la base de datos.\n",
    "\n",
    " __Es muy recomendable cargar manualmente la tabla usando la herramienta LOAD de la consola de la base de datos__. La única diferencia con lo que se indico en la calse pasada es que en el Paso 5 de las instrucciones, deberá hacer clic en crear \"(+) Tabla nueva\" y especificar el nombre de la tabla que desea crear y luego hacer clic en \"Siguiente\".\n",
    "\n",
    "##### Ahora abra la consola Db2, abra la herramienta LOAD, seleccione / arrastre el archivo .CSV para el conjunto de datos de CHICAGO PUBLIC SCHOOLS y cargue el conjunto de datos en una nueva tabla llamada __SCHOOLS__.\n",
    "\n",
    "\n",
    "\n",
    "<a href=\"https://cognitiveclass.ai\"><img src = \"https://ibm.box.com/shared/static/uc4xjh1uxcc78ks1i18v668simioz4es.jpg\"></a>"
   ]
  },
  {
   "cell_type": "markdown",
   "metadata": {},
   "source": [
    "## Problemas"
   ]
  },
  {
   "cell_type": "markdown",
   "metadata": {},
   "source": [
    "##### 0. La tabla ESCUELAS contiene una gran cantidad de columnas. ¿Cuántas columnas tiene esta tabla?"
   ]
  },
  {
   "cell_type": "markdown",
   "metadata": {},
   "source": [
    "Esta pregunta le servira para verificar si la conexion a la base de datos es correcta."
   ]
  },
  {
   "cell_type": "markdown",
   "metadata": {},
   "source": [
    "### Problema 1\n",
    "\n",
    "##### Cuantas escuelas hay en el dataset?"
   ]
  },
  {
   "cell_type": "markdown",
   "metadata": {},
   "source": [
    "### Problema 2\n",
    "\n",
    "##### ¿Cuál es la puntuación de seguridad más alta (MAX_SAFETY_SCORE)?"
   ]
  },
  {
   "cell_type": "markdown",
   "metadata": {},
   "source": [
    "### Problema 3\n",
    "\n",
    "##### Cual escuela tiene la puntuacion de seguridad mas alta?"
   ]
  },
  {
   "cell_type": "markdown",
   "metadata": {},
   "source": [
    "### Problema 4\n",
    "\n",
    "##### Cuales son las escuela top 10 con el mas alto \"Average Student Attendance\"?\n"
   ]
  },
  {
   "cell_type": "markdown",
   "metadata": {},
   "source": [
    "### Problema 5\n",
    "\n",
    "##### Obtenga la lista de los 5 colegios con el mas bajo \"Average Student Attendance\" ordenada en orden ascendente para \"attendance\"."
   ]
  },
  {
   "cell_type": "markdown",
   "metadata": {},
   "source": [
    "### Problema 6\n",
    "\n",
    "##### Ahora elimine el signo '%' del conjunto de resultados anterior para la columna \"Average Student Attendance\".\n",
    "\n",
    "Puede encontrar util utilizar el comando replace:\n",
    "\n",
    "         REPLACE(columna, string a reemplazar, string con el cual reemplazar)"
   ]
  },
  {
   "cell_type": "markdown",
   "metadata": {},
   "source": [
    "### Problema 7\n",
    "\n",
    "##### Cual es escuelas tienen un Average Student Attendance inferior a 70%?"
   ]
  },
  {
   "cell_type": "markdown",
   "metadata": {},
   "source": [
    "### Problema 8\n",
    "\n",
    "##### Obtenga el Get the total College Enrollment total para cada Community Area"
   ]
  }
 ],
 "metadata": {
  "kernelspec": {
   "display_name": "Python 3",
   "language": "python",
   "name": "python3"
  },
  "language_info": {
   "codemirror_mode": {
    "name": "ipython",
    "version": 3
   },
   "file_extension": ".py",
   "mimetype": "text/x-python",
   "name": "python",
   "nbconvert_exporter": "python",
   "pygments_lexer": "ipython3",
   "version": "3.8.3"
  },
  "toc": {
   "base_numbering": 1,
   "nav_menu": {},
   "number_sections": true,
   "sideBar": true,
   "skip_h1_title": false,
   "title_cell": "Table of Contents",
   "title_sidebar": "Contents",
   "toc_cell": false,
   "toc_position": {},
   "toc_section_display": true,
   "toc_window_display": false
  },
  "varInspector": {
   "cols": {
    "lenName": 16,
    "lenType": 16,
    "lenVar": 40
   },
   "kernels_config": {
    "python": {
     "delete_cmd_postfix": "",
     "delete_cmd_prefix": "del ",
     "library": "var_list.py",
     "varRefreshCmd": "print(var_dic_list())"
    },
    "r": {
     "delete_cmd_postfix": ") ",
     "delete_cmd_prefix": "rm(",
     "library": "var_list.r",
     "varRefreshCmd": "cat(var_dic_list()) "
    }
   },
   "types_to_exclude": [
    "module",
    "function",
    "builtin_function_or_method",
    "instance",
    "_Feature"
   ],
   "window_display": false
  },
  "widgets": {
   "state": {},
   "version": "1.1.2"
  }
 },
 "nbformat": 4,
 "nbformat_minor": 4
}
