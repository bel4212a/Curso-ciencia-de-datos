{
 "cells": [
  {
   "cell_type": "markdown",
   "metadata": {},
   "source": [
    "# Trabajando con datos reales\n",
    "\n",
    "_El contenido del cuaderno esta basado en el contenido almacenado en la pagina [cognitiveclass.ai](cognitiveclass.ai?utm_source=bducopyrightlink&utm_medium=dswb&utm_campaign=bdu)_."
   ]
  },
  {
   "cell_type": "markdown",
   "metadata": {},
   "source": [
    "## Comprender los conjuntos de datos\n",
    "Para completar los problemas en este cuaderno, utilizará tres conjuntos de datos que están disponibles en el Portal de datos de la ciudad de Chicago:\n",
    "1. <a href=\"https://data.cityofchicago.org/Health-Human-Services/Census-Data-Selected-socioeconomic-indicators-in-C/kn9c-c2s2\">Socioeconomic Indicators in Chicago</a>\n",
    "1. <a href=\"https://data.cityofchicago.org/Education/Chicago-Public-Schools-Progress-Report-Cards-2011-/9xs2-f89t\">Chicago Public Schools</a>\n",
    "1. <a href=\"https://data.cityofchicago.org/Public-Safety/Crimes-2001-to-present/ijzp-q8t2\">Chicago Crime Data</a>\n",
    "\n",
    "### 1. Socioeconomic Indicators in Chicago\n",
    "Este conjunto de datos contiene una selección de seis indicadores socioeconómicos de importancia para la salud pública y un \"índice de dificultades\", para cada área de la comunidad de Chicago, para los años 2008-2012.\n",
    "\n",
    "El dataset estara en la carpeta _semana 8_ con el nombre\n",
    "\n",
    "Census_Data_-_Selected_socioeconomic_indicators_in_Chicago__2008___2012-v2.csv\n",
    "\n",
    "\n",
    "### 2. Escuelas Públicas de Chicago\n",
    "\n",
    "Este conjunto de datos muestra todos los datos de rendimiento a nivel escolar que se utilizaron para crear las boletas de calificaciones escolares de CPS para el año escolar 2011-2012. Este conjunto de datos es proporcionado por el portal de datos de la ciudad de Chicago.\n",
    "\n",
    "El archivo es el mismo del proyecto parte 1.\n",
    "\n",
    "\n",
    "### 3. Datos delictivos de Chicago\n",
    "\n",
    "Este conjunto de datos refleja los incidentes delictivos denunciados (con la excepción de los asesinatos en los que existen datos para cada víctima) que ocurrieron en la ciudad de Chicago desde 2001 hasta el presente, menos los siete días más recientes.\n",
    "\n",
    "El dataset estara en la carpeta _semana 8_ con el nombre\n",
    "\n",
    "Chicago_Crime_Data-v2.csv\n"
   ]
  },
  {
   "cell_type": "markdown",
   "metadata": {},
   "source": [
    "** Es recomendable que almacene estas tablas en una base de datos como se ensenio la clase anterior.\n"
   ]
  },
  {
   "cell_type": "markdown",
   "metadata": {},
   "source": [
    "## Problemas\n",
    "\n",
    "### Problema 1\n",
    "\n",
    "##### Encuentre el número total de delitos registrados en la tabla CRIME"
   ]
  },
  {
   "cell_type": "markdown",
   "metadata": {},
   "source": [
    "### Problema 2\n",
    "\n",
    "##### Recuperar las primeras 10 filas de la tabla CRIME\n"
   ]
  },
  {
   "cell_type": "markdown",
   "metadata": {},
   "source": [
    "### Problema 3\n",
    "\n",
    "##### ¿Cuántos delitos implican un arresto?"
   ]
  },
  {
   "cell_type": "markdown",
   "metadata": {},
   "source": [
    "### Problema 4\n",
    "\n",
    "##### ¿Qué tipos únicos de delitos se han registrado en las ubicaciones de GAS STATION?\n"
   ]
  },
  {
   "cell_type": "markdown",
   "metadata": {},
   "source": [
    "### Problema 5\n",
    "\n",
    "##### En la tabla CENSUS_DATA, enumere todas las áreas comunitarias cuyos nombres comiencen con la letra \"B\"."
   ]
  },
  {
   "cell_type": "markdown",
   "metadata": {},
   "source": [
    "### Problema 6\n",
    "\n",
    "##### ¿Qué escuelas de las áreas comunitarias 10 a 15 están certificadas como escuelas saludables?"
   ]
  },
  {
   "cell_type": "markdown",
   "metadata": {},
   "source": [
    "### Problema 7\n",
    "\n",
    "##### ¿Cuál es el puntaje promedio de seguridad escolar?"
   ]
  },
  {
   "cell_type": "markdown",
   "metadata": {},
   "source": [
    "### Problema 8\n",
    "\n",
    "##### Enliste las 5 primeras  Community Areas por College Enrollment [number of students] "
   ]
  },
  {
   "cell_type": "markdown",
   "metadata": {},
   "source": [
    "### Problema 9\n",
    "\n",
    "##### Utilice una subconsulta para determinar qué área comunitaria tiene el menor valor para la puntuación de seguridad escolar."
   ]
  }
 ],
 "metadata": {
  "kernelspec": {
   "display_name": "Python 3",
   "language": "python",
   "name": "python3"
  },
  "language_info": {
   "codemirror_mode": {
    "name": "ipython",
    "version": 3
   },
   "file_extension": ".py",
   "mimetype": "text/x-python",
   "name": "python",
   "nbconvert_exporter": "python",
   "pygments_lexer": "ipython3",
   "version": "3.8.3"
  },
  "toc": {
   "base_numbering": 1,
   "nav_menu": {},
   "number_sections": true,
   "sideBar": true,
   "skip_h1_title": false,
   "title_cell": "Table of Contents",
   "title_sidebar": "Contents",
   "toc_cell": false,
   "toc_position": {},
   "toc_section_display": true,
   "toc_window_display": false
  },
  "varInspector": {
   "cols": {
    "lenName": 16,
    "lenType": 16,
    "lenVar": 40
   },
   "kernels_config": {
    "python": {
     "delete_cmd_postfix": "",
     "delete_cmd_prefix": "del ",
     "library": "var_list.py",
     "varRefreshCmd": "print(var_dic_list())"
    },
    "r": {
     "delete_cmd_postfix": ") ",
     "delete_cmd_prefix": "rm(",
     "library": "var_list.r",
     "varRefreshCmd": "cat(var_dic_list()) "
    }
   },
   "types_to_exclude": [
    "module",
    "function",
    "builtin_function_or_method",
    "instance",
    "_Feature"
   ],
   "window_display": false
  },
  "widgets": {
   "state": {},
   "version": "1.1.2"
  }
 },
 "nbformat": 4,
 "nbformat_minor": 4
}
