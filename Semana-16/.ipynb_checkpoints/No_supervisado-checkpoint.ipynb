{
 "cells": [
  {
   "cell_type": "markdown",
   "metadata": {},
   "source": [
    "# Analisis de grupos (Clustering analysis)\n",
    "\n",
    "Esta seccion se corresponde con el aprendizje no supervisado, en el cual, las etiquetas de clase no se conocen, y unicamente se trabaja con las matrices de caracteristicas; el objetivo del analisis de datos como los mencionados es la de descubrir estructuras ocultas en los datos. Siempre tengamos en cuenta que no tenemos etiquetas de clase por defecto, por lo tanto no podremos anticipar si los datos pertenecen o no a una cierta categoria, y nuestra alternativas mas plausible sera explorar los datos para *tratar* de encontrar grupos o estructuras subyacentes."
   ]
  },
  {
   "cell_type": "markdown",
   "metadata": {},
   "source": [
    "## Agrupar objetos por semejanza con K-means\n",
    "\n",
    "Este algoritmo utiliza la semejanza de los datos para crear grupos de caracteristicas; es uno de los algoritmos mas populares en la industria y sobre el cual se basan sistemas de amplio uso como los son los sistemas de recomendacion.\n",
    "\n",
    "### Agrupamiento k-means con sklearn\n",
    "\n",
    "Es un algoritmo facil y muy eficaz, lo cual explica su popularidad; pertenece a una categoria llamada **agrupamiento basado en prototipos**. Existen otras categorias llamdas **agrupamiento jerarquico** y **agrupamiento basado en densidad**, que veremos mas adelante.\n",
    "\n",
    "El ***agriupamiento basado en prototipos*** es llamado asi debido a que los grupos o *clusters* son representados por una cantidad prototipo representativa, que puede ser el **centroide** (promedio) de caracteristicas similares continuas, o **medoide** (punto mas frecuente) para caracteristicas categoricas.\n",
    "\n",
    "Una de las dificultades que presenta este algoritmo, a pesar de su eficacia, es que tenemos que especificar el numero de veciones *k* desde el principio.\n",
    "\n",
    "Si se elige mal el valor de *k*, tendremos un rendimiento bajo de agrupamiento, aunque la buena noticia es que existen metodos para optimizar este proceso a partir de mediciones de calidad del agrupamiento; mas adelante trataremos esas tecnicas, aunque adelante sus nombres: ***metodo elbow*** y ***graficos de silueta***."
   ]
  },
  {
   "cell_type": "code",
   "execution_count": null,
   "metadata": {
    "ExecuteTime": {
     "end_time": "2021-03-01T21:18:18.553563Z",
     "start_time": "2021-03-01T21:18:15.981563Z"
    }
   },
   "outputs": [],
   "source": [
    "# Creacion del conjunto de datos\n",
    "from sklearn.datasets import make_blobs\n",
    "\n",
    "X, y = make_blobs(n_samples=150, n_features=2, centers=3, cluster_std=0.5, shuffle=True, random_state=0)\n",
    "X"
   ]
  },
  {
   "cell_type": "code",
   "execution_count": null,
   "metadata": {
    "ExecuteTime": {
     "end_time": "2021-03-01T21:18:24.459920Z",
     "start_time": "2021-03-01T21:18:22.828517Z"
    }
   },
   "outputs": [],
   "source": [
    "# Graficacion del conjunto de datos\n",
    "import matplotlib.pyplot as plt\n",
    "\n",
    "fig, ax = plt.subplots()\n",
    "ax.scatter(X[:, 0], X[:, 1], c='white', marker='o', edgecolor='black', s=50)\n",
    "ax.grid();"
   ]
  },
  {
   "cell_type": "markdown",
   "metadata": {},
   "source": [
    "Dado que no tenemos ninguna informacion de las caracteristicas, debemos agrupar por semejanzas, lo cual se hace en los siguientes 4 pasos:\n",
    "\n",
    "1. Selecciona aleatoriamente *k* centroides a partir de los puntos de muestra como centros de grupo iniciales.\n",
    "2. Asigna cada muestra al centroide mas cercano $u_j$, $j \\in {1, 2, \\dots , k}$.\n",
    "3. Desplaza los centroides al centro de las muestras asignadas para ello.\n",
    "4. Repita los pasos 2 y 3 hasta que las asignaciones de grupos no cambien o hasta conseguir una tolerancia definida por el usuario o el numero maximo de iteraciones.\n",
    "\n",
    "La forma de determinar la semejanza ente objetos es a partir de la distancia euclidiana, de tal manera que entre mas alejados esten dos objetos, menos semejantes son, es decir, la semjanza sera lo opuesto a la distancia; recordemos que la distancia euclidiana se define como:\n",
    "\n",
    "$$d(\\vec{x}, \\vec{y})=\\sum_{j=1}^m(x_j-y_j)^2=||\\vec{x}-\\vec{y}||^2_2$$\n",
    "\n",
    "En la ecuaion anterior *j* se refieres a la *j*-esima dimension(columna) de las muestras $\\vec{x}$ y $\\vec{y}$. \n",
    "\n",
    "El algoritmo tratara de minimizar la Suma de Errores Cuadraticos SSE dentro del grupo:\n",
    "\n",
    "$$SSE=\\sum_{i=1}^n\\sum_{j=k}^n w^{(i,j)}||\\vec{x}^{(i)}-\\vec{\\mu}^{(j)}||^2_2$$\n",
    "\n",
    "$\\vec{\\mu}^{(j)}$ es el centroide para el grupo *j*, y $w^{(i,j)} = 1$ si la muestra $\\vec{x}^{(i)}$ esta en el grupo *j*, sino $w^{(i,j)} = 0$.\n",
    "\n",
    "Dado que el algoritmo utiliza la distancia euclidiana para medir las distancias, es recomendable escalar las caracteristicas cuando se trabaje con medidas reales."
   ]
  },
  {
   "cell_type": "code",
   "execution_count": null,
   "metadata": {
    "ExecuteTime": {
     "end_time": "2021-03-01T21:18:28.049958Z",
     "start_time": "2021-03-01T21:18:27.279627Z"
    }
   },
   "outputs": [],
   "source": [
    "from sklearn.cluster import KMeans\n",
    "\n",
    "km = KMeans(n_clusters=3, init='random', n_init=10, max_iter=300, tol=1e-04, random_state=0)\n",
    "# n_init realizara el algoritmo 10 veces con diferentes centroides. Se eligira el que tenga SSE mas bajo\n",
    "y_km = km.fit_predict(X)\n",
    "y_km"
   ]
  },
  {
   "cell_type": "code",
   "execution_count": null,
   "metadata": {
    "ExecuteTime": {
     "end_time": "2021-03-01T21:18:29.719395Z",
     "start_time": "2021-03-01T21:18:29.356315Z"
    }
   },
   "outputs": [],
   "source": [
    "fig, ax =plt.subplots(figsize = (8, 6))\n",
    "ax.scatter(X[y_km == 0, 0], X[y_km == 0, 1], s=50, c='lightgreen', marker='s', edgecolor='black', label='cluster 1')\n",
    "ax.scatter(X[y_km == 1, 0], X[y_km == 1, 1], s=50, c='orange', marker='o', edgecolor='black', label='cluster 2')\n",
    "ax.scatter(X[y_km == 2, 0], X[y_km == 2, 1], s=50, c='lightblue', marker='v', edgecolor='black', label='cluster 3')\n",
    "ax.scatter(km.cluster_centers_[:, 0], km.cluster_centers_[:, 1], s=250, marker='*', c='red', edgecolor='black', \n",
    "            label='centroids')\n",
    "ax.legend(scatterpoints=1)\n",
    "ax.grid()"
   ]
  },
  {
   "cell_type": "markdown",
   "metadata": {},
   "source": [
    "Como se puede observar, los datos fueron asignados a una clase diferente segun sus semejanzas en terminos de las 2 caracteristicas, y que cada una de las categorias estan representadas por los promedios (centroides) de las ubicaciones de los datos (estrellas rojas). Es muy importante recordar que los centroides no iniciaron en esa posicion sino que fueron ubicados alli despues de cierto numero de iteraciones; su posicion inicial es, hasta cierto punto, desconocida, pues se inicializa con el parametro `init='random'`, lo cual puede llegar a ser un inconveniente en terminos computacionales, ya que podrian inicializarse en alguna ubicacion que llevara a mayores tiempos de ejecucion y a algunas dificultades en los calculos. Para esto existe una solucion, la cual es inicializar los centroides de una manera mas inteligente con la herramienta `k-means++`."
   ]
  },
  {
   "cell_type": "markdown",
   "metadata": {},
   "source": [
    "<div class=\"burk\">\n",
    "EJERCICIO</div><i class=\"fa fa-lightbulb-o \"></i>\n",
    "\n",
    "Utilizando el archivo `Mall_Customers.csv` realice un proceso de `clustering`; para fines de visualizacion solo utilice las dos ultimas columnas. Utilice 5 *clusters* y grafique sus resultados. Evalue la conveniencia de escalar."
   ]
  },
  {
   "cell_type": "markdown",
   "metadata": {
    "ExecuteTime": {
     "end_time": "2021-03-01T01:01:25.573413Z",
     "start_time": "2021-03-01T01:01:25.560474Z"
    }
   },
   "source": [
    "## Una manera mas inteligente de colocar los centroides con k-means++\n",
    "\n",
    "La idea central de este algoritmo es muy simple: inicializar los centroides de tal manera que queden lejos unos de otros. Su algoritmo se puede tomar de la siguiente manera:\n",
    "\n",
    "1. Inicializa un conjunto vacio **M** para almacenar los centroides *k* que han sido seleccionados.\n",
    "2. Aleatoriamente elige el primer centroide **$\\mu^{(i)}$** de las muestras de entrada y las asigna a **M**.\n",
    "3. Para cada muestra **$x^{(i)}$** que no esta en **M**, encuentra la distancia minima cuadratica $d(\\textbf{x}^{(i)}, \\textbf{M})^2$ hasta cada uno de los centroides en **M**.\n",
    "4. Para seleccionar aleatoriamente el siguiente centroide **$\\mu^{(p)}$**, utiliza una distribucion de probabilidad ponderada igual a $\\frac{d(\\textbf{x}^{(p)}, \\textbf{M})^2}{\\sum_i d(\\textbf{x}^{(i)}, \\textbf{M})^2}$.\n",
    "5. Repite los pasos 2 y 3 hasta elegir los *k* centroides.\n",
    "6. Sigue adelante con el algoritmo k-means clasico. "
   ]
  },
  {
   "cell_type": "code",
   "execution_count": null,
   "metadata": {
    "ExecuteTime": {
     "end_time": "2021-03-01T21:18:33.030887Z",
     "start_time": "2021-03-01T21:18:32.982824Z"
    }
   },
   "outputs": [],
   "source": [
    "from sklearn.cluster import KMeans\n",
    "\n",
    "km = KMeans(n_clusters=3, init='k-means++', n_init=10, max_iter=300, tol=1e-04, random_state=0)\n",
    "# n_init realizara el algoritmo 10 veces con diferentes centroides. Se eligira el que tenga SSE mas bajo\n",
    "y_km = km.fit_predict(X)"
   ]
  },
  {
   "cell_type": "code",
   "execution_count": null,
   "metadata": {
    "ExecuteTime": {
     "end_time": "2021-03-01T21:18:35.296266Z",
     "start_time": "2021-03-01T21:18:34.927139Z"
    }
   },
   "outputs": [],
   "source": [
    "fig, ax =plt.subplots(figsize = (8, 6))\n",
    "ax.scatter(X[y_km == 0, 0], X[y_km == 0, 1], s=50, c='lightgreen', marker='s', edgecolor='black', label='cluster 1')\n",
    "ax.scatter(X[y_km == 1, 0], X[y_km == 1, 1], s=50, c='orange', marker='o', edgecolor='black', label='cluster 2')\n",
    "ax.scatter(X[y_km == 2, 0], X[y_km == 2, 1], s=50, c='lightblue', marker='v', edgecolor='black', label='cluster 3')\n",
    "ax.scatter(km.cluster_centers_[:, 0], km.cluster_centers_[:, 1], s=250, marker='*', c='red', edgecolor='black', \n",
    "            label='centroids')\n",
    "ax.legend(scatterpoints=1)\n",
    "ax.grid()"
   ]
  },
  {
   "attachments": {
    "image.png": {
     "image/png": "[encoded data removed]"
    }
   },
   "cell_type": "markdown",
   "metadata": {
    "ExecuteTime": {
     "end_time": "2021-03-01T01:28:11.980478Z",
     "start_time": "2021-03-01T01:28:11.972499Z"
    }
   },
   "source": [
    "## Agrupamiento pesado frente a no pesado\n",
    "\n",
    "El agrupamiento pesado (***Hard Clustering***) se refiere a una familia de algoritmos en la cual cada muestra se asigna exactamente a un grupo, como lo hicimos con k-means antes. Por el contrario, los algortimos de agrupamiento no pesado (***Soft Clustering***), asignan una muestra a uno o mas grupos. Un ejemplo popular de este tipo de algortimos es el conocido como **fuzzy C-means (FCM): $J_m$**.\n",
    "\n",
    "Su funcionamiento es muy similar al algoritmo k-means, pero en vez de asignar punto a categorias, sustituimos con probabilidades de que cada punto pertenezca a cierta categoria. Por ejemplo, en k-means podriamos expresar el miembro del grupo de una muestra *x* con un vector disperso de valores binarios:\n",
    "\n",
    "![image.png](attachment:image.png)"
   ]
  },
  {
   "attachments": {
    "image.png": {
     "image/png": "[encoded data removed]"
    }
   },
   "cell_type": "markdown",
   "metadata": {},
   "source": [
    "La posicion del indice con el valor 1 indica el centroide del grupo **$\\mu^{(i)}$** al que se asigna la muestra (suponiendo que $k=3$, $j \\in \\{1,2,3\\}$. Por el contrario, un vector perteneciente al FCM podria ser representado con valores porbabilisticos en vez de valores absolutos:\n",
    "\n",
    "![image.png](attachment:image.png)"
   ]
  },
  {
   "attachments": {
    "image.png": {
     "image/png": "[encoded data removed]"
    }
   },
   "cell_type": "markdown",
   "metadata": {},
   "source": [
    "En este caso, cada valor cae en el rango $[0,1]$  y representa la probabilidad de pertenencia al grupo del respectivo centroide. La suma, por supuesto, es igual a 1 pues no existen mas grupos.\n",
    "\n",
    "El algoritmo se puede resumir en los siguientes pasos:\n",
    "1. Especificar el numero de centroides y, aleatoriamente, asignar los miembros del grupo para cada punto.\n",
    "2. Calcular los centroides del grupo $\\mu^{(j)}$, $j\\in \\{1, \\dots ,k\\}$\n",
    "3. Actualizar los miembros del grupo para cada punto. \n",
    "4. Repetir los pasos 2 y 3 hasta que los coeficientes de los iembros no cambien o hasta alcanzar la tolerancia definida por el ususario o el numero maximo de iteraciones.\n",
    "\n",
    "La funcion objetivo del FCM es la siguiente:\n",
    "\n",
    "![image.png](attachment:image.png)"
   ]
  },
  {
   "attachments": {
    "image.png": {
     "image/png": "[encoded data removed]"
    }
   },
   "cell_type": "markdown",
   "metadata": {},
   "source": [
    "sin embargo, cabe recordar que $w^{(i,j)}$ no pertenece a la clase binaria $(0,1)$, sino que representa valores probabilisticos pertenenecientes al intervalo $[0,1]$. Em valor de $m$ se conoce como coeficiente de difusion, y entre mas grande sea, menor probabilidad habra de pertenecer al grupo $w^{(i,j)}$.\n",
    "\n",
    "La probabilidad de pertenencia al grupo se calcula del siguiente modo:\n",
    "\n",
    "![image.png](attachment:image.png)"
   ]
  },
  {
   "attachments": {
    "image.png": {
     "image/png": "[encoded data removed]"
    }
   },
   "cell_type": "markdown",
   "metadata": {},
   "source": [
    "El centro $\\mu^{(j)}$ se calcula como sigue:\n",
    "\n",
    "![image.png](attachment:image.png)\n",
    "\n",
    "Despues de todo lo dicho, cabe mencionar que sklearn no implementa el algoritmo FCM; afortunadamente los resultados de FCM son muy similares a los del algoritmo k-means con k-means++."
   ]
  },
  {
   "cell_type": "markdown",
   "metadata": {},
   "source": [
    "<div class=\"burk\">\n",
    "EJERCICIO</div><i class=\"fa fa-lightbulb-o \"></i>\n",
    "\n",
    "Utilice al dataset del anterior ejercicio para realizar un agrupamiento de caracteristicas, pero esta vez utilice las tres ultimas columnas; para poder visualizar, realice previamente una extraccion de caracteristicas usando PCA para 2 componentes. Dado que es bastante util el escalamiento, aproveche para reducir sus lineas creando un pipeline con las tres operaciones: escalamiento, PCA, modelo k-means.\n",
    "\n",
    "Grafique sus resultados."
   ]
  },
  {
   "cell_type": "markdown",
   "metadata": {},
   "source": [
    "## Encontrar el numero optimo de grupos: metodo Elbow\n",
    "\n",
    "Una de las dificultades del aprendizaje no supervisado, es el evaluar el rendimiento del algoritmo ya que no poseemos etiquetas de referencia para comparar, y no sabemos que tan bien lo esta haciendo el modelo. Una de las posibilidades que tenemos para abarcar este problema es la medida *SSE* que hemos venido utilizando, el cual puede ser obtenido desde el mismo algoritmo con el parametro `inertia_`:"
   ]
  },
  {
   "cell_type": "code",
   "execution_count": null,
   "metadata": {
    "ExecuteTime": {
     "end_time": "2021-03-01T21:40:49.410750Z",
     "start_time": "2021-03-01T21:40:49.407748Z"
    }
   },
   "outputs": [],
   "source": [
    "print(f'Distorsion: {km.inertia_}')"
   ]
  },
  {
   "cell_type": "markdown",
   "metadata": {},
   "source": [
    "Basando en el valor *SSE*, podemos evaluar el numero optimo de grupos, considerando el siguiente hecho: Mientras mas grupos haya, menor sera el SSE. Si calculamos el *SSE* para diferentes valores de *k*, podemos graficar *SSE* vs *k* y asi saber cual es la mejor opcion."
   ]
  },
  {
   "cell_type": "code",
   "execution_count": null,
   "metadata": {
    "ExecuteTime": {
     "end_time": "2021-03-01T21:45:20.352788Z",
     "start_time": "2021-03-01T21:45:19.798273Z"
    }
   },
   "outputs": [],
   "source": [
    "distortions = []\n",
    "for i in range(1, 11):\n",
    "    km = KMeans(n_clusters=i, init='k-means++', n_init=10, max_iter=300)\n",
    "    km.fit(X)\n",
    "    distortions.append(km.inertia_)\n",
    "\n",
    "fig, ax = plt.subplots()    \n",
    "ax.plot(range(1,11), distortions, marker='o')\n",
    "ax.set_xlabel('Numero de clusters')\n",
    "ax.set_ylabel('Distorsion')\n",
    "ax.set_xticks(range(1, 11));"
   ]
  },
  {
   "cell_type": "markdown",
   "metadata": {},
   "source": [
    "El truco esta en tomar el valor de *k* para el cual la distorsion empieza a cambiar rapidamente; de nuestro resultado, se puede observar que *k=3* es una buena eleccion de grupos."
   ]
  },
  {
   "attachments": {
    "image.png": {
     "image/png": "[encoded data removed]"
    }
   },
   "cell_type": "markdown",
   "metadata": {},
   "source": [
    "## Cuantificar la calidad de la agrupacion mediante los graficos de silueta\n",
    "\n",
    "Esta tecnica funciona con diversos algoritmos de agrupamiento; para calcular el ***coeficiente de silueta*** de una muestra unica, podemos seguir los siguientes pasos:\n",
    "1. Calcular la **cohesion del grupo** $a^{(i)}$ como la distancia media entre una muestra **$x^{(i)}$ y el resto de puntos en el mismo grupo.\n",
    "2. Calcular la **separacion de grupo** $b^{(i)}$ a partir del grupo mas cercano como la distancia media entre la muestra **$x^{(i)}$** y todas las muestras en el grupo mas cercano.\n",
    "3. Calcular la silueta $s^{(i)}$ con la diferencia entre la cohesion y la separacion del grupo dividida por el mas grande de los dos:\n",
    "![image.png](attachment:image.png)\n",
    "\n",
    "El valor del coeficiente de silueta esta entre -1 y 1. "
   ]
  },
  {
   "cell_type": "code",
   "execution_count": null,
   "metadata": {
    "ExecuteTime": {
     "end_time": "2021-03-01T22:17:12.205649Z",
     "start_time": "2021-03-01T22:17:12.182684Z"
    }
   },
   "outputs": [],
   "source": [
    "import numpy as np\n",
    "from matplotlib import cm\n",
    "from sklearn.metrics import silhouette_samples\n",
    "\n",
    "km = KMeans(n_clusters=3, init='k-means++', n_init=10, max_iter=300, tol=1e-04)\n",
    "y_km = km.fit_predict(X)\n",
    "\n",
    "cluster_labels = np.unique(y_km)\n",
    "# Etiquetas dadas a los clusters por k-means\n",
    "\n",
    "n_clusters = cluster_labels.shape[0]\n",
    "# Cantidad de clusters\n",
    "\n",
    "silhouette_vals = silhouette_samples(X, y_km, metric='euclidean')\n",
    "# se obtendra un valor por cad muestra, es decir, la misma cantidad de elementos que filas en X\n",
    "\n",
    "#silhouette_vals"
   ]
  },
  {
   "cell_type": "code",
   "execution_count": null,
   "metadata": {
    "ExecuteTime": {
     "end_time": "2021-03-01T22:19:20.751158Z",
     "start_time": "2021-03-01T22:19:20.458940Z"
    }
   },
   "outputs": [],
   "source": [
    "y_ax_lower, y_ax_upper = 0, 0\n",
    "yticks = []\n",
    "\n",
    "for i, c in enumerate(cluster_labels):\n",
    "    c_silhouette_vals = silhouette_vals[y_km == c]\n",
    "    c_silhouette_vals.sort()\n",
    "    \n",
    "    y_ax_upper += len(c_silhouette_vals)\n",
    "    color = ['turquoise', 'slateblue', 'coral']\n",
    "    \n",
    "    plt.barh(range(y_ax_lower, y_ax_upper), c_silhouette_vals, height=1.0, edgecolor='none', color=color[i])\n",
    "\n",
    "    yticks.append((y_ax_lower + y_ax_upper) / 2.)\n",
    "    y_ax_lower += len(c_silhouette_vals)\n",
    "    \n",
    "silhouette_avg = np.mean(silhouette_vals)\n",
    "plt.axvline(silhouette_avg, color=\"red\", linestyle=\"--\") \n",
    "\n",
    "plt.yticks(yticks, cluster_labels + 1)\n",
    "plt.ylabel('Cluster')\n",
    "plt.xlabel('Silhouette coefficient')\n",
    "\n",
    "plt.tight_layout()\n",
    "plt.show()"
   ]
  },
  {
   "cell_type": "markdown",
   "metadata": {
    "ExecuteTime": {
     "end_time": "2021-03-01T21:58:36.769973Z",
     "start_time": "2021-03-01T21:58:36.764982Z"
    }
   },
   "source": [
    "Para que se entienda el resultado, debemos tener encuenta que el valor maximo es de 1; entre mas cercano estemos de 1, para un color en particular, podemos decir que la muestra correspondiente esta bien emparejada cono los elementos de su grupo, y mal emparejada con los miembros de otros grupos. Si la mayoría de los objetos tienen un valor alto, entonces la configuración del grupo es apropiada. Si muchos puntos tienen un valor bajo o negativo, entonces la configuración de grupo puede tener demasiados o muy pocos grupos. "
   ]
  },
  {
   "cell_type": "code",
   "execution_count": null,
   "metadata": {
    "ExecuteTime": {
     "end_time": "2021-03-01T22:19:49.774642Z",
     "start_time": "2021-03-01T22:19:49.624013Z"
    }
   },
   "outputs": [],
   "source": [
    "# Un grupo mal clasificado\n",
    "km = KMeans(n_clusters=2, init='k-means++', n_init=10, max_iter=300, tol=1e-04)\n",
    "y_km = km.fit_predict(X)\n",
    "\n",
    "plt.scatter(X[y_km == 0, 0], X[y_km == 0, 1], s=50, c='lightgreen', edgecolor='black', marker='s', label='cluster 1')\n",
    "plt.scatter(X[y_km == 1, 0], X[y_km == 1, 1], s=50, c='orange', edgecolor='black', marker='o', label='cluster 2')\n",
    "\n",
    "plt.scatter(km.cluster_centers_[:, 0], km.cluster_centers_[:, 1], s=250, marker='*', c='red', label='centroids')\n",
    "plt.legend()\n",
    "plt.grid()\n",
    "plt.tight_layout()\n",
    "plt.show()"
   ]
  },
  {
   "cell_type": "code",
   "execution_count": null,
   "metadata": {
    "ExecuteTime": {
     "end_time": "2021-03-01T22:19:58.363647Z",
     "start_time": "2021-03-01T22:19:58.089413Z"
    }
   },
   "outputs": [],
   "source": [
    "cluster_labels = np.unique(y_km)\n",
    "n_clusters = cluster_labels.shape[0]\n",
    "silhouette_vals = silhouette_samples(X, y_km, metric='euclidean')\n",
    "y_ax_lower, y_ax_upper = 0, 0\n",
    "yticks = []\n",
    "for i, c in enumerate(cluster_labels):\n",
    "    c_silhouette_vals = silhouette_vals[y_km == c]\n",
    "    c_silhouette_vals.sort()\n",
    "    y_ax_upper += len(c_silhouette_vals)\n",
    "    \n",
    "    plt.barh(range(y_ax_lower, y_ax_upper), c_silhouette_vals, height=1.0, edgecolor='none', color=color[i])\n",
    "    color = ['turquoise', 'slateblue']\n",
    "    yticks.append((y_ax_lower + y_ax_upper) / 2.)\n",
    "    y_ax_lower += len(c_silhouette_vals)\n",
    "    \n",
    "silhouette_avg = np.mean(silhouette_vals)\n",
    "plt.axvline(silhouette_avg, color=\"red\", linestyle=\"--\") \n",
    "\n",
    "plt.yticks(yticks, cluster_labels + 1)\n",
    "plt.ylabel('Cluster')\n",
    "plt.xlabel('Silhouette coefficient')\n",
    "\n",
    "plt.tight_layout()\n",
    "plt.show()"
   ]
  },
  {
   "cell_type": "markdown",
   "metadata": {},
   "source": [
    "<div class=\"burk\">\n",
    "EJERCICIO\n",
    "</div><i class=\"fa fa-lightbulb-o \"></i>\n",
    "\n",
    " Con el conjunto de datos del ejercicio anterior, construya un diagrama *Elbow* para estimar cual es el valor *k* mas adecuado. Cree un modelo con ese valor de  *k* y grafique un diagrama de siluetas para verificar la bondad de su agrupamiento. "
   ]
  }
 ],
 "metadata": {
  "kernelspec": {
   "display_name": "Python 3",
   "language": "python",
   "name": "python3"
  },
  "language_info": {
   "codemirror_mode": {
    "name": "ipython",
    "version": 3
   },
   "file_extension": ".py",
   "mimetype": "text/x-python",
   "name": "python",
   "nbconvert_exporter": "python",
   "pygments_lexer": "ipython3",
   "version": "3.8.3"
  },
  "toc": {
   "base_numbering": 1,
   "nav_menu": {},
   "number_sections": true,
   "sideBar": true,
   "skip_h1_title": false,
   "title_cell": "Table of Contents",
   "title_sidebar": "Contents",
   "toc_cell": false,
   "toc_position": {},
   "toc_section_display": true,
   "toc_window_display": false
  },
  "varInspector": {
   "cols": {
    "lenName": 16,
    "lenType": 16,
    "lenVar": 40
   },
   "kernels_config": {
    "python": {
     "delete_cmd_postfix": "",
     "delete_cmd_prefix": "del ",
     "library": "var_list.py",
     "varRefreshCmd": "print(var_dic_list())"
    },
    "r": {
     "delete_cmd_postfix": ") ",
     "delete_cmd_prefix": "rm(",
     "library": "var_list.r",
     "varRefreshCmd": "cat(var_dic_list()) "
    }
   },
   "types_to_exclude": [
    "module",
    "function",
    "builtin_function_or_method",
    "instance",
    "_Feature"
   ],
   "window_display": false
  }
 },
 "nbformat": 4,
 "nbformat_minor": 4
}
