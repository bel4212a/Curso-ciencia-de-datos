{
 "cells": [
  {
   "cell_type": "markdown",
   "metadata": {},
   "source": [
    "# Analisis de grupos (Clustering analysis)\n",
    "\n",
    "Esta seccion se corresponde con el aprendizje no supervisado, en el cual, las etiquetas de clase no se conocen, y unicamente se trabaja con las matrices de caracteristicas; el objetivo del analisis de datos como los mencionados es la de descubrir estructuras ocultas en los datos. Siempre tengamos en cuenta que no tenemos etiquetas de clase por defecto, por lo tanto no podremos anticipar si los datos pertenecen o no a una cierta categoria, y nuestra alternativas mas plausible sera explorar los datos para *tratar* de encontrar grupos o estructuras subyacentes."
   ]
  },
  {
   "cell_type": "markdown",
   "metadata": {},
   "source": [
    "## Agrupar objetos por semejanza con K-means\n",
    "\n",
    "Este algoritmo utiliza la semejanza de los datos para crear grupos de caracteristicas; es uno de los algoritmos mas populares en la industria y sobre el cual se basan sistemas de amplio uso como los son los sistemas de recomendacion.\n",
    "\n",
    "### Agrupamiento k-means con sklearn\n",
    "\n",
    "Es un algoritmo facil y muy eficaz, lo cual explica su popularidad; pertenece a una categoria llamada **agrupamiento basado en prototipos**. Existen otras categorias llamdas **agrupamiento jerarquico** y **agrupamiento basado en densidad**, que veremos mas adelante.\n",
    "\n",
    "El ***agriupamiento basado en prototipos*** es llamado asi debido a que los grupos o *clusters* son representados por una cantidad prototipo representativa, que puede ser el **centroide** (promedio) de caracteristicas similares continuas, o **medoide** (punto mas frecuente) para caracteristicas categoricas.\n",
    "\n",
    "Una de las dificultades que presenta este algoritmo, a pesar de su eficacia, es que tenemos que especificar el numero de veciones *k* desde el principio.\n",
    "\n",
    "Si se elige mal el valor de *k*, tendremos un rendimiento bajo de agrupamiento, aunque la buena noticia es que existen metodos para optimizar este proceso a partir de mediciones de calidad del agrupamiento; mas adelante trataremos esas tecnicas, aunque adelante sus nombres: ***metodo elbow*** y ***graficos de silueta***."
   ]
  },
  {
   "cell_type": "code",
   "execution_count": 1,
   "metadata": {
    "ExecuteTime": {
     "end_time": "2021-03-01T23:30:12.840870Z",
     "start_time": "2021-03-01T23:30:10.085007Z"
    },
    "scrolled": true
   },
   "outputs": [
    {
     "data": {
      "text/plain": [
       "array([[ 2.60509732,  1.22529553],\n",
       "       [ 0.5323772 ,  3.31338909],\n",
       "       [ 0.802314  ,  4.38196181],\n",
       "       [ 0.5285368 ,  4.49723858],\n",
       "       [ 2.61858548,  0.35769791],\n",
       "       [ 1.59141542,  4.90497725],\n",
       "       [ 1.74265969,  5.03846671],\n",
       "       [ 2.37533328,  0.08918564],\n",
       "       [-2.12133364,  2.66447408],\n",
       "       [ 1.72039618,  5.25173192],\n",
       "       [ 3.1368855 ,  1.56592763],\n",
       "       [-0.37494566,  2.38787435],\n",
       "       [-1.84562253,  2.71924635],\n",
       "       [ 0.72144399,  4.08475018],\n",
       "       [ 0.16117091,  4.53517846],\n",
       "       [-1.99912714,  2.71285741],\n",
       "       [-1.47804153,  3.2093591 ],\n",
       "       [ 1.8706766 ,  0.77797407],\n",
       "       [-1.5933443 ,  2.76898682],\n",
       "       [ 2.03562611,  0.31361691],\n",
       "       [ 0.64003985,  4.12401075],\n",
       "       [ 2.4411628 ,  1.30941574],\n",
       "       [ 1.13280393,  3.87673946],\n",
       "       [ 1.04829186,  5.03092408],\n",
       "       [-1.26637157,  2.62998828],\n",
       "       [ 2.31690585,  0.81189049],\n",
       "       [ 2.36230721,  1.358767  ],\n",
       "       [ 1.2091013 ,  3.53566548],\n",
       "       [-2.54224625,  3.95012869],\n",
       "       [ 1.4815332 ,  0.67875364],\n",
       "       [-1.59487886,  3.48632794],\n",
       "       [-1.82556205,  2.7989214 ],\n",
       "       [-1.13374003,  2.68467271],\n",
       "       [-1.758702  ,  3.158623  ],\n",
       "       [ 0.3498724 ,  4.69253251],\n",
       "       [ 1.68548602,  1.66917096],\n",
       "       [ 2.989047  ,  1.35068599],\n",
       "       [ 1.73734448,  1.23588031],\n",
       "       [ 0.65910903,  4.12241674],\n",
       "       [ 1.15445328,  4.65707391],\n",
       "       [-1.32738084,  1.53158588],\n",
       "       [-1.6814105 ,  2.07988036],\n",
       "       [ 0.34102758,  4.78848568],\n",
       "       [ 1.87827057,  0.21018801],\n",
       "       [ 2.13860427,  1.21517938],\n",
       "       [ 2.48368283,  0.57215086],\n",
       "       [-1.18113464,  3.26525683],\n",
       "       [ 2.11114739,  3.57660449],\n",
       "       [-1.19371247,  2.68752237],\n",
       "       [ 1.45131429,  4.22810872],\n",
       "       [ 1.83769075,  1.82229552],\n",
       "       [ 0.44089377,  4.83101319],\n",
       "       [ 1.08040757,  4.79210685],\n",
       "       [ 1.84845803,  0.52393625],\n",
       "       [ 2.3914149 ,  1.10139458],\n",
       "       [-1.44865074,  3.03397278],\n",
       "       [ 0.72086751,  3.71347124],\n",
       "       [ 3.01673853,  1.63792106],\n",
       "       [-1.18199493,  3.56880538],\n",
       "       [ 1.34081536,  4.36827878],\n",
       "       [-2.31837321,  3.22307195],\n",
       "       [-0.54894786,  3.11292892],\n",
       "       [-1.6823471 ,  2.96658234],\n",
       "       [-1.53541422,  3.10745813],\n",
       "       [ 1.06498315,  4.10289686],\n",
       "       [-0.39724954,  2.89675369],\n",
       "       [ 1.03972612,  4.50478201],\n",
       "       [ 1.62465468,  1.85269614],\n",
       "       [-0.30022483,  4.63059663],\n",
       "       [ 0.12313498,  5.27917503],\n",
       "       [ 1.54597042,  3.68637442],\n",
       "       [ 1.44254976,  1.31984515],\n",
       "       [ 2.52889351,  0.82015861],\n",
       "       [ 0.38970838,  5.27559792],\n",
       "       [ 1.5381461 ,  1.23846092],\n",
       "       [ 0.82049381,  4.33187   ],\n",
       "       [ 1.56565986,  4.21382491],\n",
       "       [-1.93358614,  2.1846701 ],\n",
       "       [-1.38373217,  3.22230418],\n",
       "       [ 0.96217896,  4.51795326],\n",
       "       [ 1.71810119,  0.91357894],\n",
       "       [ 1.65356269,  0.55288877],\n",
       "       [ 0.4519936 ,  3.59377836],\n",
       "       [ 1.19820169,  4.47062449],\n",
       "       [ 2.20438661,  1.56085661],\n",
       "       [ 3.24683991,  1.3699034 ],\n",
       "       [ 2.51569693,  1.05702749],\n",
       "       [-1.79833475,  3.12590728],\n",
       "       [-2.0495307 ,  3.52345491],\n",
       "       [ 2.36788325,  0.09663483],\n",
       "       [ 2.24348029,  0.34796326],\n",
       "       [ 0.99914934,  4.2101954 ],\n",
       "       [ 1.30963873,  1.11735951],\n",
       "       [ 0.77468161,  4.91500986],\n",
       "       [ 1.70798359,  0.82284639],\n",
       "       [ 1.91784543,  3.6299078 ],\n",
       "       [-2.00487651,  2.74489137],\n",
       "       [-2.10499523,  3.30848131],\n",
       "       [ 1.39731382,  0.66687136],\n",
       "       [ 2.02114672,  1.75433502],\n",
       "       [ 1.67030948,  1.16728826],\n",
       "       [ 2.52997792,  0.94143928],\n",
       "       [-2.18016744,  3.7469476 ],\n",
       "       [ 2.00604126,  0.56592452],\n",
       "       [ 1.50307585,  0.9237462 ],\n",
       "       [ 1.05374379,  4.49286859],\n",
       "       [-1.72662853,  3.10291021],\n",
       "       [ 1.72330962,  4.2012082 ],\n",
       "       [ 0.92466065,  4.50908658],\n",
       "       [ 0.39369516,  4.75420057],\n",
       "       [-1.31377465,  3.25633628],\n",
       "       [ 0.78260667,  4.15263595],\n",
       "       [ 1.82750127,  0.90640324],\n",
       "       [-1.2649585 ,  2.9620933 ],\n",
       "       [ 0.98152009,  5.19672257],\n",
       "       [-2.49504392,  3.01227156],\n",
       "       [ 1.00952869,  4.45502328],\n",
       "       [ 1.40848818,  3.93270482],\n",
       "       [-1.28003312,  2.85983029],\n",
       "       [-1.82506103,  2.89159861],\n",
       "       [ 0.5408715 ,  4.0143625 ],\n",
       "       [ 2.64928242,  1.05613497],\n",
       "       [ 0.5226209 ,  4.32976003],\n",
       "       [ 0.16932115,  4.19741719],\n",
       "       [ 1.8062513 ,  1.86242969],\n",
       "       [ 1.92126584,  1.29889186],\n",
       "       [-1.53906708,  2.54886681],\n",
       "       [ 1.68289011,  0.48444439],\n",
       "       [-2.29730252,  2.94951326],\n",
       "       [-1.45592743,  2.75821805],\n",
       "       [-1.38694171,  2.86880707],\n",
       "       [-1.07181456,  3.07649137],\n",
       "       [ 1.40883907,  1.03118909],\n",
       "       [-1.58598604,  2.57779316],\n",
       "       [-1.58217434,  3.42796862],\n",
       "       [-0.77966174,  1.88288975],\n",
       "       [ 0.56969694,  3.44064603],\n",
       "       [-1.8531083 ,  2.72240557],\n",
       "       [ 1.59885641,  1.4561718 ],\n",
       "       [-1.84094779,  2.6773687 ],\n",
       "       [ 1.35678894,  4.36462484],\n",
       "       [ 1.1774409 ,  3.96138228],\n",
       "       [ 1.73345832, -0.21403792],\n",
       "       [ 2.34356293,  0.79351428],\n",
       "       [-0.95073823,  3.45769156],\n",
       "       [-2.23893447,  2.67122232],\n",
       "       [-1.87292894,  3.68607079],\n",
       "       [-1.8897027 ,  2.22620028],\n",
       "       [ 2.25327088,  0.35113291],\n",
       "       [ 1.55515985,  0.12527811]])"
      ]
     },
     "execution_count": 1,
     "metadata": {},
     "output_type": "execute_result"
    }
   ],
   "source": [
    "# Creacion del conjunto de datos\n",
    "from sklearn.datasets import make_blobs\n",
    "\n",
    "X, y = make_blobs(n_samples=150, n_features=2, centers=3, cluster_std=0.5, shuffle=True, random_state=0)\n",
    "X"
   ]
  },
  {
   "cell_type": "code",
   "execution_count": 2,
   "metadata": {
    "ExecuteTime": {
     "end_time": "2021-03-01T23:30:56.916094Z",
     "start_time": "2021-03-01T23:30:54.978383Z"
    }
   },
   "outputs": [
    {
     "data": {
      "image/png": "[encoded data removed]",
      "text/plain": [
       "<Figure size 432x288 with 1 Axes>"
      ]
     },
     "metadata": {
      "needs_background": "light"
     },
     "output_type": "display_data"
    }
   ],
   "source": [
    "# Graficacion del conjunto de datos\n",
    "import matplotlib.pyplot as plt\n",
    "\n",
    "fig, ax = plt.subplots()\n",
    "ax.scatter(X[:, 0], X[:, 1], c='white', marker='o', edgecolor='black', s=50)\n",
    "ax.grid();"
   ]
  },
  {
   "cell_type": "markdown",
   "metadata": {},
   "source": [
    "Dado que no tenemos ninguna informacion de las caracteristicas, debemos agrupar por semejanzas, lo cual se hace en los siguientes 4 pasos:\n",
    "\n",
    "1. Selecciona aleatoriamente *k* centroides a partir de los puntos de muestra como centros de grupo iniciales.\n",
    "2. Asigna cada muestra al centroide mas cercano $u_j$, $j \\in {1, 2, \\dots , k}$.\n",
    "3. Desplaza los centroides al centro de las muestras asignadas para ello.\n",
    "4. Repita los pasos 2 y 3 hasta que las asignaciones de grupos no cambien o hasta conseguir una tolerancia definida por el usuario o el numero maximo de iteraciones.\n",
    "\n",
    "La forma de determinar la semejanza ente objetos es a partir de la distancia euclidiana, de tal manera que entre mas alejados esten dos objetos, menos semejantes son, es decir, la semjanza sera lo opuesto a la distancia; recordemos que la distancia euclidiana se define como:\n",
    "\n",
    "$$d(\\vec{x}, \\vec{y})=\\sum_{j=1}^m(x_j-y_j)^2=||\\vec{x}-\\vec{y}||^2_2$$\n",
    "\n",
    "En la ecuaion anterior *j* se refieres a la *j*-esima dimension(columna) de las muestras $\\vec{x}$ y $\\vec{y}$. \n",
    "\n",
    "El algoritmo tratara de minimizar la Suma de Errores Cuadraticos SSE dentro del grupo:\n",
    "\n",
    "$$SSE=\\sum_{i=1}^n\\sum_{j=k}^{centroides} w^{(i,j)}||\\vec{x}^{(i)}-\\vec{\\mu}^{(j)}||^2_2$$\n",
    "\n",
    "$\\vec{\\mu}^{(j)}$ es el centroide para el grupo *j*, y $w^{(i,j)} = 1$ si la muestra $\\vec{x}^{(i)}$ esta en el grupo *j*, sino $w^{(i,j)} = 0$.\n",
    "\n",
    "Dado que el algoritmo utiliza la distancia euclidiana para medir las distancias, es recomendable escalar las caracteristicas cuando se trabaje con medidas reales."
   ]
  },
  {
   "cell_type": "code",
   "execution_count": 3,
   "metadata": {
    "ExecuteTime": {
     "end_time": "2021-03-01T23:46:17.897269Z",
     "start_time": "2021-03-01T23:46:17.005453Z"
    },
    "collapsed": true
   },
   "outputs": [
    {
     "data": {
      "text/plain": [
       "array([2, 1, 1, 1, 2, 1, 1, 2, 0, 1, 2, 0, 0, 1, 1, 0, 0, 2, 0, 2, 1, 2,\n",
       "       1, 1, 0, 2, 2, 1, 0, 2, 0, 0, 0, 0, 1, 2, 2, 2, 1, 1, 0, 0, 1, 2,\n",
       "       2, 2, 0, 1, 0, 1, 2, 1, 1, 2, 2, 0, 1, 2, 0, 1, 0, 0, 0, 0, 1, 0,\n",
       "       1, 2, 1, 1, 1, 2, 2, 1, 2, 1, 1, 0, 0, 1, 2, 2, 1, 1, 2, 2, 2, 0,\n",
       "       0, 2, 2, 1, 2, 1, 2, 1, 0, 0, 2, 2, 2, 2, 0, 2, 2, 1, 0, 1, 1, 1,\n",
       "       0, 1, 2, 0, 1, 0, 1, 1, 0, 0, 1, 2, 1, 1, 2, 2, 0, 2, 0, 0, 0, 0,\n",
       "       2, 0, 0, 0, 1, 0, 2, 0, 1, 1, 2, 2, 0, 0, 0, 0, 2, 2])"
      ]
     },
     "execution_count": 3,
     "metadata": {},
     "output_type": "execute_result"
    }
   ],
   "source": [
    "from sklearn.cluster import KMeans\n",
    "\n",
    "km = KMeans(n_clusters=3, init='random', n_init=10, max_iter=300, tol=1e-04, random_state=0)\n",
    "# n_init realizara el algoritmo 10 veces con diferentes centroides. Se eligira el que tenga SSE mas bajo\n",
    "y_km = km.fit_predict(X)\n",
    "y_km"
   ]
  },
  {
   "cell_type": "code",
   "execution_count": 4,
   "metadata": {
    "ExecuteTime": {
     "end_time": "2021-03-01T23:46:35.563175Z",
     "start_time": "2021-03-01T23:46:34.946154Z"
    }
   },
   "outputs": [
    {
     "data": {
      "image/png": "[encoded data removed]",
      "text/plain": [
       "<Figure size 576x432 with 1 Axes>"
      ]
     },
     "metadata": {
      "needs_background": "light"
     },
     "output_type": "display_data"
    }
   ],
   "source": [
    "fig, ax =plt.subplots(figsize = (8, 6))\n",
    "ax.scatter(X[y_km == 0, 0], X[y_km == 0, 1], s=50, c='lightgreen', marker='s', edgecolor='black', label='cluster 1')\n",
    "ax.scatter(X[y_km == 1, 0], X[y_km == 1, 1], s=50, c='orange', marker='o', edgecolor='black', label='cluster 2')\n",
    "ax.scatter(X[y_km == 2, 0], X[y_km == 2, 1], s=50, c='lightblue', marker='v', edgecolor='black', label='cluster 3')\n",
    "ax.scatter(km.cluster_centers_[:, 0], km.cluster_centers_[:, 1], s=250, marker='*', c='red', edgecolor='black', \n",
    "            label='centroids')\n",
    "ax.legend(scatterpoints=1)\n",
    "ax.grid()"
   ]
  },
  {
   "cell_type": "markdown",
   "metadata": {},
   "source": [
    "Como se puede observar, los datos fueron asignados a una clase diferente segun sus semejanzas en terminos de las 2 caracteristicas, y que cada una de las categorias estan representadas por los promedios (centroides) de las ubicaciones de los datos (estrellas rojas). Es muy importante recordar que los centroides no iniciaron en esa posicion sino que fueron ubicados alli despues de cierto numero de iteraciones; su posicion inicial es, hasta cierto punto, desconocida, pues se inicializa con el parametro `init='random'`, lo cual puede llegar a ser un inconveniente en terminos computacionales, ya que podrian inicializarse en alguna ubicacion que llevara a mayores tiempos de ejecucion y a algunas dificultades en los calculos. Para esto existe una solucion, la cual es inicializar los centroides de una manera mas inteligente con la herramienta `k-means++`."
   ]
  },
  {
   "cell_type": "markdown",
   "metadata": {},
   "source": [
    "<div class=\"burk\">\n",
    "EJERCICIO</div><i class=\"fa fa-lightbulb-o \"></i>\n",
    "\n",
    "Utilizando el archivo `Mall_Customers.csv` realice un proceso de `clustering`; para fines de visualizacion solo utilice las dos ultimas columnas. Utilice 5 *clusters* y grafique sus resultados. Evalue la conveniencia de escalar."
   ]
  },
  {
   "cell_type": "markdown",
   "metadata": {
    "ExecuteTime": {
     "end_time": "2021-03-01T01:01:25.573413Z",
     "start_time": "2021-03-01T01:01:25.560474Z"
    }
   },
   "source": [
    "## Una manera mas inteligente de colocar los centroides con k-means++\n",
    "\n",
    "La idea central de este algoritmo es muy simple: inicializar los centroides de tal manera que queden lejos unos de otros. Su algoritmo se puede tomar de la siguiente manera:\n",
    "\n",
    "1. Inicializa un conjunto vacio **M** para almacenar los centroides *k* que han sido seleccionados.\n",
    "2. Aleatoriamente elige el primer centroide **$\\mu^{(i)}$** de las muestras de entrada y las asigna a **M**.\n",
    "3. Para cada muestra **$x^{(i)}$** que no esta en **M**, encuentra la distancia minima cuadratica $d(\\textbf{x}^{(i)}, \\textbf{M})^2$ hasta cada uno de los centroides en **M**.\n",
    "4. Para seleccionar aleatoriamente el siguiente centroide **$\\mu^{(p)}$**, utiliza una distribucion de probabilidad ponderada igual a $\\frac{d(\\textbf{x}^{(p)}, \\textbf{M})^2}{\\sum_i d(\\textbf{x}^{(i)}, \\textbf{M})^2}$.\n",
    "5. Repite los pasos 2 y 3 hasta elegir los *k* centroides.\n",
    "6. Sigue adelante con el algoritmo k-means clasico. "
   ]
  },
  {
   "cell_type": "code",
   "execution_count": null,
   "metadata": {
    "ExecuteTime": {
     "end_time": "2021-03-01T21:18:33.030887Z",
     "start_time": "2021-03-01T21:18:32.982824Z"
    }
   },
   "outputs": [],
   "source": [
    "from sklearn.cluster import KMeans\n",
    "\n",
    "km = KMeans(n_clusters=3, init='k-means++', n_init=10, max_iter=300, tol=1e-04, random_state=0)\n",
    "# n_init realizara el algoritmo 10 veces con diferentes centroides. Se eligira el que tenga SSE mas bajo\n",
    "y_km = km.fit_predict(X)"
   ]
  },
  {
   "cell_type": "code",
   "execution_count": null,
   "metadata": {
    "ExecuteTime": {
     "end_time": "2021-03-01T21:18:35.296266Z",
     "start_time": "2021-03-01T21:18:34.927139Z"
    }
   },
   "outputs": [],
   "source": [
    "fig, ax =plt.subplots(figsize = (8, 6))\n",
    "ax.scatter(X[y_km == 0, 0], X[y_km == 0, 1], s=50, c='lightgreen', marker='s', edgecolor='black', label='cluster 1')\n",
    "ax.scatter(X[y_km == 1, 0], X[y_km == 1, 1], s=50, c='orange', marker='o', edgecolor='black', label='cluster 2')\n",
    "ax.scatter(X[y_km == 2, 0], X[y_km == 2, 1], s=50, c='lightblue', marker='v', edgecolor='black', label='cluster 3')\n",
    "ax.scatter(km.cluster_centers_[:, 0], km.cluster_centers_[:, 1], s=250, marker='*', c='red', edgecolor='black', \n",
    "            label='centroids')\n",
    "ax.legend(scatterpoints=1)\n",
    "ax.grid()"
   ]
  },
  {
   "attachments": {
    "image.png": {
     "image/png": "[encoded data removed]"
    }
   },
   "cell_type": "markdown",
   "metadata": {
    "ExecuteTime": {
     "end_time": "2021-03-01T01:28:11.980478Z",
     "start_time": "2021-03-01T01:28:11.972499Z"
    }
   },
   "source": [
    "## Agrupamiento pesado frente a no pesado\n",
    "\n",
    "El agrupamiento pesado (***Hard Clustering***) se refiere a una familia de algoritmos en la cual cada muestra se asigna exactamente a un grupo, como lo hicimos con k-means antes. Por el contrario, los algortimos de agrupamiento no pesado (***Soft Clustering***), asignan una muestra a uno o mas grupos. Un ejemplo popular de este tipo de algortimos es el conocido como **fuzzy C-means (FCM): $J_m$**.\n",
    "\n",
    "Su funcionamiento es muy similar al algoritmo k-means, pero en vez de asignar punto a categorias, sustituimos con probabilidades de que cada punto pertenezca a cierta categoria. Por ejemplo, en k-means podriamos expresar el miembro del grupo de una muestra *x* con un vector disperso de valores binarios:\n",
    "\n",
    "![image.png](attachment:image.png)"
   ]
  },
  {
   "attachments": {
    "image.png": {
     "image/png": "[encoded data removed]"
    }
   },
   "cell_type": "markdown",
   "metadata": {},
   "source": [
    "La posicion del indice con el valor 1 indica el centroide del grupo **$\\mu^{(i)}$** al que se asigna la muestra (suponiendo que $k=3$, $j \\in \\{1,2,3\\}$. Por el contrario, un vector perteneciente al FCM podria ser representado con valores porbabilisticos en vez de valores absolutos:\n",
    "\n",
    "![image.png](attachment:image.png)"
   ]
  },
  {
   "attachments": {
    "image.png": {
     "image/png": "[encoded data removed]"
    }
   },
   "cell_type": "markdown",
   "metadata": {},
   "source": [
    "En este caso, cada valor cae en el rango $[0,1]$  y representa la probabilidad de pertenencia al grupo del respectivo centroide. La suma, por supuesto, es igual a 1 pues no existen mas grupos.\n",
    "\n",
    "El algoritmo se puede resumir en los siguientes pasos:\n",
    "1. Especificar el numero de centroides y, aleatoriamente, asignar los miembros del grupo para cada punto.\n",
    "2. Calcular los centroides del grupo $\\mu^{(j)}$, $j\\in \\{1, \\dots ,k\\}$\n",
    "3. Actualizar los miembros del grupo para cada punto. \n",
    "4. Repetir los pasos 2 y 3 hasta que los coeficientes de los iembros no cambien o hasta alcanzar la tolerancia definida por el ususario o el numero maximo de iteraciones.\n",
    "\n",
    "La funcion objetivo del FCM es la siguiente:\n",
    "\n",
    "![image.png](attachment:image.png)"
   ]
  },
  {
   "attachments": {
    "image.png": {
     "image/png": "[encoded data removed]"
    }
   },
   "cell_type": "markdown",
   "metadata": {},
   "source": [
    "sin embargo, cabe recordar que $w^{(i,j)}$ no pertenece a la clase binaria $(0,1)$, sino que representa valores probabilisticos pertenenecientes al intervalo $[0,1]$. Em valor de $m$ se conoce como coeficiente de difusion, y entre mas grande sea, menor probabilidad habra de pertenecer al grupo $w^{(i,j)}$.\n",
    "\n",
    "La probabilidad de pertenencia al grupo se calcula del siguiente modo:\n",
    "\n",
    "![image.png](attachment:image.png)"
   ]
  },
  {
   "attachments": {
    "image.png": {
     "image/png": "[encoded data removed]"
    }
   },
   "cell_type": "markdown",
   "metadata": {},
   "source": [
    "El centro $\\mu^{(j)}$ se calcula como sigue:\n",
    "\n",
    "![image.png](attachment:image.png)\n",
    "\n",
    "Despues de todo lo dicho, cabe mencionar que sklearn no implementa el algoritmo FCM; afortunadamente los resultados de FCM son muy similares a los del algoritmo k-means con k-means++."
   ]
  },
  {
   "cell_type": "markdown",
   "metadata": {},
   "source": [
    "<div class=\"burk\">\n",
    "EJERCICIO</div><i class=\"fa fa-lightbulb-o \"></i>\n",
    "\n",
    "Utilice al dataset del anterior ejercicio para realizar un agrupamiento de caracteristicas, pero esta vez utilice las tres ultimas columnas; para poder visualizar, realice previamente una extraccion de caracteristicas usando PCA para 2 componentes. Dado que es bastante util el escalamiento, aproveche para reducir sus lineas creando un pipeline con las tres operaciones: escalamiento, PCA, modelo k-means.\n",
    "\n",
    "Grafique sus resultados."
   ]
  },
  {
   "cell_type": "markdown",
   "metadata": {},
   "source": [
    "## Encontrar el numero optimo de grupos: metodo Elbow\n",
    "\n",
    "Una de las dificultades del aprendizaje no supervisado, es el evaluar el rendimiento del algoritmo ya que no poseemos etiquetas de referencia para comparar, y no sabemos que tan bien lo esta haciendo el modelo. Una de las posibilidades que tenemos para abarcar este problema es la medida *SSE* que hemos venido utilizando, el cual puede ser obtenido desde el mismo algoritmo con el parametro `inertia_`:"
   ]
  },
  {
   "cell_type": "code",
   "execution_count": null,
   "metadata": {
    "ExecuteTime": {
     "end_time": "2021-03-01T21:40:49.410750Z",
     "start_time": "2021-03-01T21:40:49.407748Z"
    }
   },
   "outputs": [],
   "source": [
    "print(f'Distorsion: {km.inertia_}')"
   ]
  },
  {
   "cell_type": "markdown",
   "metadata": {},
   "source": [
    "Basando en el valor *SSE*, podemos evaluar el numero optimo de grupos, considerando el siguiente hecho: Mientras mas grupos haya, menor sera el SSE. Si calculamos el *SSE* para diferentes valores de *k*, podemos graficar *SSE* vs *k* y asi saber cual es la mejor opcion."
   ]
  },
  {
   "cell_type": "code",
   "execution_count": null,
   "metadata": {
    "ExecuteTime": {
     "end_time": "2021-03-01T21:45:20.352788Z",
     "start_time": "2021-03-01T21:45:19.798273Z"
    }
   },
   "outputs": [],
   "source": [
    "distortions = []\n",
    "for i in range(1, 11):\n",
    "    km = KMeans(n_clusters=i, init='k-means++', n_init=10, max_iter=300)\n",
    "    km.fit(X)\n",
    "    distortions.append(km.inertia_)\n",
    "\n",
    "fig, ax = plt.subplots()    \n",
    "ax.plot(range(1,11), distortions, marker='o')\n",
    "ax.set_xlabel('Numero de clusters')\n",
    "ax.set_ylabel('Distorsion')\n",
    "ax.set_xticks(range(1, 11));"
   ]
  },
  {
   "cell_type": "markdown",
   "metadata": {},
   "source": [
    "El truco esta en tomar el valor de *k* para el cual la distorsion empieza a cambiar rapidamente; de nuestro resultado, se puede observar que *k=3* es una buena eleccion de grupos."
   ]
  },
  {
   "attachments": {
    "image.png": {
     "image/png": "[encoded data removed]"
    }
   },
   "cell_type": "markdown",
   "metadata": {},
   "source": [
    "## Cuantificar la calidad de la agrupacion mediante los graficos de silueta\n",
    "\n",
    "Esta tecnica funciona con diversos algoritmos de agrupamiento; para calcular el ***coeficiente de silueta*** de una muestra unica, podemos seguir los siguientes pasos:\n",
    "1. Calcular la **cohesion del grupo** $a^{(i)}$ como la distancia media entre una muestra **$x^{(i)}$ y el resto de puntos en el mismo grupo.\n",
    "2. Calcular la **separacion de grupo** $b^{(i)}$ a partir del grupo mas cercano como la distancia media entre la muestra **$x^{(i)}$** y todas las muestras en el grupo mas cercano.\n",
    "3. Calcular la silueta $s^{(i)}$ con la diferencia entre la cohesion y la separacion del grupo dividida por el mas grande de los dos:\n",
    "![image.png](attachment:image.png)\n",
    "\n",
    "El valor del coeficiente de silueta esta entre -1 y 1. "
   ]
  },
  {
   "cell_type": "code",
   "execution_count": null,
   "metadata": {
    "ExecuteTime": {
     "end_time": "2021-03-01T22:17:12.205649Z",
     "start_time": "2021-03-01T22:17:12.182684Z"
    }
   },
   "outputs": [],
   "source": [
    "import numpy as np\n",
    "from matplotlib import cm\n",
    "from sklearn.metrics import silhouette_samples\n",
    "\n",
    "km = KMeans(n_clusters=3, init='k-means++', n_init=10, max_iter=300, tol=1e-04)\n",
    "y_km = km.fit_predict(X)\n",
    "\n",
    "cluster_labels = np.unique(y_km)\n",
    "# Etiquetas dadas a los clusters por k-means\n",
    "\n",
    "n_clusters = cluster_labels.shape[0]\n",
    "# Cantidad de clusters\n",
    "\n",
    "silhouette_vals = silhouette_samples(X, y_km, metric='euclidean')\n",
    "# se obtendra un valor por cad muestra, es decir, la misma cantidad de elementos que filas en X\n",
    "\n",
    "#silhouette_vals"
   ]
  },
  {
   "cell_type": "code",
   "execution_count": null,
   "metadata": {
    "ExecuteTime": {
     "end_time": "2021-03-01T22:19:20.751158Z",
     "start_time": "2021-03-01T22:19:20.458940Z"
    }
   },
   "outputs": [],
   "source": [
    "y_ax_lower, y_ax_upper = 0, 0\n",
    "yticks = []\n",
    "\n",
    "for i, c in enumerate(cluster_labels):\n",
    "    c_silhouette_vals = silhouette_vals[y_km == c]\n",
    "    c_silhouette_vals.sort()\n",
    "    \n",
    "    y_ax_upper += len(c_silhouette_vals)\n",
    "    color = ['turquoise', 'slateblue', 'coral']\n",
    "    \n",
    "    plt.barh(range(y_ax_lower, y_ax_upper), c_silhouette_vals, height=1.0, edgecolor='none', color=color[i])\n",
    "\n",
    "    yticks.append((y_ax_lower + y_ax_upper) / 2.)\n",
    "    y_ax_lower += len(c_silhouette_vals)\n",
    "    \n",
    "silhouette_avg = np.mean(silhouette_vals)\n",
    "plt.axvline(silhouette_avg, color=\"red\", linestyle=\"--\") \n",
    "\n",
    "plt.yticks(yticks, cluster_labels + 1)\n",
    "plt.ylabel('Cluster')\n",
    "plt.xlabel('Silhouette coefficient')\n",
    "\n",
    "plt.tight_layout()\n",
    "plt.show()"
   ]
  },
  {
   "cell_type": "markdown",
   "metadata": {
    "ExecuteTime": {
     "end_time": "2021-03-01T21:58:36.769973Z",
     "start_time": "2021-03-01T21:58:36.764982Z"
    }
   },
   "source": [
    "Para que se entienda el resultado, debemos tener encuenta que el valor maximo es de 1; entre mas cercano estemos de 1, para un color en particular, podemos decir que la muestra correspondiente esta bien emparejada cono los elementos de su grupo, y mal emparejada con los miembros de otros grupos. Si la mayoría de los objetos tienen un valor alto, entonces la configuración del grupo es apropiada. Si muchos puntos tienen un valor bajo o negativo, entonces la configuración de grupo puede tener demasiados o muy pocos grupos. "
   ]
  },
  {
   "cell_type": "code",
   "execution_count": null,
   "metadata": {
    "ExecuteTime": {
     "end_time": "2021-03-01T22:19:49.774642Z",
     "start_time": "2021-03-01T22:19:49.624013Z"
    }
   },
   "outputs": [],
   "source": [
    "# Un grupo mal clasificado\n",
    "km = KMeans(n_clusters=2, init='k-means++', n_init=10, max_iter=300, tol=1e-04)\n",
    "y_km = km.fit_predict(X)\n",
    "\n",
    "plt.scatter(X[y_km == 0, 0], X[y_km == 0, 1], s=50, c='lightgreen', edgecolor='black', marker='s', label='cluster 1')\n",
    "plt.scatter(X[y_km == 1, 0], X[y_km == 1, 1], s=50, c='orange', edgecolor='black', marker='o', label='cluster 2')\n",
    "\n",
    "plt.scatter(km.cluster_centers_[:, 0], km.cluster_centers_[:, 1], s=250, marker='*', c='red', label='centroids')\n",
    "plt.legend()\n",
    "plt.grid()\n",
    "plt.tight_layout()\n",
    "plt.show()"
   ]
  },
  {
   "cell_type": "code",
   "execution_count": null,
   "metadata": {
    "ExecuteTime": {
     "end_time": "2021-03-01T22:19:58.363647Z",
     "start_time": "2021-03-01T22:19:58.089413Z"
    }
   },
   "outputs": [],
   "source": [
    "cluster_labels = np.unique(y_km)\n",
    "n_clusters = cluster_labels.shape[0]\n",
    "silhouette_vals = silhouette_samples(X, y_km, metric='euclidean')\n",
    "y_ax_lower, y_ax_upper = 0, 0\n",
    "yticks = []\n",
    "for i, c in enumerate(cluster_labels):\n",
    "    c_silhouette_vals = silhouette_vals[y_km == c]\n",
    "    c_silhouette_vals.sort()\n",
    "    y_ax_upper += len(c_silhouette_vals)\n",
    "    \n",
    "    plt.barh(range(y_ax_lower, y_ax_upper), c_silhouette_vals, height=1.0, edgecolor='none', color=color[i])\n",
    "    color = ['turquoise', 'slateblue']\n",
    "    yticks.append((y_ax_lower + y_ax_upper) / 2.)\n",
    "    y_ax_lower += len(c_silhouette_vals)\n",
    "    \n",
    "silhouette_avg = np.mean(silhouette_vals)\n",
    "plt.axvline(silhouette_avg, color=\"red\", linestyle=\"--\") \n",
    "\n",
    "plt.yticks(yticks, cluster_labels + 1)\n",
    "plt.ylabel('Cluster')\n",
    "plt.xlabel('Silhouette coefficient')\n",
    "\n",
    "plt.tight_layout()\n",
    "plt.show()"
   ]
  },
  {
   "cell_type": "markdown",
   "metadata": {},
   "source": [
    "<div class=\"burk\">\n",
    "EJERCICIO\n",
    "</div><i class=\"fa fa-lightbulb-o \"></i>\n",
    "\n",
    " Con el conjunto de datos del ejercicio anterior, construya un diagrama *Elbow* para estimar cual es el valor *k* mas adecuado. Cree un modelo con ese valor de  *k* y grafique un diagrama de siluetas para verificar la bondad de su agrupamiento. "
   ]
  }
 ],
 "metadata": {
  "kernelspec": {
   "display_name": "Python 3",
   "language": "python",
   "name": "python3"
  },
  "language_info": {
   "codemirror_mode": {
    "name": "ipython",
    "version": 3
   },
   "file_extension": ".py",
   "mimetype": "text/x-python",
   "name": "python",
   "nbconvert_exporter": "python",
   "pygments_lexer": "ipython3",
   "version": "3.8.3"
  },
  "toc": {
   "base_numbering": 1,
   "nav_menu": {},
   "number_sections": true,
   "sideBar": true,
   "skip_h1_title": false,
   "title_cell": "Table of Contents",
   "title_sidebar": "Contents",
   "toc_cell": false,
   "toc_position": {},
   "toc_section_display": true,
   "toc_window_display": false
  },
  "varInspector": {
   "cols": {
    "lenName": 16,
    "lenType": 16,
    "lenVar": 40
   },
   "kernels_config": {
    "python": {
     "delete_cmd_postfix": "",
     "delete_cmd_prefix": "del ",
     "library": "var_list.py",
     "varRefreshCmd": "print(var_dic_list())"
    },
    "r": {
     "delete_cmd_postfix": ") ",
     "delete_cmd_prefix": "rm(",
     "library": "var_list.r",
     "varRefreshCmd": "cat(var_dic_list()) "
    }
   },
   "types_to_exclude": [
    "module",
    "function",
    "builtin_function_or_method",
    "instance",
    "_Feature"
   ],
   "window_display": false
  }
 },
 "nbformat": 4,
 "nbformat_minor": 4
}
