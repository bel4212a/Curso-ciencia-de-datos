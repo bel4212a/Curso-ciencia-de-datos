{
 "cells": [
  {
   "cell_type": "markdown",
   "metadata": {},
   "source": [
    "## Parte 1\n",
    "\n",
    "En esta seccion trabaremos con el dataset `mushrooms.csv`. Los datos se usaran para predecir si un hongo es o no es venenoso. Se tienen los siguientes atributos:\n",
    "\n",
    "1. cap-shape: bell=b, conical=c, convex=x, flat=f, knobbed=k, sunken=s \n",
    "2. cap-surface: fibrous=f, grooves=g, scaly=y, smooth=s \n",
    "3. cap-color: brown=n, buff=b, cinnamon=c, gray=g, green=r, pink=p, purple=u, red=e, white=w, yellow=y \n",
    "4. bruises?: bruises=t, no=f \n",
    "5. odor: almond=a, anise=l, creosote=c, fishy=y, foul=f, musty=m, none=n, pungent=p, spicy=s \n",
    "6. gill-attachment: attached=a, descending=d, free=f, notched=n \n",
    "7. gill-spacing: close=c, crowded=w, distant=d \n",
    "8. gill-size: broad=b, narrow=n \n",
    "9. gill-color: black=k, brown=n, buff=b, chocolate=h, gray=g, green=r, orange=o, pink=p, purple=u, red=e, white=w, yellow=y \n",
    "10. stalk-shape: enlarging=e, tapering=t \n",
    "11. stalk-root: bulbous=b, club=c, cup=u, equal=e, rhizomorphs=z, rooted=r, missing=? \n",
    "12. stalk-surface-above-ring: fibrous=f, scaly=y, silky=k, smooth=s \n",
    "13. stalk-surface-below-ring: fibrous=f, scaly=y, silky=k, smooth=s \n",
    "14. stalk-color-above-ring: brown=n, buff=b, cinnamon=c, gray=g, orange=o, pink=p, red=e, white=w, yellow=y \n",
    "15. stalk-color-below-ring: brown=n, buff=b, cinnamon=c, gray=g, orange=o, pink=p, red=e, white=w, yellow=y \n",
    "16. veil-type: partial=p, universal=u \n",
    "17. veil-color: brown=n, orange=o, white=w, yellow=y \n",
    "18. ring-number: none=n, one=o, two=t \n",
    "19. ring-type: cobwebby=c, evanescent=e, flaring=f, large=l, none=n, pendant=p, sheathing=s, zone=z \n",
    "20. spore-print-color: black=k, brown=n, buff=b, chocolate=h, green=r, orange=o, purple=u, white=w, yellow=y \n",
    "21. population: abundant=a, clustered=c, numerous=n, scattered=s, several=v, solitary=y \n",
    "22. habitat: grasses=g, leaves=l, meadows=m, paths=p, urban=u, waste=w, woods=d\n"
   ]
  },
  {
   "cell_type": "markdown",
   "metadata": {},
   "source": [
    "### Pregunta 1\n",
    "\n",
    "Importe los datos, codifique la matriz, separe las matrices X y y, y codifique la matriz. Cree las matrices de entrenamiento y test. Imprima la matriz."
   ]
  },
  {
   "cell_type": "markdown",
   "metadata": {},
   "source": [
    "### Pregunta 2\n",
    "\n",
    "Use X_train y y_train para entrenar in DecisionTreeClassifier con parametros por defecto y random_state=0. Cuales son las 5 caracteristicas mas importantes encontradas por el arbol de decision?\n"
   ]
  },
  {
   "cell_type": "markdown",
   "metadata": {},
   "source": [
    "### Pregunta 3\n",
    "\n",
    "Cree un objeto SVC con parametros por defecto (p.ej. `kernel='rbf', C=1`). Usando X_train y y_train explore los efectos de gamma en la precision usando una curva de validacion para encontrar los scores de los conjuentos de entrenamiento y test para 6 valores de gamma desde  0.0001 hasta 10. Use 10 iteraciones para validacion cruzada.\n",
    "\n",
    "Calcule los rendimientos promedio para cada nivel de gamma para ambos arreglos.\n",
    "Imprima los rendimientos promedio. Deberian ser dos listas, cada una de seis valores."
   ]
  },
  {
   "cell_type": "markdown",
   "metadata": {},
   "source": [
    "### Pregunta 4\n",
    "\n",
    "Basado en los valores de la pregunta 3, cuales valores de gamma corresponden a un modelo con underfitting? Cuales a overfitting? Cuale es la mejor eleccion de gamma?"
   ]
  },
  {
   "cell_type": "markdown",
   "metadata": {},
   "source": [
    "### Pregunta 5\n",
    "\n",
    "Vamos a replantearnos el modelo. Ya que hemos logrado encontrar el mejor valor de gamma, lo vamos a mantener fijo y vamos a explorar el valor de C. Fijando gamma en su mejor valor, cree una curva de validacion similar a la anterior, pero esta vez variando valores desde 0.1 hasta 10 en pasos de 0.01 unidades, y desde 10 hasta 100 en pasos de 10 unidades. Use diez muestras de validacion cruzada.\n",
    "\n",
    "Calcule los rendimientos promedio para cada nivel de gamma para ambos arreglos. Imprima los rendimientos promedio. Deberian ser dos listas, cada una de seis valores."
   ]
  },
  {
   "cell_type": "markdown",
   "metadata": {},
   "source": [
    "### Pregunta 6\n",
    "\n",
    "Basado en los valores de la pregunta 5, cuales valores de C corresponden a un modelo con underfitting? Cuales a overfitting? Cuale es la mejor eleccion de C?"
   ]
  },
  {
   "cell_type": "markdown",
   "metadata": {},
   "source": [
    "### Pregunta 7\n",
    "\n",
    "Vuelva a entrenar el modelo sobre los conjuntos de entrenamiento, usando los valores de C y gamma encontrados. Mida el rendimiento en los conjuntos de entrenamiento y prueba. Saque sus conclusiones."
   ]
  },
  {
   "cell_type": "markdown",
   "metadata": {},
   "source": [
    "## Parte 2\n",
    "\n",
    "Para esta parte usaremos el archivo `fraud_data.csv` el cual corresponde a operaciones bancarias con tarjeta de credito. Las caracteristicas incluyen desde V1 hasta V28 asi como amount, la cual es la cantidad en la transaccion. El target estara almacenado en la columna class, en donde le valor 0 es no fraude y 1 es fraude."
   ]
  },
  {
   "cell_type": "markdown",
   "metadata": {},
   "source": [
    "### Pregunta 1\n",
    "\n",
    "Importe el conjunto de datos. Que porcentaje de las observaciones pertenece a la categoria de fraude?"
   ]
  },
  {
   "cell_type": "markdown",
   "metadata": {},
   "source": [
    "### Pregunta 2\n",
    "\n",
    "Separe el conjunto en entrenamiento y test. Cree un dummy classifier; para ello puede usar el siguiente codigo:\n",
    "\n",
    "    from sklearn.dummy import DummyClassifier\n",
    "    clf = DummyClassifier(strategy = 'most_frequent').fit(X_train, y_train)\n",
    "\n",
    "Este clasificador lo que hace es entrenar el algoritmo por azar, es decir sin aprendizaje. Podemos usar su rendimiento como base para nuestros algoritmos.\n",
    "\n",
    "Mida la sensibilidad(recall) y la precision (accuracy). Imprimalos."
   ]
  },
  {
   "cell_type": "markdown",
   "metadata": {},
   "source": [
    "### Pregunta 3\n",
    "\n",
    "Cree un pipeline para entrenar un modelo con SCV, con valores por defecto. No olvide incluir el escalador. Calcule la exactitud, la precision (accuracy) y la sensibilidad (recall)."
   ]
  },
  {
   "cell_type": "markdown",
   "metadata": {},
   "source": [
    "### Pregunta 4\n",
    "\n",
    "Use GridSearch para encontrar los mejores valores de los hiperparametros C y gamma. Ajuste el nuevo modelo con hiperparametros optimizados a las matrices de entrenamiento. Calcule e imprima la exactitud, la precision (accuracy) y la sensibilidad (recall).\n",
    "\n",
    "Responda a la pregunta: Fueron los hiperparametros correctos, o deben modificarse? porque?"
   ]
  },
  {
   "cell_type": "markdown",
   "metadata": {},
   "source": [
    "### Pregunta 5\n",
    "\n",
    "Cree la matriz de confusion del modelo anterior e imprimala. "
   ]
  },
  {
   "cell_type": "markdown",
   "metadata": {},
   "source": [
    "### Pregunta 6\n",
    "\n",
    "Vuelva a responder todas las preguntas anteriores, pero aplicando una extraccion de caracteristicas PCA con solo dos componentes. Mejora en algo el rendimiento? Compare los valores de exactitud,  precision (accuracy) y sensibilidad (recall) con el modelo anterior. Compare las matrices de confusion."
   ]
  },
  {
   "cell_type": "markdown",
   "metadata": {},
   "source": [
    "### Pregunta 7\n",
    "\n",
    "Con el objetivo de evaluar cual modelo es mejor, probaremos un nuevo estimador.\n",
    "\n",
    "Entrene una regresion logistica con valores por defecto usando X_train y y_train.\n",
    "\n",
    "Cree una curva ROC usando y_test y los estimados probailisticos de clase para X_test. Tome la probabilidad de que la muestra pertenezca a la clase fraude.\n",
    "\n",
    "En la curva ROC, cual es la sensibilidad para un valor de 1-especificidad de 0.16?\n",
    "\n",
    "Calcule el AUC."
   ]
  },
  {
   "cell_type": "markdown",
   "metadata": {},
   "source": [
    "### Pregunta 8\n",
    "\n",
    "Aplice GridSearch sobre los parametros listado abajo, usando sensibilidad como scoring y una validacion cruzada de 10 iteraciones:\n",
    "\n",
    "    'penalty': ['l1', 'l2']\n",
    "\n",
    "    'C':[0.01, 0.1, 1, 10, 100]\n",
    "\n",
    "Use el siguiente codigo para obtener los resultados de los parametros asi como sus scores:\n",
    "    \n",
    "    grid.cv_results_['mean_test_score']\n",
    "    \n",
    "Este metodo devolvera un diccionario con los valores promedios obtenidos en el conjunto de validadcion para cada combinacion posible de los parametros. Cree un dataframe con ellos, por ejemplo: \n",
    "\n",
    "|      \t| `l1` \t| `l2` \t|\n",
    "|:----:\t|----\t|----\t|\n",
    "| **`0.01`** \t|    ?\t|   ? \t|\n",
    "| **`0.1`**  \t|    ?\t|   ? \t|\n",
    "| **`1`**    \t|    ?\t|   ? \t|\n",
    "| **`10`**   \t|    ?\t|   ? \t|\n",
    "| **`100`**   \t|    ?\t|   ? \t|"
   ]
  }
 ],
 "metadata": {
  "coursera": {
   "course_slug": "python-machine-learning",
   "graded_item_id": "eWYHL",
   "launcher_item_id": "BAqef",
   "part_id": "fXXRp"
  },
  "kernelspec": {
   "display_name": "Python 3",
   "language": "python",
   "name": "python3"
  },
  "language_info": {
   "codemirror_mode": {
    "name": "ipython",
    "version": 3
   },
   "file_extension": ".py",
   "mimetype": "text/x-python",
   "name": "python",
   "nbconvert_exporter": "python",
   "pygments_lexer": "ipython3",
   "version": "3.8.3"
  },
  "toc": {
   "base_numbering": 1,
   "nav_menu": {},
   "number_sections": true,
   "sideBar": true,
   "skip_h1_title": false,
   "title_cell": "Table of Contents",
   "title_sidebar": "Contents",
   "toc_cell": false,
   "toc_position": {},
   "toc_section_display": true,
   "toc_window_display": false
  },
  "varInspector": {
   "cols": {
    "lenName": 16,
    "lenType": 16,
    "lenVar": 40
   },
   "kernels_config": {
    "python": {
     "delete_cmd_postfix": "",
     "delete_cmd_prefix": "del ",
     "library": "var_list.py",
     "varRefreshCmd": "print(var_dic_list())"
    },
    "r": {
     "delete_cmd_postfix": ") ",
     "delete_cmd_prefix": "rm(",
     "library": "var_list.r",
     "varRefreshCmd": "cat(var_dic_list()) "
    }
   },
   "types_to_exclude": [
    "module",
    "function",
    "builtin_function_or_method",
    "instance",
    "_Feature"
   ],
   "window_display": false
  }
 },
 "nbformat": 4,
 "nbformat_minor": 2
}
