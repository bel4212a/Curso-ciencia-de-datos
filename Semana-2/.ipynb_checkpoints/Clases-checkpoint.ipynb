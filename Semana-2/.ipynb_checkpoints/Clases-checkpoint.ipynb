{
 "cells": [
  {
   "cell_type": "markdown",
   "metadata": {},
   "source": [
    "# Programacion orientada a objetos"
   ]
  },
  {
   "cell_type": "markdown",
   "metadata": {},
   "source": [
    "Estructuras de programacion enfocadas en la representacion de objetos del mundo real en lenguaje de programacion. La idea central es que, si pensamos en un objeto real, este tiene un comportamiento particular y unas caracteristicas propias, y que si queremos representarlo, debemos agrupar esos comportamientos y caracteristicas en un mismo objeto. Dichos objetos reciben el nombre de <span class=\"mark\">clases</span>, y se declaran con la palabra reservada <span class=\"girk\">class</span> en python."
   ]
  },
  {
   "cell_type": "code",
   "execution_count": null,
   "metadata": {
    "ExecuteTime": {
     "end_time": "2020-11-03T23:09:39.646499Z",
     "start_time": "2020-11-03T23:09:39.636526Z"
    }
   },
   "outputs": [],
   "source": [
    "edad = 5"
   ]
  },
  {
   "cell_type": "markdown",
   "metadata": {},
   "source": [
    "## Creando y usando una clase"
   ]
  },
  {
   "cell_type": "markdown",
   "metadata": {},
   "source": [
    "Como ejemplo crearemos una clase llamada **Dog** que intentara representar a los perros. Para ello consideraremos que dentro de las caracteristicas principales de un perro tenemos el nombre y la edad, y como comportamientos tenemos el sentarse y el rodar. Es importante tener en cuenta que las caracteristicas y los comportamientos elegidos son comunes a todos los perros, y no algo que solo tengan algunos perros en particular:"
   ]
  },
  {
   "cell_type": "code",
   "execution_count": null,
   "metadata": {
    "ExecuteTime": {
     "end_time": "2020-11-03T23:19:50.448580Z",
     "start_time": "2020-11-03T23:19:50.440601Z"
    }
   },
   "outputs": [],
   "source": [
    "class Dog:\n",
    "    \"\"\"Modelando un perro\"\"\"\n",
    "    def __init__(self, nombre, edad):\n",
    "        self.nombre = nombre\n",
    "        self.edad = edad\n",
    "    \n",
    "    def sentar(self):\n",
    "        \"\"\"Simular que el perro acata la orden de sentarse\"\"\"\n",
    "        print(self.nombre.title() + \" ahora esta sentado.\")\n",
    "        \n",
    "    def rodar(self):\n",
    "        \"\"\"Simular que el perro acata la orden de rodar\"\"\"\n",
    "        print(self.nombre.title() + \" esta rodando!\")"
   ]
  },
  {
   "cell_type": "markdown",
   "metadata": {},
   "source": [
    "Notas sobre la estructura anterior: \n",
    " 0. Las funciones alojadas dentro de una clase se conocen con el nombre de _metodos_ , y funcionan igual que las funciones tradicionales. Las variables creadas dentro de las clases se conocen como atributos de la clase, y funcionan de forma similar a las variables tradicionales.\n",
    " 1. Las clases no tiene por que empezar por mayuscula, pero es recomendado hacerlo por legibilidad, asi evitamos confundirlas con las funciones.\n",
    " 2. El objeto **\\__init\\__(self, nomber, edad)** se conoce como el constructor de la clase; su trabajo es inicializar al objeto con las caracteristicas indicadas, es decir, nombre y edad. La palabra **self** es obligatoria siempre que se definan nuevos metodos y siempre debe ir de primeras en los argumentos. Este argumento es necesario para que, una vez creada una nueva instancia de la clase, se tenga acceso a los atributos del metodo y metodos de la clase, y no es necesario nombrarla cuando se crea una nueva instancia pues se pasa automaticamente.\n",
    " 3. Cada variable dentro del metodo empieza con la palabra self, esto hace que dichas variables sean accesibles a todos los metodos dentro de la clase. La estructura _self.nombre = nombre_ , permite almacenar el valor de inicializacion dentro del atributo para su posterior llamado.\n",
    " 4. Se crearon dos metodos adicionales, sentar y rodar, los cuales no necesitan argumento, y se encargan de tomar la informacion de los atributos definidos en init para imprimir cierta informaciom.\n",
    " "
   ]
  },
  {
   "cell_type": "markdown",
   "metadata": {},
   "source": [
    "## Creando una instancia de la clase"
   ]
  },
  {
   "cell_type": "code",
   "execution_count": null,
   "metadata": {
    "ExecuteTime": {
     "end_time": "2020-11-03T23:21:22.528750Z",
     "start_time": "2020-11-03T23:21:22.520773Z"
    }
   },
   "outputs": [],
   "source": [
    "# Creacion erronea de una instancia\n",
    "mi_perro = Dog()"
   ]
  },
  {
   "cell_type": "code",
   "execution_count": null,
   "metadata": {
    "ExecuteTime": {
     "end_time": "2020-11-03T23:21:55.505415Z",
     "start_time": "2020-11-03T23:21:55.502420Z"
    }
   },
   "outputs": [],
   "source": [
    "# Creacion correcta de la instancia\n",
    "mi_perro = Dog('serafin', '5')"
   ]
  },
  {
   "cell_type": "code",
   "execution_count": null,
   "metadata": {
    "ExecuteTime": {
     "end_time": "2020-11-03T23:22:23.487285Z",
     "start_time": "2020-11-03T23:22:23.483291Z"
    }
   },
   "outputs": [],
   "source": [
    "# Comprobando el tipo de variable de mi instancia\n",
    "print(type(mi_perro))"
   ]
  },
  {
   "cell_type": "code",
   "execution_count": null,
   "metadata": {
    "ExecuteTime": {
     "end_time": "2020-11-03T23:23:55.334169Z",
     "start_time": "2020-11-03T23:23:55.330181Z"
    }
   },
   "outputs": [],
   "source": [
    "# Obteniendo informacion de los atributos de la clase\n",
    "print(\"El nombre de mi perro es \" + mi_perro.nombre.title() + \".\")\n",
    "print(\"La edad de mi perro es \" + mi_perro.edad + \" años.\")"
   ]
  },
  {
   "cell_type": "code",
   "execution_count": null,
   "metadata": {
    "ExecuteTime": {
     "end_time": "2020-11-03T23:25:06.398216Z",
     "start_time": "2020-11-03T23:25:06.394226Z"
    }
   },
   "outputs": [],
   "source": [
    "# Llamando a los metodos de la clase\n",
    "mi_perro.sentar()\n",
    "mi_perro.rodar()"
   ]
  },
  {
   "cell_type": "markdown",
   "metadata": {},
   "source": [
    "## Creando multiples instancias."
   ]
  },
  {
   "cell_type": "code",
   "execution_count": null,
   "metadata": {
    "ExecuteTime": {
     "end_time": "2020-11-03T23:25:51.745425Z",
     "start_time": "2020-11-03T23:25:51.741436Z"
    }
   },
   "outputs": [],
   "source": [
    "tu_perro = Dog(\"trosky\", 7)"
   ]
  },
  {
   "cell_type": "code",
   "execution_count": null,
   "metadata": {
    "ExecuteTime": {
     "end_time": "2020-11-03T23:26:10.775361Z",
     "start_time": "2020-11-03T23:26:10.770374Z"
    }
   },
   "outputs": [],
   "source": [
    "# Imprimiendo informacion de los perros\n",
    "print(\"Mi perro se llama \" + mi_perro.nombre.title() + \", y tu perro se llama \" + tu_perro.nombre.title() + \".\")"
   ]
  },
  {
   "cell_type": "code",
   "execution_count": null,
   "metadata": {
    "ExecuteTime": {
     "end_time": "2020-11-03T23:26:47.784427Z",
     "start_time": "2020-11-03T23:26:47.779469Z"
    }
   },
   "outputs": [],
   "source": [
    "print(\"Mi perro tiene \" + str(mi_perro.edad) + \" años, y tu perro tiene \" + str(tu_perro.edad) + \" años.\")"
   ]
  },
  {
   "cell_type": "code",
   "execution_count": null,
   "metadata": {
    "ExecuteTime": {
     "end_time": "2020-11-03T23:27:06.655800Z",
     "start_time": "2020-11-03T23:27:06.643827Z"
    }
   },
   "outputs": [],
   "source": [
    "mi_perro.sentar()\n",
    "tu_perro.rodar()"
   ]
  },
  {
   "cell_type": "markdown",
   "metadata": {},
   "source": [
    "## <span class=\"burk\">MINIDESAFIO</span>"
   ]
  },
  {
   "cell_type": "markdown",
   "metadata": {},
   "source": [
    "**1.** **Restaurante:** haz una clase llamada Restaurante. El método \\__init \\__() para Restaurante debe almacenar dos atributos: un nombre y un tipo de cocina. Cree un método llamado descripcion() que imprima estas dos piezas de información, y un método llamado estado() que imprima un mensaje indicando que el restaurante está abierto.\n",
    "Crea una instancia llamada restaurante de tu clase. Imprima los dos atributos individualmente y luego llame a ambos métodos.\n",
    "\n",
    "**2.** **Tres restaurantes:** comience con su clase desde el ejercicio 1. Cree tres instancias diferentes de la clase y llame a descripcion() para cada instancia.\n",
    "\n",
    "**3.** **Usuarios:** crea una clase llamada Usuario. Cree dos atributos llamados nombre y apellido, y luego cree varios otros atributos que normalmente se almacenan en un perfil de usuario. Cree un método llamado  descripcion() que imprima un resumen de la información del usuario. Cree otro método llamado  saludar() que imprima un saludo personalizado para el usuario. Cree varias instancias que representen a diferentes usuarios y llame a ambos métodos para cada usuario."
   ]
  },
  {
   "cell_type": "markdown",
   "metadata": {},
   "source": [
    "## Trabajando con clases e instancias"
   ]
  },
  {
   "cell_type": "markdown",
   "metadata": {},
   "source": [
    "Una de las actividades mas usuales cuando se trabaja con clases es la <span class=\"mark\">modificacionde atributos</span>:"
   ]
  },
  {
   "cell_type": "code",
   "execution_count": null,
   "metadata": {
    "ExecuteTime": {
     "end_time": "2020-11-04T00:13:33.665354Z",
     "start_time": "2020-11-04T00:13:33.650394Z"
    }
   },
   "outputs": [],
   "source": [
    "# Clase carro\n",
    "class Carro:\n",
    "    \"\"\"Representacion basica de un carro\"\"\"\n",
    "    def __init__(self, marca, modelo, anio):\n",
    "        \"\"\"Atributos del carro\"\"\"\n",
    "        self.marca = marca\n",
    "        self.modelo = modelo\n",
    "        self.anio = anio\n",
    "        self.kilometraje = 0   # Se define un atributo por defecto\n",
    "    \n",
    "    def descripcion(self):\n",
    "        \"\"\"Descripcion del carro segun sus atributos\"\"\"\n",
    "        nombre_largo = self.marca +  ' ' + self.modelo + ' ' + str(self.anio)\n",
    "        return nombre_largo.title()\n",
    "    \n",
    "    def leer_kilometraje(self):\n",
    "        \"\"\"Imprimir el kilometraje del carro\"\"\"\n",
    "        print(\"Esta carro tiene un kilometraje registrado de \" + str(self.kilometraje) + \" Km.\")\n",
    "        \n",
    "    def actualizar_km(self, valor):\n",
    "        \"\"\"modificacion del kilometraje\"\"\"\n",
    "        if valor >= self.kilometraje:\n",
    "            self.kilometraje = valor\n",
    "        else:\n",
    "            print(\"No es permitido reducir el kilometraje del auto.\")\n",
    "            \n",
    "    def llenar_tanque(self):\n",
    "        \"\"\"Permite llenar el tanque del vehiculo\"\"\"\n",
    "        print(\"Su tanque ahora esta lleno.\")"
   ]
  },
  {
   "cell_type": "code",
   "execution_count": null,
   "metadata": {
    "ExecuteTime": {
     "end_time": "2020-11-04T00:13:51.546281Z",
     "start_time": "2020-11-04T00:13:51.542290Z"
    }
   },
   "outputs": [],
   "source": [
    "mi_carro = Carro(\"audi\", \"A8\", 2019)"
   ]
  },
  {
   "cell_type": "code",
   "execution_count": null,
   "metadata": {
    "ExecuteTime": {
     "end_time": "2020-11-04T00:14:40.339166Z",
     "start_time": "2020-11-04T00:14:40.333181Z"
    }
   },
   "outputs": [],
   "source": [
    "# Imprimiendo los atributos\n",
    "print(\"La marca de mi carro es \" + mi_carro.marca + \".\")\n",
    "print(\"El modelo de mi carro es \" + mi_carro.modelo + \".\")\n",
    "print(\"El anio de mi carro es \" + str(mi_carro.anio) + \".\")\n",
    "print(mi_carro.kilometraje)"
   ]
  },
  {
   "cell_type": "code",
   "execution_count": null,
   "metadata": {
    "ExecuteTime": {
     "end_time": "2020-11-04T00:15:39.192535Z",
     "start_time": "2020-11-04T00:15:39.189545Z"
    }
   },
   "outputs": [],
   "source": [
    "# Obteniendo un retorno del metodo descripcion \n",
    "descripcion = mi_carro.descripcion()\n",
    "print(descripcion)"
   ]
  },
  {
   "cell_type": "code",
   "execution_count": null,
   "metadata": {
    "ExecuteTime": {
     "end_time": "2020-11-04T00:15:49.974973Z",
     "start_time": "2020-11-04T00:15:49.970951Z"
    }
   },
   "outputs": [],
   "source": [
    "mi_carro.leer_kilometraje()"
   ]
  },
  {
   "cell_type": "code",
   "execution_count": null,
   "metadata": {
    "ExecuteTime": {
     "end_time": "2020-11-04T00:16:51.464131Z",
     "start_time": "2020-11-04T00:16:51.460143Z"
    }
   },
   "outputs": [],
   "source": [
    "mi_carro.kilometraje = 30  # Modificacion del atributo kilometraje por acceso directo\n",
    "mi_carro.leer_kilometraje()"
   ]
  },
  {
   "cell_type": "code",
   "execution_count": null,
   "metadata": {
    "ExecuteTime": {
     "end_time": "2020-11-04T00:18:11.028109Z",
     "start_time": "2020-11-04T00:18:11.020161Z"
    }
   },
   "outputs": [],
   "source": [
    "mi_carro.actualizar_km(50) # Modificacion del atributo kilometraje por acceso a metodos de la clase\n",
    "mi_carro.leer_kilometraje()"
   ]
  },
  {
   "cell_type": "code",
   "execution_count": null,
   "metadata": {
    "ExecuteTime": {
     "end_time": "2020-11-04T00:18:40.615087Z",
     "start_time": "2020-11-04T00:18:40.610102Z"
    }
   },
   "outputs": [],
   "source": [
    "mi_carro.actualizar_km(20) # Modificacion del atributo kilometraje por acceso a metodos de la clase"
   ]
  },
  {
   "cell_type": "markdown",
   "metadata": {},
   "source": [
    "## <span class=\"burk\">MINIDESAFIO</span>"
   ]
  },
  {
   "cell_type": "markdown",
   "metadata": {},
   "source": [
    "**4.** **Número servido:** comience con su programa del ejercicio 1. Agregue un atributo llamado _clientes_servidos_ con un valor predeterminado de 0. Cree una instancia llamada restaurante de esta clase. Imprima el número de clientes que ha atendido el restaurante y luego cambie este valor e imprímalo nuevamente.\n",
    "Agregue un método llamado _establecer_clientes()_ que le permite establecer la cantidad de clientes que han sido atendidos. Llame a este método con un nuevo número e imprima el valor nuevamente."
   ]
  },
  {
   "cell_type": "markdown",
   "metadata": {},
   "source": [
    "## Herencia"
   ]
  },
  {
   "cell_type": "markdown",
   "metadata": {},
   "source": [
    "Este concepto se refiere a la posibilidad de crear clases que \"hereden\" <span class=\"mark\">todos los atributos y metodos</span> de otras clases, para asi no comenzar desde cero. La clase de la que se hereda se conoce como <span class=\"mark\">clase padre</span> y la que hereda se conoce como <span class=\"mark\">clase hija</span>."
   ]
  },
  {
   "cell_type": "markdown",
   "metadata": {},
   "source": [
    "Vamos a crear una clase llamada CarroElectrico que heredara todos los atributos y metodos de la clase Carro. Es importante aclarar que ambas clases deben estar en el mismo archivo, y la hija despues del padre."
   ]
  },
  {
   "cell_type": "code",
   "execution_count": null,
   "metadata": {
    "ExecuteTime": {
     "end_time": "2020-11-04T00:52:20.037884Z",
     "start_time": "2020-11-04T00:52:20.026915Z"
    }
   },
   "outputs": [],
   "source": [
    "class CarroElectrico(Carro):\n",
    "    \"\"\"Representacion de los vehiculos electricos\"\"\"\n",
    "    def __init__(self, marca, modelo, anio):\n",
    "        \"\"\"Inicializa atributos de la clase padre\"\"\"\n",
    "        \"\"\"Tambien inicializa el tamanio de la bateria\"\"\"\n",
    "        super().__init__(marca, modelo, anio) # Me permite referirme a los atributos y metodos del padre\n",
    "        self.bateria = 70\n",
    "        \n",
    "    def imprimir_bateria(self):\n",
    "        \"\"\"Describe el estado de la bateria\"\"\"\n",
    "        print(\"Este vehiculo cuenta con una bateria de \" + str(self.bateria) + \" Kwh.\")\n",
    "    \n",
    "    def llenar_tanque(self):\n",
    "        \"\"\"Sobrecarga del metodo llenar tanque para carros electricos\"\"\"\n",
    "        print(\"Los carros electricos no tienen tanque que llenar.\")"
   ]
  },
  {
   "cell_type": "code",
   "execution_count": null,
   "metadata": {
    "ExecuteTime": {
     "end_time": "2020-11-04T00:52:22.507873Z",
     "start_time": "2020-11-04T00:52:22.501889Z"
    }
   },
   "outputs": [],
   "source": [
    "mi_tesla = CarroElectrico(\"tesla\", \"modelo s\", 2016)\n",
    "print(mi_tesla.descripcion())"
   ]
  },
  {
   "cell_type": "code",
   "execution_count": null,
   "metadata": {
    "ExecuteTime": {
     "end_time": "2020-11-04T00:47:01.291096Z",
     "start_time": "2020-11-04T00:47:01.246191Z"
    }
   },
   "outputs": [],
   "source": [
    "# Instancia de la clase padre tratando de acceder a los metodos de la clase hija\n",
    "mi_carro.bateria"
   ]
  },
  {
   "cell_type": "code",
   "execution_count": null,
   "metadata": {
    "ExecuteTime": {
     "end_time": "2020-11-04T00:47:23.266802Z",
     "start_time": "2020-11-04T00:47:23.257825Z"
    },
    "run_control": {
     "marked": true
    }
   },
   "outputs": [],
   "source": [
    "mi_tesla.imprimir_bateria()"
   ]
  },
  {
   "cell_type": "markdown",
   "metadata": {},
   "source": [
    "## Sobrecarga de metodos"
   ]
  },
  {
   "cell_type": "markdown",
   "metadata": {},
   "source": [
    "La sobrecarga de metodos se da cuando un metodo de la clase padre no se ajusta a los requerimientos de la clase hija, por lo cual, es necesario redefinir su comportamiento. Esto se hace reutilizando el mismo nombre del metodo que se desea redefinir:"
   ]
  },
  {
   "cell_type": "code",
   "execution_count": null,
   "metadata": {
    "ExecuteTime": {
     "end_time": "2020-11-04T00:50:08.047866Z",
     "start_time": "2020-11-04T00:50:08.036951Z"
    }
   },
   "outputs": [],
   "source": [
    "mi_carro.llenar_tanque()"
   ]
  },
  {
   "cell_type": "code",
   "execution_count": null,
   "metadata": {
    "ExecuteTime": {
     "end_time": "2020-11-04T00:52:25.197992Z",
     "start_time": "2020-11-04T00:52:25.192008Z"
    }
   },
   "outputs": [],
   "source": [
    "mi_tesla.llenar_tanque() # no tiene sentido"
   ]
  },
  {
   "cell_type": "code",
   "execution_count": null,
   "metadata": {
    "ExecuteTime": {
     "end_time": "2020-11-04T00:52:35.734001Z",
     "start_time": "2020-11-04T00:52:35.729012Z"
    }
   },
   "outputs": [],
   "source": [
    "# Copiar este metodo dentro de la clase hija\n",
    "def llenar_tanque(self):\n",
    "    \"\"\"Sobrecarga del metodo llenar tanque para carros electricos\"\"\"\n",
    "    print(\"Los carros electricos no tiene tanque que llenar.\")"
   ]
  },
  {
   "cell_type": "markdown",
   "metadata": {},
   "source": [
    "## <span class=\"burk\"> MINIDESAFIO</span>"
   ]
  },
  {
   "cell_type": "markdown",
   "metadata": {},
   "source": [
    "**5.**. **Puesto de helados:** Un puesto de helados es un tipo específico de restaurante. Escriba una clase llamada IceCreamStand que herede de la clase Restaurante que escribió en el ejercicio 1 o el 4. Cualquiera de las versiones de la clase funcionará; solo elige el que más te guste. Agregue un atributo llamado sabores que almacena una lista de sabores de helado. Escribe un método que muestre estos sabores. Cree una instancia de IceCreamStand y llame a este método.\n",
    "\n",
    "**6.**. **Administrador:** un administrador es un tipo especial de usuario. Escriba una clase llamada Admin que herede de la clase de usuario que escribió en el ejercicio 3. Agregue un atributo, privilegios, que almacene una lista de cadenas como \"puede agregar publicación\", \"puede eliminar publicación\", \"puede prohibir el usuario\", etc.\n",
    "Escriba un método llamado _show_privileges()_ que enumere el conjunto de privilegios del administrador. Cree una instancia de Admin y llame a su método.\n",
    "\n",
    "**7.** **Actualización de la batería:** use la versión final de CarroElectrico de esta sección.\n",
    "Agregue un método a la clase Battery llamado _upgrade_battery()_. Este método debe verificar el tamaño de la batería y establecer la capacidad en 85 si aún no lo está. Haga un automóvil eléctrico con un tamaño de batería predeterminado, llame a _imprimir_bateria()_ una vez y luego llame a _imprimir_bateria()_ por segunda vez después de actualizar la batería. Debería ver un aumento en la autonomía del automóvil."
   ]
  },
  {
   "cell_type": "markdown",
   "metadata": {},
   "source": [
    "## Guardando clases en un modulo externo"
   ]
  },
  {
   "cell_type": "markdown",
   "metadata": {
    "ExecuteTime": {
     "end_time": "2020-11-03T20:36:34.756966Z",
     "start_time": "2020-11-03T20:36:34.588383Z"
    }
   },
   "source": [
    "Esta opcion me permite almacenar mis calses en archivos aparte del programa principal para acceder luego a ellos a traves de comandos import, como se realizo en la etapa de las funciones. Esto me permite por un lado aumentar la legibilidad del programa, y por otro lado, conocer de antemano el acceso a la libreria estandar de python y librerias externas."
   ]
  },
  {
   "cell_type": "code",
   "execution_count": null,
   "metadata": {
    "ExecuteTime": {
     "end_time": "2020-11-04T01:24:18.442252Z",
     "start_time": "2020-11-04T01:24:18.347506Z"
    }
   },
   "outputs": [],
   "source": [
    "# Primero trabajare con la clase carro\n",
    "from carro import Carro"
   ]
  },
  {
   "cell_type": "code",
   "execution_count": null,
   "metadata": {
    "ExecuteTime": {
     "end_time": "2020-11-04T01:24:23.131182Z",
     "start_time": "2020-11-04T01:24:23.124206Z"
    }
   },
   "outputs": [],
   "source": [
    "mi_carro = Carro(\"audi\", \"a8\", 2019)\n",
    "print(mi_carro.descripcion())"
   ]
  },
  {
   "cell_type": "code",
   "execution_count": null,
   "metadata": {
    "ExecuteTime": {
     "end_time": "2020-11-04T01:24:52.060628Z",
     "start_time": "2020-11-04T01:24:52.053646Z"
    }
   },
   "outputs": [],
   "source": [
    "from carro import CarroElectrico"
   ]
  },
  {
   "cell_type": "code",
   "execution_count": null,
   "metadata": {
    "ExecuteTime": {
     "end_time": "2020-11-04T01:24:54.130540Z",
     "start_time": "2020-11-04T01:24:54.125552Z"
    }
   },
   "outputs": [],
   "source": [
    "tesla = CarroElectrico(\"tesla\", \"s1\", 2019)"
   ]
  },
  {
   "cell_type": "code",
   "execution_count": null,
   "metadata": {
    "ExecuteTime": {
     "end_time": "2020-11-04T01:24:57.161028Z",
     "start_time": "2020-11-04T01:24:57.153079Z"
    }
   },
   "outputs": [],
   "source": [
    "print(tesla.descripcion())"
   ]
  },
  {
   "cell_type": "code",
   "execution_count": 1,
   "metadata": {
    "ExecuteTime": {
     "end_time": "2020-11-04T01:25:47.259502Z",
     "start_time": "2020-11-04T01:25:47.247583Z"
    }
   },
   "outputs": [],
   "source": [
    "import carro"
   ]
  },
  {
   "cell_type": "code",
   "execution_count": 2,
   "metadata": {
    "ExecuteTime": {
     "end_time": "2020-11-04T01:26:10.994495Z",
     "start_time": "2020-11-04T01:26:10.988555Z"
    }
   },
   "outputs": [],
   "source": [
    "mi_carro = carro.Carro(\"audi\", \"a8\", 2019)\n",
    "tesla = carro.CarroElectrico(\"tesla\", \"s1\", 2019)"
   ]
  },
  {
   "cell_type": "code",
   "execution_count": 3,
   "metadata": {
    "ExecuteTime": {
     "end_time": "2020-11-04T01:27:30.281497Z",
     "start_time": "2020-11-04T01:27:30.276513Z"
    }
   },
   "outputs": [],
   "source": []
  },
  {
   "cell_type": "markdown",
   "metadata": {},
   "source": [
    "## <span class=\"burk\">MINIDESAFIO</span>"
   ]
  },
  {
   "cell_type": "markdown",
   "metadata": {},
   "source": [
    "**8.** **Dados:** el módulo random contiene funciones que generan números aleatorios de diversas formas. La función randint() devuelve un número entero en el rango que proporcionas. El siguiente código devuelve un número entre 1 y 6:\n",
    "\n",
    "    from random import randint\n",
    "    x = randint (1, 6)\n",
    "Hacer un clase Dados con un atributo llamado lados, que tiene un valor predeterminado de 6. Escribe un método llamado lanzar() que imprima un número aleatorio entre 1 y el número de lados que tiene el dado. Haz un dado de 6 caras y tíralo 10 veces.\n",
    "Haz un dado de 10 lados y un dado de 20 lados. Tira cada dado 10 veces.\n",
    "\n",
    "**Nota** Un recurso excelente para explorar la biblioteca estándar de Python es  http://pymotw.com/ "
   ]
  },
  {
   "cell_type": "code",
   "execution_count": 4,
   "metadata": {
    "ExecuteTime": {
     "end_time": "2020-11-04T01:42:40.400374Z",
     "start_time": "2020-11-04T01:42:40.396385Z"
    }
   },
   "outputs": [],
   "source": [
    "from random import randint"
   ]
  },
  {
   "cell_type": "code",
   "execution_count": 5,
   "metadata": {
    "ExecuteTime": {
     "end_time": "2020-11-04T01:44:46.211507Z",
     "start_time": "2020-11-04T01:44:46.204513Z"
    }
   },
   "outputs": [],
   "source": [
    "class Dados:\n",
    "    def __init__(self, lados):\n",
    "        self.lados = lados\n",
    "        \n",
    "    def lanzar(self):\n",
    "        print(\"Numero aleatorio: \", randint(1, self.lados))"
   ]
  },
  {
   "cell_type": "code",
   "execution_count": 6,
   "metadata": {
    "ExecuteTime": {
     "end_time": "2020-11-04T01:44:57.066968Z",
     "start_time": "2020-11-04T01:44:57.059988Z"
    }
   },
   "outputs": [],
   "source": [
    "dado1 = Dados(6)"
   ]
  },
  {
   "cell_type": "code",
   "execution_count": 13,
   "metadata": {
    "ExecuteTime": {
     "end_time": "2020-11-04T01:46:57.310422Z",
     "start_time": "2020-11-04T01:46:57.301444Z"
    }
   },
   "outputs": [
    {
     "name": "stdout",
     "output_type": "stream",
     "text": [
      "Lanzamiento 1: Numero aleatorio:  2\n",
      "Lanzamiento 2: Numero aleatorio:  2\n",
      "Lanzamiento 3: Numero aleatorio:  6\n",
      "Lanzamiento 4: Numero aleatorio:  3\n",
      "Lanzamiento 5: Numero aleatorio:  6\n",
      "Lanzamiento 6: Numero aleatorio:  5\n",
      "Lanzamiento 7: Numero aleatorio:  4\n",
      "Lanzamiento 8: Numero aleatorio:  6\n",
      "Lanzamiento 9: Numero aleatorio:  6\n",
      "Lanzamiento 10: Numero aleatorio:  1\n"
     ]
    }
   ],
   "source": [
    "for i in range(10):\n",
    "    print(\"Lanzamiento \" + str(i+1), end = \": \")\n",
    "    dado1.lanzar()"
   ]
  },
  {
   "cell_type": "code",
   "execution_count": 14,
   "metadata": {
    "ExecuteTime": {
     "end_time": "2020-11-04T01:47:23.849352Z",
     "start_time": "2020-11-04T01:47:23.844367Z"
    }
   },
   "outputs": [],
   "source": [
    "dado2 = Dados(10)"
   ]
  },
  {
   "cell_type": "code",
   "execution_count": 15,
   "metadata": {
    "ExecuteTime": {
     "end_time": "2020-11-04T01:47:31.998407Z",
     "start_time": "2020-11-04T01:47:31.986416Z"
    }
   },
   "outputs": [
    {
     "name": "stdout",
     "output_type": "stream",
     "text": [
      "Lanzamiento 1: Numero aleatorio:  1\n",
      "Lanzamiento 2: Numero aleatorio:  7\n",
      "Lanzamiento 3: Numero aleatorio:  10\n",
      "Lanzamiento 4: Numero aleatorio:  1\n",
      "Lanzamiento 5: Numero aleatorio:  5\n",
      "Lanzamiento 6: Numero aleatorio:  6\n",
      "Lanzamiento 7: Numero aleatorio:  10\n",
      "Lanzamiento 8: Numero aleatorio:  5\n",
      "Lanzamiento 9: Numero aleatorio:  6\n",
      "Lanzamiento 10: Numero aleatorio:  10\n"
     ]
    }
   ],
   "source": [
    "for i in range(10):\n",
    "    print(\"Lanzamiento \" + str(i+1), end = \": \")\n",
    "    dado2.lanzar()"
   ]
  },
  {
   "cell_type": "code",
   "execution_count": 16,
   "metadata": {
    "ExecuteTime": {
     "end_time": "2020-11-04T01:47:53.708508Z",
     "start_time": "2020-11-04T01:47:53.705514Z"
    }
   },
   "outputs": [],
   "source": [
    "dado3 = Dados(20)"
   ]
  },
  {
   "cell_type": "code",
   "execution_count": 17,
   "metadata": {
    "ExecuteTime": {
     "end_time": "2020-11-04T01:48:01.011327Z",
     "start_time": "2020-11-04T01:48:01.006341Z"
    }
   },
   "outputs": [
    {
     "name": "stdout",
     "output_type": "stream",
     "text": [
      "Lanzamiento 1: Numero aleatorio:  8\n",
      "Lanzamiento 2: Numero aleatorio:  15\n",
      "Lanzamiento 3: Numero aleatorio:  2\n",
      "Lanzamiento 4: Numero aleatorio:  20\n",
      "Lanzamiento 5: Numero aleatorio:  7\n",
      "Lanzamiento 6: Numero aleatorio:  8\n",
      "Lanzamiento 7: Numero aleatorio:  18\n",
      "Lanzamiento 8: Numero aleatorio:  12\n",
      "Lanzamiento 9: Numero aleatorio:  9\n",
      "Lanzamiento 10: Numero aleatorio:  8\n"
     ]
    }
   ],
   "source": [
    "for i in range(10):\n",
    "    print(\"Lanzamiento \" + str(i+1), end = \": \")\n",
    "    dado3.lanzar()"
   ]
  }
 ],
 "metadata": {
  "kernelspec": {
   "display_name": "Python 3",
   "language": "python",
   "name": "python3"
  },
  "language_info": {
   "codemirror_mode": {
    "name": "ipython",
    "version": 3
   },
   "file_extension": ".py",
   "mimetype": "text/x-python",
   "name": "python",
   "nbconvert_exporter": "python",
   "pygments_lexer": "ipython3",
   "version": "3.8.3"
  },
  "toc": {
   "base_numbering": 1,
   "nav_menu": {},
   "number_sections": true,
   "sideBar": true,
   "skip_h1_title": false,
   "title_cell": "Table of Contents",
   "title_sidebar": "Contents",
   "toc_cell": false,
   "toc_position": {},
   "toc_section_display": true,
   "toc_window_display": false
  },
  "varInspector": {
   "cols": {
    "lenName": 16,
    "lenType": 16,
    "lenVar": 40
   },
   "kernels_config": {
    "python": {
     "delete_cmd_postfix": "",
     "delete_cmd_prefix": "del ",
     "library": "var_list.py",
     "varRefreshCmd": "print(var_dic_list())"
    },
    "r": {
     "delete_cmd_postfix": ") ",
     "delete_cmd_prefix": "rm(",
     "library": "var_list.r",
     "varRefreshCmd": "cat(var_dic_list()) "
    }
   },
   "oldHeight": 288.4,
   "position": {
    "height": "40px",
    "left": "1135px",
    "right": "20px",
    "top": "42px",
    "width": "356px"
   },
   "types_to_exclude": [
    "module",
    "function",
    "builtin_function_or_method",
    "instance",
    "_Feature"
   ],
   "varInspector_section_display": "none",
   "window_display": true
  }
 },
 "nbformat": 4,
 "nbformat_minor": 4
}
