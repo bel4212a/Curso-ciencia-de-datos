{
 "cells": [
  {
   "cell_type": "markdown",
   "metadata": {},
   "source": [
    "# Decoradores"
   ]
  },
  {
   "cell_type": "markdown",
   "metadata": {},
   "source": [
    "Intrucciones que permiten generar patrones de impresion con patrones disenados que permiten generar un codigo mas limpio, mejor documentado y permite eliminar la repeticion de codigo a la hora de manejar formatos de impresion.\n",
    "Los decoradores se aplican sobre las funciones y trabajan como un envoltorio sobre lo que imprimen estas.\n",
    "\n",
    "En terminos practicos, los decoradores son funciones que operan sobre otras funciones y retornan a otras funciones."
   ]
  },
  {
   "cell_type": "code",
   "execution_count": null,
   "metadata": {
    "ExecuteTime": {
     "end_time": "2020-11-05T23:11:02.645707Z",
     "start_time": "2020-11-05T23:11:02.620773Z"
    }
   },
   "outputs": [],
   "source": [
    "def suma(a, b):\n",
    "    return a + b\n",
    "suma(2, 3)"
   ]
  },
  {
   "cell_type": "code",
   "execution_count": null,
   "metadata": {
    "ExecuteTime": {
     "end_time": "2020-11-05T23:22:18.848731Z",
     "start_time": "2020-11-05T23:22:18.839757Z"
    }
   },
   "outputs": [],
   "source": [
    "def decorador(f):\n",
    "    def nueva(*args):\n",
    "        print(\"******************\")\n",
    "        f(*args)\n",
    "        print(\"******************\")\n",
    "    return nueva"
   ]
  },
  {
   "cell_type": "code",
   "execution_count": null,
   "metadata": {
    "ExecuteTime": {
     "end_time": "2020-11-05T23:23:16.373146Z",
     "start_time": "2020-11-05T23:23:16.358186Z"
    }
   },
   "outputs": [],
   "source": [
    "@decorador\n",
    "def suma(a, b):\n",
    "    print(a + b)\n",
    "\n",
    "suma(2, 3)"
   ]
  },
  {
   "cell_type": "code",
   "execution_count": null,
   "metadata": {
    "ExecuteTime": {
     "end_time": "2020-11-05T23:14:39.820652Z",
     "start_time": "2020-11-05T23:14:39.808682Z"
    }
   },
   "outputs": [],
   "source": [
    "def decorador2(f):\n",
    "    def nueva(a, b):\n",
    "        print(\"#######################\")\n",
    "        print(f(a, b))\n",
    "        print(\"#######################\")\n",
    "    return nueva"
   ]
  },
  {
   "cell_type": "code",
   "execution_count": null,
   "metadata": {
    "ExecuteTime": {
     "end_time": "2020-11-05T23:22:32.185968Z",
     "start_time": "2020-11-05T23:22:32.171005Z"
    }
   },
   "outputs": [],
   "source": [
    "# Dos decoradores sobre funcion con return\n",
    "\n",
    "@decorador\n",
    "@decorador2\n",
    "def suma(a, b):\n",
    "    return (a + b)\n",
    "\n",
    "suma(2, 3)"
   ]
  },
  {
   "cell_type": "code",
   "execution_count": null,
   "metadata": {
    "ExecuteTime": {
     "end_time": "2020-11-05T23:18:46.702883Z",
     "start_time": "2020-11-05T23:18:46.697898Z"
    }
   },
   "outputs": [],
   "source": [
    "# Decoradores sobre una funcion sin argumentos\n",
    "#@decorador\n",
    "@decorador\n",
    "def saludo():\n",
    "    print(\"Hola\")\n",
    "saludo()"
   ]
  },
  {
   "cell_type": "markdown",
   "metadata": {},
   "source": [
    "# Funcion lambda"
   ]
  },
  {
   "cell_type": "markdown",
   "metadata": {},
   "source": [
    "Son funciones anonimas a las que no se les asigna ninguna variable. Solo existen en el momento en que son llamadas y luego nunca mas, por lo tanto se usan para fines practicos y de legibilidad."
   ]
  },
  {
   "cell_type": "code",
   "execution_count": null,
   "metadata": {
    "ExecuteTime": {
     "end_time": "2020-11-05T23:27:49.541478Z",
     "start_time": "2020-11-05T23:27:49.527480Z"
    }
   },
   "outputs": [],
   "source": [
    "# evaluando un polinomio\n",
    "def evaluar(numero):\n",
    "    \"\"\"polinomio x^3-2x^2+x-1\"\"\"\n",
    "    return numero**3 -2*numero**2 + numero - 1\n",
    "    \n",
    "evaluar(5)"
   ]
  },
  {
   "cell_type": "code",
   "execution_count": null,
   "metadata": {
    "ExecuteTime": {
     "end_time": "2020-11-05T23:27:46.039420Z",
     "start_time": "2020-11-05T23:27:46.031444Z"
    }
   },
   "outputs": [],
   "source": [
    "print((lambda x: x**3 - 2*x**2 + x - 1)(5))"
   ]
  },
  {
   "cell_type": "code",
   "execution_count": null,
   "metadata": {
    "ExecuteTime": {
     "end_time": "2020-11-05T23:29:22.158461Z",
     "start_time": "2020-11-05T23:29:22.144499Z"
    }
   },
   "outputs": [],
   "source": [
    "print((lambda x: x**2)(-50))"
   ]
  },
  {
   "cell_type": "code",
   "execution_count": null,
   "metadata": {
    "ExecuteTime": {
     "end_time": "2020-11-05T23:30:44.570996Z",
     "start_time": "2020-11-05T23:30:44.562026Z"
    }
   },
   "outputs": [],
   "source": [
    "# Se puede asignar a las funciones lambda a variables y llamarlas nuevamente\n",
    "residuo = lambda x: x%2         "
   ]
  },
  {
   "cell_type": "code",
   "execution_count": null,
   "metadata": {
    "ExecuteTime": {
     "end_time": "2020-11-05T23:31:23.739155Z",
     "start_time": "2020-11-05T23:31:23.729182Z"
    }
   },
   "outputs": [],
   "source": [
    "print(residuo(100))"
   ]
  },
  {
   "cell_type": "code",
   "execution_count": null,
   "metadata": {
    "ExecuteTime": {
     "end_time": "2020-11-05T23:33:22.479348Z",
     "start_time": "2020-11-05T23:33:22.468389Z"
    }
   },
   "outputs": [],
   "source": [
    "print(residuo(89))"
   ]
  },
  {
   "cell_type": "markdown",
   "metadata": {},
   "source": [
    "## <span class=\"burk\">MINIDESAFIO</span>"
   ]
  },
  {
   "cell_type": "markdown",
   "metadata": {},
   "source": [
    "**1.** Escriba una funcion lambda que permita determianr si un numero es impar. Si el numero pasado es impar, se debe imprimir True, de lo contrario se debe imprimir False.\n",
    "\n",
    "**2.** Escriba una funcion lambda que tome una lista y la vuelva al reves.\n",
    "\n",
    "**3.** Escriba una funcion lambda que tome un string y lo imprima en formato titulo"
   ]
  },
  {
   "cell_type": "code",
   "execution_count": null,
   "metadata": {
    "ExecuteTime": {
     "end_time": "2020-11-05T23:51:35.657802Z",
     "start_time": "2020-11-05T23:51:35.653813Z"
    }
   },
   "outputs": [],
   "source": [
    "impar = lambda x: x%2 != 0\n",
    "print(impar(11))"
   ]
  },
  {
   "cell_type": "code",
   "execution_count": null,
   "metadata": {
    "ExecuteTime": {
     "end_time": "2020-11-05T23:53:45.273808Z",
     "start_time": "2020-11-05T23:53:45.268820Z"
    }
   },
   "outputs": [],
   "source": [
    "def impar(numero):\n",
    "    if numero % 2 == 0:\n",
    "        return False\n",
    "    else:\n",
    "        return True\n",
    "impar(14)"
   ]
  },
  {
   "cell_type": "code",
   "execution_count": null,
   "metadata": {
    "ExecuteTime": {
     "end_time": "2020-11-05T23:58:33.915492Z",
     "start_time": "2020-11-05T23:58:33.905523Z"
    }
   },
   "outputs": [],
   "source": [
    "reves = lambda lista: lista[::-1]\n",
    "print(reves([1, 2, 3, 4]))"
   ]
  },
  {
   "cell_type": "code",
   "execution_count": null,
   "metadata": {},
   "outputs": [],
   "source": []
  },
  {
   "cell_type": "markdown",
   "metadata": {
    "ExecuteTime": {
     "end_time": "2020-11-05T21:06:54.439011Z",
     "start_time": "2020-11-05T21:06:54.425048Z"
    }
   },
   "source": [
    "# Funcion map"
   ]
  },
  {
   "cell_type": "markdown",
   "metadata": {},
   "source": [
    "Es una funcion que recibe como argumentos una funcion y un iterables, y retorna otro iterable proveniente de la aplicacion de la funcion sobre el primer iterable"
   ]
  },
  {
   "cell_type": "code",
   "execution_count": null,
   "metadata": {
    "ExecuteTime": {
     "end_time": "2020-11-06T00:07:33.697853Z",
     "start_time": "2020-11-06T00:07:33.691869Z"
    }
   },
   "outputs": [],
   "source": [
    "# funcion que calcula los cuadrados de una lista de numeros\n",
    "lista = [2, 4, 6, 8, 10]\n",
    "def cuadrado(lista):\n",
    "    resultado = []\n",
    "    for i in lista:\n",
    "        resultado.append(i**2)\n",
    "    return resultado\n",
    "\n",
    "print(cuadrado(lista))"
   ]
  },
  {
   "cell_type": "code",
   "execution_count": null,
   "metadata": {
    "ExecuteTime": {
     "end_time": "2020-11-06T00:08:52.162264Z",
     "start_time": "2020-11-06T00:08:52.156281Z"
    }
   },
   "outputs": [],
   "source": [
    "# los mismo de antes pero con map\n",
    "def cuad(x):\n",
    "    return x**2\n",
    "\n",
    "results = list(map(cuad, lista))"
   ]
  },
  {
   "cell_type": "code",
   "execution_count": null,
   "metadata": {
    "ExecuteTime": {
     "end_time": "2020-11-06T00:08:54.736904Z",
     "start_time": "2020-11-06T00:08:54.732917Z"
    }
   },
   "outputs": [],
   "source": [
    "print(results)"
   ]
  },
  {
   "cell_type": "code",
   "execution_count": null,
   "metadata": {
    "ExecuteTime": {
     "end_time": "2020-11-06T00:09:55.378002Z",
     "start_time": "2020-11-06T00:09:55.365093Z"
    }
   },
   "outputs": [],
   "source": [
    "# otro ejemplo. Una funcion que retorne el cubo de un numero\n",
    "cubo = list(map(lambda x: x**3, lista))\n",
    "print(cubo)"
   ]
  },
  {
   "cell_type": "code",
   "execution_count": null,
   "metadata": {
    "ExecuteTime": {
     "end_time": "2020-11-06T00:12:43.472210Z",
     "start_time": "2020-11-06T00:12:43.451273Z"
    }
   },
   "outputs": [],
   "source": [
    "intAstring = list(map(lambda x: str(x), lista))\n",
    "print(intAstring)\n",
    "type(intAstring[0])"
   ]
  },
  {
   "cell_type": "markdown",
   "metadata": {},
   "source": [
    "# Funcion filter"
   ]
  },
  {
   "cell_type": "markdown",
   "metadata": {},
   "source": [
    "Funcion que recibe como argumento una funcion condicional y un iterable, y filtra del iterable los valores que coinciden con la condicion."
   ]
  },
  {
   "cell_type": "code",
   "execution_count": null,
   "metadata": {
    "ExecuteTime": {
     "end_time": "2020-11-06T00:15:30.209671Z",
     "start_time": "2020-11-06T00:15:30.199688Z"
    }
   },
   "outputs": [],
   "source": [
    "def multiplosDe5(numero):\n",
    "    if numero % 5 == 0:\n",
    "        return True"
   ]
  },
  {
   "cell_type": "code",
   "execution_count": null,
   "metadata": {
    "ExecuteTime": {
     "end_time": "2020-11-06T00:16:26.594620Z",
     "start_time": "2020-11-06T00:16:26.586641Z"
    }
   },
   "outputs": [],
   "source": [
    "lista = [2, 4, 6, 8, 10, 12, 14, 5]\n",
    "nueva = list(filter(multiplosDe5, lista))"
   ]
  },
  {
   "cell_type": "code",
   "execution_count": null,
   "metadata": {
    "ExecuteTime": {
     "end_time": "2020-11-06T00:16:30.014177Z",
     "start_time": "2020-11-06T00:16:30.003208Z"
    }
   },
   "outputs": [],
   "source": [
    "print(nueva)"
   ]
  },
  {
   "cell_type": "code",
   "execution_count": null,
   "metadata": {
    "ExecuteTime": {
     "end_time": "2020-11-06T00:17:21.760021Z",
     "start_time": "2020-11-06T00:17:21.753082Z"
    }
   },
   "outputs": [],
   "source": [
    "#Otro ejemplo\n",
    "solucion = list(filter(lambda x: x%2==0, lista))\n",
    "print(solucion)"
   ]
  },
  {
   "cell_type": "code",
   "execution_count": null,
   "metadata": {
    "ExecuteTime": {
     "end_time": "2020-11-06T00:21:37.425407Z",
     "start_time": "2020-11-06T00:21:37.417430Z"
    }
   },
   "outputs": [],
   "source": [
    "# otro ejemplo\n",
    "lista2 = [2, 4, \"k\", \"tres\", 8, 0, \"nueve\"]\n",
    "numeros = list(filter(lambda x: str(x).isdigit(), lista2))"
   ]
  },
  {
   "cell_type": "code",
   "execution_count": null,
   "metadata": {
    "ExecuteTime": {
     "end_time": "2020-11-06T00:19:31.440682Z",
     "start_time": "2020-11-06T00:19:31.429711Z"
    }
   },
   "outputs": [],
   "source": [
    "print(numeros)"
   ]
  },
  {
   "cell_type": "markdown",
   "metadata": {},
   "source": [
    "## <span class=\"burk\">MINIDESAFIO</span>"
   ]
  },
  {
   "cell_type": "markdown",
   "metadata": {},
   "source": [
    "**1.** Escriba un miniprograma que tome la lista indicada mas abajo, la filtre manteniendo unicamente los valores que sean strings, y luego tome esa lista y convierta todos sus elementos en mayusculas. \n",
    "\n",
    "        lista = [1, 2, \"hola\", \"correcto\", 2, \"no\", 7, \"eva\", 10, \"vamos\"]"
   ]
  },
  {
   "cell_type": "code",
   "execution_count": null,
   "metadata": {
    "ExecuteTime": {
     "end_time": "2020-11-06T00:38:26.022759Z",
     "start_time": "2020-11-06T00:38:26.006804Z"
    }
   },
   "outputs": [],
   "source": [
    "lista = [1, 2, \"hola\", \"correcto\", 2, \"no\", 7, \"eva\", 10, \"vamos\"]\n",
    "string = list(filter(lambda x: not str(x).isdigit(), lista))\n",
    "print(string)\n",
    "mayusculas = list(map(lambda x: x.upper(), string))\n",
    "print(mayusculas)"
   ]
  },
  {
   "cell_type": "markdown",
   "metadata": {},
   "source": [
    "# Libreria math"
   ]
  },
  {
   "cell_type": "markdown",
   "metadata": {},
   "source": [
    "Funcion parte de la libreria estandar de python que ofrece ciertas funciones matematicas sobre los reales."
   ]
  },
  {
   "cell_type": "code",
   "execution_count": null,
   "metadata": {
    "ExecuteTime": {
     "end_time": "2020-11-06T00:42:09.837688Z",
     "start_time": "2020-11-06T00:42:09.828713Z"
    }
   },
   "outputs": [],
   "source": [
    "import math"
   ]
  },
  {
   "cell_type": "markdown",
   "metadata": {},
   "source": [
    "<span class=\"mark\">ceil(x)</span>: Devuelve el entero más próximo mayor o igual que x."
   ]
  },
  {
   "cell_type": "code",
   "execution_count": null,
   "metadata": {
    "ExecuteTime": {
     "end_time": "2020-11-06T00:42:21.133274Z",
     "start_time": "2020-11-06T00:42:21.124293Z"
    }
   },
   "outputs": [],
   "source": [
    "print(math.ceil(5.3))\n",
    "print(math.ceil(-2.3))"
   ]
  },
  {
   "cell_type": "markdown",
   "metadata": {},
   "source": [
    "<span class=\"mark\">floor(x)</span>: Devuelve el entero más próximo menor o igual que x."
   ]
  },
  {
   "cell_type": "code",
   "execution_count": null,
   "metadata": {
    "ExecuteTime": {
     "end_time": "2020-11-06T00:42:58.148880Z",
     "start_time": "2020-11-06T00:42:58.144893Z"
    }
   },
   "outputs": [],
   "source": [
    "print(math.floor(5.3))\n",
    "print(math.floor(-2.3))"
   ]
  },
  {
   "cell_type": "markdown",
   "metadata": {},
   "source": [
    "<span class=\"mark\">gcd(a, b)</span>: Devuelve el máximo común divisor (\"greatest common divisor\") de los números a y b."
   ]
  },
  {
   "cell_type": "code",
   "execution_count": null,
   "metadata": {
    "ExecuteTime": {
     "end_time": "2020-11-06T00:43:12.421441Z",
     "start_time": "2020-11-06T00:43:12.407521Z"
    }
   },
   "outputs": [],
   "source": [
    "print(math.gcd(2, 8))\n",
    "print(math.gcd(7, 17))"
   ]
  },
  {
   "cell_type": "code",
   "execution_count": null,
   "metadata": {
    "ExecuteTime": {
     "end_time": "2020-11-06T00:45:35.116223Z",
     "start_time": "2020-11-06T00:45:35.107247Z"
    }
   },
   "outputs": [],
   "source": []
  },
  {
   "cell_type": "markdown",
   "metadata": {
    "ExecuteTime": {
     "end_time": "2020-11-05T21:28:10.185477Z",
     "start_time": "2020-11-05T21:28:10.175503Z"
    }
   },
   "source": [
    "<span class=\"girk\">OTRAS FUNCIONES</span>\n",
    "\n",
    "* math.exp(x): Devuelve $e^x$.\n",
    "\n",
    "* math.log(x, [base]): Devuelve el logaritmo neperiano de x. Si se incluye el segundo argumento, devuelve el logaritmo de x en la base indicada.\n",
    "\n",
    "* math.log2(x): Devuelve el logaritmo en base 2 de x.\n",
    "\n",
    "* math.log10(x): Devuelve el logaritmo en base 10 de x.\n",
    "\n",
    "* math.pow(x, y): Devuelve xy.\n",
    "\n",
    "* math.sqrt(x): Devuelve la raíz cuadrada de x.\n",
    "\n",
    "* math.cos(x): Devuelve el coseno de x.\n",
    "\n",
    "* math.sin(x): Devuelve el seno de x.\n",
    "\n",
    "* math.tan(x): Devuelve la tangente de x.\n",
    "\n",
    "* math.degrees(x): Convierte un ángulo de grados sexagesimales a radianes.\n",
    "\n",
    "* math.radians(x): Convierte un ángulo de radianes a grados sexagesimales.\n",
    "\n",
    "* math.pi: Número pi.\n",
    "\n",
    "* math.e: Número e:\n",
    "\n",
    "Ver mas en: https://docs.python.org/3/library/math.html"
   ]
  },
  {
   "cell_type": "markdown",
   "metadata": {
    "ExecuteTime": {
     "end_time": "2020-11-05T21:31:29.620390Z",
     "start_time": "2020-11-05T21:31:29.594466Z"
    }
   },
   "source": [
    "## <span class=\"burk\">MINIDESAFIO</span>"
   ]
  },
  {
   "attachments": {
    "image.png": {
     "image/png": "[encoded data removed]"
    }
   },
   "cell_type": "markdown",
   "metadata": {},
   "source": [
    "**1.** ![image.png](attachment:image.png)\n"
   ]
  },
  {
   "cell_type": "code",
   "execution_count": null,
   "metadata": {
    "ExecuteTime": {
     "end_time": "2020-11-06T01:37:38.106914Z",
     "start_time": "2020-11-06T01:37:38.100927Z"
    }
   },
   "outputs": [],
   "source": [
    "v1 = [2, 4, -5, 8, 3]\n",
    "v2 = [0, -2, -3, 7, 1]\n",
    "resultado = list(map(lambda x,y: x*y, v1, v2))\n",
    "print(sum(resultado))"
   ]
  },
  {
   "cell_type": "markdown",
   "metadata": {},
   "source": [
    "**2.** Investigar la ley de gravitacion universal de Newton, y con los valores $m_1 = 50 kg$, $m_2 = 60 kg$ y $r = 3 m$, calcular la fuerza gravitacional. Recordar tomar la constante de gravitacion G en el sistema MKS.\n",
    "\n",
    "**3.** Cree una funcion que genere una lista de 300 numeros aleatorios entre 1 y 1000 usando el modulo randint de random. Cree una funcion que tome esa lista y evalue cada valor de la lista en la siguiente funcion:\n",
    "\n",
    "$f(x) = \\frac{\\cos(x - 2)}{\\log(x)}$\n",
    "        \n",
    "Asegurese de evitar errores de division por cero, exigiendole al programa la evasion de esta posibilidad. Imprima la lista resultante.\n",
    "\n",
    "**Pista:** Es mas facil si utiliza la funcion map"
   ]
  },
  {
   "cell_type": "code",
   "execution_count": null,
   "metadata": {
    "ExecuteTime": {
     "end_time": "2020-11-06T01:43:03.687383Z",
     "start_time": "2020-11-06T01:43:03.684358Z"
    }
   },
   "outputs": [],
   "source": [
    "from random import randint\n",
    "lista = [randint(1, 1000) for i in range(300)]"
   ]
  },
  {
   "cell_type": "code",
   "execution_count": null,
   "metadata": {
    "ExecuteTime": {
     "end_time": "2020-11-06T01:43:05.779403Z",
     "start_time": "2020-11-06T01:43:05.774417Z"
    }
   },
   "outputs": [],
   "source": [
    "nueva = list(filter(lambda x: x != 1, lista))"
   ]
  },
  {
   "cell_type": "code",
   "execution_count": null,
   "metadata": {
    "ExecuteTime": {
     "end_time": "2020-11-06T01:45:15.498153Z",
     "start_time": "2020-11-06T01:45:15.492169Z"
    }
   },
   "outputs": [],
   "source": [
    "def funcion(lista):\n",
    "    resultado = []\n",
    "    for i in lista:\n",
    "        resultado.append(math.cos(i - 2)/math.log10(i))\n",
    "    return resultado"
   ]
  },
  {
   "cell_type": "code",
   "execution_count": null,
   "metadata": {
    "ExecuteTime": {
     "end_time": "2020-11-06T01:45:54.564002Z",
     "start_time": "2020-11-06T01:45:54.556069Z"
    },
    "scrolled": false
   },
   "outputs": [],
   "source": [
    "resultado = funcion(nueva)"
   ]
  },
  {
   "cell_type": "code",
   "execution_count": null,
   "metadata": {
    "ExecuteTime": {
     "end_time": "2020-11-06T01:52:59.708980Z",
     "start_time": "2020-11-06T01:52:59.680059Z"
    }
   },
   "outputs": [],
   "source": [
    "import matplotlib.pyplot as plt\n",
    "\n",
    "fig, ax = plt.subplots()\n",
    "ax.scatter(nueva, resultado)\n",
    "plt.show()"
   ]
  },
  {
   "cell_type": "markdown",
   "metadata": {},
   "source": [
    "# Archivos"
   ]
  },
  {
   "cell_type": "markdown",
   "metadata": {},
   "source": [
    "Con python e sposible importar archivos para trabajar directamente con ellos. La utilidad redica en que podremos trabajar con archivo externos creados por otros usuarios, y gustadar nuestro trabajo al final de la jornada en el mismo o en otro archivo."
   ]
  },
  {
   "cell_type": "markdown",
   "metadata": {},
   "source": [
    "## Leyendo archivos"
   ]
  },
  {
   "cell_type": "code",
   "execution_count": null,
   "metadata": {
    "ExecuteTime": {
     "end_time": "2020-11-06T23:13:04.108637Z",
     "start_time": "2020-11-06T23:13:04.075760Z"
    }
   },
   "outputs": [],
   "source": [
    "ls"
   ]
  },
  {
   "cell_type": "markdown",
   "metadata": {},
   "source": [
    "La instruccion <span class=\"mark\">with</span> permite que python se encargue de abrir y cerrar el archivo por si mismo, evitando que se den posibles errores y perdida de datos"
   ]
  },
  {
   "cell_type": "code",
   "execution_count": null,
   "metadata": {
    "ExecuteTime": {
     "end_time": "2020-11-06T23:16:33.258003Z",
     "start_time": "2020-11-06T23:16:33.237028Z"
    }
   },
   "outputs": [],
   "source": [
    "with open('ventas.txt') as archivo:\n",
    "    contenidos = archivo.read()\n",
    "    print(contenidos)"
   ]
  },
  {
   "cell_type": "markdown",
   "metadata": {},
   "source": [
    "Cuando el archivo no esta en el mismo directorio..."
   ]
  },
  {
   "cell_type": "code",
   "execution_count": null,
   "metadata": {
    "ExecuteTime": {
     "end_time": "2020-11-06T23:18:54.073587Z",
     "start_time": "2020-11-06T23:18:53.778519Z"
    }
   },
   "outputs": [],
   "source": [
    "# Llamado erroneo de ventas2.txt\n",
    "with open('ventas2.txt') as archivo:\n",
    "    contenidos = archivo.read()\n",
    "    print(contenidos)"
   ]
  },
  {
   "cell_type": "markdown",
   "metadata": {
    "ExecuteTime": {
     "end_time": "2020-11-05T22:22:02.555037Z",
     "start_time": "2020-11-05T22:22:02.539084Z"
    }
   },
   "source": [
    "Obteniendo mi directorio de trabajao con <span class=\"mark\">os</span> y <span class=\"mark\">getcwd()</span>:"
   ]
  },
  {
   "cell_type": "code",
   "execution_count": null,
   "metadata": {
    "ExecuteTime": {
     "end_time": "2020-11-06T23:21:04.928649Z",
     "start_time": "2020-11-06T23:21:04.918677Z"
    }
   },
   "outputs": [],
   "source": [
    "# Obtener el directorio de trabajo\n",
    "import os\n",
    "directorio = os.getcwd()\n",
    "print(directorio)"
   ]
  },
  {
   "cell_type": "code",
   "execution_count": null,
   "metadata": {
    "ExecuteTime": {
     "end_time": "2020-11-06T23:21:31.040434Z",
     "start_time": "2020-11-06T23:21:31.004534Z"
    }
   },
   "outputs": [],
   "source": [
    "ls"
   ]
  },
  {
   "cell_type": "code",
   "execution_count": null,
   "metadata": {
    "ExecuteTime": {
     "end_time": "2020-11-06T23:22:33.016275Z",
     "start_time": "2020-11-06T23:22:32.980370Z"
    }
   },
   "outputs": [],
   "source": [
    "# Llamado correcto de ventas2\n",
    "with open(directorio + '\\\\archivos\\\\ventas2.txt') as archivo:\n",
    "    contenidos = archivo.read()\n",
    "    print(contenidos)"
   ]
  },
  {
   "cell_type": "markdown",
   "metadata": {},
   "source": [
    "Mas sobre os: https://uniwebsidad.com/libros/python/capitulo-10/modulos-de-sistema"
   ]
  },
  {
   "cell_type": "markdown",
   "metadata": {},
   "source": [
    "## Leyendo linea por linea"
   ]
  },
  {
   "cell_type": "code",
   "execution_count": null,
   "metadata": {
    "ExecuteTime": {
     "end_time": "2020-11-06T23:24:16.795867Z",
     "start_time": "2020-11-06T23:24:16.784901Z"
    }
   },
   "outputs": [],
   "source": [
    "with open('ventas.txt') as archivo:\n",
    "    for linea in archivo:\n",
    "        print(linea, end = \"\")"
   ]
  },
  {
   "cell_type": "markdown",
   "metadata": {},
   "source": [
    "## Guardando las lineas en listas "
   ]
  },
  {
   "cell_type": "code",
   "execution_count": null,
   "metadata": {
    "ExecuteTime": {
     "end_time": "2020-11-06T23:28:20.137337Z",
     "start_time": "2020-11-06T23:28:20.129397Z"
    }
   },
   "outputs": [],
   "source": [
    "with open('ventas.txt') as archivo:\n",
    "    lineas = archivo.readlines()"
   ]
  },
  {
   "cell_type": "code",
   "execution_count": null,
   "metadata": {
    "ExecuteTime": {
     "end_time": "2020-11-06T23:25:41.726240Z",
     "start_time": "2020-11-06T23:25:41.719264Z"
    }
   },
   "outputs": [],
   "source": [
    "print(lineas)"
   ]
  },
  {
   "cell_type": "code",
   "execution_count": null,
   "metadata": {
    "ExecuteTime": {
     "end_time": "2020-11-06T23:26:42.907292Z",
     "start_time": "2020-11-06T23:26:42.897358Z"
    }
   },
   "outputs": [],
   "source": [
    "for i in lineas:\n",
    "    print(i.rstrip())"
   ]
  },
  {
   "cell_type": "code",
   "execution_count": null,
   "metadata": {
    "ExecuteTime": {
     "end_time": "2020-11-06T23:27:14.227583Z",
     "start_time": "2020-11-06T23:27:14.215613Z"
    }
   },
   "outputs": [],
   "source": [
    "# Trabajando con los datos\n",
    "lista = ''\n",
    "for i in lineas:\n",
    "    lista += i.rstrip()"
   ]
  },
  {
   "cell_type": "code",
   "execution_count": null,
   "metadata": {
    "ExecuteTime": {
     "end_time": "2020-11-06T23:27:16.586549Z",
     "start_time": "2020-11-06T23:27:16.573584Z"
    }
   },
   "outputs": [],
   "source": [
    "print(lista)"
   ]
  },
  {
   "cell_type": "markdown",
   "metadata": {},
   "source": [
    "## <span class=\"burk\">MINIDESAFIO</span>"
   ]
  },
  {
   "cell_type": "markdown",
   "metadata": {},
   "source": [
    "**1**. Aprendiendo Python: abre un archivo en blanco en tu editor de texto y escribe algunas líneas que resuman lo que has aprendido sobre Python hasta ahora. Empiece cada línea con la frase En Python puede.... Guarde el archivo como python.txt en el mismo directorio que este notebook. Escribe un programa que lea el archivo e imprima lo que escribiste tres veces. Imprima el contenido una vez leyendo todo el archivo, una vez haciendo un bucle sobre el objeto de archivo y una vez almacenando las líneas en una lista y luego trabajando con ellas fuera del bloque with.\n",
    "\n",
    "**2.** Aprendizaje C: puede usar el método <span class=\"mark\">replace()</span> para reemplazar cualquier palabra en una cadena con una palabra diferente. A continuación, se muestra un ejemplo rápido que muestra cómo reemplazar \"perro\" por \"gato\" en una oración:\n",
    "\n",
    "    >>> message = \"Me gustan mucho los perros\".\n",
    "    >>> message.replace ('perro', 'gato')\n",
    "    'Me gustan mucho los gatos'.\n",
    "    \n",
    "Lea cada línea del archivo que acaba de crear, python.txt, y reemplace la palabra Python con el nombre de otro idioma, como C. Imprima cada línea modificada en la pantalla."
   ]
  },
  {
   "cell_type": "code",
   "execution_count": null,
   "metadata": {
    "ExecuteTime": {
     "end_time": "2020-11-06T23:50:11.962093Z",
     "start_time": "2020-11-06T23:50:11.957108Z"
    }
   },
   "outputs": [],
   "source": [
    "with open('python.txt') as f:\n",
    "    contenido = f.read()\n",
    "print(contenido)    "
   ]
  },
  {
   "cell_type": "code",
   "execution_count": null,
   "metadata": {
    "ExecuteTime": {
     "end_time": "2020-11-06T23:57:17.446037Z",
     "start_time": "2020-11-06T23:57:17.428085Z"
    }
   },
   "outputs": [],
   "source": [
    "with open('python.txt') as f:\n",
    "    for i in f:\n",
    "        print(i, end = \"\")"
   ]
  },
  {
   "cell_type": "code",
   "execution_count": null,
   "metadata": {
    "ExecuteTime": {
     "end_time": "2020-11-06T23:54:31.897677Z",
     "start_time": "2020-11-06T23:54:31.884717Z"
    }
   },
   "outputs": [],
   "source": [
    "with open('python.txt') as f:\n",
    "    lista = f.readlines()\n",
    "print(lista)"
   ]
  },
  {
   "cell_type": "code",
   "execution_count": null,
   "metadata": {
    "ExecuteTime": {
     "end_time": "2020-11-06T23:58:08.152259Z",
     "start_time": "2020-11-06T23:58:08.133310Z"
    }
   },
   "outputs": [],
   "source": [
    "with open('python.txt') as f:\n",
    "    for i in f:\n",
    "        print(i.lower().replace(\"python\", \"C\"), end = \"\")"
   ]
  },
  {
   "cell_type": "markdown",
   "metadata": {},
   "source": [
    "## Escribiendo en un archivo"
   ]
  },
  {
   "cell_type": "markdown",
   "metadata": {
    "ExecuteTime": {
     "end_time": "2020-11-06T20:24:43.822381Z",
     "start_time": "2020-11-06T20:24:43.816399Z"
    }
   },
   "source": [
    "Para poder escribir en un archivo, es necesario llamar a open con un segundo argumento que indique que se puede escribir. Otras opciones para ese parametro son **r**: solo lectura, **r+**: lectura y escritura, **a**: modo agregar, entre otros. Cuando no se agrega argumento, se asume **r**, por defecto. Si el archivo llamado no existe, se creara uno con el nombre indicado. <span class=\"burk\">Cuando python llama al archivo con w, lo primero que hace es borrar su contenido</span>."
   ]
  },
  {
   "cell_type": "code",
   "execution_count": null,
   "metadata": {
    "ExecuteTime": {
     "end_time": "2020-11-07T00:03:05.444562Z",
     "start_time": "2020-11-07T00:03:05.412646Z"
    }
   },
   "outputs": [],
   "source": [
    "ls"
   ]
  },
  {
   "cell_type": "code",
   "execution_count": null,
   "metadata": {
    "ExecuteTime": {
     "end_time": "2020-11-07T00:04:05.059736Z",
     "start_time": "2020-11-07T00:04:05.052755Z"
    }
   },
   "outputs": [],
   "source": [
    "with open('texto.txt', 'w') as archivo:\n",
    "    archivo.write(\"Esta venta no se hizo.\")\n",
    "    archivo.write(\"Esta es otra linea.\")"
   ]
  },
  {
   "cell_type": "code",
   "execution_count": null,
   "metadata": {
    "ExecuteTime": {
     "end_time": "2020-11-07T00:04:41.885027Z",
     "start_time": "2020-11-07T00:04:41.880040Z"
    }
   },
   "outputs": [],
   "source": [
    "# Con multiples lineas\n",
    "with open('texto.txt', 'w') as archivo:\n",
    "    archivo.write(\"Esta venta no se hizo. \\n\")\n",
    "    archivo.write(\"Hablar con el contador. \\n\")"
   ]
  },
  {
   "cell_type": "markdown",
   "metadata": {},
   "source": [
    "Si se desea abrir el archivo pero sin borrar su contenido, sino mas bien para agregar a lo que ya ahi, se debe usar <span class=\"mark\">append</span> en vez de write:"
   ]
  },
  {
   "cell_type": "code",
   "execution_count": null,
   "metadata": {
    "ExecuteTime": {
     "end_time": "2020-11-07T00:06:40.217571Z",
     "start_time": "2020-11-07T00:06:40.209388Z"
    }
   },
   "outputs": [],
   "source": [
    "with open('texto.txt', 'a') as archivo:\n",
    "    archivo.write(\"Esta venta tampoco se hizo. \\n\")\n",
    "    archivo.write(\"Hablar con el abogado. \\n\")"
   ]
  },
  {
   "cell_type": "markdown",
   "metadata": {},
   "source": [
    "## <span class=\"burk\">MINIDESAFIO</span>"
   ]
  },
  {
   "cell_type": "markdown",
   "metadata": {},
   "source": [
    "**1.** Invitado: escriba un programa que solicite al usuario su nombre. Cuando responda, escriba su nombre en un archivo llamado guest.txt.\n",
    "\n",
    "**2.** Libro de visitas: escriba un bucle while que solicite a los usuarios su nombre. Cuando ingresen su nombre, imprima un saludo en la pantalla y agregue una línea que registre su visita en un archivo llamado guest_book.txt. Asegúrese de que cada entrada aparezca en una nueva línea del archivo.\n",
    "\n",
    "**3.** Encuesta de programación: escriba un bucle while que pregunte a las personas por qué les gusta programar. Cada vez que alguien ingrese un motivo, agregue su motivo a un archivo que almacena todas las respuestas."
   ]
  },
  {
   "cell_type": "code",
   "execution_count": null,
   "metadata": {
    "ExecuteTime": {
     "end_time": "2020-11-07T00:38:49.898568Z",
     "start_time": "2020-11-07T00:38:18.851333Z"
    }
   },
   "outputs": [],
   "source": [
    "# Ejercicio 3\n",
    "respuestas = []\n",
    "while True:\n",
    "    motivo = input(\"Por que le gusta programar? (0 para salir): \")\n",
    "    if motivo == '0':\n",
    "        break\n",
    "    respuestas.append(motivo)\n",
    "\n",
    "with open('motivos.txt', 'a') as file:\n",
    "    for i in respuestas:\n",
    "        file.write(str(i) + \"\\n\")"
   ]
  },
  {
   "cell_type": "code",
   "execution_count": null,
   "metadata": {
    "ExecuteTime": {
     "end_time": "2020-11-07T00:30:35.909545Z",
     "start_time": "2020-11-07T00:30:29.653173Z"
    }
   },
   "outputs": [],
   "source": [
    "# Ejercicio 1\n",
    "nombres = []\n",
    "while True:\n",
    "    name = input(\"Escriba su nombre (0 para salir): \")\n",
    "    if name == '0':\n",
    "        break\n",
    "    nombres.append(name)\n",
    "\n",
    "with open('guest.txt', 'a') as file:\n",
    "    for i in nombres:\n",
    "        file.write(str(i) + \"\\n\")"
   ]
  },
  {
   "cell_type": "code",
   "execution_count": null,
   "metadata": {
    "ExecuteTime": {
     "end_time": "2020-11-07T00:32:44.017821Z",
     "start_time": "2020-11-07T00:32:28.331302Z"
    }
   },
   "outputs": [],
   "source": [
    "# Ejercicio 2\n",
    "nombres = []\n",
    "while True:\n",
    "    name = input(\"Escriba su nombre (0 para salir): \")\n",
    "    if name == '0':\n",
    "        break\n",
    "    print(\"Bienvenido \" + name)\n",
    "    nombres.append(name)\n",
    "\n",
    "with open('guest_book.txt', 'a') as file:\n",
    "    for i in nombres:\n",
    "        file.write(str(i) + \"\\n\")"
   ]
  },
  {
   "cell_type": "markdown",
   "metadata": {},
   "source": [
    "# Excepciones"
   ]
  },
  {
   "cell_type": "markdown",
   "metadata": {},
   "source": [
    "Cuando python no sabe que hacer en una cierta parte del codigo, levanta una excepcion que puede ser manejada y redirigida por el programador, usando bloques <span class=\"mark\">try-except</span>"
   ]
  },
  {
   "cell_type": "markdown",
   "metadata": {},
   "source": [
    "## Manejando la excepcion ZeroDivisionError"
   ]
  },
  {
   "cell_type": "code",
   "execution_count": 1,
   "metadata": {
    "ExecuteTime": {
     "end_time": "2020-11-07T00:40:46.621001Z",
     "start_time": "2020-11-07T00:40:46.373467Z"
    }
   },
   "outputs": [
    {
     "ename": "ZeroDivisionError",
     "evalue": "division by zero",
     "output_type": "error",
     "traceback": [
      "\u001b[1;31m---------------------------------------------------------------------------\u001b[0m",
      "\u001b[1;31mZeroDivisionError\u001b[0m                         Traceback (most recent call last)",
      "\u001b[1;32m<ipython-input-1-fad870a50e27>\u001b[0m in \u001b[0;36m<module>\u001b[1;34m\u001b[0m\n\u001b[1;32m----> 1\u001b[1;33m \u001b[0mprint\u001b[0m\u001b[1;33m(\u001b[0m\u001b[1;36m5\u001b[0m\u001b[1;33m/\u001b[0m\u001b[1;36m0\u001b[0m\u001b[1;33m)\u001b[0m\u001b[1;33m\u001b[0m\u001b[1;33m\u001b[0m\u001b[0m\n\u001b[0m",
      "\u001b[1;31mZeroDivisionError\u001b[0m: division by zero"
     ]
    }
   ],
   "source": [
    "print(5/0)"
   ]
  },
  {
   "cell_type": "code",
   "execution_count": 3,
   "metadata": {
    "ExecuteTime": {
     "end_time": "2020-11-07T00:42:12.764909Z",
     "start_time": "2020-11-07T00:42:12.753939Z"
    }
   },
   "outputs": [
    {
     "name": "stdout",
     "output_type": "stream",
     "text": [
      "No se puede dividir por cero.\n"
     ]
    }
   ],
   "source": [
    "try:\n",
    "    print(5/0)\n",
    "except ZeroDivisionError:\n",
    "    print(\"No se puede dividir por cero.\")    "
   ]
  },
  {
   "cell_type": "code",
   "execution_count": 4,
   "metadata": {
    "ExecuteTime": {
     "end_time": "2020-11-07T00:43:28.941997Z",
     "start_time": "2020-11-07T00:43:14.436468Z"
    }
   },
   "outputs": [
    {
     "name": "stdout",
     "output_type": "stream",
     "text": [
      "Introduzca dos numeros: \n",
      "Presione q para salir.\n",
      "Primer numero: 10\n",
      "Segundo numero: 2\n",
      "Primer numero: 7\n",
      "Segundo numero: 0\n"
     ]
    },
    {
     "ename": "ZeroDivisionError",
     "evalue": "division by zero",
     "output_type": "error",
     "traceback": [
      "\u001b[1;31m---------------------------------------------------------------------------\u001b[0m",
      "\u001b[1;31mZeroDivisionError\u001b[0m                         Traceback (most recent call last)",
      "\u001b[1;32m<ipython-input-4-34d74a5b6f5a>\u001b[0m in \u001b[0;36m<module>\u001b[1;34m\u001b[0m\n\u001b[0;32m      9\u001b[0m     \u001b[0msegundo\u001b[0m \u001b[1;33m=\u001b[0m \u001b[0minput\u001b[0m\u001b[1;33m(\u001b[0m\u001b[1;34m\"Segundo numero: \"\u001b[0m\u001b[1;33m)\u001b[0m\u001b[1;33m\u001b[0m\u001b[1;33m\u001b[0m\u001b[0m\n\u001b[0;32m     10\u001b[0m \u001b[1;33m\u001b[0m\u001b[0m\n\u001b[1;32m---> 11\u001b[1;33m     \u001b[0mrespuesta\u001b[0m \u001b[1;33m=\u001b[0m \u001b[0mint\u001b[0m\u001b[1;33m(\u001b[0m\u001b[0mprimero\u001b[0m\u001b[1;33m)\u001b[0m\u001b[1;33m/\u001b[0m\u001b[0mint\u001b[0m\u001b[1;33m(\u001b[0m\u001b[0msegundo\u001b[0m\u001b[1;33m)\u001b[0m\u001b[1;33m\u001b[0m\u001b[1;33m\u001b[0m\u001b[0m\n\u001b[0m\u001b[0;32m     12\u001b[0m \u001b[1;33m\u001b[0m\u001b[0m\n\u001b[0;32m     13\u001b[0m \u001b[0mprint\u001b[0m\u001b[1;33m(\u001b[0m\u001b[0mrespuesta\u001b[0m\u001b[1;33m)\u001b[0m\u001b[1;33m\u001b[0m\u001b[1;33m\u001b[0m\u001b[0m\n",
      "\u001b[1;31mZeroDivisionError\u001b[0m: division by zero"
     ]
    }
   ],
   "source": [
    "# Ejemplo con posible error\n",
    "print(\"Introduzca dos numeros: \")\n",
    "print(\"Presione q para salir.\")\n",
    "\n",
    "while True:\n",
    "    primero = input(\"Primer numero: \")\n",
    "    if primero == 'q':\n",
    "        break\n",
    "    segundo = input(\"Segundo numero: \")\n",
    "    \n",
    "    respuesta = int(primero)/int(segundo)\n",
    "\n",
    "print(respuesta)"
   ]
  },
  {
   "cell_type": "code",
   "execution_count": 5,
   "metadata": {
    "ExecuteTime": {
     "end_time": "2020-11-07T00:44:39.950472Z",
     "start_time": "2020-11-07T00:44:02.862423Z"
    }
   },
   "outputs": [
    {
     "name": "stdout",
     "output_type": "stream",
     "text": [
      "Introduzca dos numeros: \n",
      "Presione q para salir.\n",
      "Primer numero: 10\n",
      "Segundo numero: 2\n",
      "Primer numero: 10\n",
      "Segundo numero: 0\n",
      "No se puede dividir por cero.\n",
      "Primer numero: 7/0\n",
      "Segundo numero: 7\n"
     ]
    },
    {
     "ename": "ValueError",
     "evalue": "invalid literal for int() with base 10: '7/0'",
     "output_type": "error",
     "traceback": [
      "\u001b[1;31m---------------------------------------------------------------------------\u001b[0m",
      "\u001b[1;31mValueError\u001b[0m                                Traceback (most recent call last)",
      "\u001b[1;32m<ipython-input-5-ece52aa51e1b>\u001b[0m in \u001b[0;36m<module>\u001b[1;34m\u001b[0m\n\u001b[0;32m     10\u001b[0m \u001b[1;33m\u001b[0m\u001b[0m\n\u001b[0;32m     11\u001b[0m     \u001b[1;32mtry\u001b[0m\u001b[1;33m:\u001b[0m\u001b[1;33m\u001b[0m\u001b[1;33m\u001b[0m\u001b[0m\n\u001b[1;32m---> 12\u001b[1;33m         \u001b[0mrespuesta\u001b[0m \u001b[1;33m=\u001b[0m \u001b[0mint\u001b[0m\u001b[1;33m(\u001b[0m\u001b[0mprimero\u001b[0m\u001b[1;33m)\u001b[0m\u001b[1;33m/\u001b[0m\u001b[0mint\u001b[0m\u001b[1;33m(\u001b[0m\u001b[0msegundo\u001b[0m\u001b[1;33m)\u001b[0m\u001b[1;33m\u001b[0m\u001b[1;33m\u001b[0m\u001b[0m\n\u001b[0m\u001b[0;32m     13\u001b[0m     \u001b[1;32mexcept\u001b[0m \u001b[0mZeroDivisionError\u001b[0m\u001b[1;33m:\u001b[0m\u001b[1;33m\u001b[0m\u001b[1;33m\u001b[0m\u001b[0m\n\u001b[0;32m     14\u001b[0m         \u001b[0mprint\u001b[0m\u001b[1;33m(\u001b[0m\u001b[1;34m\"No se puede dividir por cero.\"\u001b[0m\u001b[1;33m)\u001b[0m\u001b[1;33m\u001b[0m\u001b[1;33m\u001b[0m\u001b[0m\n",
      "\u001b[1;31mValueError\u001b[0m: invalid literal for int() with base 10: '7/0'"
     ]
    }
   ],
   "source": [
    "# Ejemplo corregido\n",
    "print(\"Introduzca dos numeros: \")\n",
    "print(\"Presione q para salir.\")\n",
    "\n",
    "while True:\n",
    "    primero = input(\"Primer numero: \")\n",
    "    if primero == 'q':\n",
    "        break\n",
    "    segundo = input(\"Segundo numero: \")\n",
    "    \n",
    "    try:\n",
    "        respuesta = int(primero)/int(segundo)\n",
    "    except ZeroDivisionError:\n",
    "        print(\"No se puede dividir por cero.\")\n",
    "\n",
    "print(respuesta)"
   ]
  },
  {
   "cell_type": "markdown",
   "metadata": {},
   "source": [
    "##### Instruccion Else"
   ]
  },
  {
   "cell_type": "code",
   "execution_count": 6,
   "metadata": {
    "ExecuteTime": {
     "end_time": "2020-11-07T00:45:54.648327Z",
     "start_time": "2020-11-07T00:45:20.492300Z"
    }
   },
   "outputs": [
    {
     "name": "stdout",
     "output_type": "stream",
     "text": [
      "Introduzca dos numeros: \n",
      "Presione q para salir.\n",
      "Primer numero: 10\n",
      "Segundo numero: 2\n",
      "5.0\n",
      "Primer numero: 7\n",
      "Segundo numero: 0\n",
      "No se puede dividir por cero.\n",
      "Primer numero: 895\n",
      "Segundo numero: 1357\n",
      "0.6595431098010317\n",
      "Primer numero: q\n"
     ]
    }
   ],
   "source": [
    "# Ejemplo corregido con instruccion else\n",
    "# Ejemplo corregido\n",
    "print(\"Introduzca dos numeros: \")\n",
    "print(\"Presione q para salir.\")\n",
    "\n",
    "while True:\n",
    "    primero = input(\"Primer numero: \")\n",
    "    if primero == 'q':\n",
    "        break\n",
    "    segundo = input(\"Segundo numero: \")\n",
    "    \n",
    "    try:\n",
    "        respuesta = int(primero)/int(segundo)\n",
    "    except ZeroDivisionError:\n",
    "        print(\"No se puede dividir por cero.\")\n",
    "    else:\n",
    "        print(respuesta)"
   ]
  },
  {
   "cell_type": "markdown",
   "metadata": {},
   "source": [
    "## Manejando el error FileNotFoundError"
   ]
  },
  {
   "cell_type": "code",
   "execution_count": 7,
   "metadata": {
    "ExecuteTime": {
     "end_time": "2020-11-07T00:46:30.251436Z",
     "start_time": "2020-11-07T00:46:30.213543Z"
    }
   },
   "outputs": [
    {
     "name": "stdout",
     "output_type": "stream",
     "text": [
      " El volumen de la unidad D es DATOS\n",
      " El número de serie del volumen es: C007-EF70\n",
      "\n",
      " Directorio de d:\\DOCUMENTOS\\GitHub\\Curso-ciencia-de-datos\\Semana-2\n",
      "\n",
      "06/11/2020  07:44 p. m.    <DIR>          .\n",
      "06/11/2020  07:44 p. m.    <DIR>          ..\n",
      "05/11/2020  03:18 p. m.    <DIR>          .ipynb_checkpoints\n",
      "03/11/2020  03:39 p. m.    <DIR>          __pycache__\n",
      "05/11/2020  05:18 p. m.    <DIR>          archivos\n",
      "03/11/2020  03:38 p. m.             1.773 carro.py\n",
      "03/11/2020  08:49 p. m.            30.215 Clases.ipynb\n",
      "06/11/2020  07:30 p. m.                22 guest.txt\n",
      "06/11/2020  07:32 p. m.                29 guest_book.txt\n",
      "06/11/2020  05:51 p. m.            22.356 MINIPROYECTO.docx\n",
      "06/11/2020  07:38 p. m.               111 motivos.txt\n",
      "06/11/2020  06:56 p. m.               151 python.txt\n",
      "06/11/2020  07:06 p. m.               106 texto.txt\n",
      "06/11/2020  07:44 p. m.            88.183 Varios.ipynb\n",
      "06/11/2020  05:25 p. m.                68 vectores.txt\n",
      "05/11/2020  05:14 p. m.               172 ventas.txt\n",
      "06/11/2020  05:01 p. m.            90.590 wonderland.txt\n",
      "              12 archivos        233.776 bytes\n",
      "               5 dirs  592.441.073.664 bytes libres\n"
     ]
    }
   ],
   "source": [
    "ls"
   ]
  },
  {
   "cell_type": "code",
   "execution_count": 8,
   "metadata": {
    "ExecuteTime": {
     "end_time": "2020-11-07T00:47:07.692655Z",
     "start_time": "2020-11-07T00:47:07.682648Z"
    }
   },
   "outputs": [
    {
     "ename": "FileNotFoundError",
     "evalue": "[Errno 2] No such file or directory: 'alicia.txt'",
     "output_type": "error",
     "traceback": [
      "\u001b[1;31m---------------------------------------------------------------------------\u001b[0m",
      "\u001b[1;31mFileNotFoundError\u001b[0m                         Traceback (most recent call last)",
      "\u001b[1;32m<ipython-input-8-31352b1df58b>\u001b[0m in \u001b[0;36m<module>\u001b[1;34m\u001b[0m\n\u001b[0;32m      1\u001b[0m \u001b[0marchivo\u001b[0m \u001b[1;33m=\u001b[0m \u001b[1;34m'alicia.txt'\u001b[0m\u001b[1;33m\u001b[0m\u001b[1;33m\u001b[0m\u001b[0m\n\u001b[1;32m----> 2\u001b[1;33m \u001b[1;32mwith\u001b[0m \u001b[0mopen\u001b[0m\u001b[1;33m(\u001b[0m\u001b[0marchivo\u001b[0m\u001b[1;33m)\u001b[0m \u001b[1;32mas\u001b[0m \u001b[0mf\u001b[0m\u001b[1;33m:\u001b[0m\u001b[1;33m\u001b[0m\u001b[1;33m\u001b[0m\u001b[0m\n\u001b[0m\u001b[0;32m      3\u001b[0m         \u001b[0mcontents\u001b[0m \u001b[1;33m=\u001b[0m \u001b[0mf\u001b[0m\u001b[1;33m.\u001b[0m\u001b[0mread\u001b[0m\u001b[1;33m(\u001b[0m\u001b[1;33m)\u001b[0m\u001b[1;33m\u001b[0m\u001b[1;33m\u001b[0m\u001b[0m\n",
      "\u001b[1;31mFileNotFoundError\u001b[0m: [Errno 2] No such file or directory: 'alicia.txt'"
     ]
    }
   ],
   "source": [
    "archivo = 'alicia.txt'\n",
    "with open(archivo) as f:\n",
    "        contents = f.read()\n"
   ]
  },
  {
   "cell_type": "code",
   "execution_count": 9,
   "metadata": {
    "ExecuteTime": {
     "end_time": "2020-11-07T00:47:27.554121Z",
     "start_time": "2020-11-07T00:47:27.549135Z"
    }
   },
   "outputs": [
    {
     "name": "stdout",
     "output_type": "stream",
     "text": [
      "El archivo alicia.txt no existe.\n"
     ]
    }
   ],
   "source": [
    "archivo = 'alicia.txt'\n",
    "try:\n",
    "    with open(archivo) as f:\n",
    "        contents = f.read()\n",
    "except FileNotFoundError:\n",
    "    print(\"El archivo \" + archivo + \" no existe.\")"
   ]
  },
  {
   "cell_type": "markdown",
   "metadata": {},
   "source": [
    "## Analizando texto"
   ]
  },
  {
   "cell_type": "code",
   "execution_count": 14,
   "metadata": {
    "ExecuteTime": {
     "end_time": "2020-11-07T00:51:10.122975Z",
     "start_time": "2020-11-07T00:51:10.091065Z"
    }
   },
   "outputs": [
    {
     "name": "stdout",
     "output_type": "stream",
     "text": [
      "Numero de palabras en el texto:  14904\n"
     ]
    }
   ],
   "source": [
    "titulo = \"wonderland.txt\"\n",
    "\n",
    "try: \n",
    "    with open(titulo) as f:\n",
    "        contenidos =f.read()\n",
    "except:\n",
    "    print(\"El archivo \" + titulo + \" no existe.\")\n",
    "else:\n",
    "    \"\"\"contar las palabras en el texto\"\"\"\n",
    "    palabras = len(contenidos.split())\n",
    "    print(\"Numero de palabras en el texto: \", palabras)"
   ]
  },
  {
   "cell_type": "markdown",
   "metadata": {},
   "source": [
    "## <span class=\"burk\">MINIDESAFIO</span>"
   ]
  },
  {
   "cell_type": "markdown",
   "metadata": {},
   "source": [
    "**1.** Suma: Un problema común cuando se solicita una entrada numérica ocurre cuando las personas proporcionan texto en lugar de números. Cuando intentas convertir la entrada en un int, obtendrás un TypeError. Escribe un programa que solicite dos números. Súmalos e imprime el resultado. Detecte el TypeError si alguno de los valores de entrada no es un número e imprima un mensaje de error descriptivo. Pruebe su programa ingresando dos números y luego ingresando un texto en lugar de un número.\n",
    "\n",
    "**2.**. Calculadora de sumas: Envuelva su código del Ejercicio 1 en un ciclo temporal para que el usuario pueda continuar ingresando números incluso si comete un error e ingresa texto en lugar de un número.\n",
    "\n",
    "**3.** Gatos y perros: cree dos archivos, cats.txt y dogs.txt. Guarde al menos tres nombres de gatos en el primer archivo y tres nombres de perros en el segundo archivo. Escriba un programa que intente leer estos archivos e imprimir el contenido del archivo en la pantalla. Envuelva su código en un bloque try-except para detectar el error FileNotFound e imprima un mensaje amigable si falta un archivo. Mueva uno de los archivos a una ubicación diferente en su sistema y asegúrese de que el código en el bloque excepto se ejecute correctamente.\n",
    "\n",
    "**4.** Perros y gatos silenciosos: Modifique su bloque excepto en el ejercicio 3 para fallar silenciosamente si falta alguno de los archivos.\n",
    "\n",
    "**5.** Palabras comunes: visite Project Gutenberg (http://gutenberg.org/) y busque algunos textos que le gustaría analizar. Descargue los archivos de texto para estos trabajos o copie el texto sin procesar de su navegador en un archivo de texto en su computadora. \n",
    "Puede usar el método count() para averiguar cuántas veces una palabra o la frase aparece en una cadena. Por ejemplo, el siguiente código cuenta el número de veces que aparece 'rema' en una cadena:\n",
    "\n",
    "    >>> line = \"Rema, rema, rema tu barco\"\n",
    "    >>> line.count('rema')\n",
    "    2\n",
    "    >>> line.lower().count('fila')\n",
    "    3\n",
    "    \n",
    "Tenga en cuenta que convertir la cadena a minúsculas usando lower() atrapa a todas las apariencias de la palabra que está buscando, independientemente de cómo sea formateado.\n",
    "Escriba un programa que lea los archivos que encontró en el Proyecto Gutenberg y determine cuántas veces aparece la palabra \"el\" en cada texto."
   ]
  },
  {
   "cell_type": "code",
   "execution_count": null,
   "metadata": {},
   "outputs": [],
   "source": []
  },
  {
   "cell_type": "code",
   "execution_count": null,
   "metadata": {},
   "outputs": [],
   "source": []
  },
  {
   "cell_type": "code",
   "execution_count": null,
   "metadata": {},
   "outputs": [],
   "source": []
  },
  {
   "cell_type": "code",
   "execution_count": null,
   "metadata": {},
   "outputs": [],
   "source": []
  }
 ],
 "metadata": {
  "kernelspec": {
   "display_name": "Python 3",
   "language": "python",
   "name": "python3"
  },
  "language_info": {
   "codemirror_mode": {
    "name": "ipython",
    "version": 3
   },
   "file_extension": ".py",
   "mimetype": "text/x-python",
   "name": "python",
   "nbconvert_exporter": "python",
   "pygments_lexer": "ipython3",
   "version": "3.8.3"
  },
  "toc": {
   "base_numbering": 1,
   "nav_menu": {},
   "number_sections": true,
   "sideBar": true,
   "skip_h1_title": false,
   "title_cell": "Table of Contents",
   "title_sidebar": "Contents",
   "toc_cell": false,
   "toc_position": {},
   "toc_section_display": true,
   "toc_window_display": true
  },
  "varInspector": {
   "cols": {
    "lenName": 16,
    "lenType": 16,
    "lenVar": 40
   },
   "kernels_config": {
    "python": {
     "delete_cmd_postfix": "",
     "delete_cmd_prefix": "del ",
     "library": "var_list.py",
     "varRefreshCmd": "print(var_dic_list())"
    },
    "r": {
     "delete_cmd_postfix": ") ",
     "delete_cmd_prefix": "rm(",
     "library": "var_list.r",
     "varRefreshCmd": "cat(var_dic_list()) "
    }
   },
   "oldHeight": 390.4,
   "position": {
    "height": "40px",
    "left": "1232px",
    "right": "20px",
    "top": "42px",
    "width": "250px"
   },
   "types_to_exclude": [
    "module",
    "function",
    "builtin_function_or_method",
    "instance",
    "_Feature"
   ],
   "varInspector_section_display": "none",
   "window_display": true
  }
 },
 "nbformat": 4,
 "nbformat_minor": 4
}
