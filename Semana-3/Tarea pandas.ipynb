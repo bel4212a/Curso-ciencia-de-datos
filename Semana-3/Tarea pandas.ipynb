{
 "cells": [
  {
   "cell_type": "markdown",
   "metadata": {},
   "source": [
    "# Taller Pandas \n"
   ]
  },
  {
   "cell_type": "markdown",
   "metadata": {},
   "source": [
    "Para el siguiente taller se trabajaran con los archivos mencionados en cada ejercicio. Asegurarse de tenerlos en la misma carpeta que este documento."
   ]
  },
  {
   "cell_type": "markdown",
   "metadata": {},
   "source": [
    "Taller basado en el curso __Introduction to Data Science in Python__ de la universidad de Michigan."
   ]
  },
  {
   "cell_type": "markdown",
   "metadata": {},
   "source": [
    "## Parte 1"
   ]
  },
  {
   "cell_type": "markdown",
   "metadata": {
    "nbgrader": {
     "grade": false,
     "grade_id": "1",
     "locked": false,
     "solution": false
    },
    "umich_question": "prolog-000"
   },
   "source": [
    "Importe el archivo olympics.csv. Asegurese que quede en el formato adecuado."
   ]
  },
  {
   "cell_type": "markdown",
   "metadata": {},
   "source": [
    "### Pregunta 1\n",
    "Cual pais ha ganado mas medallas de oro en los juegos de verano?"
   ]
  },
  {
   "cell_type": "code",
   "execution_count": null,
   "metadata": {
    "nbgrader": {
     "grade": false,
     "locked": false,
     "solution": false
    },
    "umich_part_id": "001",
    "umich_partlist_id": "001"
   },
   "outputs": [],
   "source": []
  },
  {
   "cell_type": "markdown",
   "metadata": {},
   "source": [
    "### Pregunta 2\n",
    "Cual pais tiene la diferencia mas grande entre la cantidad de medallas de oro obtenidas en verano e invierno?\n"
   ]
  },
  {
   "cell_type": "code",
   "execution_count": null,
   "metadata": {
    "umich_part_id": "002",
    "umich_partlist_id": "001"
   },
   "outputs": [],
   "source": []
  },
  {
   "cell_type": "markdown",
   "metadata": {},
   "source": [
    "### Pregunta 3\n",
    "\n",
    "¿Qué país tiene la mayor diferencia entre el recuento de medallas de oro de verano y el recuento de medallas de oro de invierno en relación con el recuento total de medallas de oro?\n",
    "\n",
    "$$\\frac{Summer~Gold - Winter~Gold}{Total~Gold}$$\n",
    "\n",
    "Solo incluye países que hayan ganado al menos 1 oro tanto en verano como en invierno."
   ]
  },
  {
   "cell_type": "code",
   "execution_count": null,
   "metadata": {
    "umich_part_id": "003",
    "umich_partlist_id": "001"
   },
   "outputs": [],
   "source": []
  },
  {
   "cell_type": "markdown",
   "metadata": {},
   "source": [
    "### Pregunta 4\n",
    "\n",
    "Escribe una función que cree una serie llamada \"Puntos\", que es un valor ponderado donde cada medalla de oro (`Gold.2`) cuenta 3 puntos, medallas de plata (` Silver.2`) 2 puntos y medallas de bronce (` Bronce.2`) por 1 punto. La función debe devolver solo la columna (un objeto Serie) que creó, con los nombres de los países como índices.\n",
    "\n",
    "    * Esta función debería devolver una serie denominada `Puntos` de longitud 146 *"
   ]
  },
  {
   "cell_type": "code",
   "execution_count": null,
   "metadata": {},
   "outputs": [],
   "source": []
  },
  {
   "cell_type": "markdown",
   "metadata": {
    "collapsed": true,
    "umich_part_id": "004",
    "umich_partlist_id": "001"
   },
   "source": [
    "## Parte 2"
   ]
  },
  {
   "cell_type": "markdown",
   "metadata": {},
   "source": [
    "### Pregunta 1"
   ]
  },
  {
   "cell_type": "markdown",
   "metadata": {
    "collapsed": true
   },
   "source": [
    "Cargue los datos de energía del archivo Energy Indicators.xls, que es una lista de indicadores de suministro de energía y producción de electricidad renovable de las Naciones Unidas para el año 2013, y debe colocarse en un DataFrame con el nombre de la variable energía.\n",
    "\n",
    "Tenga en cuenta que este es un archivo de Excel y no un archivo de valores separados por comas. Además, asegúrese de excluir la información del encabezado y el pie de página del archivo de datos. Las dos primeras columnas son innecesarias, por lo que debe deshacerse de ellas y debe cambiar las etiquetas de las columnas para que las columnas sean:\n",
    "\n",
    "    ['País', 'Suministro de energía', 'Suministro de energía per cápita', '% renovable']\n",
    "\n",
    "Convierta el suministro de energía en gigajulios (hay 1,000,000 gigajulios en un petajulio). Para todos los países que tienen datos faltantes (por ejemplo, datos con \"...\") asegúrese de que esto se refleje como valores np.NaN.\n",
    "\n",
    "Cambie el nombre de la siguiente lista de países (para usar en preguntas posteriores):\n",
    "\n",
    "    \"República de Corea\": \"Corea del Sur\",\n",
    "    \"Estados Unidos de América\": \"Estados Unidos\",\n",
    "    \"Reino Unido de Gran Bretaña e Irlanda del Norte\": \"Reino Unido\",\n",
    "    \"China, Región Administrativa Especial de Hong Kong\": \"Hong Kong\"\n",
    "\n",
    "También hay varios países con números y / o paréntesis en su nombre. Asegúrese de eliminar estos,\n",
    "\n",
    "p.ej.\n",
    "\n",
    "    'Bolivia (Estado Plurinacional de)' debería ser 'Bolivia',\n",
    "\n",
    "    'Suiza17' debería ser 'Suiza'.\n",
    "\n",
    "\n",
    "\n",
    "A continuación, cargue los datos del PIB del archivo world_bank.csv, que es un csv que contiene el PIB de los países de 1960 a 2015 del Banco Mundial. Llame a este DataFrame GDP.\n",
    "\n",
    "Asegúrese de omitir el encabezado y cambie el nombre de la siguiente lista de países:\n",
    "\n",
    "    \"República de Corea\": \"Corea del Sur\",\n",
    "    \"Irán, República Islámica\": \"Irán\",\n",
    "    \"RAE de Hong Kong, China\": \"Hong Kong\"\n",
    "\n",
    "\n",
    "\n",
    "Finalmente, cargue los datos de Sciamgo Journal y Country Rank para Energy Engineering y Power Technology del archivo scimagojr-3.xlsx, que clasifica los países según sus contribuciones a revistas en el área mencionada anteriormente. Llame a este DataFrame ScimEn.\n",
    "\n",
    "Únase a los tres conjuntos de datos: PIB, Energía y ScimEn en un nuevo conjunto de datos (utilizando la intersección de los nombres de los países). Utilice solo los datos del PIB de los últimos 10 años (2006-2015) y solo los 15 países principales según el 'Rango' de Scimagojr (Rango 1 a 15).\n",
    "\n",
    "El índice de este DataFrame debe ser el nombre del país y las columnas deben ser \n",
    "\n",
    "['Clasificación', 'Documentos', 'Documentos citables', 'Citas', 'Autocitas', 'Citas por documento', 'H índice ',' Suministro de energía ',' Suministro de energía per cápita ','% Renovable ',' 2006 ',' 2007 ',' 2008 ',' 2009 ',' 2010 ',' 2011 ',' 2012 ',' 2013 ',' 2014 ',' 2015 '].\n"
   ]
  },
  {
   "cell_type": "code",
   "execution_count": null,
   "metadata": {},
   "outputs": [],
   "source": [
    "pd.read_('')"
   ]
  },
  {
   "cell_type": "markdown",
   "metadata": {},
   "source": [
    "### Pregunta 2"
   ]
  },
  {
   "cell_type": "markdown",
   "metadata": {},
   "source": [
    "La pregunta anterior unió tres conjuntos de datos y luego redujo esto a solo las 15 entradas principales. Cuando se unió a los conjuntos de datos, pero antes de reducir esto a los 15 elementos principales, ¿cuántas entradas perdió?"
   ]
  },
  {
   "cell_type": "code",
   "execution_count": null,
   "metadata": {},
   "outputs": [],
   "source": []
  },
  {
   "cell_type": "markdown",
   "metadata": {},
   "source": [
    "### Pregunta 3"
   ]
  },
  {
   "cell_type": "markdown",
   "metadata": {},
   "source": [
    "¿Cuál es el PIB promedio de los últimos 10 años para cada país? (excluya los valores faltantes de este cálculo)."
   ]
  },
  {
   "cell_type": "code",
   "execution_count": null,
   "metadata": {},
   "outputs": [],
   "source": []
  }
 ],
 "metadata": {
  "anaconda-cloud": {},
  "coursera": {
   "course_slug": "python-data-analysis",
   "graded_item_id": "tHmgx",
   "launcher_item_id": "Um6Bz",
   "part_id": "OQsnr"
  },
  "kernelspec": {
   "display_name": "Python 3",
   "language": "python",
   "name": "python3"
  },
  "language_info": {
   "codemirror_mode": {
    "name": "ipython",
    "version": 3
   },
   "file_extension": ".py",
   "mimetype": "text/x-python",
   "name": "python",
   "nbconvert_exporter": "python",
   "pygments_lexer": "ipython3",
   "version": "3.8.3"
  },
  "toc": {
   "base_numbering": 1,
   "nav_menu": {},
   "number_sections": true,
   "sideBar": true,
   "skip_h1_title": false,
   "title_cell": "Table of Contents",
   "title_sidebar": "Contents",
   "toc_cell": false,
   "toc_position": {},
   "toc_section_display": true,
   "toc_window_display": false
  },
  "umich": {
   "id": "Assignment 2",
   "version": "1.2"
  },
  "varInspector": {
   "cols": {
    "lenName": 16,
    "lenType": 16,
    "lenVar": 40
   },
   "kernels_config": {
    "python": {
     "delete_cmd_postfix": "",
     "delete_cmd_prefix": "del ",
     "library": "var_list.py",
     "varRefreshCmd": "print(var_dic_list())"
    },
    "r": {
     "delete_cmd_postfix": ") ",
     "delete_cmd_prefix": "rm(",
     "library": "var_list.r",
     "varRefreshCmd": "cat(var_dic_list()) "
    }
   },
   "types_to_exclude": [
    "module",
    "function",
    "builtin_function_or_method",
    "instance",
    "_Feature"
   ],
   "window_display": false
  }
 },
 "nbformat": 4,
 "nbformat_minor": 1
}
