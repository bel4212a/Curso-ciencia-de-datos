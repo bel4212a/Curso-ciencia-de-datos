{
 "cells": [
  {
   "cell_type": "markdown",
   "metadata": {},
   "source": [
    "# NumPy ( _Numerical Python_ )"
   ]
  },
  {
   "cell_type": "markdown",
   "metadata": {},
   "source": [
    "Libreria que permite manipular grandes cantidades de datos por medio del uso de objetos especiales conocidos como arreglos o <span class=\"mark\">arrays</span>, los cuales tiene un gran parecido con el tipo de datos list, pero con un manejo mucho mas optimizado hacia la manipulacion de datos de varias dimensiones. Se utiliza ampliamente en el mundo de las ciencias de datos pues son el fundamento de los DataFrames, objetos que permiten estudiar de manera tabular y grafica las relaciones entre los datos.\n",
    "\n",
    "Las listas por definicion son mas felxibles, pero los arrays de numpy son mas eficientes para el almacenamiento y manipulacion de datos."
   ]
  },
  {
   "cell_type": "code",
   "execution_count": null,
   "metadata": {
    "ExecuteTime": {
     "end_time": "2020-11-09T23:22:21.362428Z",
     "start_time": "2020-11-09T23:22:21.351726Z"
    }
   },
   "outputs": [],
   "source": [
    "# importando numpy\n",
    "import numpy\n",
    "numpy.__version__"
   ]
  },
  {
   "cell_type": "code",
   "execution_count": null,
   "metadata": {},
   "outputs": [],
   "source": []
  },
  {
   "cell_type": "code",
   "execution_count": 1,
   "metadata": {
    "ExecuteTime": {
     "end_time": "2020-11-09T23:25:49.914999Z",
     "start_time": "2020-11-09T23:25:49.906964Z"
    }
   },
   "outputs": [],
   "source": [
    "# importando numpy como debe ser\n",
    "import numpy as np"
   ]
  },
  {
   "cell_type": "code",
   "execution_count": null,
   "metadata": {},
   "outputs": [],
   "source": [
    "np.<TAB>"
   ]
  },
  {
   "cell_type": "code",
   "execution_count": null,
   "metadata": {
    "ExecuteTime": {
     "end_time": "2020-11-09T23:24:19.000645Z",
     "start_time": "2020-11-09T23:24:18.992999Z"
    }
   },
   "outputs": [],
   "source": [
    "np?"
   ]
  },
  {
   "cell_type": "markdown",
   "metadata": {},
   "source": [
    "Mas ayuda en: http://www.numpy.org."
   ]
  },
  {
   "cell_type": "markdown",
   "metadata": {},
   "source": [
    "## Arreglos en python"
   ]
  },
  {
   "cell_type": "markdown",
   "metadata": {},
   "source": [
    "##### Creando arreglos en python"
   ]
  },
  {
   "cell_type": "code",
   "execution_count": 2,
   "metadata": {
    "ExecuteTime": {
     "end_time": "2020-11-09T23:26:00.926547Z",
     "start_time": "2020-11-09T23:26:00.921621Z"
    }
   },
   "outputs": [],
   "source": [
    "import array\n",
    "\n",
    "l = [0, 1, 2, 3, 4, 5, 6]\n",
    "A = array.array('i', l)"
   ]
  },
  {
   "cell_type": "code",
   "execution_count": 3,
   "metadata": {
    "ExecuteTime": {
     "end_time": "2020-11-09T23:26:14.871010Z",
     "start_time": "2020-11-09T23:26:14.864120Z"
    }
   },
   "outputs": [
    {
     "name": "stdout",
     "output_type": "stream",
     "text": [
      "array('i', [0, 1, 2, 3, 4, 5, 6])\n",
      "<class 'array.array'>\n"
     ]
    }
   ],
   "source": [
    "print(A)\n",
    "print(type(A))"
   ]
  },
  {
   "cell_type": "markdown",
   "metadata": {},
   "source": [
    "##### Creando arreglos con numpy"
   ]
  },
  {
   "cell_type": "markdown",
   "metadata": {
    "ExecuteTime": {
     "end_time": "2020-11-09T18:05:01.375362Z",
     "start_time": "2020-11-09T18:05:01.367457Z"
    }
   },
   "source": [
    "A partir de listas. No es conveniente agregar mas de un tipo de datos al arreglo. Por ejemplo, no es buena practica mezclar enteros con strings."
   ]
  },
  {
   "cell_type": "code",
   "execution_count": 5,
   "metadata": {
    "ExecuteTime": {
     "end_time": "2020-11-09T23:27:32.900802Z",
     "start_time": "2020-11-09T23:27:32.895175Z"
    }
   },
   "outputs": [
    {
     "name": "stdout",
     "output_type": "stream",
     "text": [
      "['1' 'a' '3' '4' '5']\n"
     ]
    }
   ],
   "source": [
    "array1 = np.array([1, 'a', 3, 4, 5])\n",
    "print(array1)"
   ]
  },
  {
   "cell_type": "code",
   "execution_count": 6,
   "metadata": {
    "ExecuteTime": {
     "end_time": "2020-11-09T23:28:48.622939Z",
     "start_time": "2020-11-09T23:28:48.614022Z"
    }
   },
   "outputs": [
    {
     "name": "stdout",
     "output_type": "stream",
     "text": [
      "[3.14 4.   2.   3.  ]\n"
     ]
    }
   ],
   "source": [
    "# Ejemplo de upcasting\n",
    "\n",
    "array2 = np.array([3.14, 4, 2, 3])\n",
    "print(array2)"
   ]
  },
  {
   "cell_type": "code",
   "execution_count": 7,
   "metadata": {
    "ExecuteTime": {
     "end_time": "2020-11-09T23:29:29.701547Z",
     "start_time": "2020-11-09T23:29:29.688632Z"
    }
   },
   "outputs": [
    {
     "name": "stdout",
     "output_type": "stream",
     "text": [
      "[3.14 4.   2.   3.  ]\n"
     ]
    }
   ],
   "source": [
    "# Tambien es posible predefinir el tipo de datos\n",
    "\n",
    "array2 = np.array([3.14, 4, 2, 3], dtype = \"float32\")\n",
    "print(array2)"
   ]
  },
  {
   "cell_type": "code",
   "execution_count": 8,
   "metadata": {
    "ExecuteTime": {
     "end_time": "2020-11-09T23:30:11.674769Z",
     "start_time": "2020-11-09T23:30:11.665153Z"
    }
   },
   "outputs": [
    {
     "name": "stdout",
     "output_type": "stream",
     "text": [
      "[[1 2 3]\n",
      " [2 4 6]\n",
      " [3 8 9]]\n"
     ]
    }
   ],
   "source": [
    "# Arreglos multidimensionales\n",
    "\n",
    "arreglo = np.array([[1, 2, 3], [2, 4, 6], [3, 8, 9]])\n",
    "print(arreglo)"
   ]
  },
  {
   "cell_type": "markdown",
   "metadata": {},
   "source": [
    "##### Creando arreglos desde cero"
   ]
  },
  {
   "cell_type": "markdown",
   "metadata": {},
   "source": [
    "<span class=\"mark\">np.zeros</span>: Util para crear un arreglo de ceros."
   ]
  },
  {
   "cell_type": "code",
   "execution_count": 9,
   "metadata": {
    "ExecuteTime": {
     "end_time": "2020-11-09T23:31:27.374660Z",
     "start_time": "2020-11-09T23:31:27.356263Z"
    }
   },
   "outputs": [
    {
     "data": {
      "text/plain": [
       "array([0, 0, 0, 0, 0, 0, 0, 0, 0, 0, 0, 0, 0, 0, 0, 0, 0, 0, 0, 0, 0, 0,\n",
       "       0, 0, 0, 0, 0, 0, 0, 0, 0, 0, 0, 0, 0, 0, 0, 0, 0, 0, 0, 0, 0, 0,\n",
       "       0, 0, 0, 0, 0, 0, 0, 0, 0, 0, 0, 0, 0, 0, 0, 0, 0, 0, 0, 0, 0, 0,\n",
       "       0, 0, 0, 0, 0, 0, 0, 0, 0, 0, 0, 0, 0, 0, 0, 0, 0, 0, 0, 0, 0, 0,\n",
       "       0, 0, 0, 0, 0, 0, 0, 0, 0, 0, 0, 0])"
      ]
     },
     "execution_count": 9,
     "metadata": {},
     "output_type": "execute_result"
    }
   ],
   "source": [
    "np.zeros(100, dtype = \"int\")"
   ]
  },
  {
   "cell_type": "code",
   "execution_count": 10,
   "metadata": {
    "ExecuteTime": {
     "end_time": "2020-11-09T23:31:43.769274Z",
     "start_time": "2020-11-09T23:31:43.761853Z"
    }
   },
   "outputs": [
    {
     "data": {
      "text/plain": [
       "array([[0, 0, 0, 0, 0],\n",
       "       [0, 0, 0, 0, 0],\n",
       "       [0, 0, 0, 0, 0]])"
      ]
     },
     "execution_count": 10,
     "metadata": {},
     "output_type": "execute_result"
    }
   ],
   "source": [
    "np.zeros((3, 5), dtype = \"int\")"
   ]
  },
  {
   "cell_type": "markdown",
   "metadata": {},
   "source": [
    "<span class=\"mark\">np.ones</span>: Util para crear arreglos de unos"
   ]
  },
  {
   "cell_type": "code",
   "execution_count": 11,
   "metadata": {
    "ExecuteTime": {
     "end_time": "2020-11-09T23:32:00.580161Z",
     "start_time": "2020-11-09T23:32:00.570772Z"
    }
   },
   "outputs": [
    {
     "data": {
      "text/plain": [
       "array([1., 1., 1., 1., 1., 1., 1., 1., 1., 1., 1., 1., 1., 1., 1., 1., 1.,\n",
       "       1., 1., 1., 1., 1., 1., 1., 1., 1., 1., 1., 1., 1., 1., 1., 1., 1.,\n",
       "       1., 1., 1., 1., 1., 1., 1., 1., 1., 1., 1., 1., 1., 1., 1., 1., 1.,\n",
       "       1., 1., 1., 1., 1., 1., 1., 1., 1., 1., 1., 1., 1., 1., 1., 1., 1.,\n",
       "       1., 1., 1., 1., 1., 1., 1., 1., 1., 1., 1., 1., 1., 1., 1., 1., 1.,\n",
       "       1., 1., 1., 1., 1., 1., 1., 1., 1., 1., 1., 1., 1., 1., 1.])"
      ]
     },
     "execution_count": 11,
     "metadata": {},
     "output_type": "execute_result"
    }
   ],
   "source": [
    "np.ones(100)"
   ]
  },
  {
   "cell_type": "code",
   "execution_count": 12,
   "metadata": {
    "ExecuteTime": {
     "end_time": "2020-11-09T23:32:18.073332Z",
     "start_time": "2020-11-09T23:32:18.063720Z"
    }
   },
   "outputs": [
    {
     "data": {
      "text/plain": [
       "array([[1, 1, 1, 1, 1],\n",
       "       [1, 1, 1, 1, 1],\n",
       "       [1, 1, 1, 1, 1],\n",
       "       [1, 1, 1, 1, 1],\n",
       "       [1, 1, 1, 1, 1],\n",
       "       [1, 1, 1, 1, 1],\n",
       "       [1, 1, 1, 1, 1]])"
      ]
     },
     "execution_count": 12,
     "metadata": {},
     "output_type": "execute_result"
    }
   ],
   "source": [
    "np.ones((7, 5), dtype = \"int\")"
   ]
  },
  {
   "cell_type": "markdown",
   "metadata": {},
   "source": [
    "<span class=\"mark\">np.full</span>: Util para crear un arreglo lleno con lo que se especifique."
   ]
  },
  {
   "cell_type": "code",
   "execution_count": 14,
   "metadata": {
    "ExecuteTime": {
     "end_time": "2020-11-09T23:32:52.475067Z",
     "start_time": "2020-11-09T23:32:52.466677Z"
    }
   },
   "outputs": [
    {
     "name": "stdout",
     "output_type": "stream",
     "text": [
      "['Hola' 'Hola' 'Hola' 'Hola' 'Hola' 'Hola' 'Hola' 'Hola' 'Hola' 'Hola'\n",
      " 'Hola' 'Hola' 'Hola' 'Hola' 'Hola']\n"
     ]
    }
   ],
   "source": [
    "print(np.full(15, \"Hola\"))"
   ]
  },
  {
   "cell_type": "code",
   "execution_count": 16,
   "metadata": {
    "ExecuteTime": {
     "end_time": "2020-11-09T23:33:20.668328Z",
     "start_time": "2020-11-09T23:33:20.658683Z"
    }
   },
   "outputs": [
    {
     "name": "stdout",
     "output_type": "stream",
     "text": [
      "[[3.14 3.14 3.14 3.14 3.14 3.14 3.14 3.14]\n",
      " [3.14 3.14 3.14 3.14 3.14 3.14 3.14 3.14]\n",
      " [3.14 3.14 3.14 3.14 3.14 3.14 3.14 3.14]\n",
      " [3.14 3.14 3.14 3.14 3.14 3.14 3.14 3.14]\n",
      " [3.14 3.14 3.14 3.14 3.14 3.14 3.14 3.14]\n",
      " [3.14 3.14 3.14 3.14 3.14 3.14 3.14 3.14]\n",
      " [3.14 3.14 3.14 3.14 3.14 3.14 3.14 3.14]]\n"
     ]
    }
   ],
   "source": [
    "print(np.full((7, 8), 3.14))"
   ]
  },
  {
   "cell_type": "markdown",
   "metadata": {},
   "source": [
    "<span class=\"mark\">np.arange</span>: Util para crear un arreglo de una secuencia desde un valor inicial hasta un valor final. Se puede especificar un tercer argumento para establecer un salto. Si se da solo un argumento, el arreglo comenzara desde cero."
   ]
  },
  {
   "cell_type": "code",
   "execution_count": 17,
   "metadata": {
    "ExecuteTime": {
     "end_time": "2020-11-09T23:33:57.798459Z",
     "start_time": "2020-11-09T23:33:57.791385Z"
    }
   },
   "outputs": [
    {
     "data": {
      "text/plain": [
       "array([0, 1, 2, 3, 4])"
      ]
     },
     "execution_count": 17,
     "metadata": {},
     "output_type": "execute_result"
    }
   ],
   "source": [
    "np.arange(5)"
   ]
  },
  {
   "cell_type": "code",
   "execution_count": 18,
   "metadata": {
    "ExecuteTime": {
     "end_time": "2020-11-09T23:34:13.909587Z",
     "start_time": "2020-11-09T23:34:13.903215Z"
    }
   },
   "outputs": [
    {
     "data": {
      "text/plain": [
       "array([ 3,  4,  5,  6,  7,  8,  9, 10, 11, 12, 13, 14])"
      ]
     },
     "execution_count": 18,
     "metadata": {},
     "output_type": "execute_result"
    }
   ],
   "source": [
    "np.arange(3, 15)"
   ]
  },
  {
   "cell_type": "code",
   "execution_count": 19,
   "metadata": {
    "ExecuteTime": {
     "end_time": "2020-11-09T23:34:24.225311Z",
     "start_time": "2020-11-09T23:34:24.216892Z"
    }
   },
   "outputs": [
    {
     "data": {
      "text/plain": [
       "array([ 3,  5,  7,  9, 11, 13, 15, 17, 19])"
      ]
     },
     "execution_count": 19,
     "metadata": {},
     "output_type": "execute_result"
    }
   ],
   "source": [
    "np.arange(3, 20, 2)"
   ]
  },
  {
   "cell_type": "markdown",
   "metadata": {},
   "source": [
    "<span class=\"mark\">np.linspace</span>: Util para crear un arreglo de una cantidad de numeros entre dos valores establecidos. Los  valores retornados estaran igualmente espaciados."
   ]
  },
  {
   "cell_type": "code",
   "execution_count": 21,
   "metadata": {
    "ExecuteTime": {
     "end_time": "2020-11-09T23:35:24.612595Z",
     "start_time": "2020-11-09T23:35:24.605776Z"
    }
   },
   "outputs": [
    {
     "data": {
      "text/plain": [
       "array([0. , 0.5, 1. , 1.5, 2. ], dtype=float32)"
      ]
     },
     "execution_count": 21,
     "metadata": {},
     "output_type": "execute_result"
    }
   ],
   "source": [
    "# 5 valores de 0 a dos\n",
    "np.linspace(0, 2, 5, dtype = \"float32\")"
   ]
  },
  {
   "cell_type": "code",
   "execution_count": 22,
   "metadata": {
    "ExecuteTime": {
     "end_time": "2020-11-09T23:35:48.064592Z",
     "start_time": "2020-11-09T23:35:48.053958Z"
    }
   },
   "outputs": [
    {
     "data": {
      "text/plain": [
       "array([0.        , 0.03448276, 0.06896552, 0.10344828, 0.13793103,\n",
       "       0.17241379, 0.20689655, 0.24137931, 0.27586207, 0.31034483,\n",
       "       0.34482759, 0.37931034, 0.4137931 , 0.44827586, 0.48275862,\n",
       "       0.51724138, 0.55172414, 0.5862069 , 0.62068966, 0.65517241,\n",
       "       0.68965517, 0.72413793, 0.75862069, 0.79310345, 0.82758621,\n",
       "       0.86206897, 0.89655172, 0.93103448, 0.96551724, 1.        ])"
      ]
     },
     "execution_count": 22,
     "metadata": {},
     "output_type": "execute_result"
    }
   ],
   "source": [
    "# 30 valores de 0 a 1\n",
    "np.linspace(0, 1, 30)"
   ]
  },
  {
   "cell_type": "code",
   "execution_count": 23,
   "metadata": {
    "ExecuteTime": {
     "end_time": "2020-11-09T23:36:04.630595Z",
     "start_time": "2020-11-09T23:36:04.620581Z"
    }
   },
   "outputs": [
    {
     "data": {
      "text/plain": [
       "array([10. ,  8.4,  6.8,  5.2,  3.6,  2. ])"
      ]
     },
     "execution_count": 23,
     "metadata": {},
     "output_type": "execute_result"
    }
   ],
   "source": [
    "# Tambien se puede al reves\n",
    "np.linspace(10, 2, 6)"
   ]
  },
  {
   "cell_type": "code",
   "execution_count": 24,
   "metadata": {
    "ExecuteTime": {
     "end_time": "2020-11-09T23:36:15.030668Z",
     "start_time": "2020-11-09T23:36:15.022739Z"
    }
   },
   "outputs": [
    {
     "data": {
      "text/plain": [
       "array([-5.        , -3.88888889, -2.77777778, -1.66666667, -0.55555556,\n",
       "        0.55555556,  1.66666667,  2.77777778,  3.88888889,  5.        ])"
      ]
     },
     "execution_count": 24,
     "metadata": {},
     "output_type": "execute_result"
    }
   ],
   "source": [
    "# Y tambien con negativos\n",
    "np.linspace(-5, 5, 10)"
   ]
  },
  {
   "cell_type": "markdown",
   "metadata": {},
   "source": [
    "<span class=\"mark\">np.random.random</span>: Util para crear arreglos de numeros aleatorios."
   ]
  },
  {
   "cell_type": "code",
   "execution_count": 25,
   "metadata": {
    "ExecuteTime": {
     "end_time": "2020-11-09T23:36:42.393788Z",
     "start_time": "2020-11-09T23:36:42.384449Z"
    }
   },
   "outputs": [
    {
     "data": {
      "text/plain": [
       "array([0.89544679])"
      ]
     },
     "execution_count": 25,
     "metadata": {},
     "output_type": "execute_result"
    }
   ],
   "source": [
    "# Un numero aleatorio\n",
    "np.random.random(1)"
   ]
  },
  {
   "cell_type": "code",
   "execution_count": 27,
   "metadata": {
    "ExecuteTime": {
     "end_time": "2020-11-09T23:37:05.672537Z",
     "start_time": "2020-11-09T23:37:05.665625Z"
    }
   },
   "outputs": [
    {
     "name": "stdout",
     "output_type": "stream",
     "text": [
      "[[0.00226235 0.26091714 0.80334934 0.83249346 0.65586736 0.95082162\n",
      "  0.06517604]\n",
      " [0.54430778 0.83307964 0.19856819 0.14437792 0.37707692 0.432661\n",
      "  0.15674464]\n",
      " [0.47572592 0.51029287 0.17593658 0.14479884 0.63187908 0.70392443\n",
      "  0.85097218]\n",
      " [0.03283615 0.19055475 0.33101852 0.45855648 0.39435945 0.42170085\n",
      "  0.9045078 ]]\n"
     ]
    }
   ],
   "source": [
    "# Varios numeros aleatorios\n",
    "print(np.random.random((4, 7)))"
   ]
  },
  {
   "cell_type": "code",
   "execution_count": 28,
   "metadata": {
    "ExecuteTime": {
     "end_time": "2020-11-09T23:37:21.636522Z",
     "start_time": "2020-11-09T23:37:21.625562Z"
    }
   },
   "outputs": [
    {
     "data": {
      "text/plain": [
       "array([[0.40325028, 0.50169208, 0.9491983 , 0.8401953 , 0.31350866,\n",
       "        0.10880167, 0.18284008]])"
      ]
     },
     "execution_count": 28,
     "metadata": {},
     "output_type": "execute_result"
    }
   ],
   "source": [
    "# Varios numeros aleatorios\n",
    "np.random.random((1, 7))"
   ]
  },
  {
   "cell_type": "markdown",
   "metadata": {},
   "source": [
    "<span class=\"mark\">np.random.normal</span>: Util para crear un arreglo de numeros aleatorios de ciertas dimensiones a partir de una distribucion normal."
   ]
  },
  {
   "cell_type": "code",
   "execution_count": 29,
   "metadata": {
    "ExecuteTime": {
     "end_time": "2020-11-09T23:37:52.264406Z",
     "start_time": "2020-11-09T23:37:52.252447Z"
    }
   },
   "outputs": [
    {
     "data": {
      "text/plain": [
       "array([[ 0.18984182, -0.11353206,  1.5266491 ],\n",
       "       [-0.37370101,  0.07731785,  0.78063523],\n",
       "       [ 0.11259677,  0.07118467, -0.32033899]])"
      ]
     },
     "execution_count": 29,
     "metadata": {},
     "output_type": "execute_result"
    }
   ],
   "source": [
    "# Matriz de 3x3 a partir de una distribucion normal estandar con media cero y desvest 1\n",
    "np.random.normal(0, 1, (3, 3))"
   ]
  },
  {
   "cell_type": "markdown",
   "metadata": {},
   "source": [
    "<span class=\"mark\">np.random.randint</span>: Lista de numeros enteros aleatorios en un intervalo dado"
   ]
  },
  {
   "cell_type": "code",
   "execution_count": 30,
   "metadata": {
    "ExecuteTime": {
     "end_time": "2020-11-09T23:38:29.995722Z",
     "start_time": "2020-11-09T23:38:29.986261Z"
    }
   },
   "outputs": [
    {
     "data": {
      "text/plain": [
       "array([[8, 8, 8],\n",
       "       [9, 1, 3],\n",
       "       [9, 7, 8]])"
      ]
     },
     "execution_count": 30,
     "metadata": {},
     "output_type": "execute_result"
    }
   ],
   "source": [
    "# Matriz 3x3 de valores enteros de 0 a 9\n",
    "np.random.randint(0, 10, (3, 3))"
   ]
  },
  {
   "cell_type": "markdown",
   "metadata": {},
   "source": [
    "<span class=\"mark\">np.eye</span>: Utli para crear matrices indentidad."
   ]
  },
  {
   "cell_type": "code",
   "execution_count": 34,
   "metadata": {
    "ExecuteTime": {
     "end_time": "2020-11-09T23:39:05.105606Z",
     "start_time": "2020-11-09T23:39:05.097568Z"
    }
   },
   "outputs": [
    {
     "data": {
      "text/plain": [
       "array([[1., 0., 0., 0.],\n",
       "       [0., 1., 0., 0.],\n",
       "       [0., 0., 1., 0.],\n",
       "       [0., 0., 0., 1.]])"
      ]
     },
     "execution_count": 34,
     "metadata": {},
     "output_type": "execute_result"
    }
   ],
   "source": [
    "np.eye(4)"
   ]
  },
  {
   "cell_type": "markdown",
   "metadata": {
    "ExecuteTime": {
     "end_time": "2020-11-09T22:52:47.803648Z",
     "start_time": "2020-11-09T22:52:47.790681Z"
    }
   },
   "source": [
    "<span class=\"mark\">np.empty</span>: permite crear un array vacio, muy util para llenarlo despues de lo que queramos."
   ]
  },
  {
   "cell_type": "code",
   "execution_count": 35,
   "metadata": {
    "ExecuteTime": {
     "end_time": "2020-11-09T23:39:22.962863Z",
     "start_time": "2020-11-09T23:39:22.953043Z"
    }
   },
   "outputs": [
    {
     "data": {
      "text/plain": [
       "array([5.        , 3.88888889, 2.77777778, 1.66666667, 0.55555556,\n",
       "       0.55555556, 1.66666667, 2.77777778, 3.88888889, 5.        ])"
      ]
     },
     "execution_count": 35,
     "metadata": {},
     "output_type": "execute_result"
    }
   ],
   "source": [
    "np.empty(10)"
   ]
  },
  {
   "cell_type": "markdown",
   "metadata": {},
   "source": [
    "## Tipos de datos en NumPY"
   ]
  },
  {
   "cell_type": "markdown",
   "metadata": {},
   "source": [
    "Se habia mencionado que lo recomendado es crear arreglos con el mismo tipo de datos, buscando sobre todo la eficiencia en la gestion de la memoria y el manejo de las operaciones. A continuacion se comparte una tabla con los tipos de datos que se manejan con numpy y el prefijo dtype = \"\"\n",
    "\n",
    "Tabla tomada de: _Python Data Science Handbook, Jake VanderPlas, 2016, O'Reilly Media, Inc._"
   ]
  },
  {
   "attachments": {
    "image.png": {
     "image/png": "[encoded data removed]"
    }
   },
   "cell_type": "markdown",
   "metadata": {},
   "source": [
    "![image.png](attachment:image.png)"
   ]
  },
  {
   "cell_type": "markdown",
   "metadata": {},
   "source": [
    "## Atributos de  los arrays"
   ]
  },
  {
   "cell_type": "code",
   "execution_count": 36,
   "metadata": {
    "ExecuteTime": {
     "end_time": "2020-11-09T23:45:15.307130Z",
     "start_time": "2020-11-09T23:45:15.294058Z"
    }
   },
   "outputs": [],
   "source": [
    "import numpy as np\n",
    "np.random.seed(0) # semilla para que se produzcan siempre los mismos resultados\n",
    "\n",
    "x1 = np.random.randint(100, size = 6) # una dimension\n",
    "x2 = np.random.randint(100, size = (3, 4)) # dos dimensiones\n",
    "x3 = np.random.randint(100, size = (3, 4, 5)) # tres dimensiones"
   ]
  },
  {
   "cell_type": "code",
   "execution_count": 37,
   "metadata": {
    "ExecuteTime": {
     "end_time": "2020-11-09T23:45:18.756023Z",
     "start_time": "2020-11-09T23:45:18.747829Z"
    }
   },
   "outputs": [
    {
     "name": "stdout",
     "output_type": "stream",
     "text": [
      "[44 47 64 67 67  9]\n",
      "\n",
      "[[83 21 36 87]\n",
      " [70 88 88 12]\n",
      " [58 65 39 87]]\n",
      "\n",
      "[[[46 88 81 37 25]\n",
      "  [77 72  9 20 80]\n",
      "  [69 79 47 64 82]\n",
      "  [99 88 49 29 19]]\n",
      "\n",
      " [[19 14 39 32 65]\n",
      "  [ 9 57 32 31 74]\n",
      "  [23 35 75 55 28]\n",
      "  [34  0  0 36 53]]\n",
      "\n",
      " [[ 5 38 17 79  4]\n",
      "  [42 58 31  1 65]\n",
      "  [41 57 35 11 46]\n",
      "  [82 91  0 14 99]]]\n",
      "\n"
     ]
    }
   ],
   "source": [
    "print(x1, end = \"\\n\"*2)\n",
    "print(x2, end = \"\\n\"*2)\n",
    "print(x3, end = \"\\n\"*2)"
   ]
  },
  {
   "cell_type": "markdown",
   "metadata": {},
   "source": [
    "<span class=\"mark\">ndim</span>, <span class=\"mark\">shape</span> y <span class=\"mark\">size</span> son tres importantes atributos utlizados con frecuencia para obtener informacion de los arreglos. A continuacion se muestra su uso:"
   ]
  },
  {
   "cell_type": "code",
   "execution_count": 38,
   "metadata": {
    "ExecuteTime": {
     "end_time": "2020-11-09T23:46:41.550857Z",
     "start_time": "2020-11-09T23:46:41.542712Z"
    }
   },
   "outputs": [
    {
     "name": "stdout",
     "output_type": "stream",
     "text": [
      "x3 ndim:  3\n",
      "x3 shape: (3, 4, 5)\n",
      "x3 size:  60\n"
     ]
    }
   ],
   "source": [
    "print(\"x3 ndim: \", x3.ndim)  # Dimension del arreglo\n",
    "print(\"x3 shape:\", x3.shape) # Forma del arreglo\n",
    "print(\"x3 size: \", x3.size) # Cantidad de elementos"
   ]
  },
  {
   "cell_type": "markdown",
   "metadata": {},
   "source": [
    "<span class=\"mark\">dtype</span> es un atributo no tan comun pero bastante util a la hora de evaluar los tipos de datos almacenados:\n"
   ]
  },
  {
   "cell_type": "code",
   "execution_count": 39,
   "metadata": {
    "ExecuteTime": {
     "end_time": "2020-11-09T23:47:13.269682Z",
     "start_time": "2020-11-09T23:47:13.262830Z"
    }
   },
   "outputs": [
    {
     "name": "stdout",
     "output_type": "stream",
     "text": [
      "dtype: int32\n"
     ]
    }
   ],
   "source": [
    "print(\"dtype:\", x3.dtype) # Tipo de datos almacenados"
   ]
  },
  {
   "cell_type": "markdown",
   "metadata": {},
   "source": [
    "## Indexado en arreglos"
   ]
  },
  {
   "cell_type": "markdown",
   "metadata": {},
   "source": [
    "El indexado en los arreglo funciona de forma similar que en las listas, con la excepcion de la multidimesionalodad. A continuacion se ilustrara este hecho:"
   ]
  },
  {
   "cell_type": "code",
   "execution_count": 40,
   "metadata": {
    "ExecuteTime": {
     "end_time": "2020-11-09T23:48:02.826799Z",
     "start_time": "2020-11-09T23:48:02.817844Z"
    }
   },
   "outputs": [
    {
     "data": {
      "text/plain": [
       "array([44, 47, 64, 67, 67,  9])"
      ]
     },
     "execution_count": 40,
     "metadata": {},
     "output_type": "execute_result"
    }
   ],
   "source": [
    "x1"
   ]
  },
  {
   "cell_type": "code",
   "execution_count": 41,
   "metadata": {
    "ExecuteTime": {
     "end_time": "2020-11-09T23:48:11.767016Z",
     "start_time": "2020-11-09T23:48:11.759418Z"
    }
   },
   "outputs": [
    {
     "name": "stdout",
     "output_type": "stream",
     "text": [
      "64\n",
      "44\n",
      "67\n"
     ]
    }
   ],
   "source": [
    "print(x1[2])\n",
    "print(x1[0])\n",
    "print(x1[4])"
   ]
  },
  {
   "cell_type": "code",
   "execution_count": 42,
   "metadata": {
    "ExecuteTime": {
     "end_time": "2020-11-09T23:48:20.203156Z",
     "start_time": "2020-11-09T23:48:20.197869Z"
    }
   },
   "outputs": [
    {
     "name": "stdout",
     "output_type": "stream",
     "text": [
      "9\n",
      "67\n",
      "64\n"
     ]
    }
   ],
   "source": [
    "print(x1[-1])\n",
    "print(x1[-2])\n",
    "print(x1[-4])"
   ]
  },
  {
   "cell_type": "code",
   "execution_count": 43,
   "metadata": {
    "ExecuteTime": {
     "end_time": "2020-11-09T23:48:28.164613Z",
     "start_time": "2020-11-09T23:48:28.154487Z"
    }
   },
   "outputs": [
    {
     "data": {
      "text/plain": [
       "array([[83, 21, 36, 87],\n",
       "       [70, 88, 88, 12],\n",
       "       [58, 65, 39, 87]])"
      ]
     },
     "execution_count": 43,
     "metadata": {},
     "output_type": "execute_result"
    }
   ],
   "source": [
    "x2"
   ]
  },
  {
   "cell_type": "code",
   "execution_count": 44,
   "metadata": {
    "ExecuteTime": {
     "end_time": "2020-11-09T23:48:50.336233Z",
     "start_time": "2020-11-09T23:48:50.326629Z"
    }
   },
   "outputs": [
    {
     "name": "stdout",
     "output_type": "stream",
     "text": [
      "21\n",
      "12\n",
      "87\n"
     ]
    }
   ],
   "source": [
    "print(x2[0, 1])\n",
    "print(x2[1, 3])\n",
    "print(x2[2, 3])"
   ]
  },
  {
   "cell_type": "code",
   "execution_count": 46,
   "metadata": {
    "ExecuteTime": {
     "end_time": "2020-11-09T23:49:32.734161Z",
     "start_time": "2020-11-09T23:49:32.727544Z"
    }
   },
   "outputs": [
    {
     "name": "stdout",
     "output_type": "stream",
     "text": [
      "87\n",
      "88\n",
      "88\n"
     ]
    }
   ],
   "source": [
    "print(x2[0, -1])\n",
    "print(x2[1, -3])\n",
    "print(x2[-2, -3])"
   ]
  },
  {
   "cell_type": "markdown",
   "metadata": {},
   "source": [
    "## Slicing en arreglos"
   ]
  },
  {
   "cell_type": "markdown",
   "metadata": {},
   "source": [
    "Este concepto tambien funciona de forma similar que en las listas, con la estructura base\n",
    "\n",
    "        x[start:stop:step]"
   ]
  },
  {
   "cell_type": "markdown",
   "metadata": {},
   "source": [
    "##### Arreglos unidimensionales"
   ]
  },
  {
   "cell_type": "code",
   "execution_count": 47,
   "metadata": {
    "ExecuteTime": {
     "end_time": "2020-11-09T23:50:17.430104Z",
     "start_time": "2020-11-09T23:50:17.421447Z"
    }
   },
   "outputs": [
    {
     "name": "stdout",
     "output_type": "stream",
     "text": [
      "[0 1 2 3 4 5 6 7 8 9]\n"
     ]
    }
   ],
   "source": [
    "# Arreglo de ejemplo\n",
    "x = np.arange(10)\n",
    "print(x)"
   ]
  },
  {
   "cell_type": "code",
   "execution_count": 48,
   "metadata": {
    "ExecuteTime": {
     "end_time": "2020-11-09T23:50:25.864986Z",
     "start_time": "2020-11-09T23:50:25.860098Z"
    }
   },
   "outputs": [
    {
     "name": "stdout",
     "output_type": "stream",
     "text": [
      "[1 2 3]\n"
     ]
    }
   ],
   "source": [
    "# Elementos del 1 al 3\n",
    "print(x[1:4])"
   ]
  },
  {
   "cell_type": "code",
   "execution_count": 49,
   "metadata": {
    "ExecuteTime": {
     "end_time": "2020-11-09T23:50:31.838395Z",
     "start_time": "2020-11-09T23:50:31.828422Z"
    }
   },
   "outputs": [
    {
     "data": {
      "text/plain": [
       "array([0, 1, 2, 3, 4])"
      ]
     },
     "execution_count": 49,
     "metadata": {},
     "output_type": "execute_result"
    }
   ],
   "source": [
    "# Todos los elementos hasta el 5\n",
    "x[:5]"
   ]
  },
  {
   "cell_type": "code",
   "execution_count": 50,
   "metadata": {
    "ExecuteTime": {
     "end_time": "2020-11-09T23:50:45.295390Z",
     "start_time": "2020-11-09T23:50:45.286076Z"
    }
   },
   "outputs": [
    {
     "data": {
      "text/plain": [
       "array([9, 8, 7, 6, 5, 4, 3, 2, 1, 0])"
      ]
     },
     "execution_count": 50,
     "metadata": {},
     "output_type": "execute_result"
    }
   ],
   "source": [
    "# Arreglo al reves\n",
    "x[::-1]"
   ]
  },
  {
   "cell_type": "code",
   "execution_count": 51,
   "metadata": {
    "ExecuteTime": {
     "end_time": "2020-11-09T23:50:52.744068Z",
     "start_time": "2020-11-09T23:50:52.735967Z"
    }
   },
   "outputs": [
    {
     "data": {
      "text/plain": [
       "array([0, 2, 4, 6, 8])"
      ]
     },
     "execution_count": 51,
     "metadata": {},
     "output_type": "execute_result"
    }
   ],
   "source": [
    "# Saltando de dos en dos\n",
    "x[::2]"
   ]
  },
  {
   "cell_type": "markdown",
   "metadata": {},
   "source": [
    "##### Arreglos multidimensionales"
   ]
  },
  {
   "cell_type": "code",
   "execution_count": 52,
   "metadata": {
    "ExecuteTime": {
     "end_time": "2020-11-09T23:51:04.549862Z",
     "start_time": "2020-11-09T23:51:04.542220Z"
    }
   },
   "outputs": [
    {
     "name": "stdout",
     "output_type": "stream",
     "text": [
      "[[83 21 36 87]\n",
      " [70 88 88 12]\n",
      " [58 65 39 87]]\n"
     ]
    }
   ],
   "source": [
    "print(x2)"
   ]
  },
  {
   "cell_type": "code",
   "execution_count": 53,
   "metadata": {
    "ExecuteTime": {
     "end_time": "2020-11-09T23:51:26.856827Z",
     "start_time": "2020-11-09T23:51:26.848730Z"
    }
   },
   "outputs": [
    {
     "data": {
      "text/plain": [
       "array([[83, 21, 36],\n",
       "       [70, 88, 88]])"
      ]
     },
     "execution_count": 53,
     "metadata": {},
     "output_type": "execute_result"
    }
   ],
   "source": [
    "# Filas 0 y 1 y columnas 0, 1 y 2\n",
    "x2[:2, :3]"
   ]
  },
  {
   "cell_type": "code",
   "execution_count": 54,
   "metadata": {
    "ExecuteTime": {
     "end_time": "2020-11-09T23:51:54.197894Z",
     "start_time": "2020-11-09T23:51:54.188813Z"
    }
   },
   "outputs": [
    {
     "data": {
      "text/plain": [
       "array([[83, 36],\n",
       "       [70, 88],\n",
       "       [58, 39]])"
      ]
     },
     "execution_count": 54,
     "metadata": {},
     "output_type": "execute_result"
    }
   ],
   "source": [
    "# Filas 0, 1 y 2, y columnas de dos en dos\n",
    "x2[:3, ::2]"
   ]
  },
  {
   "cell_type": "code",
   "execution_count": 55,
   "metadata": {
    "ExecuteTime": {
     "end_time": "2020-11-09T23:52:01.893841Z",
     "start_time": "2020-11-09T23:52:01.886487Z"
    }
   },
   "outputs": [
    {
     "data": {
      "text/plain": [
       "array([[87, 39, 65, 58],\n",
       "       [12, 88, 88, 70],\n",
       "       [87, 36, 21, 83]])"
      ]
     },
     "execution_count": 55,
     "metadata": {},
     "output_type": "execute_result"
    }
   ],
   "source": [
    "# Dandole la vuelta a todo\n",
    "x2[::-1, ::-1]"
   ]
  },
  {
   "cell_type": "code",
   "execution_count": 56,
   "metadata": {
    "ExecuteTime": {
     "end_time": "2020-11-09T23:52:16.938377Z",
     "start_time": "2020-11-09T23:52:16.931650Z"
    }
   },
   "outputs": [
    {
     "data": {
      "text/plain": [
       "array([70, 88, 88, 12])"
      ]
     },
     "execution_count": 56,
     "metadata": {},
     "output_type": "execute_result"
    }
   ],
   "source": [
    "# Fila 2\n",
    "x2[1,:]"
   ]
  },
  {
   "cell_type": "code",
   "execution_count": 57,
   "metadata": {
    "ExecuteTime": {
     "end_time": "2020-11-09T23:52:23.702593Z",
     "start_time": "2020-11-09T23:52:23.693848Z"
    }
   },
   "outputs": [
    {
     "data": {
      "text/plain": [
       "array([36, 88, 39])"
      ]
     },
     "execution_count": 57,
     "metadata": {},
     "output_type": "execute_result"
    }
   ],
   "source": [
    "# Columna 3\n",
    "x2[:, 2]"
   ]
  },
  {
   "cell_type": "markdown",
   "metadata": {},
   "source": [
    "##### El problema de la copia de arrays"
   ]
  },
  {
   "cell_type": "code",
   "execution_count": 59,
   "metadata": {
    "ExecuteTime": {
     "end_time": "2020-11-09T23:53:18.406085Z",
     "start_time": "2020-11-09T23:53:18.398706Z"
    }
   },
   "outputs": [
    {
     "data": {
      "text/plain": [
       "array([[83, 21, 36, 87],\n",
       "       [70, 88, 88, 12],\n",
       "       [58, 65, 39, 87]])"
      ]
     },
     "execution_count": 59,
     "metadata": {},
     "output_type": "execute_result"
    }
   ],
   "source": [
    "x2"
   ]
  },
  {
   "cell_type": "code",
   "execution_count": 58,
   "metadata": {
    "ExecuteTime": {
     "end_time": "2020-11-09T23:53:03.937207Z",
     "start_time": "2020-11-09T23:53:03.930360Z"
    }
   },
   "outputs": [
    {
     "name": "stdout",
     "output_type": "stream",
     "text": [
      "[[83 21]\n",
      " [70 88]]\n"
     ]
    }
   ],
   "source": [
    "# Creando una submatriz a partir de una extraccion a x2\n",
    "x2_sub = x2[:2, :2]\n",
    "print(x2_sub)"
   ]
  },
  {
   "cell_type": "code",
   "execution_count": 60,
   "metadata": {
    "ExecuteTime": {
     "end_time": "2020-11-09T23:53:39.805643Z",
     "start_time": "2020-11-09T23:53:39.795323Z"
    }
   },
   "outputs": [
    {
     "name": "stdout",
     "output_type": "stream",
     "text": [
      "[[100  21]\n",
      " [ 70  88]]\n"
     ]
    }
   ],
   "source": [
    "# Modificando a x2_sub\n",
    "x2_sub[0, 0] = 100\n",
    "print(x2_sub)"
   ]
  },
  {
   "cell_type": "code",
   "execution_count": 61,
   "metadata": {
    "ExecuteTime": {
     "end_time": "2020-11-09T23:53:47.217791Z",
     "start_time": "2020-11-09T23:53:47.210624Z"
    }
   },
   "outputs": [
    {
     "name": "stdout",
     "output_type": "stream",
     "text": [
      "[[100  21  36  87]\n",
      " [ 70  88  88  12]\n",
      " [ 58  65  39  87]]\n"
     ]
    }
   ],
   "source": [
    "# X2 fue afectado!\n",
    "print(x2)"
   ]
  },
  {
   "cell_type": "markdown",
   "metadata": {},
   "source": [
    "Esto nos muestra que no se puede simplemente asignar una array a otro si lo que queremos es crear una copia. PAra ello debemos usar la instruccion <span class=\"mark\">.copy()</span>, al igual que lo hicimos con las listas."
   ]
  },
  {
   "cell_type": "code",
   "execution_count": 62,
   "metadata": {
    "ExecuteTime": {
     "end_time": "2020-11-09T23:54:33.931090Z",
     "start_time": "2020-11-09T23:54:33.923071Z"
    }
   },
   "outputs": [
    {
     "name": "stdout",
     "output_type": "stream",
     "text": [
      "[[100  21  36  87]\n",
      " [ 70  88  88  12]\n",
      " [ 58  65  39  87]]\n"
     ]
    }
   ],
   "source": [
    "print(x2)"
   ]
  },
  {
   "cell_type": "code",
   "execution_count": 63,
   "metadata": {
    "ExecuteTime": {
     "end_time": "2020-11-09T23:54:39.000932Z",
     "start_time": "2020-11-09T23:54:38.994281Z"
    }
   },
   "outputs": [
    {
     "name": "stdout",
     "output_type": "stream",
     "text": [
      "[[100  21]\n",
      " [ 70  88]]\n"
     ]
    }
   ],
   "source": [
    "# Nueva extraccion de x2\n",
    "x3_sub = x2[:2, :2].copy()\n",
    "print(x3_sub)"
   ]
  },
  {
   "cell_type": "code",
   "execution_count": 64,
   "metadata": {
    "ExecuteTime": {
     "end_time": "2020-11-09T23:54:47.487178Z",
     "start_time": "2020-11-09T23:54:47.479071Z"
    }
   },
   "outputs": [
    {
     "name": "stdout",
     "output_type": "stream",
     "text": [
      "[[99 21]\n",
      " [70 88]]\n"
     ]
    }
   ],
   "source": [
    "# Modificando a x3_sub\n",
    "x3_sub[0, 0] = 99\n",
    "print(x3_sub)"
   ]
  },
  {
   "cell_type": "code",
   "execution_count": 65,
   "metadata": {
    "ExecuteTime": {
     "end_time": "2020-11-09T23:54:54.300943Z",
     "start_time": "2020-11-09T23:54:54.291298Z"
    }
   },
   "outputs": [
    {
     "name": "stdout",
     "output_type": "stream",
     "text": [
      "[[100  21  36  87]\n",
      " [ 70  88  88  12]\n",
      " [ 58  65  39  87]]\n"
     ]
    }
   ],
   "source": [
    "# X2 no se vio afectado con el cambio a x3\n",
    "print(x2)"
   ]
  },
  {
   "cell_type": "markdown",
   "metadata": {},
   "source": [
    "## <span class=\"burk\">MINIDESAFIO</span>"
   ]
  },
  {
   "cell_type": "markdown",
   "metadata": {},
   "source": [
    "**1.** Crea un array o arreglo unidimensional donde le indiques el tamaño por teclado, y ademas crea una función que rellene el array con numeros solicitados por teclado. Muestralos por pantalla.\n",
    "\n",
    "**Tip**: el metodo <span class=\"mark\">.append()</span> que se utiliza para agregar elementos a una lista vacia tambien funciona, y de la misma manera, con arreglos\n"
   ]
  },
  {
   "cell_type": "code",
   "execution_count": 77,
   "metadata": {
    "ExecuteTime": {
     "end_time": "2020-11-10T00:38:48.333235Z",
     "start_time": "2020-11-10T00:38:41.197201Z"
    }
   },
   "outputs": [
    {
     "name": "stdout",
     "output_type": "stream",
     "text": [
      "Introduzca el tamanio del arreglo unidimensional: 5\n",
      "Introduzca el valor: 4\n",
      "Introduzca el valor: 5\n",
      "Introduzca el valor: 1\n",
      "Introduzca el valor: 2\n",
      "Introduzca el valor: 3\n",
      "[4 5 1 2 3]\n"
     ]
    }
   ],
   "source": [
    "dimension = int(input(\"Introduzca el tamanio del arreglo unidimensional: \" ))\n",
    "arreglo = np.ones(dimension, dtype = \"int\")\n",
    "\n",
    "bandera = 0\n",
    "while bandera < dimension:\n",
    "    valor = int(input(\"Introduzca el valor: \"))\n",
    "    arreglo[bandera]*=valor \n",
    "    bandera += 1\n",
    "\n",
    "print(arreglo)"
   ]
  },
  {
   "cell_type": "markdown",
   "metadata": {},
   "source": [
    "**2.** Cree dos arreglos unidimensionales del mismo tamanio. El tamanio se debe pedir por teclado. En el primero almacene nombres de paises y en el segundo sus capitales. "
   ]
  },
  {
   "cell_type": "code",
   "execution_count": 81,
   "metadata": {
    "ExecuteTime": {
     "end_time": "2020-11-10T01:01:49.729426Z",
     "start_time": "2020-11-10T01:01:38.312189Z"
    }
   },
   "outputs": [
    {
     "name": "stdout",
     "output_type": "stream",
     "text": [
      "Introduzca el tamanio del arreglo unidimensional: 2\n",
      "Introduzca el pais: colombia\n",
      "Introduzca la capital: bogota\n",
      "Introduzca el pais: venezuela\n",
      "Introduzca la capital: caracas\n",
      "['colombia' 'venezuela']\n",
      "['bogota' 'caracas']\n"
     ]
    }
   ],
   "source": [
    "dimension = int(input(\"Introduzca el tamanio del arreglo unidimensional: \" ))\n",
    "arreglo1 = np.full(dimension, \"*******************\")\n",
    "arreglo2 = np.full(dimension, \"*******************\")\n",
    "for i in range(dimension):\n",
    "    pais = input(\"Introduzca el pais: \")\n",
    "    capital = input(\"Introduzca la capital: \")\n",
    "    arreglo1[i] = pais\n",
    "    arreglo2[i] = capital\n",
    "\n",
    "print(arreglo1)\n",
    "print(arreglo2)"
   ]
  },
  {
   "cell_type": "markdown",
   "metadata": {},
   "source": [
    "**3.** Investigue que es la transpuesta de una matriz. Cree una funcion que tome una matriz cuadrada de cualquier tamanio y devuelva se transpuesta. Procure que la matriz sea cuadrada y de numeros aleatorios. Al final, compruebe que su resultado es igual que aplicar la operacion .T:\n",
    "\n",
    "    matriz.T"
   ]
  },
  {
   "cell_type": "code",
   "execution_count": 85,
   "metadata": {
    "ExecuteTime": {
     "end_time": "2020-11-10T01:04:01.552506Z",
     "start_time": "2020-11-10T01:04:01.542533Z"
    }
   },
   "outputs": [
    {
     "name": "stdout",
     "output_type": "stream",
     "text": [
      "[[ 1 -7  3]\n",
      " [ 2  4  6]\n",
      " [ 0  3  9]]\n",
      "\n",
      "\n",
      "\n",
      "[[ 1  2  0]\n",
      " [-7  4  3]\n",
      " [ 3  6  9]]\n"
     ]
    }
   ],
   "source": [
    "matriz = np.array([[1, -7, 3], [2, 4, 6], [0, 3, 9]])\n",
    "print(matriz, end= \"\\n\"*4)\n",
    "print(matriz.T)"
   ]
  },
  {
   "cell_type": "markdown",
   "metadata": {},
   "source": [
    "## Redimensionando arreglos"
   ]
  },
  {
   "cell_type": "markdown",
   "metadata": {
    "ExecuteTime": {
     "end_time": "2020-11-09T19:48:13.599458Z",
     "start_time": "2020-11-09T19:48:13.589488Z"
    }
   },
   "source": [
    "Muchas veces queremos redimensionar arreglos por diferentes motivos, por ejemplo, cuandon deseamos pasar un arreglo unidimensional a otro multidimensional. Para ello usaremos la instruccion <span class=\"mark\">reshape()</span>:"
   ]
  },
  {
   "cell_type": "code",
   "execution_count": 90,
   "metadata": {
    "ExecuteTime": {
     "end_time": "2020-11-10T01:06:42.331383Z",
     "start_time": "2020-11-10T01:06:42.320421Z"
    }
   },
   "outputs": [
    {
     "name": "stdout",
     "output_type": "stream",
     "text": [
      "[0 1 2 3 4 5 6 7 8]\n"
     ]
    }
   ],
   "source": [
    "uni = np.arange(9)\n",
    "print(uni)"
   ]
  },
  {
   "cell_type": "code",
   "execution_count": 96,
   "metadata": {
    "ExecuteTime": {
     "end_time": "2020-11-10T01:08:40.985633Z",
     "start_time": "2020-11-10T01:08:40.975659Z"
    }
   },
   "outputs": [
    {
     "name": "stdout",
     "output_type": "stream",
     "text": [
      "[[0 1 2]\n",
      " [3 4 5]\n",
      " [6 7 8]]\n"
     ]
    }
   ],
   "source": [
    "bi = uni.reshape((3, 3))\n",
    "print(bi)"
   ]
  },
  {
   "cell_type": "markdown",
   "metadata": {},
   "source": [
    "Es importante tener en cuenta que los tamanios deben ser coherentes, de lo contrario se obtendra un error."
   ]
  },
  {
   "cell_type": "code",
   "execution_count": 92,
   "metadata": {
    "ExecuteTime": {
     "end_time": "2020-11-10T01:06:59.652192Z",
     "start_time": "2020-11-10T01:06:59.642218Z"
    }
   },
   "outputs": [
    {
     "name": "stdout",
     "output_type": "stream",
     "text": [
      "[[[46 88 81 37 25]\n",
      "  [77 72  9 20 80]\n",
      "  [69 79 47 64 82]\n",
      "  [99 88 49 29 19]]\n",
      "\n",
      " [[19 14 39 32 65]\n",
      "  [ 9 57 32 31 74]\n",
      "  [23 35 75 55 28]\n",
      "  [34  0  0 36 53]]\n",
      "\n",
      " [[ 5 38 17 79  4]\n",
      "  [42 58 31  1 65]\n",
      "  [41 57 35 11 46]\n",
      "  [82 91  0 14 99]]]\n",
      "60\n"
     ]
    }
   ],
   "source": [
    "print(x3)\n",
    "print(x3.size)"
   ]
  },
  {
   "cell_type": "code",
   "execution_count": 94,
   "metadata": {
    "ExecuteTime": {
     "end_time": "2020-11-10T01:07:21.450021Z",
     "start_time": "2020-11-10T01:07:21.438084Z"
    }
   },
   "outputs": [
    {
     "name": "stdout",
     "output_type": "stream",
     "text": [
      "[46 88 81 37 25 77 72  9 20 80 69 79 47 64 82 99 88 49 29 19 19 14 39 32\n",
      " 65  9 57 32 31 74 23 35 75 55 28 34  0  0 36 53  5 38 17 79  4 42 58 31\n",
      "  1 65 41 57 35 11 46 82 91  0 14 99]\n"
     ]
    }
   ],
   "source": [
    "print(x3.reshape(60))"
   ]
  },
  {
   "cell_type": "markdown",
   "metadata": {},
   "source": [
    "## Concatenacion de arreglos y particiones"
   ]
  },
  {
   "cell_type": "markdown",
   "metadata": {},
   "source": [
    "La concatenacion es la union de dos arreglos en uno solo. Esto se puede hacer por filas o por columnas mientras que las dimensiones encajen, de lo contrario puede dar lugar a errores. PAra esto usaremos la funcion <span class=\"mark\">concatenate()</span>"
   ]
  },
  {
   "cell_type": "code",
   "execution_count": 97,
   "metadata": {
    "ExecuteTime": {
     "end_time": "2020-11-10T01:10:13.503321Z",
     "start_time": "2020-11-10T01:10:13.494344Z"
    }
   },
   "outputs": [
    {
     "name": "stdout",
     "output_type": "stream",
     "text": [
      "[1 2 3] [3 2 1]\n"
     ]
    }
   ],
   "source": [
    "a = np.array([1, 2, 3])\n",
    "b = np.array([3, 2, 1])\n",
    "print(a, b)"
   ]
  },
  {
   "cell_type": "code",
   "execution_count": 98,
   "metadata": {
    "ExecuteTime": {
     "end_time": "2020-11-10T01:10:25.509306Z",
     "start_time": "2020-11-10T01:10:25.502366Z"
    }
   },
   "outputs": [
    {
     "name": "stdout",
     "output_type": "stream",
     "text": [
      "[1 2 3 3 2 1]\n"
     ]
    }
   ],
   "source": [
    "print(np.concatenate([a, b]))"
   ]
  },
  {
   "cell_type": "code",
   "execution_count": 99,
   "metadata": {
    "ExecuteTime": {
     "end_time": "2020-11-10T01:11:09.590251Z",
     "start_time": "2020-11-10T01:11:09.582754Z"
    }
   },
   "outputs": [
    {
     "name": "stdout",
     "output_type": "stream",
     "text": [
      "[[100  21  36  87]\n",
      " [ 70  88  88  12]\n",
      " [ 58  65  39  87]]\n"
     ]
    }
   ],
   "source": [
    "print(x2)"
   ]
  },
  {
   "cell_type": "code",
   "execution_count": 100,
   "metadata": {
    "ExecuteTime": {
     "end_time": "2020-11-10T01:11:13.609796Z",
     "start_time": "2020-11-10T01:11:13.602810Z"
    }
   },
   "outputs": [
    {
     "name": "stdout",
     "output_type": "stream",
     "text": [
      "[[100  21  36  87]\n",
      " [ 70  88  88  12]\n",
      " [ 58  65  39  87]\n",
      " [100  21  36  87]\n",
      " [ 70  88  88  12]\n",
      " [ 58  65  39  87]]\n"
     ]
    }
   ],
   "source": [
    "# una matriz sobre la otra: axis = 0 es por filas\n",
    "print(np.concatenate([x2, x2], axis = 0))"
   ]
  },
  {
   "cell_type": "code",
   "execution_count": 101,
   "metadata": {
    "ExecuteTime": {
     "end_time": "2020-11-10T01:11:51.543242Z",
     "start_time": "2020-11-10T01:11:51.534271Z"
    }
   },
   "outputs": [
    {
     "name": "stdout",
     "output_type": "stream",
     "text": [
      "[[100  21  36  87 100  21  36  87]\n",
      " [ 70  88  88  12  70  88  88  12]\n",
      " [ 58  65  39  87  58  65  39  87]]\n"
     ]
    }
   ],
   "source": [
    "# una matriz al lado de la otra: axis = 1 es por filas\n",
    "print(np.concatenate([x2, x2], axis = 1))"
   ]
  },
  {
   "cell_type": "markdown",
   "metadata": {},
   "source": [
    "Splitting o particionamiento es la operacion contraria, es decir, separar un array en dos o mas diferentes, con la condicion de que coincidan las dimensiones. Para particionar arreglos unidimensionales se usara la instruccion <span class=\"mark\">.split()</span>:"
   ]
  },
  {
   "cell_type": "code",
   "execution_count": 102,
   "metadata": {
    "ExecuteTime": {
     "end_time": "2020-11-10T01:12:48.674358Z",
     "start_time": "2020-11-10T01:12:48.658409Z"
    }
   },
   "outputs": [
    {
     "name": "stdout",
     "output_type": "stream",
     "text": [
      "[1 2 3] [99 99] [3 2 1]\n"
     ]
    }
   ],
   "source": [
    "x = [1, 2, 3, 99, 99, 3, 2, 1]\n",
    "x1, x2, x3 = np.split(x, [3, 5])\n",
    "print(x1, x2, x3)"
   ]
  },
  {
   "cell_type": "code",
   "execution_count": null,
   "metadata": {},
   "outputs": [],
   "source": [
    "x = [1, 2, 3, 99, 99, 3, 2, 1]"
   ]
  },
  {
   "cell_type": "code",
   "execution_count": 103,
   "metadata": {
    "ExecuteTime": {
     "end_time": "2020-11-10T01:13:21.875143Z",
     "start_time": "2020-11-10T01:13:21.867166Z"
    }
   },
   "outputs": [
    {
     "name": "stdout",
     "output_type": "stream",
     "text": [
      "[1 2 3] [99 99  3  2  1]\n"
     ]
    }
   ],
   "source": [
    "x1, x2 = np.split(x, [3])\n",
    "print(x1, x2)"
   ]
  },
  {
   "cell_type": "code",
   "execution_count": 104,
   "metadata": {
    "ExecuteTime": {
     "end_time": "2020-11-10T01:13:54.467812Z",
     "start_time": "2020-11-10T01:13:54.456840Z"
    }
   },
   "outputs": [
    {
     "name": "stdout",
     "output_type": "stream",
     "text": [
      "[[ 0  1  2  3]\n",
      " [ 4  5  6  7]\n",
      " [ 8  9 10 11]\n",
      " [12 13 14 15]]\n"
     ]
    }
   ],
   "source": [
    "grid = np.arange(16).reshape((4, 4))\n",
    "print(grid)"
   ]
  },
  {
   "cell_type": "markdown",
   "metadata": {},
   "source": [
    "Para particionar arreglos multidimensionales, es necesario especificar si se quiere hacer la particion por filas o por columnas, ademas de indicar por medio de una lista los lugares por donde se particionara. Para realizar una particion en columnas, es decir, una particion vertical, se usa <span class=\"mark\">.vsplit()</span> y para las horizontales se usara <span class=\"mark\">.hsplit()</span>"
   ]
  },
  {
   "cell_type": "code",
   "execution_count": 105,
   "metadata": {
    "ExecuteTime": {
     "end_time": "2020-11-10T01:14:28.510063Z",
     "start_time": "2020-11-10T01:14:28.499101Z"
    }
   },
   "outputs": [
    {
     "name": "stdout",
     "output_type": "stream",
     "text": [
      "[[0 1 2 3]\n",
      " [4 5 6 7]]\n",
      "[[ 8  9 10 11]\n",
      " [12 13 14 15]]\n"
     ]
    }
   ],
   "source": [
    "# USando vsplit para particionar arreglos multidimensionales\n",
    "upper, lower = np.vsplit(grid, [2])\n",
    "print(upper)\n",
    "print(lower)"
   ]
  },
  {
   "cell_type": "code",
   "execution_count": 106,
   "metadata": {
    "ExecuteTime": {
     "end_time": "2020-11-10T01:15:01.248545Z",
     "start_time": "2020-11-10T01:15:01.236584Z"
    }
   },
   "outputs": [
    {
     "name": "stdout",
     "output_type": "stream",
     "text": [
      "[[ 0  1]\n",
      " [ 4  5]\n",
      " [ 8  9]\n",
      " [12 13]]\n",
      "[[ 2  3]\n",
      " [ 6  7]\n",
      " [10 11]\n",
      " [14 15]]\n"
     ]
    }
   ],
   "source": [
    "# Usando hsplit para particionar arreglos multidimensionales\n",
    "left, right = np.hsplit(grid, [2])\n",
    "print(left)\n",
    "print(right)"
   ]
  },
  {
   "cell_type": "markdown",
   "metadata": {},
   "source": [
    "## <span class=\"burk\">MINIDESAFIO</span>"
   ]
  },
  {
   "attachments": {
    "image.png": {
     "image/png": "[encoded data removed]"
    }
   },
   "cell_type": "markdown",
   "metadata": {},
   "source": [
    "**1.** Acceda al siguiente enlace y aprenda un poco sobre multiplicacion de matrices:\n",
    "\n",
    "https://www.problemasyecuaciones.com/matrices/multiplicar-matrices-producto-matricial-ejemplos-explicados-propiedades-matriz.html\n",
    "\n",
    "Con esa informacion clara, cree una funcion que reciba como argumentos dos matrices cuadradas y devuelva el producto de estas.\n",
    "\n",
    "Matrices:\n",
    "![image.png](attachment:image.png)"
   ]
  },
  {
   "cell_type": "markdown",
   "metadata": {},
   "source": [
    "**2.** Usando la funcion creada en el punto 1, intente hacer la operacion inversa de esas dos matrices. Seguramente necesitara redimensionar alguna o las dos matrices. Imprima el resultado en la pantalla."
   ]
  },
  {
   "cell_type": "markdown",
   "metadata": {},
   "source": [
    "**Nota:** Es posible que haya tenido alguna dificultad para realizar las anteriores operaciones...a continuacion le muestro una alternativa que seguramente le gustara mas:"
   ]
  },
  {
   "cell_type": "code",
   "execution_count": 107,
   "metadata": {
    "ExecuteTime": {
     "end_time": "2020-11-10T01:43:40.543196Z",
     "start_time": "2020-11-10T01:43:40.515273Z"
    }
   },
   "outputs": [
    {
     "name": "stdout",
     "output_type": "stream",
     "text": [
      "[[ 1  2]\n",
      " [-2  0]]\n",
      "[[1 0 2]\n",
      " [0 2 0]]\n"
     ]
    }
   ],
   "source": [
    "A = np.array([[1, 2], [-2, 0]])\n",
    "B = np.array([[1, 0, 2], [0, 2, 0]])\n",
    "print(A)\n",
    "print(B)"
   ]
  },
  {
   "cell_type": "code",
   "execution_count": 110,
   "metadata": {
    "ExecuteTime": {
     "end_time": "2020-11-10T01:44:22.717087Z",
     "start_time": "2020-11-10T01:44:22.704122Z"
    }
   },
   "outputs": [
    {
     "name": "stdout",
     "output_type": "stream",
     "text": [
      "[[1 2]\n",
      " [2 4]\n",
      " [2 4]]\n"
     ]
    }
   ],
   "source": [
    "AB = np.dot(B.reshape(3,2), A)\n",
    "print(AB)"
   ]
  },
  {
   "cell_type": "code",
   "execution_count": null,
   "metadata": {},
   "outputs": [],
   "source": []
  },
  {
   "cell_type": "markdown",
   "metadata": {
    "ExecuteTime": {
     "end_time": "2020-11-09T22:36:52.775488Z",
     "start_time": "2020-11-09T22:36:52.770503Z"
    }
   },
   "source": [
    "# Computacion en numpy: Funciones universales"
   ]
  },
  {
   "cell_type": "markdown",
   "metadata": {},
   "source": [
    "En esta seccion podremos comprobar de primera mano el porque de la importancia de numpy en el area de las ciencias de datos. Se aprendera sobre el concepto _vectorizacion_ , la cual sera una tecnica que nos permitira dejar atrs los lentos ciclos (no en todos los casos), y optimizar nuestros programas para que sean mucho mas rapidos, lo cual es escencial en el manejo de grandes cantidades de datos."
   ]
  },
  {
   "cell_type": "markdown",
   "metadata": {},
   "source": [
    "## Python es lento!!! (seccion basada en el libro _Python Data Science Handbook, Jake VanderPlas, 2016, O'Reilly Media, Inc._ )"
   ]
  },
  {
   "cell_type": "code",
   "execution_count": 1,
   "metadata": {
    "ExecuteTime": {
     "end_time": "2020-11-10T20:21:05.445112Z",
     "start_time": "2020-11-10T20:21:05.409178Z"
    }
   },
   "outputs": [
    {
     "data": {
      "text/plain": [
       "array([0.16666667, 1.        , 0.25      , 0.25      , 0.125     ])"
      ]
     },
     "execution_count": 1,
     "metadata": {},
     "output_type": "execute_result"
    }
   ],
   "source": [
    "# prueba de ello:\n",
    "import numpy as np\n",
    "np.random.seed(0)\n",
    "def compute_reciprocals(values):\n",
    "    output = np.empty(len(values))\n",
    "    for i in range(len(values)):\n",
    "        output[i] = 1.0 / values[i]\n",
    "    return output\n",
    "values = np.random.randint(1, 10, size = 5)\n",
    "compute_reciprocals(values)"
   ]
  },
  {
   "cell_type": "code",
   "execution_count": 4,
   "metadata": {
    "ExecuteTime": {
     "end_time": "2020-11-10T20:21:23.937303Z",
     "start_time": "2020-11-10T20:21:23.897380Z"
    }
   },
   "outputs": [],
   "source": [
    "big_array = np.random.randint(1, 100, size=1000000)\n",
    "%timeit compute_reciprocals(big_array)"
   ]
  },
  {
   "cell_type": "markdown",
   "metadata": {},
   "source": [
    "## Introduciendo Ufuncs"
   ]
  },
  {
   "cell_type": "markdown",
   "metadata": {},
   "source": [
    "Como se menciono anteriormente, python tiene ciertos problemas de eficiencia que se manifiestan cuando se manejan muchos datos, por ello se creo la posibilidad de vectorizar las operaciones, lo que permite que las operaciones que apliquemos sobre los arrays, terminen siendo aplicadas directamente a cada elemento del array."
   ]
  },
  {
   "cell_type": "code",
   "execution_count": 2,
   "metadata": {
    "ExecuteTime": {
     "end_time": "2020-11-10T20:21:09.808202Z",
     "start_time": "2020-11-10T20:21:09.797250Z"
    }
   },
   "outputs": [
    {
     "name": "stdout",
     "output_type": "stream",
     "text": [
      "[0.16666667 1.         0.25       0.25       0.125     ]\n",
      "[0.16666667 1.         0.25       0.25       0.125     ]\n"
     ]
    }
   ],
   "source": [
    "print(compute_reciprocals(values))\n",
    "print(1.0 / values)"
   ]
  },
  {
   "cell_type": "code",
   "execution_count": 5,
   "metadata": {
    "ExecuteTime": {
     "end_time": "2020-11-10T20:21:33.002543Z",
     "start_time": "2020-11-10T20:21:29.392211Z"
    }
   },
   "outputs": [
    {
     "name": "stdout",
     "output_type": "stream",
     "text": [
      "4.42 ms ± 93.3 µs per loop (mean ± std. dev. of 7 runs, 100 loops each)\n"
     ]
    }
   ],
   "source": [
    "%timeit (1.0 / big_array)"
   ]
  },
  {
   "cell_type": "code",
   "execution_count": 6,
   "metadata": {
    "ExecuteTime": {
     "end_time": "2020-11-10T20:22:58.210343Z",
     "start_time": "2020-11-10T20:22:58.196377Z"
    }
   },
   "outputs": [
    {
     "name": "stdout",
     "output_type": "stream",
     "text": [
      "[0.         0.5        0.66666667 0.75       0.8       ]\n"
     ]
    }
   ],
   "source": [
    "# Operaciones entre arrays\n",
    "print(np.arange(5)/np.arange(1,6))"
   ]
  },
  {
   "cell_type": "code",
   "execution_count": 8,
   "metadata": {
    "ExecuteTime": {
     "end_time": "2020-11-10T20:24:02.490253Z",
     "start_time": "2020-11-10T20:24:02.471304Z"
    }
   },
   "outputs": [
    {
     "data": {
      "text/plain": [
       "array([[  1,   2,   4],\n",
       "       [  8,  16,  32],\n",
       "       [ 64, 128, 256]], dtype=int32)"
      ]
     },
     "execution_count": 8,
     "metadata": {},
     "output_type": "execute_result"
    }
   ],
   "source": [
    "# Inclusive para arreglos multidimensionales\n",
    "arreglo = np.arange(9).reshape((3,3))\n",
    "2**arreglo"
   ]
  },
  {
   "cell_type": "markdown",
   "metadata": {},
   "source": [
    "Las ufuncs presentan dos variadades, las ufuncs unarias, que operan sobre una sola entrada, y las ufuncs binarias, que operan sobre sobre dos entradas."
   ]
  },
  {
   "cell_type": "code",
   "execution_count": 15,
   "metadata": {
    "ExecuteTime": {
     "end_time": "2020-11-10T20:29:59.740418Z",
     "start_time": "2020-11-10T20:29:59.718517Z"
    }
   },
   "outputs": [
    {
     "name": "stdout",
     "output_type": "stream",
     "text": [
      "x:  [0 1 2 3 4 5 6 7 8]\n",
      "x + 10:  [10 11 12 13 14 15 16 17 18]\n",
      "x - 10:  [-10  -9  -8  -7  -6  -5  -4  -3  -2]\n",
      "x * 10:  [ 0 10 20 30 40 50 60 70 80]\n",
      "x / 10:  [0.  0.1 0.2 0.3 0.4 0.5 0.6 0.7 0.8]\n",
      "x // 10:  [0 0 0 0 0 0 0 0 0]\n",
      "x % 10:  [0 1 2 3 4 5 6 7 8]\n",
      "-x:  [ 0 -1 -2 -3 -4 -5 -6 -7 -8]\n",
      "(5*x + 2)**2:  [   4   49  144  289  484  729 1024 1369 1764]\n"
     ]
    }
   ],
   "source": [
    "# Ejemplos de broadcasting gracias a numpy y al uso de ufuncs\n",
    "\n",
    "x = np.arange(9)\n",
    "print(\"x: \", x)\n",
    "print(\"x + 10: \", x + 10)\n",
    "print(\"x - 10: \", x - 10)\n",
    "print(\"x * 10: \", x * 10)\n",
    "print(\"x / 10: \", x / 10)\n",
    "print(\"x // 10: \", x // 10)\n",
    "print(\"x % 10: \", x % 10)\n",
    "print(\"-x: \", -x)\n",
    "print(\"(5*x + 2)**2: \", (5*x + 2)**2)"
   ]
  },
  {
   "cell_type": "markdown",
   "metadata": {},
   "source": [
    "<span class=\"mark\">np.abs()</span>: Valor absoluto"
   ]
  },
  {
   "cell_type": "code",
   "execution_count": 18,
   "metadata": {
    "ExecuteTime": {
     "end_time": "2020-11-10T20:31:54.754463Z",
     "start_time": "2020-11-10T20:31:54.739497Z"
    }
   },
   "outputs": [
    {
     "name": "stdout",
     "output_type": "stream",
     "text": [
      "y:  [-10  -9  -8  -7  -6  -5  -4  -3  -2  -1   0   1   2   3   4]\n",
      "|y|:  [10  9  8  7  6  5  4  3  2  1  0  1  2  3  4]\n"
     ]
    }
   ],
   "source": [
    "y = np.arange(-10, 5)\n",
    "print(\"y: \", y)\n",
    "print(\"|y|: \", np.abs(y))"
   ]
  },
  {
   "cell_type": "markdown",
   "metadata": {},
   "source": [
    "<span class=\"mark\">Funciones trigonometricas</span>:"
   ]
  },
  {
   "cell_type": "code",
   "execution_count": 23,
   "metadata": {
    "ExecuteTime": {
     "end_time": "2020-11-10T20:35:44.403274Z",
     "start_time": "2020-11-10T20:35:44.383366Z"
    }
   },
   "outputs": [
    {
     "name": "stdout",
     "output_type": "stream",
     "text": [
      "theta:  [0.         1.57079633 3.14159265]\n",
      "sin(theta):  [0.0000000e+00 1.0000000e+00 1.2246468e-16]\n",
      "cos(theta):  [ 1.000000e+00  6.123234e-17 -1.000000e+00]\n",
      "tan(theta):  [ 0.00000000e+00  1.63312394e+16 -1.22464680e-16]\n"
     ]
    }
   ],
   "source": [
    "theta = np.linspace(0, np.pi, 3)\n",
    "print(\"theta: \", theta)\n",
    "print(\"sin(theta): \", np.sin(theta))\n",
    "print(\"cos(theta): \", np.cos(theta))\n",
    "print(\"tan(theta): \", np.tan(theta))"
   ]
  },
  {
   "cell_type": "markdown",
   "metadata": {},
   "source": [
    "<span class=\"mark\">Funciones trigonometricas inversas</span>:"
   ]
  },
  {
   "cell_type": "code",
   "execution_count": 24,
   "metadata": {
    "ExecuteTime": {
     "end_time": "2020-11-10T20:52:50.617685Z",
     "start_time": "2020-11-10T20:52:50.611734Z"
    }
   },
   "outputs": [
    {
     "name": "stdout",
     "output_type": "stream",
     "text": [
      "x:  [0.         1.57079633 3.14159265]\n",
      "arcsin(theta):  [-1.57079633  0.          1.57079633]\n",
      "arccos(theta):  [3.14159265 1.57079633 0.        ]\n",
      "arctan(theta):  [-0.78539816  0.          0.78539816]\n"
     ]
    }
   ],
   "source": [
    "x = [-1, 0, 1]\n",
    "print(\"x: \", theta)\n",
    "print(\"arcsin(theta): \", np.arcsin(x))\n",
    "print(\"arccos(theta): \", np.arccos(x))\n",
    "print(\"arctan(theta): \", np.arctan(x))"
   ]
  },
  {
   "cell_type": "markdown",
   "metadata": {},
   "source": [
    "<span class=\"mark\">Exponentes y logaritmos</span>:"
   ]
  },
  {
   "cell_type": "code",
   "execution_count": 27,
   "metadata": {
    "ExecuteTime": {
     "end_time": "2020-11-10T20:55:32.294572Z",
     "start_time": "2020-11-10T20:55:32.275625Z"
    }
   },
   "outputs": [
    {
     "name": "stdout",
     "output_type": "stream",
     "text": [
      "x:   [1, 2, 3]\n",
      "e^x:  [ 2.71828183  7.3890561  20.08553692]\n",
      "2^x:  [2. 4. 8.]\n",
      "3^x:  [ 3  9 27]\n",
      "ln(x):  [0.         0.69314718 1.09861229]\n",
      "log2(x):  [0.        1.        1.5849625]\n",
      "log10:  [0.         0.30103    0.47712125]\n"
     ]
    }
   ],
   "source": [
    "x = [1, 2, 3]\n",
    "print(\"x:  \", x)\n",
    "print(\"e^x: \", np.exp(x))\n",
    "print(\"2^x: \", np.exp2(x))\n",
    "print(\"3^x: \", np.power(3, x))\n",
    "print(\"ln(x): \", np.log(x))\n",
    "print(\"log2(x): \", np.log2(x))\n",
    "print(\"log10: \", np.log10(x))"
   ]
  },
  {
   "cell_type": "markdown",
   "metadata": {},
   "source": [
    "##### Ufuncs especializadas"
   ]
  },
  {
   "cell_type": "code",
   "execution_count": 28,
   "metadata": {
    "ExecuteTime": {
     "end_time": "2020-11-10T20:57:15.018134Z",
     "start_time": "2020-11-10T20:57:14.565730Z"
    }
   },
   "outputs": [],
   "source": [
    "from scipy import special"
   ]
  },
  {
   "cell_type": "code",
   "execution_count": 31,
   "metadata": {
    "ExecuteTime": {
     "end_time": "2020-11-10T20:58:53.463893Z",
     "start_time": "2020-11-10T20:58:53.448938Z"
    }
   },
   "outputs": [
    {
     "name": "stdout",
     "output_type": "stream",
     "text": [
      "gamma(x):  [1.0000e+00 2.4000e+01 3.6288e+05]\n",
      "ln|gamma(x)| [ 0.          3.17805383 12.80182748]\n",
      "beta(x, 2):  [0.5        0.03333333 0.00909091]\n"
     ]
    }
   ],
   "source": [
    "# Funcion gamma y relacionadas\n",
    "x = [1, 5, 10]\n",
    "print(\"gamma(x): \", special.gamma(x))\n",
    "print(\"ln|gamma(x)|\", special.gammaln(x))\n",
    "print(\"beta(x, 2): \", special.beta(x, 2))"
   ]
  },
  {
   "cell_type": "code",
   "execution_count": 32,
   "metadata": {
    "ExecuteTime": {
     "end_time": "2020-11-10T20:59:37.764448Z",
     "start_time": "2020-11-10T20:59:37.739514Z"
    }
   },
   "outputs": [
    {
     "name": "stdout",
     "output_type": "stream",
     "text": [
      "erf(x) = [0.         0.32862676 0.67780119 0.84270079]\n",
      "erfc(x) = [1.         0.67137324 0.32219881 0.15729921]\n",
      "erfinv(x) = [0.         0.27246271 0.73286908        inf]\n"
     ]
    }
   ],
   "source": [
    "# Funcion error, su complemento e inversa\n",
    "x = np.array([0, 0.3, 0.7, 1.0])\n",
    "print(\"erf(x) =\", special.erf(x))\n",
    "print(\"erfc(x) =\", special.erfc(x))\n",
    "print(\"erfinv(x) =\", special.erfinv(x))"
   ]
  },
  {
   "cell_type": "markdown",
   "metadata": {},
   "source": [
    "## <span class=\"burk\">MINIDESAFIO</span>"
   ]
  },
  {
   "cell_type": "markdown",
   "metadata": {},
   "source": [
    "**1.** Cree un arreglo unidimensional con numero desde -100 hasta 100. Luego de esto calcule el valor obtenido de estos valores al evaluarlos en la siguiente funcion:    \n",
    "\n",
    "$f(x) = \\frac{\\cos(x - 1) + 7x - 2}{sen(2x - 3) -7x^2 + 2}$"
   ]
  },
  {
   "cell_type": "markdown",
   "metadata": {},
   "source": [
    "## Caracteristicas avanzadas de las ufuncs"
   ]
  },
  {
   "cell_type": "markdown",
   "metadata": {},
   "source": [
    "### Especificando la salida"
   ]
  },
  {
   "cell_type": "markdown",
   "metadata": {},
   "source": [
    "Muchas veces es bastante util especificar la salida en donde los calculos se almacenaran, para luego darles uso. Cuando se maneja el operador de asignacion =, muchas veces se pueden obtener errore de copiado como se vio antes. Para esto numpy ofrece la posibilidad de especificar la salidad con el argumento <span class=\"mark\">out</span>."
   ]
  },
  {
   "cell_type": "code",
   "execution_count": null,
   "metadata": {},
   "outputs": [],
   "source": []
  },
  {
   "cell_type": "code",
   "execution_count": null,
   "metadata": {},
   "outputs": [],
   "source": []
  },
  {
   "cell_type": "code",
   "execution_count": null,
   "metadata": {},
   "outputs": [],
   "source": []
  },
  {
   "cell_type": "code",
   "execution_count": null,
   "metadata": {},
   "outputs": [],
   "source": []
  },
  {
   "cell_type": "code",
   "execution_count": null,
   "metadata": {},
   "outputs": [],
   "source": []
  },
  {
   "cell_type": "code",
   "execution_count": null,
   "metadata": {},
   "outputs": [],
   "source": []
  },
  {
   "cell_type": "code",
   "execution_count": null,
   "metadata": {},
   "outputs": [],
   "source": []
  },
  {
   "cell_type": "code",
   "execution_count": null,
   "metadata": {},
   "outputs": [],
   "source": []
  },
  {
   "cell_type": "code",
   "execution_count": null,
   "metadata": {},
   "outputs": [],
   "source": []
  },
  {
   "cell_type": "code",
   "execution_count": null,
   "metadata": {},
   "outputs": [],
   "source": []
  },
  {
   "cell_type": "code",
   "execution_count": null,
   "metadata": {},
   "outputs": [],
   "source": []
  },
  {
   "cell_type": "code",
   "execution_count": null,
   "metadata": {},
   "outputs": [],
   "source": []
  },
  {
   "cell_type": "code",
   "execution_count": null,
   "metadata": {},
   "outputs": [],
   "source": []
  },
  {
   "cell_type": "code",
   "execution_count": null,
   "metadata": {},
   "outputs": [],
   "source": []
  },
  {
   "cell_type": "code",
   "execution_count": null,
   "metadata": {},
   "outputs": [],
   "source": []
  },
  {
   "cell_type": "code",
   "execution_count": null,
   "metadata": {},
   "outputs": [],
   "source": []
  }
 ],
 "metadata": {
  "kernelspec": {
   "display_name": "Python 3",
   "language": "python",
   "name": "python3"
  },
  "language_info": {
   "codemirror_mode": {
    "name": "ipython",
    "version": 3
   },
   "file_extension": ".py",
   "mimetype": "text/x-python",
   "name": "python",
   "nbconvert_exporter": "python",
   "pygments_lexer": "ipython3",
   "version": "3.8.3"
  },
  "toc": {
   "base_numbering": 1,
   "nav_menu": {},
   "number_sections": true,
   "sideBar": true,
   "skip_h1_title": false,
   "title_cell": "Table of Contents",
   "title_sidebar": "Contents",
   "toc_cell": false,
   "toc_position": {},
   "toc_section_display": true,
   "toc_window_display": false
  },
  "varInspector": {
   "cols": {
    "lenName": 16,
    "lenType": 16,
    "lenVar": 40
   },
   "kernels_config": {
    "python": {
     "delete_cmd_postfix": "",
     "delete_cmd_prefix": "del ",
     "library": "var_list.py",
     "varRefreshCmd": "print(var_dic_list())"
    },
    "r": {
     "delete_cmd_postfix": ") ",
     "delete_cmd_prefix": "rm(",
     "library": "var_list.r",
     "varRefreshCmd": "cat(var_dic_list()) "
    }
   },
   "oldHeight": 306.4,
   "position": {
    "height": "40px",
    "left": "1166px",
    "right": "20px",
    "top": "39px",
    "width": "347px"
   },
   "types_to_exclude": [
    "module",
    "function",
    "builtin_function_or_method",
    "instance",
    "_Feature"
   ],
   "varInspector_section_display": "none",
   "window_display": true
  }
 },
 "nbformat": 4,
 "nbformat_minor": 4
}
