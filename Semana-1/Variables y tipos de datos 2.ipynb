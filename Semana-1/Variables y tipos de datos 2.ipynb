{
 "cells": [
  {
   "cell_type": "markdown",
   "metadata": {},
   "source": [
    "# Tipos de datos: Listas"
   ]
  },
  {
   "cell_type": "markdown",
   "metadata": {},
   "source": [
    "Una lista es una coleccion de elementos ordenados, no relacionados entre si."
   ]
  },
  {
   "cell_type": "code",
   "execution_count": 5,
   "metadata": {
    "ExecuteTime": {
     "end_time": "2020-10-27T23:17:27.183418Z",
     "start_time": "2020-10-27T23:17:27.174444Z"
    }
   },
   "outputs": [],
   "source": [
    "# Definicion de una lista\n",
    "\n",
    "bicicletas = ['trek', 'cannondale', 'redline', 'specialized']"
   ]
  },
  {
   "cell_type": "code",
   "execution_count": 6,
   "metadata": {
    "ExecuteTime": {
     "end_time": "2020-10-27T23:17:29.434517Z",
     "start_time": "2020-10-27T23:17:29.428530Z"
    }
   },
   "outputs": [
    {
     "name": "stdout",
     "output_type": "stream",
     "text": [
      "['trek', 'cannondale', 'redline', 'specialized']\n"
     ]
    }
   ],
   "source": [
    "print(bicicletas)"
   ]
  },
  {
   "cell_type": "markdown",
   "metadata": {},
   "source": [
    "Para llamar a los elementos de una lista, se debe referir a la posicion del elemento de la lista; tal posicion es conocida como _indice_. Es importante tener en cuenta que el indice del primer elementos es el numero 0, es decir, una lista con _n_ elementos, tendra como primer indice el numero 0, y como ultimo indice el numero _n-1_.\n"
   ]
  },
  {
   "cell_type": "code",
   "execution_count": 7,
   "metadata": {
    "ExecuteTime": {
     "end_time": "2020-10-27T23:18:30.911564Z",
     "start_time": "2020-10-27T23:18:30.907575Z"
    }
   },
   "outputs": [
    {
     "name": "stdout",
     "output_type": "stream",
     "text": [
      "trek\n"
     ]
    }
   ],
   "source": [
    "# Imprimiendo el elemento 0\n",
    "print(bicicletas[0])"
   ]
  },
  {
   "cell_type": "code",
   "execution_count": 8,
   "metadata": {
    "ExecuteTime": {
     "end_time": "2020-10-27T23:18:48.758201Z",
     "start_time": "2020-10-27T23:18:48.754212Z"
    }
   },
   "outputs": [
    {
     "name": "stdout",
     "output_type": "stream",
     "text": [
      "specialized\n",
      "CANNONDALE\n"
     ]
    }
   ],
   "source": [
    "# imprimiendo el ultimo elemento\n",
    "print(bicicletas[3])\n",
    "print(bicicletas[1].upper())"
   ]
  },
  {
   "cell_type": "code",
   "execution_count": 9,
   "metadata": {
    "ExecuteTime": {
     "end_time": "2020-10-27T23:19:11.042866Z",
     "start_time": "2020-10-27T23:19:11.035885Z"
    }
   },
   "outputs": [
    {
     "name": "stdout",
     "output_type": "stream",
     "text": [
      "specialized\n"
     ]
    }
   ],
   "source": [
    "# Accediendo al ultimo elemento de la lista\n",
    "print(bicicletas[-1])"
   ]
  },
  {
   "cell_type": "code",
   "execution_count": 10,
   "metadata": {
    "ExecuteTime": {
     "end_time": "2020-10-27T23:19:33.460031Z",
     "start_time": "2020-10-27T23:19:33.455040Z"
    }
   },
   "outputs": [
    {
     "name": "stdout",
     "output_type": "stream",
     "text": [
      "redline\n"
     ]
    }
   ],
   "source": [
    "# accediendo al penultimo elemento de la lista\n",
    "print(bicicletas[-2])"
   ]
  },
  {
   "cell_type": "code",
   "execution_count": 11,
   "metadata": {
    "ExecuteTime": {
     "end_time": "2020-10-27T23:19:41.066073Z",
     "start_time": "2020-10-27T23:19:41.063082Z"
    }
   },
   "outputs": [
    {
     "name": "stdout",
     "output_type": "stream",
     "text": [
      "cannondale\n"
     ]
    }
   ],
   "source": [
    "# accediendo al antepenultimo elemento de la lista\n",
    "print(bicicletas[-3])"
   ]
  },
  {
   "cell_type": "code",
   "execution_count": 12,
   "metadata": {
    "ExecuteTime": {
     "end_time": "2020-10-27T23:19:44.067962Z",
     "start_time": "2020-10-27T23:19:44.063975Z"
    }
   },
   "outputs": [
    {
     "name": "stdout",
     "output_type": "stream",
     "text": [
      "trek\n"
     ]
    }
   ],
   "source": [
    "# accediendo al trasantepenultimo elemento de la lista\n",
    "print(bicicletas[-4])"
   ]
  },
  {
   "cell_type": "code",
   "execution_count": 13,
   "metadata": {
    "ExecuteTime": {
     "end_time": "2020-10-27T23:19:58.790313Z",
     "start_time": "2020-10-27T23:19:58.786324Z"
    },
    "run_control": {
     "marked": false
    },
    "solution": "hidden",
    "solution_first": true
   },
   "outputs": [
    {
     "name": "stdout",
     "output_type": "stream",
     "text": [
      "Mi primera bicicleta fue una Trek.\n"
     ]
    }
   ],
   "source": [
    "# Usando listas y metodos\n",
    "\n",
    "mensaje = \"Mi primera bicicleta fue una \" + bicicletas[0].title() + \".\"\n",
    "print(mensaje)"
   ]
  },
  {
   "cell_type": "markdown",
   "metadata": {},
   "source": [
    "## Creando, agregando y removiendo elementos"
   ]
  },
  {
   "cell_type": "markdown",
   "metadata": {},
   "source": [
    "<span class=\"mark\">Modificando</span> los elementos de una lista"
   ]
  },
  {
   "cell_type": "code",
   "execution_count": 14,
   "metadata": {
    "ExecuteTime": {
     "end_time": "2020-10-27T23:20:39.338099Z",
     "start_time": "2020-10-27T23:20:39.333114Z"
    }
   },
   "outputs": [
    {
     "name": "stdout",
     "output_type": "stream",
     "text": [
      "['honda', 'yamaha', 'suzuki']\n",
      "['ducati', 'yamaha', 'suzuki']\n"
     ]
    }
   ],
   "source": [
    "motocicletas = ['honda', 'yamaha', 'suzuki']\n",
    "print(motocicletas)\n",
    "motocicletas[0] = 'ducati'\n",
    "print(motocicletas)"
   ]
  },
  {
   "cell_type": "markdown",
   "metadata": {},
   "source": [
    "Agregando elementos con el metodo <span class=\"mark\">.append()</span>. El elemento se agregara al final de la lista."
   ]
  },
  {
   "cell_type": "code",
   "execution_count": 15,
   "metadata": {
    "ExecuteTime": {
     "end_time": "2020-10-27T23:21:21.755997Z",
     "start_time": "2020-10-27T23:21:21.751013Z"
    }
   },
   "outputs": [
    {
     "name": "stdout",
     "output_type": "stream",
     "text": [
      "['honda', 'yamaha', 'suzuki']\n",
      "['honda', 'yamaha', 'suzuki', 'ducati']\n"
     ]
    }
   ],
   "source": [
    "motocicletas = ['honda', 'yamaha', 'suzuki']\n",
    "print(motocicletas)\n",
    "motocicletas.append(\"ducati\")\n",
    "print(motocicletas)"
   ]
  },
  {
   "cell_type": "code",
   "execution_count": 16,
   "metadata": {
    "ExecuteTime": {
     "end_time": "2020-10-27T23:22:13.407323Z",
     "start_time": "2020-10-27T23:22:13.402337Z"
    }
   },
   "outputs": [
    {
     "name": "stdout",
     "output_type": "stream",
     "text": [
      "['arroz', 'chocolate', 'cerveza', 'huevos']\n"
     ]
    }
   ],
   "source": [
    "# Agregando elementos a una lista vacia\n",
    "lista = []\n",
    "lista.append(\"arroz\")\n",
    "lista.append(\"chocolate\")\n",
    "lista.append(\"cerveza\")\n",
    "lista.append(\"huevos\")\n",
    "print(lista)"
   ]
  },
  {
   "cell_type": "markdown",
   "metadata": {},
   "source": [
    "Agregando elementos con el metodo <span class=\"mark\">.insert()</span>. El elemento se agregara en la posicion indicada."
   ]
  },
  {
   "cell_type": "code",
   "execution_count": 17,
   "metadata": {
    "ExecuteTime": {
     "end_time": "2020-10-27T23:23:21.689259Z",
     "start_time": "2020-10-27T23:23:21.684275Z"
    }
   },
   "outputs": [
    {
     "name": "stdout",
     "output_type": "stream",
     "text": [
      "['honda', 'yamaha', 'suzuki']\n",
      "['honda', 'yamaha', 'ducati', 'suzuki']\n"
     ]
    }
   ],
   "source": [
    "motocicletas = ['honda', 'yamaha', 'suzuki']\n",
    "print(motocicletas)\n",
    "motocicletas.insert(2, \"ducati\")\n",
    "print(motocicletas)"
   ]
  },
  {
   "cell_type": "markdown",
   "metadata": {},
   "source": [
    "Eliminando elementos de una lista"
   ]
  },
  {
   "cell_type": "code",
   "execution_count": 19,
   "metadata": {
    "ExecuteTime": {
     "end_time": "2020-10-27T23:24:34.657798Z",
     "start_time": "2020-10-27T23:24:34.652813Z"
    }
   },
   "outputs": [
    {
     "name": "stdout",
     "output_type": "stream",
     "text": [
      "['honda', 'yamaha', 'suzuki']\n",
      "['honda', 'suzuki']\n"
     ]
    }
   ],
   "source": [
    "motocicletas = ['honda', 'yamaha', 'suzuki']\n",
    "print(motocicletas)\n",
    "del motocicletas[1]\n",
    "print(motocicletas)"
   ]
  },
  {
   "cell_type": "markdown",
   "metadata": {},
   "source": [
    "Eliminado con el metodo <span class=\"mark\">.pop()</span>. Este metodo permite eliminar el ultimo elemento de la lista, pero ademas conservarlo para su posterior manipulacion."
   ]
  },
  {
   "cell_type": "code",
   "execution_count": 20,
   "metadata": {
    "ExecuteTime": {
     "end_time": "2020-10-27T23:25:54.053547Z",
     "start_time": "2020-10-27T23:25:54.047564Z"
    }
   },
   "outputs": [
    {
     "name": "stdout",
     "output_type": "stream",
     "text": [
      "['honda', 'yamaha', 'suzuki']\n",
      "['honda', 'yamaha']\n",
      "suzuki\n"
     ]
    }
   ],
   "source": [
    "motocicletas = ['honda', 'yamaha', 'suzuki']\n",
    "print(motocicletas)\n",
    "elemento_borrado = motocicletas.pop()\n",
    "print(motocicletas)\n",
    "print(elemento_borrado)"
   ]
  },
  {
   "cell_type": "code",
   "execution_count": 21,
   "metadata": {
    "ExecuteTime": {
     "end_time": "2020-10-27T23:26:30.741787Z",
     "start_time": "2020-10-27T23:26:30.737798Z"
    }
   },
   "outputs": [
    {
     "name": "stdout",
     "output_type": "stream",
     "text": [
      "La ultima motocicleta vendida fue Suzuki.\n"
     ]
    }
   ],
   "source": [
    "# Ejemplo usando .pop()\n",
    "motocicletas = ['honda', 'yamaha', 'suzuki']\n",
    "ultima = motocicletas.pop()\n",
    "print(\"La ultima motocicleta vendida fue \" + ultima.title() + \".\")"
   ]
  },
  {
   "cell_type": "markdown",
   "metadata": {},
   "source": [
    "Si se le proporciona un argumento a .pop(), eliminara el elemento de esa posicion"
   ]
  },
  {
   "cell_type": "code",
   "execution_count": 22,
   "metadata": {
    "ExecuteTime": {
     "end_time": "2020-10-27T23:27:19.484661Z",
     "start_time": "2020-10-27T23:27:19.479677Z"
    }
   },
   "outputs": [
    {
     "name": "stdout",
     "output_type": "stream",
     "text": [
      "La ultima motocicleta vendida fue Yamaha.\n"
     ]
    }
   ],
   "source": [
    "motocicletas = ['honda', 'yamaha', 'suzuki']\n",
    "ultima = motocicletas.pop(1)\n",
    "print(\"La ultima motocicleta vendida fue \" + ultima.title() + \".\")"
   ]
  },
  {
   "cell_type": "markdown",
   "metadata": {},
   "source": [
    "Eliminado con el metodo <span class=\"mark\">.remove()</span>. Este metodo permite eliminar el elemento indicado por nombre de la lista. _Eliminacion por valor_. Este metodo solo elimina la primera coincidencia encontrada."
   ]
  },
  {
   "cell_type": "code",
   "execution_count": 23,
   "metadata": {
    "ExecuteTime": {
     "end_time": "2020-10-27T23:27:48.823122Z",
     "start_time": "2020-10-27T23:27:48.814141Z"
    }
   },
   "outputs": [
    {
     "name": "stdout",
     "output_type": "stream",
     "text": [
      "['honda', 'yamaha', 'suzuki']\n",
      "['honda', 'yamaha']\n"
     ]
    }
   ],
   "source": [
    "motocicletas = ['honda', 'yamaha', 'suzuki']\n",
    "print(motocicletas)\n",
    "motocicletas.remove('suzuki')\n",
    "print(motocicletas)\n"
   ]
  },
  {
   "cell_type": "code",
   "execution_count": 24,
   "metadata": {
    "ExecuteTime": {
     "end_time": "2020-10-27T23:28:57.281855Z",
     "start_time": "2020-10-27T23:28:57.268885Z"
    }
   },
   "outputs": [
    {
     "name": "stdout",
     "output_type": "stream",
     "text": [
      "['honda', 'yamaha', 'suzuki', 'ducati']\n",
      "['honda', 'yamaha', 'suzuki']\n"
     ]
    }
   ],
   "source": [
    "motocicletas = ['honda', 'yamaha', 'suzuki', 'ducati']\n",
    "print(motocicletas)\n",
    "muyCara = 'ducati'\n",
    "motocicletas.remove(muyCara)\n",
    "print(motocicletas)"
   ]
  },
  {
   "cell_type": "markdown",
   "metadata": {},
   "source": [
    "## Organizando listas"
   ]
  },
  {
   "cell_type": "markdown",
   "metadata": {},
   "source": [
    "Organizando una lista de forma **permanente** con el metodo <span class=\"mark\">sort()</span>. El orden anterior no se puede recuperar."
   ]
  },
  {
   "cell_type": "code",
   "execution_count": 25,
   "metadata": {
    "ExecuteTime": {
     "end_time": "2020-10-27T23:30:47.885110Z",
     "start_time": "2020-10-27T23:30:47.880124Z"
    }
   },
   "outputs": [
    {
     "name": "stdout",
     "output_type": "stream",
     "text": [
      "['audi', 'bmw', 'subaru', 'toyota']\n"
     ]
    }
   ],
   "source": [
    "carros = ['bmw', 'audi', 'toyota', 'subaru']\n",
    "carros.sort()\n",
    "print(carros)"
   ]
  },
  {
   "cell_type": "code",
   "execution_count": 26,
   "metadata": {
    "ExecuteTime": {
     "end_time": "2020-10-27T23:31:02.065596Z",
     "start_time": "2020-10-27T23:31:02.059613Z"
    }
   },
   "outputs": [
    {
     "name": "stdout",
     "output_type": "stream",
     "text": [
      "[1, 10, 12.5, 17, 11.9, 12.4]\n",
      "[1, 10, 11.9, 12.4, 12.5, 17]\n"
     ]
    }
   ],
   "source": [
    "numeros = [1, 10, 12.5, 17, 11.9, 12.4]\n",
    "print(numeros)\n",
    "numeros.sort()\n",
    "print(numeros)"
   ]
  },
  {
   "cell_type": "code",
   "execution_count": null,
   "metadata": {
    "ExecuteTime": {
     "end_time": "2020-10-27T15:10:28.683847Z",
     "start_time": "2020-10-27T15:10:28.667883Z"
    }
   },
   "outputs": [],
   "source": [
    "# Agregando el parametro reverser = True, se puede invertir el orden"
   ]
  },
  {
   "cell_type": "code",
   "execution_count": 27,
   "metadata": {
    "ExecuteTime": {
     "end_time": "2020-10-27T23:31:49.693543Z",
     "start_time": "2020-10-27T23:31:49.688557Z"
    }
   },
   "outputs": [
    {
     "name": "stdout",
     "output_type": "stream",
     "text": [
      "[1, 10, 12.5, 17, 11.9, 12.4]\n",
      "[17, 12.5, 12.4, 11.9, 10, 1]\n"
     ]
    }
   ],
   "source": [
    "numeros = [1, 10, 12.5, 17, 11.9, 12.4]\n",
    "print(numeros)\n",
    "numeros.sort(reverse = True)\n",
    "print(numeros)"
   ]
  },
  {
   "cell_type": "markdown",
   "metadata": {},
   "source": [
    "Ordenando una lista de forma temporal con al funcion <span class=\"mark\">sorted()</span>"
   ]
  },
  {
   "cell_type": "code",
   "execution_count": 28,
   "metadata": {
    "ExecuteTime": {
     "end_time": "2020-10-27T23:33:02.238611Z",
     "start_time": "2020-10-27T23:33:02.232626Z"
    }
   },
   "outputs": [
    {
     "name": "stdout",
     "output_type": "stream",
     "text": [
      "Lista original:  ['bmw', 'audi', 'toyota', 'subaru']\n",
      "Lista ordenada:  ['audi', 'bmw', 'subaru', 'toyota']\n",
      "Lista original, de nuevo:  ['bmw', 'audi', 'toyota', 'subaru']\n"
     ]
    }
   ],
   "source": [
    "carros = ['bmw', 'audi', 'toyota', 'subaru']\n",
    "print(\"Lista original: \", carros)\n",
    "print(\"Lista ordenada: \", sorted(carros))\n",
    "print(\"Lista original, de nuevo: \", carros)"
   ]
  },
  {
   "cell_type": "code",
   "execution_count": 29,
   "metadata": {
    "ExecuteTime": {
     "end_time": "2020-10-27T23:34:03.004427Z",
     "start_time": "2020-10-27T23:34:02.994458Z"
    }
   },
   "outputs": [
    {
     "name": "stdout",
     "output_type": "stream",
     "text": [
      "Lista original:  ['bmw', 'audi', 'toyota', 'subaru']\n",
      "Lista ordenada:  ['toyota', 'subaru', 'bmw', 'audi']\n",
      "Lista original, de nuevo:  ['bmw', 'audi', 'toyota', 'subaru']\n"
     ]
    }
   ],
   "source": [
    "# ahora en reversa\n",
    "carros = ['bmw', 'audi', 'toyota', 'subaru']\n",
    "print(\"Lista original: \", carros)\n",
    "print(\"Lista ordenada: \", sorted(carros, reverse = True))\n",
    "print(\"Lista original, de nuevo: \", carros)"
   ]
  },
  {
   "cell_type": "markdown",
   "metadata": {},
   "source": [
    "Imprimir una lista en orden inverso usando el metodo <span class=\"mark\">.reverse()</span>"
   ]
  },
  {
   "cell_type": "code",
   "execution_count": 30,
   "metadata": {
    "ExecuteTime": {
     "end_time": "2020-10-27T23:34:31.823959Z",
     "start_time": "2020-10-27T23:34:31.818972Z"
    }
   },
   "outputs": [
    {
     "name": "stdout",
     "output_type": "stream",
     "text": [
      "Lista original:  ['bmw', 'audi', 'toyota', 'subaru']\n",
      "Lista al reves:  ['subaru', 'toyota', 'audi', 'bmw']\n"
     ]
    }
   ],
   "source": [
    "carros = ['bmw', 'audi', 'toyota', 'subaru']\n",
    "print(\"Lista original: \", carros)\n",
    "carros.reverse()\n",
    "print(\"Lista al reves: \", carros)"
   ]
  },
  {
   "cell_type": "markdown",
   "metadata": {},
   "source": [
    "Encontrando la longitud de una lista con la funcion <span class=\"mark\">len()</span>. El conteno del numero de elementos comienza en uno."
   ]
  },
  {
   "cell_type": "code",
   "execution_count": 31,
   "metadata": {
    "ExecuteTime": {
     "end_time": "2020-10-27T23:35:17.773337Z",
     "start_time": "2020-10-27T23:35:17.768351Z"
    }
   },
   "outputs": [
    {
     "name": "stdout",
     "output_type": "stream",
     "text": [
      "4\n"
     ]
    }
   ],
   "source": [
    "carros = ['bmw', 'audi', 'toyota', 'subaru']\n",
    "print(len(carros))"
   ]
  },
  {
   "cell_type": "markdown",
   "metadata": {},
   "source": [
    "# Trabajando con listas y ciclos"
   ]
  },
  {
   "cell_type": "markdown",
   "metadata": {},
   "source": [
    "## Sobre el ciclo for"
   ]
  },
  {
   "cell_type": "markdown",
   "metadata": {},
   "source": [
    "El ciclo <span class=\"mark\">for</span> es lo que se conoce como un iterador, el cual nos permite realizar la misma tarea sobre un numero determinado de elementos en una misma ejecucion. "
   ]
  },
  {
   "cell_type": "code",
   "execution_count": 36,
   "metadata": {
    "ExecuteTime": {
     "end_time": "2020-10-27T23:40:48.795306Z",
     "start_time": "2020-10-27T23:40:48.789364Z"
    },
    "collapsed": true
   },
   "outputs": [
    {
     "name": "stdout",
     "output_type": "stream",
     "text": [
      "david\n",
      "carolina\n",
      "merlin\n",
      "david\n"
     ]
    }
   ],
   "source": [
    "# usando el ciclo for\n",
    "nombres = ['david', 'carolina', 'merlin', 'david']\n",
    "for nombre in nombres:\n",
    "    print(nombre)"
   ]
  },
  {
   "cell_type": "code",
   "execution_count": 37,
   "metadata": {
    "ExecuteTime": {
     "end_time": "2020-10-27T23:41:26.695174Z",
     "start_time": "2020-10-27T23:41:26.690187Z"
    }
   },
   "outputs": [
    {
     "name": "stdout",
     "output_type": "stream",
     "text": [
      "David ese fue un gran trabajo!\n",
      "Carolina ese fue un gran trabajo!\n",
      "Merlin ese fue un gran trabajo!\n",
      "David ese fue un gran trabajo!\n"
     ]
    }
   ],
   "source": [
    "nombres = ['david', 'carolina', 'merlin', 'david']\n",
    "for nombre in nombres:\n",
    "    print(nombre.title() + \" ese fue un gran trabajo!\")"
   ]
  },
  {
   "cell_type": "code",
   "execution_count": 44,
   "metadata": {
    "ExecuteTime": {
     "end_time": "2020-10-27T23:43:58.225078Z",
     "start_time": "2020-10-27T23:43:58.212114Z"
    }
   },
   "outputs": [
    {
     "name": "stdout",
     "output_type": "stream",
     "text": [
      "David ese fue un gran trabajo!\n",
      "Estaremos atentos a tu progreso David\n",
      "\n",
      "Carolina ese fue un gran trabajo!\n",
      "Estaremos atentos a tu progreso Carolina\n",
      "\n",
      "Merlin ese fue un gran trabajo!\n",
      "Estaremos atentos a tu progreso Merlin\n",
      "\n",
      "David ese fue un gran trabajo!\n",
      "Estaremos atentos a tu progreso David\n",
      "\n"
     ]
    }
   ],
   "source": [
    "nombres = ['david', 'carolina', 'merlin', 'david']\n",
    "for nombre in nombres:\n",
    "    print(nombre.title() + \" ese fue un gran trabajo!\")\n",
    "    print(\"Estaremos atentos a tu progreso \" + nombre.title(), end = \"\\n\"*2)"
   ]
  },
  {
   "cell_type": "markdown",
   "metadata": {},
   "source": [
    "Usando la funcion <span class=\"mark\">range()</span>. El ultimo numero no se toma en cuenta en la lista."
   ]
  },
  {
   "cell_type": "code",
   "execution_count": 49,
   "metadata": {
    "ExecuteTime": {
     "end_time": "2020-10-27T23:45:43.691278Z",
     "start_time": "2020-10-27T23:45:43.686291Z"
    }
   },
   "outputs": [
    {
     "name": "stdout",
     "output_type": "stream",
     "text": [
      "1\n",
      "2\n",
      "3\n",
      "4\n"
     ]
    }
   ],
   "source": [
    "for valor in range(1, 5):\n",
    "    print(valor)"
   ]
  },
  {
   "cell_type": "markdown",
   "metadata": {},
   "source": [
    "Creando una lista con <span class=\"mark\">range()</span> y conversion explicita con <span class=\"mark\">list()</span>"
   ]
  },
  {
   "cell_type": "code",
   "execution_count": 52,
   "metadata": {
    "ExecuteTime": {
     "end_time": "2020-10-27T23:47:17.871551Z",
     "start_time": "2020-10-27T23:47:17.867564Z"
    }
   },
   "outputs": [
    {
     "name": "stdout",
     "output_type": "stream",
     "text": [
      "[1, 2, 3, 4, 5, 6]\n"
     ]
    }
   ],
   "source": [
    "lista = list(range(1, 7))\n",
    "print(lista)"
   ]
  },
  {
   "cell_type": "code",
   "execution_count": 53,
   "metadata": {
    "ExecuteTime": {
     "end_time": "2020-10-27T23:47:56.248597Z",
     "start_time": "2020-10-27T23:47:56.241615Z"
    }
   },
   "outputs": [
    {
     "name": "stdout",
     "output_type": "stream",
     "text": [
      "[1, 3, 5, 7, 9]\n"
     ]
    }
   ],
   "source": [
    "# usando pasos en la funcion range\n",
    "lista2 = list(range(1, 10, 2))\n",
    "print(lista2)"
   ]
  },
  {
   "cell_type": "code",
   "execution_count": 58,
   "metadata": {
    "ExecuteTime": {
     "end_time": "2020-10-27T23:49:52.022328Z",
     "start_time": "2020-10-27T23:49:51.217483Z"
    }
   },
   "outputs": [
    {
     "name": "stdout",
     "output_type": "stream",
     "text": [
      "[1, 4, 9, 16, 25, 36, 49, 64, 81, 100]\n"
     ]
    }
   ],
   "source": [
    "# Calculando los cuadrados de los numeros del 1 al 10\n",
    "squares = []\n",
    "for value in range(1,11):\n",
    "    square = value**2\n",
    "    squares.append(square)\n",
    "\n",
    "print(squares)"
   ]
  },
  {
   "cell_type": "markdown",
   "metadata": {
    "ExecuteTime": {
     "end_time": "2020-10-27T21:21:12.451354Z",
     "start_time": "2020-10-27T21:21:12.446392Z"
    }
   },
   "source": [
    "Usando las funciones <span class=\"mark\">max()</span>, <span class=\"mark\">min()</span> y <span class=\"mark\">sum()</span>"
   ]
  },
  {
   "cell_type": "code",
   "execution_count": 65,
   "metadata": {
    "ExecuteTime": {
     "end_time": "2020-10-27T23:54:00.199205Z",
     "start_time": "2020-10-27T23:54:00.193223Z"
    }
   },
   "outputs": [
    {
     "name": "stdout",
     "output_type": "stream",
     "text": [
      "Minimo:  0\n",
      "Maximo:  9\n",
      "Suma:  45\n",
      "Minimo: 0\n"
     ]
    }
   ],
   "source": [
    "valores = [1, 2, 3, 4, 5, 6, 7, 8, 9, 0]\n",
    "print(\"Minimo: \", min(valores))\n",
    "print(\"Maximo: \", max(valores))\n",
    "print(\"Suma: \", sum(valores))\n",
    "print(\"Minimo: \" + str(min(valores)))"
   ]
  },
  {
   "cell_type": "markdown",
   "metadata": {},
   "source": [
    "## Usando _list comprehension_"
   ]
  },
  {
   "cell_type": "markdown",
   "metadata": {},
   "source": [
    "Forma abreviada de crear listas a paratir de ciclos for."
   ]
  },
  {
   "cell_type": "code",
   "execution_count": 63,
   "metadata": {
    "ExecuteTime": {
     "end_time": "2020-10-27T23:52:13.218623Z",
     "start_time": "2020-10-27T23:52:13.208655Z"
    }
   },
   "outputs": [
    {
     "data": {
      "text/plain": [
       "[1, 2, 3, 4, 5, 6, 7, 8, 9, 10]"
      ]
     },
     "execution_count": 63,
     "metadata": {},
     "output_type": "execute_result"
    }
   ],
   "source": [
    "lista = [valor for valor in range(1, 11)]\n",
    "lista"
   ]
  },
  {
   "cell_type": "markdown",
   "metadata": {},
   "source": [
    "## Slicing (Porciones de listas)"
   ]
  },
  {
   "cell_type": "code",
   "execution_count": 66,
   "metadata": {
    "ExecuteTime": {
     "end_time": "2020-10-27T23:55:13.820040Z",
     "start_time": "2020-10-27T23:55:13.816051Z"
    }
   },
   "outputs": [
    {
     "name": "stdout",
     "output_type": "stream",
     "text": [
      "['casa', 'auto', 'renta', 'mercado']\n"
     ]
    }
   ],
   "source": [
    "numeros = [\"casa\", \"auto\", \"renta\", \"mercado\", \"salarios\", \"tiquetes\", \"lujos\"]\n",
    "print(numeros[0: 4])"
   ]
  },
  {
   "cell_type": "code",
   "execution_count": 67,
   "metadata": {
    "ExecuteTime": {
     "end_time": "2020-10-27T23:55:44.123121Z",
     "start_time": "2020-10-27T23:55:44.119132Z"
    }
   },
   "outputs": [
    {
     "name": "stdout",
     "output_type": "stream",
     "text": [
      "['auto', 'renta', 'mercado', 'salarios']\n"
     ]
    }
   ],
   "source": [
    "print(numeros[1:5])"
   ]
  },
  {
   "cell_type": "code",
   "execution_count": 68,
   "metadata": {
    "ExecuteTime": {
     "end_time": "2020-10-27T23:56:06.530161Z",
     "start_time": "2020-10-27T23:56:06.525173Z"
    }
   },
   "outputs": [
    {
     "name": "stdout",
     "output_type": "stream",
     "text": [
      "['casa', 'auto', 'renta', 'mercado', 'salarios']\n"
     ]
    }
   ],
   "source": [
    "print(numeros[:5])"
   ]
  },
  {
   "cell_type": "code",
   "execution_count": 69,
   "metadata": {
    "ExecuteTime": {
     "end_time": "2020-10-27T23:56:16.723497Z",
     "start_time": "2020-10-27T23:56:16.719508Z"
    }
   },
   "outputs": [
    {
     "name": "stdout",
     "output_type": "stream",
     "text": [
      "['mercado', 'salarios', 'tiquetes', 'lujos']\n"
     ]
    }
   ],
   "source": [
    "print(numeros[3:])"
   ]
  },
  {
   "cell_type": "code",
   "execution_count": 70,
   "metadata": {
    "ExecuteTime": {
     "end_time": "2020-10-27T23:56:38.703581Z",
     "start_time": "2020-10-27T23:56:38.698594Z"
    }
   },
   "outputs": [
    {
     "name": "stdout",
     "output_type": "stream",
     "text": [
      "['casa', 'renta', 'salarios']\n"
     ]
    }
   ],
   "source": [
    "print(numeros[0:5:2])"
   ]
  },
  {
   "cell_type": "code",
   "execution_count": 71,
   "metadata": {
    "ExecuteTime": {
     "end_time": "2020-10-27T23:57:04.352892Z",
     "start_time": "2020-10-27T23:57:04.342920Z"
    }
   },
   "outputs": [
    {
     "name": "stdout",
     "output_type": "stream",
     "text": [
      "['salarios', 'tiquetes', 'lujos']\n"
     ]
    }
   ],
   "source": [
    "print(numeros[-3:])"
   ]
  },
  {
   "cell_type": "code",
   "execution_count": 72,
   "metadata": {
    "ExecuteTime": {
     "end_time": "2020-10-27T23:58:08.734871Z",
     "start_time": "2020-10-27T23:58:08.730880Z"
    }
   },
   "outputs": [
    {
     "name": "stdout",
     "output_type": "stream",
     "text": [
      "Los tres primeros jugadores de mi equipo son: \n",
      "Charles\n",
      "Martina\n",
      "Michael\n"
     ]
    }
   ],
   "source": [
    "# ejemplo\n",
    "players = ['charles', 'martina', 'michael', 'florence', 'eli']\n",
    "print(\"Los tres primeros jugadores de mi equipo son: \")\n",
    "\n",
    "for player in players[:3]:\n",
    "    print(player.title())"
   ]
  },
  {
   "cell_type": "markdown",
   "metadata": {},
   "source": [
    "El problema de la copia de listas:"
   ]
  },
  {
   "cell_type": "code",
   "execution_count": 73,
   "metadata": {
    "ExecuteTime": {
     "end_time": "2020-10-27T23:58:48.854533Z",
     "start_time": "2020-10-27T23:58:48.848590Z"
    }
   },
   "outputs": [],
   "source": [
    "comida = [\"hamburguesa\", \"zanahoria\", \"tamal\", \"arroz\"]\n",
    "\n",
    "#Esta copia da problemas\n",
    "comida2 = comida"
   ]
  },
  {
   "cell_type": "code",
   "execution_count": 74,
   "metadata": {
    "ExecuteTime": {
     "end_time": "2020-10-27T23:58:53.660216Z",
     "start_time": "2020-10-27T23:58:53.656228Z"
    }
   },
   "outputs": [
    {
     "name": "stdout",
     "output_type": "stream",
     "text": [
      "['hamburguesa', 'zanahoria', 'tamal', 'arroz']\n",
      "['hamburguesa', 'zanahoria', 'tamal', 'arroz']\n"
     ]
    }
   ],
   "source": [
    "print(comida)\n",
    "print(comida2)"
   ]
  },
  {
   "cell_type": "code",
   "execution_count": 75,
   "metadata": {
    "ExecuteTime": {
     "end_time": "2020-10-27T23:59:15.254273Z",
     "start_time": "2020-10-27T23:59:15.248293Z"
    }
   },
   "outputs": [
    {
     "name": "stdout",
     "output_type": "stream",
     "text": [
      "['hamburguesa', 'zanahoria', 'tamal', 'arroz', 'helado']\n",
      "['hamburguesa', 'zanahoria', 'tamal', 'arroz', 'helado']\n"
     ]
    }
   ],
   "source": [
    "comida.append(\"helado\")\n",
    "print(comida)\n",
    "print(comida2)"
   ]
  },
  {
   "cell_type": "markdown",
   "metadata": {
    "ExecuteTime": {
     "end_time": "2020-10-27T21:41:05.084268Z",
     "start_time": "2020-10-27T21:41:05.079282Z"
    }
   },
   "source": [
    "Como hacer una copia correcta usando <span class=\"mark\">slicing</span>?"
   ]
  },
  {
   "cell_type": "code",
   "execution_count": 76,
   "metadata": {
    "ExecuteTime": {
     "end_time": "2020-10-28T00:00:11.693516Z",
     "start_time": "2020-10-28T00:00:11.690522Z"
    }
   },
   "outputs": [
    {
     "name": "stdout",
     "output_type": "stream",
     "text": [
      "['hamburguesa', 'zanahoria', 'tamal', 'arroz', 'helado']\n",
      "['hamburguesa', 'zanahoria', 'tamal', 'arroz', 'helado']\n"
     ]
    }
   ],
   "source": [
    "# Esta copia no da problemas\n",
    "comida3 = comida[:]\n",
    "print(comida)\n",
    "print(comida3)"
   ]
  },
  {
   "cell_type": "code",
   "execution_count": 77,
   "metadata": {
    "ExecuteTime": {
     "end_time": "2020-10-28T00:00:21.839273Z",
     "start_time": "2020-10-28T00:00:21.834288Z"
    }
   },
   "outputs": [
    {
     "name": "stdout",
     "output_type": "stream",
     "text": [
      "['hamburguesa', 'zanahoria', 'tamal', 'arroz', 'helado', 'lentejas']\n",
      "['hamburguesa', 'zanahoria', 'tamal', 'arroz', 'helado']\n"
     ]
    }
   ],
   "source": [
    "comida.append(\"lentejas\")\n",
    "print(comida)\n",
    "print(comida3)"
   ]
  },
  {
   "cell_type": "markdown",
   "metadata": {},
   "source": [
    "Copiando una lista con el metodo <span class=\"mark\">.copy()</span>"
   ]
  },
  {
   "cell_type": "code",
   "execution_count": 78,
   "metadata": {
    "ExecuteTime": {
     "end_time": "2020-10-28T00:00:59.499929Z",
     "start_time": "2020-10-28T00:00:59.493946Z"
    }
   },
   "outputs": [
    {
     "name": "stdout",
     "output_type": "stream",
     "text": [
      "['hamburguesa', 'zanahoria', 'tamal', 'arroz', 'helado', 'lentejas']\n",
      "['hamburguesa', 'zanahoria', 'tamal', 'arroz', 'helado', 'lentejas']\n"
     ]
    }
   ],
   "source": [
    "comida4 = comida.copy()\n",
    "print(comida)\n",
    "print(comida4)"
   ]
  },
  {
   "cell_type": "code",
   "execution_count": 79,
   "metadata": {
    "ExecuteTime": {
     "end_time": "2020-10-28T00:01:12.793675Z",
     "start_time": "2020-10-28T00:01:12.783704Z"
    }
   },
   "outputs": [
    {
     "name": "stdout",
     "output_type": "stream",
     "text": [
      "['hamburguesa', 'zanahoria', 'tamal', 'arroz', 'helado']\n",
      "['hamburguesa', 'zanahoria', 'tamal', 'arroz', 'helado', 'lentejas']\n"
     ]
    }
   ],
   "source": [
    "comida.pop()\n",
    "print(comida)\n",
    "print(comida4)"
   ]
  },
  {
   "cell_type": "markdown",
   "metadata": {
    "ExecuteTime": {
     "end_time": "2020-10-27T21:49:16.398250Z",
     "start_time": "2020-10-27T21:49:12.979261Z"
    }
   },
   "source": [
    "# Tuplas"
   ]
  },
  {
   "cell_type": "markdown",
   "metadata": {
    "ExecuteTime": {
     "end_time": "2020-10-27T21:49:18.477737Z",
     "start_time": "2020-10-27T21:49:18.466765Z"
    }
   },
   "source": [
    "Se refieren a lista **inmutables**, es decir, que no se pueden modificar"
   ]
  },
  {
   "cell_type": "code",
   "execution_count": 81,
   "metadata": {
    "ExecuteTime": {
     "end_time": "2020-10-28T00:03:34.709231Z",
     "start_time": "2020-10-28T00:03:34.705243Z"
    }
   },
   "outputs": [
    {
     "name": "stdout",
     "output_type": "stream",
     "text": [
      "(200, 50, 16)\n"
     ]
    }
   ],
   "source": [
    "dimensiones = (200, 50, 16)\n",
    "print(dimensiones)"
   ]
  },
  {
   "cell_type": "code",
   "execution_count": 82,
   "metadata": {
    "ExecuteTime": {
     "end_time": "2020-10-28T00:03:51.214351Z",
     "start_time": "2020-10-28T00:03:51.207368Z"
    }
   },
   "outputs": [
    {
     "name": "stdout",
     "output_type": "stream",
     "text": [
      "200\n",
      "50\n",
      "16\n",
      "(16,)\n"
     ]
    }
   ],
   "source": [
    "print(dimensiones[0])\n",
    "print(dimensiones[1])\n",
    "print(dimensiones[2])\n",
    "print(dimensiones[2:])"
   ]
  },
  {
   "cell_type": "code",
   "execution_count": 83,
   "metadata": {
    "ExecuteTime": {
     "end_time": "2020-10-28T00:04:30.781940Z",
     "start_time": "2020-10-28T00:04:30.773961Z"
    }
   },
   "outputs": [
    {
     "ename": "TypeError",
     "evalue": "'tuple' object does not support item assignment",
     "output_type": "error",
     "traceback": [
      "\u001b[1;31m---------------------------------------------------------------------------\u001b[0m",
      "\u001b[1;31mTypeError\u001b[0m                                 Traceback (most recent call last)",
      "\u001b[1;32m<ipython-input-83-cdd41c8f3882>\u001b[0m in \u001b[0;36m<module>\u001b[1;34m\u001b[0m\n\u001b[1;32m----> 1\u001b[1;33m \u001b[0mdimensiones\u001b[0m\u001b[1;33m[\u001b[0m\u001b[1;36m0\u001b[0m\u001b[1;33m]\u001b[0m \u001b[1;33m=\u001b[0m \u001b[1;36m1000\u001b[0m\u001b[1;33m\u001b[0m\u001b[1;33m\u001b[0m\u001b[0m\n\u001b[0m",
      "\u001b[1;31mTypeError\u001b[0m: 'tuple' object does not support item assignment"
     ]
    }
   ],
   "source": [
    "dimensiones[0] = 1000"
   ]
  },
  {
   "cell_type": "code",
   "execution_count": 84,
   "metadata": {
    "ExecuteTime": {
     "end_time": "2020-10-28T00:04:56.786375Z",
     "start_time": "2020-10-28T00:04:56.776408Z"
    }
   },
   "outputs": [
    {
     "name": "stdout",
     "output_type": "stream",
     "text": [
      "1\n",
      "3\n",
      "8\n",
      "9\n",
      "11\n"
     ]
    }
   ],
   "source": [
    "tupla = (1, 3, 8, 9, 11)\n",
    "for valor in tupla:\n",
    "    print(valor)"
   ]
  },
  {
   "cell_type": "code",
   "execution_count": 88,
   "metadata": {
    "ExecuteTime": {
     "end_time": "2020-10-28T00:07:08.301258Z",
     "start_time": "2020-10-28T00:07:08.291316Z"
    }
   },
   "outputs": [
    {
     "name": "stdout",
     "output_type": "stream",
     "text": [
      "[1, 2, 3, 4, 5]\n",
      "(1, 2, 3, 4, 5)\n",
      "[100, 2, 3, 4, 5]\n"
     ]
    },
    {
     "ename": "TypeError",
     "evalue": "'tuple' object does not support item assignment",
     "output_type": "error",
     "traceback": [
      "\u001b[1;31m---------------------------------------------------------------------------\u001b[0m",
      "\u001b[1;31mTypeError\u001b[0m                                 Traceback (most recent call last)",
      "\u001b[1;32m<ipython-input-88-23e6581b201e>\u001b[0m in \u001b[0;36m<module>\u001b[1;34m\u001b[0m\n\u001b[0;32m      6\u001b[0m \u001b[0mprint\u001b[0m\u001b[1;33m(\u001b[0m\u001b[0mcosas\u001b[0m\u001b[1;33m)\u001b[0m\u001b[1;33m\u001b[0m\u001b[1;33m\u001b[0m\u001b[0m\n\u001b[0;32m      7\u001b[0m \u001b[1;33m\u001b[0m\u001b[0m\n\u001b[1;32m----> 8\u001b[1;33m \u001b[0mcosas2\u001b[0m\u001b[1;33m[\u001b[0m\u001b[1;36m0\u001b[0m\u001b[1;33m]\u001b[0m \u001b[1;33m=\u001b[0m \u001b[1;36m100\u001b[0m\u001b[1;33m\u001b[0m\u001b[1;33m\u001b[0m\u001b[0m\n\u001b[0m\u001b[0;32m      9\u001b[0m \u001b[0mprint\u001b[0m\u001b[1;33m(\u001b[0m\u001b[0mcosas2\u001b[0m\u001b[1;33m)\u001b[0m\u001b[1;33m\u001b[0m\u001b[1;33m\u001b[0m\u001b[0m\n",
      "\u001b[1;31mTypeError\u001b[0m: 'tuple' object does not support item assignment"
     ]
    }
   ],
   "source": [
    "cosas = [1, 2, 3, 4, 5]\n",
    "cosas2 = (1, 2, 3, 4, 5)\n",
    "print(cosas)\n",
    "print(cosas2)\n",
    "cosas[0] = 100\n",
    "print(cosas)\n",
    "\n",
    "cosas2[0] = 100\n",
    "print(cosas2)"
   ]
  },
  {
   "cell_type": "markdown",
   "metadata": {},
   "source": [
    "# Control de flujo. Manejo de la instruccion IF"
   ]
  },
  {
   "cell_type": "markdown",
   "metadata": {},
   "source": [
    "Sobre los <span class=\"burk\">booleanos</span> y los operadores de comparacion. Dos tipos: True y False"
   ]
  },
  {
   "cell_type": "code",
   "execution_count": 89,
   "metadata": {
    "ExecuteTime": {
     "end_time": "2020-10-28T00:08:45.383268Z",
     "start_time": "2020-10-28T00:08:45.373295Z"
    }
   },
   "outputs": [
    {
     "name": "stdout",
     "output_type": "stream",
     "text": [
      "True\n",
      "False\n"
     ]
    }
   ],
   "source": [
    "a = True\n",
    "b = False\n",
    "print(a)\n",
    "print(b)"
   ]
  },
  {
   "cell_type": "markdown",
   "metadata": {},
   "source": [
    "Operadores de comparacion (==, <, <=, >, >=, !=)"
   ]
  },
  {
   "cell_type": "code",
   "execution_count": 90,
   "metadata": {
    "ExecuteTime": {
     "end_time": "2020-10-28T00:09:30.376921Z",
     "start_time": "2020-10-28T00:09:30.370900Z"
    }
   },
   "outputs": [
    {
     "name": "stdout",
     "output_type": "stream",
     "text": [
      "False\n",
      "True\n",
      "True\n",
      "True\n",
      "False\n",
      "True\n"
     ]
    }
   ],
   "source": [
    "print(4 == 5)\n",
    "print(3 == 3)\n",
    "print(2 < 3)\n",
    "print(2 <= 2)\n",
    "print(0 > 1)\n",
    "print(4 != 5)"
   ]
  },
  {
   "cell_type": "code",
   "execution_count": 91,
   "metadata": {
    "ExecuteTime": {
     "end_time": "2020-10-28T00:10:24.141593Z",
     "start_time": "2020-10-28T00:10:24.134610Z"
    }
   },
   "outputs": [
    {
     "name": "stdout",
     "output_type": "stream",
     "text": [
      "False\n"
     ]
    }
   ],
   "source": [
    "c = (4 == 5)\n",
    "print(c)"
   ]
  },
  {
   "cell_type": "code",
   "execution_count": 93,
   "metadata": {
    "ExecuteTime": {
     "end_time": "2020-10-28T00:12:01.298515Z",
     "start_time": "2020-10-28T00:12:01.287550Z"
    }
   },
   "outputs": [
    {
     "name": "stdout",
     "output_type": "stream",
     "text": [
      "True\n",
      "False\n",
      "True\n"
     ]
    }
   ],
   "source": [
    "print(\"casa\" == \"casa\")\n",
    "print(\"Casa\" == \"casa\")\n",
    "print(\"Casa\".lower() == \"casa\")"
   ]
  },
  {
   "attachments": {
    "image.png": {
     "image/png": "[encoded data removed]"
    }
   },
   "cell_type": "markdown",
   "metadata": {},
   "source": [
    "Evaluando multiples condiciones con operadores logicos (<span class=\"mark\">and</span>, <span class=\"burk\">or</span>)\n",
    "\n",
    "![image.png](attachment:image.png)"
   ]
  },
  {
   "cell_type": "code",
   "execution_count": 94,
   "metadata": {
    "ExecuteTime": {
     "end_time": "2020-10-28T00:14:01.728535Z",
     "start_time": "2020-10-28T00:14:01.723516Z"
    }
   },
   "outputs": [
    {
     "name": "stdout",
     "output_type": "stream",
     "text": [
      "True\n"
     ]
    }
   ],
   "source": [
    "lugar = \"casa\"\n",
    "resultado = (lugar == \"casa\") or (lugar == \"trabajo\")\n",
    "print(resultado)"
   ]
  },
  {
   "cell_type": "code",
   "execution_count": 95,
   "metadata": {
    "ExecuteTime": {
     "end_time": "2020-10-28T00:14:19.636019Z",
     "start_time": "2020-10-28T00:14:19.632030Z"
    }
   },
   "outputs": [
    {
     "name": "stdout",
     "output_type": "stream",
     "text": [
      "False\n"
     ]
    }
   ],
   "source": [
    "lugar = \"cine\"\n",
    "resultado = (lugar == \"casa\") or (lugar == \"trabajo\")\n",
    "print(resultado)"
   ]
  },
  {
   "cell_type": "code",
   "execution_count": 96,
   "metadata": {
    "ExecuteTime": {
     "end_time": "2020-10-28T00:14:42.631489Z",
     "start_time": "2020-10-28T00:14:42.626503Z"
    }
   },
   "outputs": [
    {
     "name": "stdout",
     "output_type": "stream",
     "text": [
      "True\n"
     ]
    }
   ],
   "source": [
    "numero = 4\n",
    "resultado = (numero < 5) and (numero > 3)\n",
    "print(resultado)"
   ]
  },
  {
   "cell_type": "code",
   "execution_count": 97,
   "metadata": {
    "ExecuteTime": {
     "end_time": "2020-10-28T00:14:56.886760Z",
     "start_time": "2020-10-28T00:14:56.882771Z"
    }
   },
   "outputs": [
    {
     "name": "stdout",
     "output_type": "stream",
     "text": [
      "False\n"
     ]
    }
   ],
   "source": [
    "numero = 4\n",
    "resultado = (numero < 8) and (numero > 6)\n",
    "print(resultado)"
   ]
  },
  {
   "cell_type": "markdown",
   "metadata": {},
   "source": [
    "Evaluando la existencia de un elemento en una lista con el operador <span class=\"mark\">in</span> (<span class=\"girk\">not in</span>):"
   ]
  },
  {
   "cell_type": "code",
   "execution_count": 98,
   "metadata": {
    "ExecuteTime": {
     "end_time": "2020-10-28T00:16:15.758834Z",
     "start_time": "2020-10-28T00:16:15.754846Z"
    }
   },
   "outputs": [
    {
     "name": "stdout",
     "output_type": "stream",
     "text": [
      "False\n"
     ]
    }
   ],
   "source": [
    "lista = [1, 3, 5, 7, 9, 11]\n",
    "resultado = 2 in lista\n",
    "print(resultado)"
   ]
  },
  {
   "cell_type": "code",
   "execution_count": 99,
   "metadata": {
    "ExecuteTime": {
     "end_time": "2020-10-28T00:16:22.320134Z",
     "start_time": "2020-10-28T00:16:22.312201Z"
    }
   },
   "outputs": [
    {
     "name": "stdout",
     "output_type": "stream",
     "text": [
      "True\n"
     ]
    }
   ],
   "source": [
    "print(3 in lista)"
   ]
  },
  {
   "cell_type": "code",
   "execution_count": 100,
   "metadata": {
    "ExecuteTime": {
     "end_time": "2020-10-28T00:16:37.426432Z",
     "start_time": "2020-10-28T00:16:37.422443Z"
    }
   },
   "outputs": [
    {
     "name": "stdout",
     "output_type": "stream",
     "text": [
      "False\n",
      "True\n"
     ]
    }
   ],
   "source": [
    "print(3 not in lista)\n",
    "print(2 not in lista)"
   ]
  },
  {
   "cell_type": "code",
   "execution_count": 101,
   "metadata": {
    "ExecuteTime": {
     "end_time": "2020-10-28T00:17:05.777233Z",
     "start_time": "2020-10-28T00:17:05.773244Z"
    }
   },
   "outputs": [
    {
     "name": "stdout",
     "output_type": "stream",
     "text": [
      "True\n"
     ]
    }
   ],
   "source": [
    "resultado = \"c\" in \"casa\"\n",
    "print(resultado)"
   ]
  },
  {
   "cell_type": "markdown",
   "metadata": {},
   "source": [
    "Sentencia <span class=\"mark\">**if**</span>:"
   ]
  },
  {
   "cell_type": "code",
   "execution_count": 104,
   "metadata": {
    "ExecuteTime": {
     "end_time": "2020-10-28T00:18:53.748068Z",
     "start_time": "2020-10-28T00:18:53.743104Z"
    }
   },
   "outputs": [
    {
     "name": "stdout",
     "output_type": "stream",
     "text": [
      "BMW\n"
     ]
    }
   ],
   "source": [
    "cars = ['audi', 'bmw', 'subaru', 'toyota']\n",
    "for car in cars:\n",
    "    if car == 'bmw':\n",
    "        print(car.upper())"
   ]
  },
  {
   "cell_type": "code",
   "execution_count": 105,
   "metadata": {
    "ExecuteTime": {
     "end_time": "2020-10-28T00:19:15.634379Z",
     "start_time": "2020-10-28T00:19:15.628394Z"
    }
   },
   "outputs": [
    {
     "name": "stdout",
     "output_type": "stream",
     "text": [
      "Marie, puedes publicar si lo deseas.\n"
     ]
    }
   ],
   "source": [
    "banned_users = ['andrew', 'carolina', 'david']\n",
    "user = 'marie'\n",
    "if user not in banned_users:\n",
    "    print(user.title() + \", puedes publicar si lo deseas.\")"
   ]
  },
  {
   "cell_type": "markdown",
   "metadata": {},
   "source": [
    "Sentnecia <span class=\"mark\">if ... else</span>"
   ]
  },
  {
   "cell_type": "code",
   "execution_count": 108,
   "metadata": {
    "ExecuteTime": {
     "end_time": "2020-10-28T00:20:58.823505Z",
     "start_time": "2020-10-28T00:20:58.811512Z"
    }
   },
   "outputs": [
    {
     "name": "stdout",
     "output_type": "stream",
     "text": [
      "Audi\n",
      "BMW\n",
      "Subaru\n",
      "Toyota\n",
      "BMW\n"
     ]
    }
   ],
   "source": [
    "cars = ['audi', 'bmw', 'subaru', 'toyota', 'bmW']\n",
    "for car in cars:\n",
    "    if car.lower() == 'bmw':\n",
    "        print(car.upper())\n",
    "    else:\n",
    "        print(car.title())"
   ]
  },
  {
   "cell_type": "code",
   "execution_count": 111,
   "metadata": {
    "ExecuteTime": {
     "end_time": "2020-10-28T00:22:13.684997Z",
     "start_time": "2020-10-28T00:22:02.170779Z"
    }
   },
   "outputs": [
    {
     "name": "stdout",
     "output_type": "stream",
     "text": [
      "Cual es su edad: 50\n",
      "Puedes votar!\n",
      "Ya estas registrado?\n"
     ]
    }
   ],
   "source": [
    "age = int(input(\"Cual es su edad: \"))\n",
    "if age >= 18:\n",
    "    print(\"Puedes votar!\")\n",
    "    print(\"Ya estas registrado?\")\n",
    "else:\n",
    "    print(\"Lo siento, no puedes votar aun.\")\n",
    "    print(\"Por favor, registrate cuando tengas 18!\")"
   ]
  },
  {
   "cell_type": "markdown",
   "metadata": {},
   "source": [
    "Cadenas mas largas. Sentencias <span class=\"mark\">if...elif...elif...else</span>. elif : else + if"
   ]
  },
  {
   "cell_type": "code",
   "execution_count": 114,
   "metadata": {
    "ExecuteTime": {
     "end_time": "2020-10-28T00:23:50.944818Z",
     "start_time": "2020-10-28T00:23:48.882063Z"
    }
   },
   "outputs": [
    {
     "name": "stdout",
     "output_type": "stream",
     "text": [
      "Cual es su edad: 20\n",
      "Tu admision cuesta $10.\n"
     ]
    }
   ],
   "source": [
    "age = int(input(\"Cual es su edad: \"))\n",
    "\n",
    "if age < 4:\n",
    "    print(\"Tu costo de admision es 0$.\")\n",
    "elif age < 18:\n",
    "    print(\"Tu admision cuesta $5.\")\n",
    "else:\n",
    "    print(\"Tu admision cuesta $10.\")"
   ]
  },
  {
   "cell_type": "code",
   "execution_count": null,
   "metadata": {},
   "outputs": [],
   "source": []
  },
  {
   "cell_type": "markdown",
   "metadata": {},
   "source": [
    "## Ejercicios "
   ]
  },
  {
   "cell_type": "markdown",
   "metadata": {},
   "source": [
    "**1.** Lista de invitados: si pudieras invitar a alguien, vivo o fallecido, a cenar, ¿a quién invitarías? Haga una lista que incluya al menos a tres personas a las que le gustaría invitar a cenar. Luego use su lista para imprimir un mensaje para cada persona, invitándolos a cenar.\n",
    "\n",
    "**2.** Cambio de la lista de invitados: acaba de enterarse de que uno de sus invitados no puede asistir a la cena, por lo que debe enviar un nuevo conjunto de invitaciones. Tendrá que pensar en alguien más a quien invitar.\n",
    "\n",
    "    • Empiece con su programa del ejercicio1. Agregue una declaración impresa al final de su programa que indique el nombre del invitado que no puede asistir.\n",
    "\n",
    "    • Modifique su lista, reemplazando el nombre del invitado que no puede asistir con el nombre de la nueva persona que está invitando.\n",
    "\n",
    "    • Imprima un segundo conjunto de mensajes de invitación, uno para cada persona que todavía está en su lista.\n",
    "    \n",
    "\n",
    "**3.** Más invitados: acaba de encontrar una mesa de comedor más grande, por lo que ahora hay más espacio disponible. Piense en tres invitados más para invitar a cenar.\n",
    "\n",
    "    • Empiece con su programa del ejercicio 3-4 o del ejercicio 3-5. Agregue una declaración impresa al final de su programa para informar a las personas que encontró una mesa más grande.\n",
    "\n",
    "    • Use  insert() para agregar un nuevo invitado al principio de su lista.\n",
    "\n",
    "    • Use insert() para agregar un nuevo invitado a la mitad de su lista.\n",
    "\n",
    "    • Use append() para agregar un nuevo invitado al final de su lista.\n",
    "\n",
    "    • Imprima un nuevo conjunto de mensajes de invitación, uno para cada persona de su lista.\n",
    "   \n",
    "**4.** Reducción de la lista de invitados: acaba de descubrir que su nueva mesa no llegará a tiempo para la cena y que tiene espacio para solo dos invitados.\n",
    "\n",
    "    • Empiece con su programa del ejercicio 3-6. Agregue una nueva línea que imprima un mensaje que diga que solo puede invitar a dos personas a cenar.\n",
    "    • Utilice pop() para eliminar invitados de su lista de uno en uno hasta que solo queden dos nombres en su lista. Cada vez que saque un nombre de su lista, imprima un mensaje para esa persona haciéndole saber que lamenta no poder invitarla a cenar.\n",
    "    • Imprima un mensaje para cada una de las dos personas que todavía están en su lista, haciéndoles saber que todavía están invitadas.\n",
    "    • Utilice del para eliminar los dos últimos nombres de su lista, de modo que tenga una lista vacía. Imprima su lista para asegurarse de tener una lista vacía al final de su programa.\n",
    "\n",
    "**5.** Piensa en al menos cinco lugares del mundo en los que te gustaría visitar.\n",
    "\n",
    "    • Almacene las ubicaciones en una lista. Asegúrese de que la lista no esté en orden alfabético.\n",
    "    • Imprima su lista en su orden original. No se preocupe por imprimir la lista de forma ordenada, simplemente imprímala como una lista de Python sin procesar.\n",
    "    • Utilice sorted() para imprimir su lista en orden alfabético sin modificar la lista real.\n",
    "    • Muestre que su lista todavía está en su orden original imprimiéndola.\n",
    "    • Utilice sorted() para imprimir su lista en orden alfabético inverso sin cambiar el orden de la lista original.\n",
    "    • Muestre que su lista todavía está en su orden original imprimiéndola nuevamente.\n",
    "    • Utilice reverse() para cambiar el orden de su lista. Imprima la lista para mostrar que su orden ha cambiado.\n",
    "    • Use reverse() para cambiar el orden de su lista nuevamente. Imprima la lista para mostrar que ha vuelto a su orden original.\n",
    "    • Utilice sort() para cambiar su lista de modo que se almacene en orden alfabético. Imprima la lista para mostrar que se ha cambiado su orden.\n",
    "    • Utilice sort() para cambiar su lista de modo que se almacene en orden alfabético inverso. Imprima la lista para mostrar que su orden ha cambiado.\n",
    "\n",
    "**6.** Invitados a cenar: Trabajando con uno de los programas de los Ejercicios 1 al 4, use len () para imprimir un mensaje que indique la cantidad de personas que está invitando a cenar.\n",
    "\n",
    "**7.** Cada función: Piense en algo que pueda almacenar en una lista. Por ejemplo, puede hacer una lista de montañas, ríos, países, ciudades, idiomas o cualquier otra cosa que desee. Escriba un programa que cree una lista que contenga estos elementos y luego use cada función presentada en esta clase al menos una vez.\n",
    "\n",
    "**8.** Pizzas: Piense en al menos tres tipos de su pizza favorita. Guarde estos nombres de pizza en una lista y luego use un bucle for para imprimir el nombre de cada pizza.\n",
    "\n",
    "    • Modifica tu bucle for para imprimir una oración usando el nombre de la pizza en lugar de imprimir solo el nombre de la pizza. Para cada pizza, debe haber una línea de salida que contenga una declaración simple como me gusta la pizza de pepperoni.\n",
    "    • Agregue una línea al final de su programa, fuera del ciclo for, que indique cuánto le gusta la pizza. El resultado debe constar de tres o más líneas sobre los tipos de pizza que te gustan y luego una oración adicional, como ¡Me encanta la pizza!\n",
    "\n",
    "**9.** Contar hasta veinte: use un bucle for para imprimir los números del 1 al 20, inclusive.\n",
    "\n",
    "**10.** Un millón: haga una lista de los números del uno al millón y luego use un bucle for para imprimir los números.\n",
    "\n",
    "**11.** Sumando un millón: Haga una lista de los números del uno al millón, y luego use min () y max () para asegurarse de que su lista realmente comience en uno y termine en un millón. Además, use la función sum () para ver qué tan rápido Python puede agregar un millón de números.\n",
    "\n",
    "**12.** Números impares: use el tercer argumento de la función range () para hacer una lista de los números impares del 1 al 20. Use un bucle for para imprimir cada número.\n",
    "\n",
    "**13.** Tres: Haz una lista de los múltiplos de 3 del 3 al 30. Usa un ciclo for para imprimir los números en tu lista.\n",
    "\n",
    "**14.** Cubos: un número elevado a la tercera potencia se llama cubo. Por ejemplo, el cubo de 2 se escribe como 2 ** 3 en Python. Haga una lista de los primeros 10 cubos (es decir, el cubo de cada número entero del 1 al 10) y use un ciclo for para imprimir el valor de cada cubo.\n",
    "\n",
    "**15.** Comprensión de cubos: use una lista de comprensión para generar una lista de los primeros 10 cubos.\n",
    "\n",
    "**16.** Slicing: utilizando uno de los programas que escribió en este capítulo, agregue varias líneas al final del programa que hagan lo siguiente:\n",
    "\n",
    "    • Imprima el mensaje. Los primeros tres elementos de la lista son :. Luego, use una porción para imprimir los primeros tres elementos de la lista de ese programa.\n",
    "    • Imprima el mensaje. Tres elementos del medio de la lista son :. Utilice un sector para imprimir tres elementos del medio de la lista.\n",
    "    • Imprima el mensaje. Los últimos tres elementos de la lista son :. Utilice un corte para imprimir los últimos tres elementos de la lista.\n",
    "\n",
    "**17.** Buffet: Un restaurante estilo buffet ofrece solo cinco alimentos básicos. Piense en cinco alimentos simples y guárdelos en una tupla.\n",
    "\n",
    "    • Utilice un bucle for para imprimir cada comida que ofrece el restaurante.\n",
    "    • Intente modificar uno de los elementos y asegúrese de que Python rechace el cambio.\n",
    "    • El restaurante cambia su menú, reemplazando dos de los elementos por alimentos diferentes. Agregue un bloque de código que reescribe la tupla y luego use un bucle for para imprimir cada uno de los elementos en el menú revisado.\n",
    "\n",
    "**18.** Pruebas condicionales: escriba una serie de pruebas condicionales. Imprima una declaración que describa cada prueba y su predicción para los resultados de cada prueba. Tu código debería verse así:\n",
    "\n",
    "    coche = 'subaru'\n",
    "    print(\"¿Es car == 'subaru'? Predigo True.\")\n",
    "    print(coche == 'subaru')\n",
    "    print(\"\\n¿Es auto == 'audi'? Predigo Falso.\")\n",
    "    print(coche == 'audi')    \n",
    "    \n",
    "    • Observe de cerca sus resultados y asegúrese de comprender por qué cada línea se evalúa como Verdadero o Falso.\n",
    "    • Cree al menos 10 pruebas. Haga que al menos 5 pruebas evalúen como Verdadero y otras 5 pruebas evalúen como Falso.\n",
    "\n",
    "**19** Alien Colors # 1: imagina que un alienígena acaba de ser derribado en un juego. Cree una variable llamada alien_color y asígnele un valor de 'verde', 'amarillo' o 'rojo'.\n",
    "\n",
    "    • Escribe una declaración if para probar si el color del extraterrestre es verde. Si es así, imprima un mensaje de que el jugador acaba de ganar 5 puntos.\n",
    "    • Escriba una versión de este programa que pase la prueba if y otra que falle. (La versión que falla no tendrá salida).\n",
    "**20.** Alien Colors # 2: Elija un color para un alienígena como lo hizo en el Ejercicio 19, y escriba una cadena if-else.\n",
    "\n",
    "    • Si el color del alienígena es verde, imprima una declaración de que el jugador acaba de ganar 5 puntos por dispararle al alienígena.\n",
    "    • Si el color del alienígena no es verde, imprima una declaración de que el jugador acaba de ganar 10 puntos.\n",
    "    • Escriba una versión de este programa que ejecute el bloque if y otra que ejecute el bloque else.\n",
    "    \n",
    "**21.** Alien Colors # 3: Convierta su cadena if-else del ejercicio 20 en una cadena if-elifelse.\n",
    "\n",
    "    • Si el alienígena es verde, imprima un mensaje que indique que el jugador ganó 5 puntos.\n",
    "    • Si el alienígena es amarillo, imprima un mensaje de que el jugador ganó 10 puntos.\n",
    "    • Si el alienígena es rojo, imprima un mensaje que indique que el jugador ganó 15 puntos.\n",
    "    • Escriba tres versiones de este programa, asegurándose de que cada mensaje se imprima para el extraterrestre del color apropiado.\n",
    "    \n",
    "**22.** Etapas de la vida: escriba una cadena if-elif-else que determine la etapa de la vida de una persona. Establezca un valor para la variable edad y luego:\n",
    "\n",
    "    • Si la persona tiene menos de 2 años, imprima un mensaje que indique que la persona es un bebé.\n",
    "    • Si la persona tiene al menos 2 años pero menos de 4, imprima un mensaje que indique que es un niño pequeño.\n",
    "    • Si la persona tiene al menos 4 años pero menos de 13, imprima un mensaje que indique que es un niño.\n",
    "    • Si la persona tiene al menos 13 años pero menos de 20, imprima un mensaje que indique que la persona es un adolescente.\n",
    "    • Si la persona tiene al menos 20 años pero menos de 65, imprima un mensaje que indique que la persona es un adulto.\n",
    "    • Si la persona tiene 65 años o más, imprima un mensaje que indique que es un mayor."
   ]
  }
 ],
 "metadata": {
  "kernelspec": {
   "display_name": "Python 3",
   "language": "python",
   "name": "python3"
  },
  "language_info": {
   "codemirror_mode": {
    "name": "ipython",
    "version": 3
   },
   "file_extension": ".py",
   "mimetype": "text/x-python",
   "name": "python",
   "nbconvert_exporter": "python",
   "pygments_lexer": "ipython3",
   "version": "3.8.3"
  },
  "toc": {
   "base_numbering": 1,
   "nav_menu": {},
   "number_sections": true,
   "sideBar": true,
   "skip_h1_title": false,
   "title_cell": "Table of Contents",
   "title_sidebar": "Contents",
   "toc_cell": false,
   "toc_position": {},
   "toc_section_display": true,
   "toc_window_display": true
  },
  "varInspector": {
   "cols": {
    "lenName": 16,
    "lenType": 16,
    "lenVar": 40
   },
   "kernels_config": {
    "python": {
     "delete_cmd_postfix": "",
     "delete_cmd_prefix": "del ",
     "library": "var_list.py",
     "varRefreshCmd": "print(var_dic_list())"
    },
    "r": {
     "delete_cmd_postfix": ") ",
     "delete_cmd_prefix": "rm(",
     "library": "var_list.r",
     "varRefreshCmd": "cat(var_dic_list()) "
    }
   },
   "oldHeight": 229.4,
   "position": {
    "height": "40px",
    "left": "1078px",
    "right": "20px",
    "top": "35px",
    "width": "380px"
   },
   "types_to_exclude": [
    "module",
    "function",
    "builtin_function_or_method",
    "instance",
    "_Feature"
   ],
   "varInspector_section_display": "none",
   "window_display": true
  }
 },
 "nbformat": 4,
 "nbformat_minor": 4
}
