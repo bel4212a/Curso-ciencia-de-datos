{
 "cells": [
  {
   "cell_type": "markdown",
   "metadata": {},
   "source": [
    "# Funciones"
   ]
  },
  {
   "cell_type": "markdown",
   "metadata": {},
   "source": [
    "Las funciones permiten escribir bloques de codigo que realicen una tarea en especifico. La ventaja de utilizar funciones radica en el hecho de que se pueden reutilizar multiples veces sin la necesidad de reescribir todo el codigo de nuevo."
   ]
  },
  {
   "cell_type": "code",
   "execution_count": null,
   "metadata": {
    "ExecuteTime": {
     "end_time": "2020-10-30T23:11:01.309573Z",
     "start_time": "2020-10-30T23:11:01.302593Z"
    }
   },
   "outputs": [],
   "source": [
    "def saludar():\n",
    "    \"\"\"Esta funcion saluda al usuario.\"\"\"\n",
    "    print(\"Hola.\")"
   ]
  },
  {
   "cell_type": "code",
   "execution_count": null,
   "metadata": {
    "ExecuteTime": {
     "end_time": "2020-10-30T23:08:56.197556Z",
     "start_time": "2020-10-30T23:08:56.193569Z"
    }
   },
   "outputs": [],
   "source": [
    "saludar()"
   ]
  },
  {
   "cell_type": "markdown",
   "metadata": {},
   "source": [
    "Funcion con argumento"
   ]
  },
  {
   "cell_type": "code",
   "execution_count": null,
   "metadata": {
    "ExecuteTime": {
     "end_time": "2020-10-30T23:13:02.062544Z",
     "start_time": "2020-10-30T23:13:02.058556Z"
    }
   },
   "outputs": [],
   "source": [
    "def saludar(usuario):\n",
    "    \"\"\"Esta funcion saluda al usuario. El argumento debe ser un string\"\"\"\n",
    "    print(\"Hola \" + usuario.title() + \".\")"
   ]
  },
  {
   "cell_type": "code",
   "execution_count": null,
   "metadata": {
    "ExecuteTime": {
     "end_time": "2020-10-30T23:13:39.390476Z",
     "start_time": "2020-10-30T23:13:39.384526Z"
    }
   },
   "outputs": [],
   "source": [
    "saludar(\"Luis\")"
   ]
  },
  {
   "cell_type": "code",
   "execution_count": null,
   "metadata": {
    "ExecuteTime": {
     "end_time": "2020-10-30T23:13:54.195212Z",
     "start_time": "2020-10-30T23:13:54.190224Z"
    }
   },
   "outputs": [],
   "source": [
    "saludar(\"camila\")"
   ]
  },
  {
   "cell_type": "code",
   "execution_count": null,
   "metadata": {
    "ExecuteTime": {
     "end_time": "2020-10-30T23:14:04.203033Z",
     "start_time": "2020-10-30T23:14:04.193062Z"
    }
   },
   "outputs": [],
   "source": [
    "saludar(\"andres y carlos\")"
   ]
  },
  {
   "cell_type": "code",
   "execution_count": null,
   "metadata": {
    "ExecuteTime": {
     "end_time": "2020-10-30T23:14:44.438995Z",
     "start_time": "2020-10-30T23:14:44.434047Z"
    }
   },
   "outputs": [],
   "source": [
    "def cuadrado(numero):\n",
    "    \"\"\"Calcula el cuadrado de su argumento entero\"\"\"\n",
    "    print(numero**2)"
   ]
  },
  {
   "cell_type": "code",
   "execution_count": null,
   "metadata": {
    "ExecuteTime": {
     "end_time": "2020-10-30T23:14:56.357897Z",
     "start_time": "2020-10-30T23:14:56.351918Z"
    }
   },
   "outputs": [],
   "source": [
    "cuadrado(5)\n",
    "cuadrado(1000)"
   ]
  },
  {
   "cell_type": "code",
   "execution_count": null,
   "metadata": {
    "ExecuteTime": {
     "end_time": "2020-10-30T23:23:51.262021Z",
     "start_time": "2020-10-30T23:23:51.240129Z"
    }
   },
   "outputs": [],
   "source": []
  },
  {
   "cell_type": "markdown",
   "metadata": {},
   "source": [
    "<div class=\"burk\">\n",
    "MINIDESAFIO</div><i class=\"fa fa-lightbulb-o \"></i>"
   ]
  },
  {
   "cell_type": "markdown",
   "metadata": {},
   "source": [
    "**1**. Crear una funcion que tome el precio de un articulo y lo devuelva con su IVA. Asumir que el IVA es del 19%.\n",
    "\n",
    "**2**. Crear una funcion que tome una cadena de texto e imprima los primeros 3 caracteres."
   ]
  },
  {
   "cell_type": "code",
   "execution_count": null,
   "metadata": {
    "ExecuteTime": {
     "end_time": "2020-10-30T23:28:09.545910Z",
     "start_time": "2020-10-30T23:28:09.541922Z"
    }
   },
   "outputs": [],
   "source": [
    "def precio(valor):\n",
    "    print(valor*1.19)\n",
    "def caracter(string):\n",
    "    print(string[0:3])"
   ]
  },
  {
   "cell_type": "code",
   "execution_count": null,
   "metadata": {
    "ExecuteTime": {
     "end_time": "2020-10-30T23:28:24.011223Z",
     "start_time": "2020-10-30T23:28:24.006235Z"
    }
   },
   "outputs": [],
   "source": [
    "precio(100000)\n",
    "caracter(\"bienvenido\")"
   ]
  },
  {
   "cell_type": "markdown",
   "metadata": {},
   "source": [
    "<span class=\"girk\">Multiples argumentos</span>: Una funcion puede solicitar multiples argumentos para realizar sus operaciones. Es importante tener en cuenta que a la hora de llamar a la funcion, deben pasarse la misma cantidad de argumentos que en la definicion, y en el mismo orden. Es importante tener cuidado con el tipo de cada argumento."
   ]
  },
  {
   "cell_type": "code",
   "execution_count": null,
   "metadata": {
    "ExecuteTime": {
     "end_time": "2020-10-30T23:29:22.831516Z",
     "start_time": "2020-10-30T23:29:22.824538Z"
    }
   },
   "outputs": [],
   "source": [
    "def nombre(nombre, apellido):\n",
    "    \"\"\" Retorna su nombre completo\"\"\"\n",
    "    print('Su nombre completo es ' + nombre.title() + ' ' + apellido.title())"
   ]
  },
  {
   "cell_type": "code",
   "execution_count": null,
   "metadata": {
    "ExecuteTime": {
     "end_time": "2020-10-30T23:29:53.501699Z",
     "start_time": "2020-10-30T23:29:53.496715Z"
    }
   },
   "outputs": [],
   "source": [
    "nombre('Carlos', 'Martinez')"
   ]
  },
  {
   "cell_type": "code",
   "execution_count": null,
   "metadata": {
    "ExecuteTime": {
     "end_time": "2020-10-30T23:30:00.896001Z",
     "start_time": "2020-10-30T23:30:00.891014Z"
    }
   },
   "outputs": [],
   "source": [
    "nombre('Andrea', 'Perez')"
   ]
  },
  {
   "cell_type": "code",
   "execution_count": null,
   "metadata": {
    "ExecuteTime": {
     "end_time": "2020-10-30T23:30:34.496778Z",
     "start_time": "2020-10-30T23:30:34.487804Z"
    }
   },
   "outputs": [],
   "source": [
    "def describe_pet(animal_type, pet_name):\n",
    "    \"\"\"Display information about a pet.\"\"\"\n",
    "    print(\"\\nI have a \" + animal_type + \".\")\n",
    "    print(\"My \" + animal_type + \"'s name is \" + pet_name.title() + \".\")"
   ]
  },
  {
   "cell_type": "code",
   "execution_count": null,
   "metadata": {
    "ExecuteTime": {
     "end_time": "2020-10-30T23:30:36.409667Z",
     "start_time": "2020-10-30T23:30:36.405678Z"
    }
   },
   "outputs": [],
   "source": [
    "describe_pet('hamster', 'harry')\n",
    "describe_pet('dog', 'willie')"
   ]
  },
  {
   "cell_type": "markdown",
   "metadata": {},
   "source": [
    "Es posible definir valores por defecto en los argumentos de la funcion, los cuales se utilizaran automaticamente cuando no se proporcionen argumentos en la llamada a la funcion."
   ]
  },
  {
   "cell_type": "code",
   "execution_count": null,
   "metadata": {
    "ExecuteTime": {
     "end_time": "2020-10-30T23:31:41.200758Z",
     "start_time": "2020-10-30T23:31:41.192778Z"
    }
   },
   "outputs": [],
   "source": [
    "def areaCirculo(radio = 0):\n",
    "    \"\"\"Sirve para calcular el area de un circulo segun su radio\"\"\"\n",
    "    print(\"El area es: \", 3.141592*radio**2)"
   ]
  },
  {
   "cell_type": "code",
   "execution_count": null,
   "metadata": {
    "ExecuteTime": {
     "end_time": "2020-10-30T23:32:17.739719Z",
     "start_time": "2020-10-30T23:32:17.735729Z"
    }
   },
   "outputs": [],
   "source": [
    "areaCirculo(5)"
   ]
  },
  {
   "cell_type": "code",
   "execution_count": null,
   "metadata": {
    "ExecuteTime": {
     "end_time": "2020-10-30T23:35:00.519028Z",
     "start_time": "2020-10-30T23:35:00.512047Z"
    }
   },
   "outputs": [],
   "source": [
    "def vocales(string= ''):\n",
    "    \"\"\"Cuenta cuantas vocales tiene un string\"\"\"\n",
    "    numero = 0\n",
    "    vocales = ['a', 'e', 'i', 'o', 'u']\n",
    "    lista = list(string.lower())\n",
    "    for letra in lista:\n",
    "        if letra in vocales:\n",
    "            numero += 1\n",
    "    print(\"La frase tiene \" + str(numero) + \" vocales.\")"
   ]
  },
  {
   "cell_type": "code",
   "execution_count": null,
   "metadata": {
    "ExecuteTime": {
     "end_time": "2020-10-30T23:35:10.882829Z",
     "start_time": "2020-10-30T23:35:10.878839Z"
    }
   },
   "outputs": [],
   "source": [
    "vocales(\"maniana no desayune, porque no habian huevos, y eso me molesto mucho.\")"
   ]
  },
  {
   "cell_type": "markdown",
   "metadata": {
    "ExecuteTime": {
     "end_time": "2020-10-30T20:46:32.926452Z",
     "start_time": "2020-10-30T20:46:32.921466Z"
    }
   },
   "source": [
    "Retorno de valores con la instruccion <span class=\"mark\">return</span>. "
   ]
  },
  {
   "cell_type": "code",
   "execution_count": null,
   "metadata": {
    "ExecuteTime": {
     "end_time": "2020-10-30T23:36:49.801361Z",
     "start_time": "2020-10-30T23:36:49.797373Z"
    }
   },
   "outputs": [],
   "source": [
    "def cuadrado(numero = 0):\n",
    "    \"\"\"devuelve el cuadrado de un numero\"\"\"\n",
    "    return numero**2"
   ]
  },
  {
   "cell_type": "code",
   "execution_count": null,
   "metadata": {
    "ExecuteTime": {
     "end_time": "2020-10-30T23:37:12.719734Z",
     "start_time": "2020-10-30T23:37:12.716611Z"
    }
   },
   "outputs": [],
   "source": [
    "numero = cuadrado(5)\n",
    "print(numero + 2)"
   ]
  },
  {
   "cell_type": "code",
   "execution_count": null,
   "metadata": {
    "ExecuteTime": {
     "end_time": "2020-10-30T23:38:05.370443Z",
     "start_time": "2020-10-30T23:38:05.365464Z"
    }
   },
   "outputs": [],
   "source": [
    "def get_formatted_name(first_name, last_name):\n",
    "    \"\"\"Return a full name, neatly formatted.\"\"\"\n",
    "    full_name = first_name + ' ' + last_name\n",
    "    return full_name.title()"
   ]
  },
  {
   "cell_type": "code",
   "execution_count": null,
   "metadata": {
    "ExecuteTime": {
     "end_time": "2020-10-30T23:38:17.963463Z",
     "start_time": "2020-10-30T23:38:17.959506Z"
    }
   },
   "outputs": [],
   "source": [
    "musician = get_formatted_name('jimi', 'hendrix')\n",
    "print(musician)"
   ]
  },
  {
   "cell_type": "code",
   "execution_count": null,
   "metadata": {
    "ExecuteTime": {
     "end_time": "2020-10-30T23:39:40.300562Z",
     "start_time": "2020-10-30T23:39:40.290587Z"
    }
   },
   "outputs": [],
   "source": [
    "# Esta funcion retorna un diccionario\n",
    "def name(first, last):\n",
    "    nombre = {'nombre':first, 'apellido':last}\n",
    "    return nombre"
   ]
  },
  {
   "cell_type": "code",
   "execution_count": null,
   "metadata": {
    "ExecuteTime": {
     "end_time": "2020-10-30T23:39:46.949314Z",
     "start_time": "2020-10-30T23:39:46.946317Z"
    }
   },
   "outputs": [],
   "source": [
    "nombre = name(\"luis\", \"gonzales\")\n",
    "print(nombre)"
   ]
  },
  {
   "cell_type": "code",
   "execution_count": null,
   "metadata": {
    "ExecuteTime": {
     "end_time": "2020-10-30T23:41:30.235437Z",
     "start_time": "2020-10-30T23:41:03.958228Z"
    }
   },
   "outputs": [],
   "source": [
    "# ejemplo con ciclos\n",
    "while True:\n",
    "    nombre = input(\"Introduzca su nombre: (quit para salir)\")\n",
    "    if nombre == \"quit\":\n",
    "        break\n",
    "    apellido = input(\"Introduzca su apellido: \")\n",
    "    print(get_formatted_name(nombre, apellido))"
   ]
  },
  {
   "cell_type": "markdown",
   "metadata": {},
   "source": [
    "<span class=\"burk\">MINIDESAFIO</span>"
   ]
  },
  {
   "cell_type": "markdown",
   "metadata": {},
   "source": [
    "**1.** Cree una funcion que tome como argumento el nombre de una figura geometrica y retorne el numero de aristas. Ademas realice tres llamados a la funcion con diferentes figuras. Tenga en cuenta que no deberia llamar a la funcion con una figura que no fue incluida en los calculos internos de la funcion. Recomiendo las siguientes figuras: _cuadrado, triangulo, pentagono, hexagono, circulo_. \n",
    "\n",
    "**Pista**: Utilice instrucciones if dentro del for.\n",
    "\n",
    "**2.** Nombres de ciudades: escriba una función llamada city_country() que tome el nombre de una ciudad y su país. La función debería devolver una cadena con el siguiente formato:\n",
    "\n",
    "    \"Santiago, Chile\"\n",
    "    \n",
    "Llame a su función con al menos tres pares de ciudad-país e imprima el valor devuelto.\n",
    "\n",
    "**3.** Construya una funcion llamada artista(), que tome como argumentos el nombre del artista y un album musical del mismo; debe retornar un tupla de dos valores _(artista, album)_. La funcion debe ser llamada dentro de un while que permita al usuario introducir el nombre del artista y el album manualmente o salirse del ciclo si lo desea. Cada que el usuario introduce un nombre y un album, la tupla generada por la funcion, debe ser agregada a una lista llamada _lista_, que debe ser impresa al salir del ciclo."
   ]
  },
  {
   "cell_type": "code",
   "execution_count": null,
   "metadata": {
    "ExecuteTime": {
     "end_time": "2020-10-31T00:10:59.247386Z",
     "start_time": "2020-10-31T00:10:59.238409Z"
    }
   },
   "outputs": [],
   "source": [
    "def arista(nombre):\n",
    "    aristas = 0\n",
    "    if nombre == \"cuadrado\":\n",
    "        aristas = 4\n",
    "    elif nombre == \"triangulo\":\n",
    "        aristas = 3\n",
    "    elif nombre == \"pentagono\":\n",
    "        aristas = 5\n",
    "    elif nombre == \"hexagono\":\n",
    "        aristas = 6\n",
    "    elif nombre == \"circulo\":\n",
    "        aristas = 0\n",
    "    else:\n",
    "        print(\"Esta figura no esta definida\")\n",
    "    return aristas\n",
    "\n",
    "print(arista(\"cuadrado\"))\n",
    "print(arista(\"hexagono\"))\n",
    "print(arista(\"circulo\"))\n",
    "arista(\"cubo\")"
   ]
  },
  {
   "cell_type": "code",
   "execution_count": null,
   "metadata": {
    "ExecuteTime": {
     "end_time": "2020-10-31T00:28:54.280218Z",
     "start_time": "2020-10-31T00:28:15.272038Z"
    }
   },
   "outputs": [],
   "source": [
    "def artista(nombre, album):\n",
    "    return (nombre.title(), album.title())\n",
    "lista=[]\n",
    "while True:\n",
    "    nombre = input(\"Introduzca el nombre del artista (quit para salir): \")\n",
    "    if nombre == \"quit\":\n",
    "        break\n",
    "    album = input(\"Introduzca el nombre del album: \")\n",
    "    datos = artista(nombre, album)\n",
    "    lista.append(datos)\n",
    "\n",
    "print(lista)"
   ]
  },
  {
   "cell_type": "code",
   "execution_count": null,
   "metadata": {
    "ExecuteTime": {
     "end_time": "2020-10-31T00:12:01.536291Z",
     "start_time": "2020-10-31T00:12:01.532300Z"
    }
   },
   "outputs": [],
   "source": [
    "def city_country(ciudad, pais):\n",
    "    print(ciudad.title() + \", \" + pais.title())\n",
    "city_country(\"santiago\", \"chile\")"
   ]
  },
  {
   "cell_type": "markdown",
   "metadata": {},
   "source": [
    "Listas como argumentos de funciones"
   ]
  },
  {
   "cell_type": "code",
   "execution_count": null,
   "metadata": {
    "ExecuteTime": {
     "end_time": "2020-10-31T00:30:29.712268Z",
     "start_time": "2020-10-31T00:30:29.707280Z"
    }
   },
   "outputs": [],
   "source": [
    "def nombres(lista):\n",
    "    \"\"\"imprime la lista de los nombres asignados\"\"\"\n",
    "    for nombre in lista:\n",
    "        print(nombre)"
   ]
  },
  {
   "cell_type": "code",
   "execution_count": null,
   "metadata": {
    "ExecuteTime": {
     "end_time": "2020-10-31T00:30:57.242798Z",
     "start_time": "2020-10-31T00:30:57.232826Z"
    }
   },
   "outputs": [],
   "source": [
    "lista = ['luis', 'maria', 'andres', 'pedro', 'luna', 'marta']\n",
    "nombres(lista)"
   ]
  },
  {
   "cell_type": "markdown",
   "metadata": {},
   "source": [
    "Modificando listas dentro de una funcion:"
   ]
  },
  {
   "cell_type": "code",
   "execution_count": null,
   "metadata": {
    "ExecuteTime": {
     "end_time": "2020-10-31T00:32:48.303087Z",
     "start_time": "2020-10-31T00:32:48.297103Z"
    }
   },
   "outputs": [],
   "source": [
    "encuesta = [17, 15, 19, 25, 18, 'tres', 8, 12, 'diesciseis', 12, 'jnsd']\n",
    "print(encuesta)"
   ]
  },
  {
   "cell_type": "code",
   "execution_count": null,
   "metadata": {
    "ExecuteTime": {
     "end_time": "2020-10-31T00:34:35.306246Z",
     "start_time": "2020-10-31T00:34:35.296273Z"
    }
   },
   "outputs": [],
   "source": [
    "def limpiar(encuesta):\n",
    "    \"\"\"limpia una lista de valores no numericos\"\"\"\n",
    "    for i in range(len(encuesta)):\n",
    "        if not str(encuesta[i]).isdigit():\n",
    "            encuesta[i] = 0"
   ]
  },
  {
   "cell_type": "code",
   "execution_count": null,
   "metadata": {
    "ExecuteTime": {
     "end_time": "2020-10-31T00:34:44.744885Z",
     "start_time": "2020-10-31T00:34:44.740896Z"
    }
   },
   "outputs": [],
   "source": [
    "limpiar(encuesta)\n",
    "print(encuesta)"
   ]
  },
  {
   "cell_type": "code",
   "execution_count": null,
   "metadata": {
    "ExecuteTime": {
     "end_time": "2020-10-31T00:35:20.669951Z",
     "start_time": "2020-10-31T00:35:20.664964Z"
    }
   },
   "outputs": [],
   "source": [
    "encuesta = [17, 15, 19, 25, 18, 'tres', 8, 12, 'diesciseis', 12, 'jnsd']\n",
    "print(encuesta)"
   ]
  },
  {
   "cell_type": "code",
   "execution_count": null,
   "metadata": {
    "ExecuteTime": {
     "end_time": "2020-10-31T00:35:50.294965Z",
     "start_time": "2020-10-31T00:35:50.281012Z"
    }
   },
   "outputs": [],
   "source": [
    "limpiar(encuesta[:])\n",
    "print(encuesta)"
   ]
  },
  {
   "cell_type": "markdown",
   "metadata": {
    "ExecuteTime": {
     "end_time": "2020-10-30T21:27:41.287451Z",
     "start_time": "2020-10-30T21:27:41.275484Z"
    }
   },
   "source": [
    "<span class=\"mark\">Pasando un numero arbitrario de argumentos.</span>\n",
    "\n",
    "Python permite establecer un numero arbitrario de argumentos para las funciones cuando estos no se conocen, para ellos utiliza la notacion <span class=\"mark\">\\*argumentos</span>, lo cual, de manera interna creara una tupla con los argumentos pasados, antes de ejecutar la instruccion de la funcion"
   ]
  },
  {
   "cell_type": "code",
   "execution_count": null,
   "metadata": {
    "ExecuteTime": {
     "end_time": "2020-10-31T00:38:00.588134Z",
     "start_time": "2020-10-31T00:38:00.584145Z"
    }
   },
   "outputs": [],
   "source": [
    "def pizza(*adiciones):\n",
    "    \"\"\"imprime los argumentos que se pasen\"\"\"\n",
    "    print(adiciones)"
   ]
  },
  {
   "cell_type": "code",
   "execution_count": null,
   "metadata": {
    "ExecuteTime": {
     "end_time": "2020-10-31T00:38:18.696038Z",
     "start_time": "2020-10-31T00:38:18.691051Z"
    }
   },
   "outputs": [],
   "source": [
    "pizza(\"pepperoni\")\n",
    "pizza(\"pepperoni\", \"queso extra\", \"aji\")"
   ]
  },
  {
   "cell_type": "code",
   "execution_count": null,
   "metadata": {
    "ExecuteTime": {
     "end_time": "2020-10-31T00:38:50.518465Z",
     "start_time": "2020-10-31T00:38:50.513479Z"
    }
   },
   "outputs": [],
   "source": [
    "def pizza(*adiciones):\n",
    "    \"\"\"imprime los argumentos que se pasen\"\"\"\n",
    "    print(\"Usted pidio una pizza con las siguientes adiciones: \", end=\"\\n\"+\"-\"*50+\"\\n\")\n",
    "    for topping in adiciones:\n",
    "        print(topping, end=\"  \")"
   ]
  },
  {
   "cell_type": "code",
   "execution_count": null,
   "metadata": {
    "ExecuteTime": {
     "end_time": "2020-10-31T00:38:53.899516Z",
     "start_time": "2020-10-31T00:38:53.894529Z"
    }
   },
   "outputs": [],
   "source": [
    "pizza(\"pepperoni\", \"queso extra\", \"aji\", \"piña\")"
   ]
  },
  {
   "cell_type": "code",
   "execution_count": null,
   "metadata": {
    "ExecuteTime": {
     "end_time": "2020-10-31T00:40:27.134197Z",
     "start_time": "2020-10-31T00:40:27.127217Z"
    }
   },
   "outputs": [],
   "source": [
    "def pizza(tamano, *adiciones): #*args\n",
    "    \"\"\"imprime los argumentos que se pasen\"\"\"\n",
    "    print(\"Usted pidio una pizza con las siguientes adiciones: \", end=\"\\n\"+\"-\"*50+\"\\n\")\n",
    "    for topping in adiciones:\n",
    "        print(topping, end=\"  \")\n",
    "        \n",
    "    print(\"\\ny de tamano \", tamano)"
   ]
  },
  {
   "cell_type": "code",
   "execution_count": null,
   "metadata": {
    "ExecuteTime": {
     "end_time": "2020-10-31T00:40:29.045432Z",
     "start_time": "2020-10-31T00:40:29.041442Z"
    }
   },
   "outputs": [],
   "source": [
    "pizza(\"grande\", \"pepperoni\", \"queso extra\", \"aji\", \"piña\")"
   ]
  },
  {
   "cell_type": "markdown",
   "metadata": {},
   "source": [
    "<span class=\"mark\">Usando un numero arbitrario de argumentos clave</span>\n",
    "\n",
    "Python permite especificar argumentos como pares de valores, como si se trataran de pares key y value en los diccionarios. Tambien permite asignar un numero arbitrario de dichos valores por medio de la notacion **argumento."
   ]
  },
  {
   "cell_type": "code",
   "execution_count": null,
   "metadata": {
    "ExecuteTime": {
     "end_time": "2020-10-31T00:42:47.581177Z",
     "start_time": "2020-10-31T00:42:47.578184Z"
    }
   },
   "outputs": [],
   "source": [
    "def prueba(**argumento): #**kwargs\n",
    "    return argumento"
   ]
  },
  {
   "cell_type": "code",
   "execution_count": null,
   "metadata": {
    "ExecuteTime": {
     "end_time": "2020-10-31T00:43:13.703816Z",
     "start_time": "2020-10-31T00:43:13.699827Z"
    }
   },
   "outputs": [],
   "source": [
    "argumento = prueba(nombre=\"carlos\", edad=25, color=\"rojo\")\n",
    "print(argumento)"
   ]
  },
  {
   "cell_type": "code",
   "execution_count": null,
   "metadata": {
    "ExecuteTime": {
     "end_time": "2020-10-31T00:44:07.414380Z",
     "start_time": "2020-10-31T00:44:07.404444Z"
    }
   },
   "outputs": [],
   "source": [
    "argumento = prueba(nombre=\"carlos\", apellido=\"gonzales\", edad=25, color=\"rojo\")\n",
    "print(argumento)"
   ]
  },
  {
   "cell_type": "code",
   "execution_count": null,
   "metadata": {
    "ExecuteTime": {
     "end_time": "2020-10-31T00:44:47.500894Z",
     "start_time": "2020-10-31T00:44:47.485939Z"
    },
    "run_control": {
     "marked": false
    }
   },
   "outputs": [],
   "source": [
    "def build_profile(first, last, **user_info):\n",
    "    \"\"\"Build a dictionary containing everything we know about a user.\"\"\"\n",
    "    profile = {}\n",
    "    profile['first_name'] = first\n",
    "    profile['last_name'] = last\n",
    "    for key, value in user_info.items():\n",
    "        profile[key] = value\n",
    "    return profile\n",
    "\n",
    "user_profile = build_profile('albert', 'einstein', location='princeton', field='physics')\n",
    "print(user_profile)"
   ]
  },
  {
   "cell_type": "markdown",
   "metadata": {
    "ExecuteTime": {
     "end_time": "2020-10-30T22:05:52.453005Z",
     "start_time": "2020-10-30T22:05:52.440040Z"
    }
   },
   "source": [
    "<div class=\"burk\">\n",
    "MINIDESAFIO</div><i class=\"fa fa-lightbulb-o \"></i>"
   ]
  },
  {
   "cell_type": "markdown",
   "metadata": {
    "ExecuteTime": {
     "end_time": "2020-10-30T22:04:39.713304Z",
     "start_time": "2020-10-30T22:04:39.709316Z"
    }
   },
   "source": [
    "**1.** Sándwiches: escriba una función que acepte una lista de elementos que una persona quiere en un sándwich. La función debe tener un parámetro que recopile tantos elementos como proporcione la llamada a la función, y debe imprimir un resumen del sándwich que se solicita. Llame a la función tres veces, utilizando un número diferente de argumentos cada vez.\n",
    "\n",
    "**2.** Automóviles: escriba una función que almacene información sobre un automóvil en un diccionario. La función siempre debe recibir un nombre de fabricante y modelo. Entonces debería aceptar un número arbitrario de argumentos de palabras clave. Llame a la función con la información requerida y otros dos pares de nombre-valor, como un color o una característica opcional. La función debería funcionar para una llamada como esta:\n",
    "\n",
    "    car = make_car('subaru', 'outback', color = 'blue', tow_package = True)\n",
    "\n",
    "Imprima el diccionario que se devolvió para asegurarse de que toda la información se almacenó correctamente."
   ]
  },
  {
   "cell_type": "code",
   "execution_count": null,
   "metadata": {
    "ExecuteTime": {
     "end_time": "2020-10-31T00:58:47.956193Z",
     "start_time": "2020-10-31T00:58:47.950210Z"
    }
   },
   "outputs": [],
   "source": [
    "def sandwich(*elementos):\n",
    "    print(\"Su sandwich tendra los siguientes elementos:\", end=\"\\n\" + \"-\"*50 + \"\\n\")\n",
    "    for i in elementos:\n",
    "        print(i)\n",
    "\n",
    "sandwich(\"queso\", \"lechuga\", \"cebolla\")"
   ]
  },
  {
   "cell_type": "code",
   "execution_count": null,
   "metadata": {
    "ExecuteTime": {
     "end_time": "2020-10-31T00:59:07.287392Z",
     "start_time": "2020-10-31T00:59:07.282439Z"
    }
   },
   "outputs": [],
   "source": [
    "sandwich(\"queso\", \"lechuga\", \"cebolla\", \"pan integral\")"
   ]
  },
  {
   "cell_type": "code",
   "execution_count": null,
   "metadata": {
    "ExecuteTime": {
     "end_time": "2020-10-31T00:59:34.906769Z",
     "start_time": "2020-10-31T00:59:34.902776Z"
    }
   },
   "outputs": [],
   "source": [
    "sandwich(\"queso\", \"lechuga\", \"pepinillos\", \"miel\", \"tocineta\")"
   ]
  },
  {
   "cell_type": "code",
   "execution_count": null,
   "metadata": {
    "ExecuteTime": {
     "end_time": "2020-10-31T01:05:43.209507Z",
     "start_time": "2020-10-31T01:05:43.201525Z"
    }
   },
   "outputs": [],
   "source": [
    "def make_car(fabricante, modelo, **opcionales):\n",
    "    carro = {}\n",
    "    carro[\"fabricante\"] = fabricante\n",
    "    carro[\"modelo\"] = modelo\n",
    "    for key, value in opcionales.items():\n",
    "        carro[key] = value\n",
    "    return carro\n",
    "car = make_car('subaru', 'outback', color = 'blue', tow_package = True)\n",
    "car2 = make_car('chevrolet', 'sonic', color = \"blanco\", cuatroXcuatro = False)\n",
    "print(car)\n",
    "print(car2)"
   ]
  },
  {
   "cell_type": "markdown",
   "metadata": {},
   "source": [
    "# Crear modulos e importarlos con al sentencia import"
   ]
  },
  {
   "cell_type": "code",
   "execution_count": 1,
   "metadata": {
    "ExecuteTime": {
     "end_time": "2020-10-31T01:23:13.771345Z",
     "start_time": "2020-10-31T01:23:13.766358Z"
    }
   },
   "outputs": [],
   "source": [
    "import pizza"
   ]
  },
  {
   "cell_type": "code",
   "execution_count": null,
   "metadata": {
    "ExecuteTime": {
     "end_time": "2020-10-31T01:12:03.057366Z",
     "start_time": "2020-10-31T01:12:03.052343Z"
    }
   },
   "outputs": [],
   "source": [
    "pizza.preparar(12, \"aji\", \"pinia\", \"queso\")"
   ]
  },
  {
   "cell_type": "code",
   "execution_count": null,
   "metadata": {
    "ExecuteTime": {
     "end_time": "2020-10-31T01:13:35.345111Z",
     "start_time": "2020-10-31T01:13:35.337174Z"
    }
   },
   "outputs": [],
   "source": [
    "pizza.bebida(\"limonada\")"
   ]
  },
  {
   "cell_type": "code",
   "execution_count": null,
   "metadata": {
    "ExecuteTime": {
     "end_time": "2020-10-31T01:15:27.131130Z",
     "start_time": "2020-10-31T01:15:27.124566Z"
    }
   },
   "outputs": [],
   "source": [
    "pizza.saludar(\"carlos\")"
   ]
  },
  {
   "cell_type": "code",
   "execution_count": 2,
   "metadata": {
    "ExecuteTime": {
     "end_time": "2020-10-31T01:23:20.650381Z",
     "start_time": "2020-10-31T01:23:20.646392Z"
    }
   },
   "outputs": [],
   "source": [
    "pizza?"
   ]
  },
  {
   "cell_type": "markdown",
   "metadata": {},
   "source": [
    "## Importar funciones especificas"
   ]
  },
  {
   "cell_type": "code",
   "execution_count": null,
   "metadata": {
    "ExecuteTime": {
     "end_time": "2020-10-31T01:16:58.248592Z",
     "start_time": "2020-10-31T01:16:58.239619Z"
    }
   },
   "outputs": [],
   "source": [
    "from pizza import preparar"
   ]
  },
  {
   "cell_type": "code",
   "execution_count": null,
   "metadata": {
    "ExecuteTime": {
     "end_time": "2020-10-31T01:17:00.239607Z",
     "start_time": "2020-10-31T01:17:00.226644Z"
    }
   },
   "outputs": [],
   "source": [
    "preparar(12, \"aji\", \"pinia\", \"queso\")"
   ]
  },
  {
   "cell_type": "code",
   "execution_count": null,
   "metadata": {
    "ExecuteTime": {
     "end_time": "2020-10-31T01:17:15.991091Z",
     "start_time": "2020-10-31T01:17:15.971149Z"
    }
   },
   "outputs": [],
   "source": [
    "bebida(\"agua\")"
   ]
  },
  {
   "cell_type": "code",
   "execution_count": null,
   "metadata": {
    "ExecuteTime": {
     "end_time": "2020-10-31T01:17:23.736923Z",
     "start_time": "2020-10-31T01:17:23.733364Z"
    }
   },
   "outputs": [],
   "source": [
    "from pizza import bebida"
   ]
  },
  {
   "cell_type": "code",
   "execution_count": null,
   "metadata": {
    "ExecuteTime": {
     "end_time": "2020-10-31T01:17:26.034735Z",
     "start_time": "2020-10-31T01:17:26.027755Z"
    }
   },
   "outputs": [],
   "source": [
    "bebida(\"chocolate\")"
   ]
  },
  {
   "cell_type": "markdown",
   "metadata": {},
   "source": [
    "## Usando as para crear aliases"
   ]
  },
  {
   "cell_type": "code",
   "execution_count": null,
   "metadata": {
    "ExecuteTime": {
     "end_time": "2020-10-31T01:18:36.901217Z",
     "start_time": "2020-10-31T01:18:36.896231Z"
    }
   },
   "outputs": [],
   "source": [
    "import pizza as p"
   ]
  },
  {
   "cell_type": "code",
   "execution_count": null,
   "metadata": {
    "ExecuteTime": {
     "end_time": "2020-10-31T01:18:39.372880Z",
     "start_time": "2020-10-31T01:18:39.367896Z"
    }
   },
   "outputs": [],
   "source": [
    "p.preparar(12, \"aji\")"
   ]
  },
  {
   "cell_type": "code",
   "execution_count": null,
   "metadata": {
    "ExecuteTime": {
     "end_time": "2020-10-31T01:18:48.948842Z",
     "start_time": "2020-10-31T01:18:48.943854Z"
    }
   },
   "outputs": [],
   "source": [
    "p.bebida(\"agua\")"
   ]
  },
  {
   "cell_type": "markdown",
   "metadata": {},
   "source": [
    "## Importando todas las funciones con *"
   ]
  },
  {
   "cell_type": "code",
   "execution_count": null,
   "metadata": {
    "ExecuteTime": {
     "end_time": "2020-10-31T01:19:45.689193Z",
     "start_time": "2020-10-31T01:19:45.685202Z"
    }
   },
   "outputs": [],
   "source": [
    "from pizza import *"
   ]
  },
  {
   "cell_type": "code",
   "execution_count": null,
   "metadata": {
    "ExecuteTime": {
     "end_time": "2020-10-31T01:20:10.891695Z",
     "start_time": "2020-10-31T01:20:10.887705Z"
    }
   },
   "outputs": [],
   "source": [
    "preparar(12, \"queso\")"
   ]
  },
  {
   "cell_type": "code",
   "execution_count": null,
   "metadata": {
    "ExecuteTime": {
     "end_time": "2020-10-31T01:20:14.113306Z",
     "start_time": "2020-10-31T01:20:14.107321Z"
    }
   },
   "outputs": [],
   "source": [
    "bebida(\"agua\")"
   ]
  },
  {
   "cell_type": "code",
   "execution_count": null,
   "metadata": {
    "ExecuteTime": {
     "end_time": "2020-10-31T01:20:17.878846Z",
     "start_time": "2020-10-31T01:20:17.874857Z"
    }
   },
   "outputs": [],
   "source": [
    "saludar(\"Carlos\")"
   ]
  },
  {
   "cell_type": "code",
   "execution_count": null,
   "metadata": {
    "ExecuteTime": {
     "end_time": "2020-10-31T01:22:58.522559Z",
     "start_time": "2020-10-31T01:22:58.516575Z"
    }
   },
   "outputs": [],
   "source": [
    "pizza?"
   ]
  },
  {
   "cell_type": "markdown",
   "metadata": {},
   "source": [
    "<div class=\"burk\">\n",
    "MINIDESAFIO</div><i class=\"fa fa-lightbulb-o \"></i>"
   ]
  },
  {
   "cell_type": "markdown",
   "metadata": {},
   "source": [
    "**1.** Escriba dos funciones que calculen el cuadrado y el cubo de una lista de numeros. La primera se llamara cuadrado y la segunda cubo. La funcion debe recibir como parametro una lista de numeros.\n",
    "\n",
    "**2.** Cree un modulo llamado potencias.py, agregue en el las funciones cuadrado y cubo. Importe el modulo y ejecute las funciones respectivas con algunas listas. Sera necesario reiniciar el kernel."
   ]
  },
  {
   "cell_type": "markdown",
   "metadata": {},
   "source": [
    "# Ejercicios"
   ]
  },
  {
   "cell_type": "markdown",
   "metadata": {},
   "source": [
    "**1.** Realiza una función llamada area_rectangulo(base, altura) que devuelva el área del rectangulo a partir de una base y una altura. Calcula el área de un rectángulo de 15 de base y 10 de altura"
   ]
  },
  {
   "cell_type": "code",
   "execution_count": null,
   "metadata": {},
   "outputs": [],
   "source": []
  },
  {
   "cell_type": "markdown",
   "metadata": {},
   "source": [
    "**2.** Realiza una función llamada relacion(a, b) que a partir de dos números cumpla lo siguiente:\n",
    "\n",
    "Si el primer número es mayor que el segundo, debe devolver 1.\n",
    "Si el primer número es menor que el segundo, debe devolver -1.\n",
    "Si ambos números son iguales, debe devolver un 0.\n",
    "Comprueba la relación entre los números: '5 y 10', '10 y 5' y '5 y 5'."
   ]
  },
  {
   "cell_type": "code",
   "execution_count": null,
   "metadata": {},
   "outputs": [],
   "source": []
  },
  {
   "cell_type": "markdown",
   "metadata": {},
   "source": [
    "**3.** Realiza una función llamada intermedio(a, b) que a partir de dos números, devuelva su punto intermedio. Cuando lo tengas comprueba el punto intermedio entre -12 y 24:"
   ]
  },
  {
   "cell_type": "code",
   "execution_count": null,
   "metadata": {},
   "outputs": [],
   "source": []
  },
  {
   "cell_type": "markdown",
   "metadata": {},
   "source": [
    "**4.** Realiza una función separar(lista) que tome una lista de números enteros y devuelva dos listas ordenadas. La primera con los números pares y la segunda con los números impares."
   ]
  },
  {
   "cell_type": "code",
   "execution_count": null,
   "metadata": {},
   "outputs": [],
   "source": []
  },
  {
   "cell_type": "markdown",
   "metadata": {},
   "source": [
    "**5.** Solicitar al usuario que ingrese su dirección email. Imprimir un mensaje indicando si la dirección es válida o no, valiéndose de una función para decidirlo. Una dirección se considerará válida si contiene el símbolo \"@\"."
   ]
  },
  {
   "cell_type": "code",
   "execution_count": null,
   "metadata": {},
   "outputs": [],
   "source": []
  },
  {
   "cell_type": "markdown",
   "metadata": {},
   "source": [
    "**6.** Solicitar números al usuario hasta que ingrese el cero. Por cada uno, mostrar la suma de sus dígitos (utilizando una función que realice dicha suma)."
   ]
  },
  {
   "cell_type": "code",
   "execution_count": null,
   "metadata": {},
   "outputs": [],
   "source": []
  },
  {
   "cell_type": "markdown",
   "metadata": {},
   "source": [
    "**7.** Solicitar al usuario el ingreso de números primos. La lectura finalizará cuando ingrese un número que no sea primo. Por cada número, mostrar la suma de sus dígitos. También solicitar al usuario un dígito e informar la cantidad de veces que aparece en el número (frecuencia). Al finalizar el programa, mostrar el factorial del mayor número ingresado."
   ]
  },
  {
   "cell_type": "code",
   "execution_count": null,
   "metadata": {},
   "outputs": [],
   "source": []
  },
  {
   "cell_type": "markdown",
   "metadata": {},
   "source": [
    "**8.** Escribir una función que, dado un string, retorne la longitud de la última palabra. Se considera que las palabras están separadas por uno o más espacios. También podría haber espacios al principio o al final del string pasado por parámetro.\n",
    "Pista: Use el metodo string.split(simbolo) para separar las palabras del string en una lista segun el simbolo:\n",
    "\n",
    "    string = \"Bienvenido a mi casa\"\n",
    "    lista = string.split(\" \")\n",
    "    print(lista)\n",
    "    >> ['Bienvenido', 'a', 'mi', 'casa']"
   ]
  },
  {
   "cell_type": "code",
   "execution_count": null,
   "metadata": {
    "ExecuteTime": {
     "end_time": "2020-10-30T22:43:27.481264Z",
     "start_time": "2020-10-30T22:43:27.474284Z"
    }
   },
   "outputs": [],
   "source": []
  }
 ],
 "metadata": {
  "kernelspec": {
   "display_name": "Python 3",
   "language": "python",
   "name": "python3"
  },
  "language_info": {
   "codemirror_mode": {
    "name": "ipython",
    "version": 3
   },
   "file_extension": ".py",
   "mimetype": "text/x-python",
   "name": "python",
   "nbconvert_exporter": "python",
   "pygments_lexer": "ipython3",
   "version": "3.8.3"
  },
  "toc": {
   "base_numbering": 1,
   "nav_menu": {},
   "number_sections": true,
   "sideBar": true,
   "skip_h1_title": false,
   "title_cell": "Table of Contents",
   "title_sidebar": "Contents",
   "toc_cell": false,
   "toc_position": {},
   "toc_section_display": true,
   "toc_window_display": false
  },
  "varInspector": {
   "cols": {
    "lenName": 16,
    "lenType": 16,
    "lenVar": 40
   },
   "kernels_config": {
    "python": {
     "delete_cmd_postfix": "",
     "delete_cmd_prefix": "del ",
     "library": "var_list.py",
     "varRefreshCmd": "print(var_dic_list())"
    },
    "r": {
     "delete_cmd_postfix": ") ",
     "delete_cmd_prefix": "rm(",
     "library": "var_list.r",
     "varRefreshCmd": "cat(var_dic_list()) "
    }
   },
   "oldHeight": 122.4,
   "position": {
    "height": "40px",
    "left": "1142px",
    "right": "20px",
    "top": "36px",
    "width": "350px"
   },
   "types_to_exclude": [
    "module",
    "function",
    "builtin_function_or_method",
    "instance",
    "_Feature"
   ],
   "varInspector_section_display": "none",
   "window_display": true
  }
 },
 "nbformat": 4,
 "nbformat_minor": 4
}
