{
 "cells": [
  {
   "cell_type": "markdown",
   "metadata": {},
   "source": [
    "# Diccionarios"
   ]
  },
  {
   "attachments": {
    "image.png": {
     "image/png": "[encoded data removed]"
    }
   },
   "cell_type": "markdown",
   "metadata": {},
   "source": [
    "Tipo de datos ampliamente utilizados que permiten conectar piezas de informacion por medio de la generacion de un <span class=\"mark\">_key_</span> y un <span class=\"mark\">_value_</span> asociado. Los diccionarios no tienen orden, por lo cual **NO** pueden ser llamados usando indices.\n",
    "![image.png](attachment:image.png)"
   ]
  },
  {
   "cell_type": "code",
   "execution_count": 3,
   "metadata": {
    "ExecuteTime": {
     "end_time": "2020-10-29T23:16:41.971822Z",
     "start_time": "2020-10-29T23:16:41.966833Z"
    },
    "scrolled": true
   },
   "outputs": [
    {
     "name": "stdout",
     "output_type": "stream",
     "text": [
      "{'color': 'verde', 'puntos': 5}\n",
      "verde\n",
      "5\n"
     ]
    }
   ],
   "source": [
    "# Creando un alien con sus caracteristicas\n",
    "alien_0 = {'color': 'verde', 'puntos': 5}\n",
    "print(alien_0)\n",
    "print(alien_0['color'])\n",
    "print(alien_0['puntos'])"
   ]
  },
  {
   "cell_type": "code",
   "execution_count": 6,
   "metadata": {
    "ExecuteTime": {
     "end_time": "2020-10-29T23:17:42.507558Z",
     "start_time": "2020-10-29T23:17:42.503568Z"
    }
   },
   "outputs": [
    {
     "name": "stdout",
     "output_type": "stream",
     "text": [
      "Tu obtuviste 5 puntos!\n"
     ]
    }
   ],
   "source": [
    "# Ejemplo usando diccionarios\n",
    "nuevos_puntos = alien_0['puntos']\n",
    "print(\"Tu obtuviste \" + str(nuevos_puntos) + \" puntos!\")"
   ]
  },
  {
   "cell_type": "markdown",
   "metadata": {},
   "source": [
    "Agregando valores al diccionario:"
   ]
  },
  {
   "cell_type": "code",
   "execution_count": 7,
   "metadata": {
    "ExecuteTime": {
     "end_time": "2020-10-29T23:18:31.571959Z",
     "start_time": "2020-10-29T23:18:31.567006Z"
    }
   },
   "outputs": [
    {
     "name": "stdout",
     "output_type": "stream",
     "text": [
      "{'color': 'verde', 'puntos': 5, 'x': 0, 'y': 25}\n"
     ]
    }
   ],
   "source": [
    "alien_0['x'] = 0\n",
    "alien_0['y'] = 25\n",
    "print(alien_0)"
   ]
  },
  {
   "cell_type": "code",
   "execution_count": 8,
   "metadata": {
    "ExecuteTime": {
     "end_time": "2020-10-29T23:21:47.282950Z",
     "start_time": "2020-10-29T23:21:47.276964Z"
    },
    "run_control": {
     "marked": false
    }
   },
   "outputs": [
    {
     "name": "stdout",
     "output_type": "stream",
     "text": [
      "Antes de:  {}\n",
      "Despues de:  {'casa': 'verde', 'cine': 'amarilla', 'trabajo': 'azul', 'novia': 'blanca', 'madre': 'rosa'}\n"
     ]
    }
   ],
   "source": [
    "#  Es posible iniciar con diccionarios vacios e ir llenandolos\n",
    "\n",
    "diccionario = {}\n",
    "print(\"Antes de: \", diccionario)\n",
    "\n",
    "nombres = [\"casa\", \"cine\", \"trabajo\", \"novia\", \"madre\"]\n",
    "colores = [\"verde\", \"amarilla\", \"azul\", \"blanca\", \"rosa\"]\n",
    "for i in range(len(nombres)): # 0 1 2 3 4\n",
    "    diccionario[nombres[i]] = colores[i]\n",
    "\n",
    "print(\"Despues de: \", diccionario)"
   ]
  },
  {
   "cell_type": "code",
   "execution_count": 10,
   "metadata": {
    "ExecuteTime": {
     "end_time": "2020-10-29T23:23:07.549562Z",
     "start_time": "2020-10-29T23:23:07.545578Z"
    }
   },
   "outputs": [
    {
     "name": "stdout",
     "output_type": "stream",
     "text": [
      "{'trueno': 'Ruido muy fuerte que sigue al rayo durante una tempestad, producido por la expansión del aire al paso de la descarga eléctrica.', 'rayo': 'Chispa eléctrica de gran intensidad producida por la descarga entre dos nubes o entre una nube y la tierra.'}\n",
      "{}\n",
      "Ruido muy fuerte que sigue al rayo durante una tempestad, producido por la expansión del aire al paso de la descarga eléctrica.\n"
     ]
    }
   ],
   "source": [
    "d = {\n",
    "    \"trueno\": \"Ruido muy fuerte que sigue al rayo durante una tempestad, producido por la expansión del aire al paso de la descarga eléctrica.\",\n",
    "    \"rayo\": \"Chispa eléctrica de gran intensidad producida por la descarga entre dos nubes o entre una nube y la tierra.\"\n",
    "    } \n",
    "a = {} # Diccionario vacío\n",
    "print(d)\n",
    "print(a)\n",
    "print(d[\"trueno\"])"
   ]
  },
  {
   "cell_type": "markdown",
   "metadata": {},
   "source": [
    "<span class=\"burk\">MINIDESAFIO</span>"
   ]
  },
  {
   "cell_type": "markdown",
   "metadata": {},
   "source": [
    "**1.** Persona: use un diccionario para almacenar información sobre una persona que conoce. Guarde su nombre, apellido, edad y la ciudad en la que vive. Debe tener claves como nombre, apellido, edad y ciudad. Imprima cada pieza de información almacenada en su diccionario."
   ]
  },
  {
   "cell_type": "code",
   "execution_count": 14,
   "metadata": {
    "ExecuteTime": {
     "end_time": "2020-10-29T23:40:26.082380Z",
     "start_time": "2020-10-29T23:40:26.074394Z"
    }
   },
   "outputs": [
    {
     "name": "stdout",
     "output_type": "stream",
     "text": [
      "{'nombre': 'catalina', 'edad': 25, 'ciudad': 'bogota'}\n",
      "Catalina\n",
      "25\n",
      "Bogota\n"
     ]
    }
   ],
   "source": [
    "persona = {'nombre': 'catalina' , 'edad':25 ,'ciudad':'bogota'}\n",
    "print(persona)\n",
    "print(persona['nombre'].title())\n",
    "print(persona['edad'])\n",
    "print(persona['ciudad'].title())"
   ]
  },
  {
   "cell_type": "markdown",
   "metadata": {
    "ExecuteTime": {
     "end_time": "2020-10-28T18:51:34.126128Z",
     "start_time": "2020-10-28T18:51:34.110177Z"
    }
   },
   "source": [
    "**2.** Ríos: haz un diccionario que contenga los tres ríos principales y el país por el que pasa cada río. Un par clave-valor podría ser 'nilo': 'egipto'.\n",
    "\n",
    "    • Utilice un bucle para imprimir una oración sobre cada río, como El Nilo atraviesa Egipto.\n",
    "    • Utilice un bucle para imprimir el nombre de cada río incluido en el diccionario.\n",
    "    • Utilice un bucle para imprimir el nombre de cada país incluido en el diccionario."
   ]
  },
  {
   "cell_type": "code",
   "execution_count": 18,
   "metadata": {
    "ExecuteTime": {
     "end_time": "2020-10-29T23:46:40.534583Z",
     "start_time": "2020-10-29T23:46:40.529596Z"
    }
   },
   "outputs": [
    {
     "name": "stdout",
     "output_type": "stream",
     "text": [
      "{'nilo': 'egipto', 'amazonas': 'brasil', 'mississippi': 'estados unidos'}\n",
      "El nilo atraviesa egipto\n",
      "El amazonas atraviesa brasil\n",
      "El mississippi atraviesa estados unidos\n"
     ]
    }
   ],
   "source": [
    "rios = {'nilo':'egipto', 'amazonas':'brasil', 'mississippi':'estados unidos'}\n",
    "print(rios)\n",
    "for i in rios:\n",
    "    print(\"El \" + i +\" atraviesa \" + rios[i])"
   ]
  },
  {
   "cell_type": "code",
   "execution_count": 19,
   "metadata": {
    "ExecuteTime": {
     "end_time": "2020-10-29T23:47:30.432624Z",
     "start_time": "2020-10-29T23:47:30.428635Z"
    }
   },
   "outputs": [
    {
     "name": "stdout",
     "output_type": "stream",
     "text": [
      "nilo\n",
      "amazonas\n",
      "mississippi\n"
     ]
    }
   ],
   "source": [
    "for i in rios:\n",
    "    print(i)"
   ]
  },
  {
   "cell_type": "code",
   "execution_count": 20,
   "metadata": {
    "ExecuteTime": {
     "end_time": "2020-10-29T23:48:12.810154Z",
     "start_time": "2020-10-29T23:48:12.803170Z"
    }
   },
   "outputs": [
    {
     "name": "stdout",
     "output_type": "stream",
     "text": [
      "egipto\n",
      "brasil\n",
      "estados unidos\n"
     ]
    }
   ],
   "source": [
    "for i in rios:\n",
    "    print(rios[i])"
   ]
  },
  {
   "cell_type": "markdown",
   "metadata": {},
   "source": [
    "Modificando valores en el diccionario."
   ]
  },
  {
   "cell_type": "code",
   "execution_count": 22,
   "metadata": {
    "ExecuteTime": {
     "end_time": "2020-10-29T23:49:55.273210Z",
     "start_time": "2020-10-29T23:49:55.268223Z"
    }
   },
   "outputs": [
    {
     "name": "stdout",
     "output_type": "stream",
     "text": [
      "{'color': 'verde', 'puntos': 5, 'x': 0, 'y': 25}\n",
      "{'color': 'amarillo', 'puntos': 5, 'x': 0, 'y': 25}\n"
     ]
    }
   ],
   "source": [
    "print(alien_0)\n",
    "alien_0['color'] = \"amarillo\"\n",
    "print(alien_0)"
   ]
  },
  {
   "cell_type": "code",
   "execution_count": 23,
   "metadata": {
    "ExecuteTime": {
     "end_time": "2020-10-29T23:52:23.051199Z",
     "start_time": "2020-10-29T23:52:23.045214Z"
    }
   },
   "outputs": [
    {
     "name": "stdout",
     "output_type": "stream",
     "text": [
      "Posicion x original: 0\n",
      "Posicion nueva de x: 2\n"
     ]
    }
   ],
   "source": [
    "alien_0 = {'x': 0, 'y': 25, 'rapidez': 'media'}\n",
    "print(\"Posicion x original: \" + str(alien_0['x']))\n",
    "# Mover el alien a la derecha.\n",
    "# Determinar que tan rapido se mueve el alien segun su actual velocidad.\n",
    "if alien_0['rapidez'] == 'lenta':\n",
    "    aumento_x = 1\n",
    "elif alien_0['rapidez'] == 'media':\n",
    "    aumento_x = 2\n",
    "else:\n",
    "    # Para un alien rapido\n",
    "    aumento_x = 3\n",
    "# La nueva posicion es la antigua mas el incremento en x.\n",
    "alien_0['x'] = alien_0['x'] + aumento_x\n",
    "print(\"Posicion nueva de x: \" + str(alien_0['x']))"
   ]
  },
  {
   "cell_type": "markdown",
   "metadata": {
    "ExecuteTime": {
     "end_time": "2020-10-28T01:35:57.022051Z",
     "start_time": "2020-10-28T01:35:57.012077Z"
    }
   },
   "source": [
    "Eliminando valores del diccionario:"
   ]
  },
  {
   "cell_type": "code",
   "execution_count": 24,
   "metadata": {
    "ExecuteTime": {
     "end_time": "2020-10-29T23:53:22.863196Z",
     "start_time": "2020-10-29T23:53:22.858207Z"
    }
   },
   "outputs": [
    {
     "name": "stdout",
     "output_type": "stream",
     "text": [
      "{'x': 2, 'y': 25, 'rapidez': 'media'}\n",
      "{'x': 2, 'y': 25}\n"
     ]
    }
   ],
   "source": [
    "print(alien_0)\n",
    "del alien_0[\"rapidez\"]\n",
    "print(alien_0)"
   ]
  },
  {
   "cell_type": "code",
   "execution_count": 26,
   "metadata": {
    "ExecuteTime": {
     "end_time": "2020-10-29T23:54:59.026934Z",
     "start_time": "2020-10-29T23:54:59.017965Z"
    }
   },
   "outputs": [
    {
     "name": "stdout",
     "output_type": "stream",
     "text": [
      "{'jen': 'python', 'sarah': 'c', 'edward': 'ruby', 'phil': 'python'}\n"
     ]
    }
   ],
   "source": [
    "lenguaje_favorito = {'jen': 'python', \n",
    "                     'sarah': 'c', \n",
    "                     'edward': 'ruby', \n",
    "                     'phil': 'python'\n",
    "                    }\n",
    "print(lenguaje_favorito)"
   ]
  },
  {
   "cell_type": "code",
   "execution_count": 27,
   "metadata": {
    "ExecuteTime": {
     "end_time": "2020-10-29T23:55:14.441645Z",
     "start_time": "2020-10-29T23:55:14.437654Z"
    }
   },
   "outputs": [
    {
     "name": "stdout",
     "output_type": "stream",
     "text": [
      "El lenguaje favorito de sarah es c\n"
     ]
    }
   ],
   "source": [
    "print(\"El lenguaje favorito de sarah es \" + lenguaje_favorito[\"sarah\"])"
   ]
  },
  {
   "cell_type": "code",
   "execution_count": 28,
   "metadata": {
    "ExecuteTime": {
     "end_time": "2020-10-29T23:55:40.143287Z",
     "start_time": "2020-10-29T23:55:40.135309Z"
    }
   },
   "outputs": [
    {
     "name": "stdout",
     "output_type": "stream",
     "text": [
      "The Zen of Python, by Tim Peters\n",
      "\n",
      "Beautiful is better than ugly.\n",
      "Explicit is better than implicit.\n",
      "Simple is better than complex.\n",
      "Complex is better than complicated.\n",
      "Flat is better than nested.\n",
      "Sparse is better than dense.\n",
      "Readability counts.\n",
      "Special cases aren't special enough to break the rules.\n",
      "Although practicality beats purity.\n",
      "Errors should never pass silently.\n",
      "Unless explicitly silenced.\n",
      "In the face of ambiguity, refuse the temptation to guess.\n",
      "There should be one-- and preferably only one --obvious way to do it.\n",
      "Although that way may not be obvious at first unless you're Dutch.\n",
      "Now is better than never.\n",
      "Although never is often better than *right* now.\n",
      "If the implementation is hard to explain, it's a bad idea.\n",
      "If the implementation is easy to explain, it may be a good idea.\n",
      "Namespaces are one honking great idea -- let's do more of those!\n"
     ]
    }
   ],
   "source": [
    "import this"
   ]
  },
  {
   "cell_type": "markdown",
   "metadata": {},
   "source": [
    "Ciclos con diccionarios usando <span class=\"mark\">keys</span> y <span class=\"mark\">values</span>:"
   ]
  },
  {
   "cell_type": "code",
   "execution_count": 29,
   "metadata": {
    "ExecuteTime": {
     "end_time": "2020-10-29T23:57:02.894859Z",
     "start_time": "2020-10-29T23:57:02.885887Z"
    }
   },
   "outputs": [
    {
     "name": "stdout",
     "output_type": "stream",
     "text": [
      "dict_items([('username', 'efermi'), ('nombre', 'enrico'), ('apellido', 'fermi')])\n"
     ]
    }
   ],
   "source": [
    "usuario_0 = {\n",
    "    'username': 'efermi',\n",
    "    'nombre': 'enrico',\n",
    "    'apellido': 'fermi',\n",
    "    }\n",
    "print(usuario_0.items())"
   ]
  },
  {
   "cell_type": "code",
   "execution_count": 33,
   "metadata": {
    "ExecuteTime": {
     "end_time": "2020-10-29T23:59:51.211823Z",
     "start_time": "2020-10-29T23:59:51.207833Z"
    }
   },
   "outputs": [
    {
     "name": "stdout",
     "output_type": "stream",
     "text": [
      "Key: username\n",
      "Value: efermi\n",
      "\n",
      "Key: nombre\n",
      "Value: enrico\n",
      "\n",
      "Key: apellido\n",
      "Value: fermi\n",
      "\n"
     ]
    }
   ],
   "source": [
    "for key, value in usuario_0.items():\n",
    "    print(\"Key: \" + key)\n",
    "    print(\"Value: \" + value, end=\"\\n\"*2)"
   ]
  },
  {
   "cell_type": "code",
   "execution_count": 34,
   "metadata": {
    "ExecuteTime": {
     "end_time": "2020-10-30T00:00:59.807254Z",
     "start_time": "2020-10-30T00:00:59.803232Z"
    }
   },
   "outputs": [
    {
     "name": "stdout",
     "output_type": "stream",
     "text": [
      "{'jen': 'python', 'sarah': 'c', 'edward': 'ruby', 'phil': 'python'}\n",
      "El lenguaje favorito de Jen es Python.\n",
      "El lenguaje favorito de Sarah es C.\n",
      "El lenguaje favorito de Edward es Ruby.\n",
      "El lenguaje favorito de Phil es Python.\n"
     ]
    }
   ],
   "source": [
    "print(lenguaje_favorito)\n",
    "for nombre, lenguaje in lenguaje_favorito.items():\n",
    "    print(\"El lenguaje favorito de \" + nombre.title() + \" es \" +\n",
    "    lenguaje.title() + \".\")"
   ]
  },
  {
   "cell_type": "markdown",
   "metadata": {},
   "source": [
    "Ciclos entre los keys usando <span class=\"mark\">.keys()</span>"
   ]
  },
  {
   "cell_type": "code",
   "execution_count": 36,
   "metadata": {
    "ExecuteTime": {
     "end_time": "2020-10-30T00:02:44.736483Z",
     "start_time": "2020-10-30T00:02:44.729506Z"
    }
   },
   "outputs": [
    {
     "name": "stdout",
     "output_type": "stream",
     "text": [
      "dict_keys(['jen', 'sarah', 'edward', 'phil'])\n",
      "Jen\n",
      "Sarah\n",
      "Edward\n",
      "Phil\n"
     ]
    }
   ],
   "source": [
    "print(lenguaje_favorito.keys())\n",
    "\n",
    "for nombre in lenguaje_favorito.keys():\n",
    "    print(nombre.title())"
   ]
  },
  {
   "cell_type": "markdown",
   "metadata": {},
   "source": [
    "Ciclos entre los values usando <span class=\"mark\">.values()</span>"
   ]
  },
  {
   "cell_type": "code",
   "execution_count": 38,
   "metadata": {
    "ExecuteTime": {
     "end_time": "2020-10-30T00:03:24.480907Z",
     "start_time": "2020-10-30T00:03:24.475921Z"
    }
   },
   "outputs": [
    {
     "name": "stdout",
     "output_type": "stream",
     "text": [
      "dict_values(['python', 'c', 'ruby', 'python'])\n",
      "Python\n",
      "C\n",
      "Ruby\n",
      "Python\n"
     ]
    }
   ],
   "source": [
    "print(lenguaje_favorito.values())\n",
    "for nombre in lenguaje_favorito.values():\n",
    "    print(nombre.title())"
   ]
  },
  {
   "cell_type": "code",
   "execution_count": 42,
   "metadata": {
    "ExecuteTime": {
     "end_time": "2020-10-30T00:05:19.616349Z",
     "start_time": "2020-10-30T00:05:19.612360Z"
    }
   },
   "outputs": [
    {
     "name": "stdout",
     "output_type": "stream",
     "text": [
      "5\n"
     ]
    }
   ],
   "source": [
    "a = 5\n",
    "print(a)"
   ]
  },
  {
   "cell_type": "code",
   "execution_count": 40,
   "metadata": {
    "ExecuteTime": {
     "end_time": "2020-10-30T00:05:04.360476Z",
     "start_time": "2020-10-30T00:05:04.355490Z"
    }
   },
   "outputs": [
    {
     "name": "stdout",
     "output_type": "stream",
     "text": [
      "6\n"
     ]
    }
   ],
   "source": [
    "a = 6\n",
    "print(a)"
   ]
  },
  {
   "cell_type": "code",
   "execution_count": 43,
   "metadata": {
    "ExecuteTime": {
     "end_time": "2020-10-30T00:05:34.503174Z",
     "start_time": "2020-10-30T00:05:34.497192Z"
    }
   },
   "outputs": [
    {
     "name": "stdout",
     "output_type": "stream",
     "text": [
      "5\n"
     ]
    }
   ],
   "source": [
    "print(a)"
   ]
  },
  {
   "cell_type": "markdown",
   "metadata": {
    "ExecuteTime": {
     "end_time": "2020-10-28T01:55:29.274961Z",
     "start_time": "2020-10-28T01:55:29.270002Z"
    }
   },
   "source": [
    "## Nesting (Anidado)"
   ]
  },
  {
   "cell_type": "markdown",
   "metadata": {
    "ExecuteTime": {
     "end_time": "2020-10-28T18:52:58.429378Z",
     "start_time": "2020-10-28T18:52:58.424397Z"
    }
   },
   "source": [
    "Dentro de los diccionario, podemos agregar mas diccionarios, listas, matrices, etc... Por otro lado, tambien es posible diccionario en listas."
   ]
  },
  {
   "cell_type": "code",
   "execution_count": 47,
   "metadata": {
    "ExecuteTime": {
     "end_time": "2020-10-30T00:10:35.236186Z",
     "start_time": "2020-10-30T00:10:35.228206Z"
    }
   },
   "outputs": [
    {
     "name": "stdout",
     "output_type": "stream",
     "text": [
      "[{'color': 'green', 'points': 5}, {'color': 'yellow', 'points': 10}, {'color': 'red', 'points': 15}]\n"
     ]
    }
   ],
   "source": [
    "alien_0 = {'color': 'green', 'points': 5}\n",
    "alien_1 = {'color': 'yellow', 'points': 10}\n",
    "alien_2 = {'color': 'red', 'points': 15}\n",
    "\n",
    "# Creo una lista de diccionarios\n",
    "aliens = [alien_0, alien_1, alien_2]\n",
    "print(aliens)"
   ]
  },
  {
   "cell_type": "code",
   "execution_count": 46,
   "metadata": {
    "ExecuteTime": {
     "end_time": "2020-10-30T00:09:51.503395Z",
     "start_time": "2020-10-30T00:09:51.499406Z"
    }
   },
   "outputs": [
    {
     "name": "stdout",
     "output_type": "stream",
     "text": [
      "{'color': 'yellow', 'points': 10}\n"
     ]
    }
   ],
   "source": [
    "# Llamo a los elementos de la lista\n",
    "print(aliens[1])"
   ]
  },
  {
   "cell_type": "code",
   "execution_count": 49,
   "metadata": {
    "ExecuteTime": {
     "end_time": "2020-10-30T00:11:15.060805Z",
     "start_time": "2020-10-30T00:11:15.056816Z"
    }
   },
   "outputs": [
    {
     "name": "stdout",
     "output_type": "stream",
     "text": [
      "10\n"
     ]
    }
   ],
   "source": [
    "# Llamo a un atributo de un elemento de la lista\n",
    "print(aliens[1]['points'])"
   ]
  },
  {
   "cell_type": "markdown",
   "metadata": {},
   "source": [
    "Ejemplo mas realista"
   ]
  },
  {
   "cell_type": "code",
   "execution_count": 51,
   "metadata": {
    "ExecuteTime": {
     "end_time": "2020-10-30T00:13:50.867167Z",
     "start_time": "2020-10-30T00:13:50.860218Z"
    }
   },
   "outputs": [
    {
     "name": "stdout",
     "output_type": "stream",
     "text": [
      "{'color': 'green', 'points': 5, 'speed': 'slow'}\n",
      "...\n",
      "{'color': 'green', 'points': 6, 'speed': 'slow'}\n",
      "...\n",
      "{'color': 'green', 'points': 7, 'speed': 'slow'}\n",
      "...\n",
      "{'color': 'green', 'points': 8, 'speed': 'slow'}\n",
      "...\n",
      "{'color': 'green', 'points': 9, 'speed': 'slow'}\n",
      "...\n",
      "Numero total de aliens: 30\n"
     ]
    }
   ],
   "source": [
    "# Lista vacia de aliens\n",
    "aliens = []\n",
    "\n",
    "# Agrego 30 aliens verdes\n",
    "for i in range(30):\n",
    "    new_alien = {'color': 'green', 'points': 5 + i, 'speed': 'slow'}\n",
    "    aliens.append(new_alien)\n",
    "    \n",
    "# Muestro los primeros 5\n",
    "for alien in aliens[:5]:\n",
    "    print(alien)\n",
    "    print(\"...\")\n",
    "    \n",
    "# Muestro cuantos aliens he creado\n",
    "print(\"Numero total de aliens: \" + str(len(aliens)))"
   ]
  },
  {
   "cell_type": "markdown",
   "metadata": {},
   "source": [
    "<span class=\"mark\">Diccionario de listas:</span>"
   ]
  },
  {
   "cell_type": "code",
   "execution_count": 52,
   "metadata": {
    "ExecuteTime": {
     "end_time": "2020-10-30T00:18:03.101426Z",
     "start_time": "2020-10-30T00:18:03.096442Z"
    }
   },
   "outputs": [
    {
     "name": "stdout",
     "output_type": "stream",
     "text": [
      "{'tipos': ['mexicana', 'hawaiana', 'normal', 'mozarella'], 'bebidas': ['gasesosa', 'limonada', 'agua', 'cerveza'], 'adiciones': ['pepperoni', 'pimienta', 'aji', 'queso extra']}\n"
     ]
    }
   ],
   "source": [
    "pizza = {\"tipos\":[\"mexicana\", \"hawaiana\", \"normal\", \"mozarella\"],\n",
    "        \"bebidas\":[\"gasesosa\", \"limonada\", \"agua\", \"cerveza\"],\n",
    "        \"adiciones\":[\"pepperoni\", \"pimienta\", \"aji\", \"queso extra\"]\n",
    "        }\n",
    "print(pizza)"
   ]
  },
  {
   "cell_type": "code",
   "execution_count": 53,
   "metadata": {
    "ExecuteTime": {
     "end_time": "2020-10-30T00:18:22.006324Z",
     "start_time": "2020-10-30T00:18:21.999344Z"
    }
   },
   "outputs": [
    {
     "name": "stdout",
     "output_type": "stream",
     "text": [
      "['mexicana', 'hawaiana', 'normal', 'mozarella']\n"
     ]
    }
   ],
   "source": [
    "# Que tipos de pizza ahi?\n",
    "print(pizza[\"tipos\"])"
   ]
  },
  {
   "cell_type": "code",
   "execution_count": 54,
   "metadata": {
    "ExecuteTime": {
     "end_time": "2020-10-30T00:18:40.325991Z",
     "start_time": "2020-10-30T00:18:40.322002Z"
    }
   },
   "outputs": [
    {
     "name": "stdout",
     "output_type": "stream",
     "text": [
      "['gasesosa', 'limonada', 'agua', 'cerveza']\n"
     ]
    }
   ],
   "source": [
    "# Que bebidas puedo elegir?\n",
    "print(pizza[\"bebidas\"])"
   ]
  },
  {
   "cell_type": "code",
   "execution_count": 55,
   "metadata": {
    "ExecuteTime": {
     "end_time": "2020-10-30T00:20:34.248202Z",
     "start_time": "2020-10-30T00:20:34.235239Z"
    }
   },
   "outputs": [
    {
     "name": "stdout",
     "output_type": "stream",
     "text": [
      "Yo quiero una pizza mozarella, de beber quiero agua y por favor agregue algo de pimienta. Gracias\n"
     ]
    }
   ],
   "source": [
    "# Haciendo mi pedido\n",
    "pedido = (pizza[\"tipos\"][3], pizza[\"bebidas\"][2], pizza[\"adiciones\"][1])\n",
    "print(\"Yo quiero una pizza \" + pedido[0] + \", de beber quiero \" + pedido[1] \n",
    "      + \" y por favor agregue algo de \" + pedido[2] + \". Gracias\")"
   ]
  },
  {
   "cell_type": "markdown",
   "metadata": {},
   "source": [
    "<span class=\"mark\">Diccionario de diccionarios:</span>"
   ]
  },
  {
   "cell_type": "code",
   "execution_count": 56,
   "metadata": {
    "ExecuteTime": {
     "end_time": "2020-10-30T00:22:13.836455Z",
     "start_time": "2020-10-30T00:22:13.831468Z"
    }
   },
   "outputs": [
    {
     "name": "stdout",
     "output_type": "stream",
     "text": [
      "{'alien_0': {'color': 'verde', 'puntos': 5, 'velocidad': 'lenta'}, 'alien_1': {'color': 'amarillo', 'puntos': 7, 'velocidad': 'media'}, 'alien_2': {'color': 'rojo', 'puntos': 10, 'velocidad': 'alta'}}\n"
     ]
    }
   ],
   "source": [
    "aliens = {\n",
    "    \"alien_0\":{\"color\": \"verde\", \"puntos\": 5, \"velocidad\":\"lenta\"},\n",
    "    \"alien_1\":{\"color\": \"amarillo\", \"puntos\": 7, \"velocidad\":\"media\"},\n",
    "    \"alien_2\":{\"color\": \"rojo\", \"puntos\": 10, \"velocidad\":\"alta\"}\n",
    "    }\n",
    "\n",
    "print(aliens)"
   ]
  },
  {
   "cell_type": "code",
   "execution_count": 57,
   "metadata": {
    "ExecuteTime": {
     "end_time": "2020-10-30T00:22:31.006413Z",
     "start_time": "2020-10-30T00:22:31.002421Z"
    }
   },
   "outputs": [
    {
     "name": "stdout",
     "output_type": "stream",
     "text": [
      "{'color': 'verde', 'puntos': 5, 'velocidad': 'lenta'}\n"
     ]
    }
   ],
   "source": [
    "# llamar al alien 0\n",
    "print(aliens[\"alien_0\"])"
   ]
  },
  {
   "cell_type": "code",
   "execution_count": 58,
   "metadata": {
    "ExecuteTime": {
     "end_time": "2020-10-30T00:23:07.217959Z",
     "start_time": "2020-10-30T00:23:07.211975Z"
    }
   },
   "outputs": [
    {
     "name": "stdout",
     "output_type": "stream",
     "text": [
      "7\n"
     ]
    }
   ],
   "source": [
    "# Conocer los puntos del alien 1\n",
    "print(aliens[\"alien_1\"][\"puntos\"])"
   ]
  },
  {
   "cell_type": "code",
   "execution_count": 59,
   "metadata": {
    "ExecuteTime": {
     "end_time": "2020-10-30T00:23:59.367061Z",
     "start_time": "2020-10-30T00:23:59.361077Z"
    }
   },
   "outputs": [
    {
     "name": "stdout",
     "output_type": "stream",
     "text": [
      "El Alien_0 tiene 5 puntos.\n",
      "El Alien_1 tiene 7 puntos.\n",
      "El Alien_2 tiene 10 puntos.\n"
     ]
    }
   ],
   "source": [
    "# Imprimiendo a todos los aliens\n",
    "for alien in aliens.keys():\n",
    "    print(\"El \" + alien.title() + \" tiene \" + str(aliens[alien][\"puntos\"]) + \" puntos.\")"
   ]
  },
  {
   "cell_type": "markdown",
   "metadata": {},
   "source": [
    "<span class=\"burk\">MINIDESAFIO</span>"
   ]
  },
  {
   "cell_type": "markdown",
   "metadata": {
    "solution": "hidden",
    "solution_first": true
   },
   "source": [
    "**2.** Se recibieron distintos postulantes para un empleo de traductor. Crear un diccionario en el cuál la key de cada elemento sea el nombre de un candidato y el contenido sea un diccionario de los idiomas que aprendió. Para armar el diccionario de idiomas de cada candidato, los elementos deben tener como key el nombre del idioma y como contenido el valor True o False para los siguientes idiomas: Español, Ingles, Chino, Frances, Italiano.\n",
    "\n",
    "Ejemplo de un diccionario de idiomas:\n",
    "\n",
    "        {\"Español\":True, \"Ingles\":True, \"Chino\":False, \"Frances\":False, \"Italiano\":True}"
   ]
  },
  {
   "cell_type": "code",
   "execution_count": 64,
   "metadata": {
    "ExecuteTime": {
     "end_time": "2020-10-30T00:43:37.671139Z",
     "start_time": "2020-10-30T00:43:37.664160Z"
    }
   },
   "outputs": [
    {
     "name": "stdout",
     "output_type": "stream",
     "text": [
      "True\n",
      "False\n"
     ]
    }
   ],
   "source": [
    "postulantes = {\n",
    "    \"carlos\":{\"Español\":True, \"Ingles\":True, \"Chino\":False, \"Frances\":False, \"Italiano\":True},\n",
    "    \"luis\":{\"Español\":False, \"Ingles\":True, \"Chino\":True, \"Frances\":False, \"Italiano\":True},\n",
    "    \"maria\":{\"Español\":True, \"Ingles\":True, \"Chino\":True, \"Frances\":True, \"Italiano\":True},\n",
    "    \"andrea\":{\"Español\":True, \"Ingles\":False, \"Chino\":False, \"Frances\":False, \"Italiano\":False}\n",
    "    }\n",
    "#print(postulantes)\n",
    "print(postulantes[\"maria\"][\"Chino\"])\n",
    "print(postulantes[\"carlos\"][\"Frances\"])"
   ]
  },
  {
   "cell_type": "markdown",
   "metadata": {
    "ExecuteTime": {
     "end_time": "2020-10-28T20:37:30.397523Z",
     "start_time": "2020-10-28T20:37:30.394521Z"
    }
   },
   "source": [
    "# Conjuntos (Sets)"
   ]
  },
  {
   "cell_type": "markdown",
   "metadata": {},
   "source": [
    "Un set es un tipo de datos cuya principal caracteristica es la auscencia de orden y la no existencia de elementos repetidos. Son bastante utiles para la manipulacion de datos que no deberian estar repetidos y que no mantienen un orden interno. Para declararlos se utilizan llaves del  tipo { }."
   ]
  },
  {
   "cell_type": "markdown",
   "metadata": {
    "ExecuteTime": {
     "end_time": "2020-10-28T20:45:46.465853Z",
     "start_time": "2020-10-28T20:45:46.430946Z"
    }
   },
   "source": [
    "<img src=\"https://files.realpython.com/media/t.8b7abb515ae8.png\" height = 10 alt = \"Representación de Set usando diagrama Venn\" title= \"A&B\">"
   ]
  },
  {
   "cell_type": "code",
   "execution_count": 65,
   "metadata": {
    "ExecuteTime": {
     "end_time": "2020-10-30T00:46:26.051332Z",
     "start_time": "2020-10-30T00:46:26.043351Z"
    }
   },
   "outputs": [
    {
     "name": "stdout",
     "output_type": "stream",
     "text": [
      "Set x: {0, 1, 2, 3, 4, 5, 7, 9}\n"
     ]
    }
   ],
   "source": [
    "x = {1, 2, 3, 4, 2, 5, 7, 9, 0, 2}\n",
    "print(\"Set x:\", x)"
   ]
  },
  {
   "cell_type": "code",
   "execution_count": 66,
   "metadata": {
    "ExecuteTime": {
     "end_time": "2020-10-30T00:46:59.972942Z",
     "start_time": "2020-10-30T00:46:59.961967Z"
    }
   },
   "outputs": [
    {
     "name": "stdout",
     "output_type": "stream",
     "text": [
      "{'avion', 'hotel', 'casa', 'cine', 'trabajo'}\n"
     ]
    }
   ],
   "source": [
    "y = {\"casa\", \"cine\", \"avion\", \"hotel\", \"trabajo\"}\n",
    "print(y)"
   ]
  },
  {
   "cell_type": "markdown",
   "metadata": {},
   "source": [
    "## Operaciones con sets"
   ]
  },
  {
   "cell_type": "markdown",
   "metadata": {},
   "source": [
    "| : Es la operacion de  A∪B  llamada \"<span class=\"mark\">unión</span>\".: "
   ]
  },
  {
   "cell_type": "code",
   "execution_count": 68,
   "metadata": {
    "ExecuteTime": {
     "end_time": "2020-10-30T00:48:22.165301Z",
     "start_time": "2020-10-30T00:48:22.160315Z"
    }
   },
   "outputs": [
    {
     "name": "stdout",
     "output_type": "stream",
     "text": [
      "{0, 1, 2, 3, 4, 5, 7, 9, 'avion', 'hotel', 'casa', 'cine', 'trabajo'}\n",
      "{0, 1, 2, 3, 4, 5, 7, 9, 'avion', 'hotel', 15, 'casa', 'cine', 20, 'trabajo'}\n"
     ]
    }
   ],
   "source": [
    "z = {15, 20}\n",
    "print(x | y)\n",
    "print(x | y | z)"
   ]
  },
  {
   "cell_type": "markdown",
   "metadata": {},
   "source": [
    "&: Es la operacion de  A∩B  llamada \"<span class=\"mark\">intersección</span>\"."
   ]
  },
  {
   "cell_type": "code",
   "execution_count": 69,
   "metadata": {
    "ExecuteTime": {
     "end_time": "2020-10-30T00:48:49.433326Z",
     "start_time": "2020-10-30T00:48:49.428340Z"
    }
   },
   "outputs": [
    {
     "name": "stdout",
     "output_type": "stream",
     "text": [
      "{1, 2}\n"
     ]
    }
   ],
   "source": [
    "x = {1,2,3,4,7,7,7,7,7,7}\n",
    "y = {1,2,10}\n",
    "w = x & y\n",
    "print(w)"
   ]
  },
  {
   "cell_type": "markdown",
   "metadata": {},
   "source": [
    "A-B: Todo elemento de A que también se encuentre en B, será quitado de A. El equivalente logico es  A∩¬B ."
   ]
  },
  {
   "cell_type": "code",
   "execution_count": 71,
   "metadata": {
    "ExecuteTime": {
     "end_time": "2020-10-30T00:49:55.121031Z",
     "start_time": "2020-10-30T00:49:55.108832Z"
    }
   },
   "outputs": [
    {
     "name": "stdout",
     "output_type": "stream",
     "text": [
      "{3, 4, 7}\n",
      "{10}\n"
     ]
    }
   ],
   "source": [
    "x = {1,2,3,4,7,7,7,7,7,7}\n",
    "y = {1,2,10}\n",
    "z = x-y\n",
    "print(z)\n",
    "print(y-x)"
   ]
  },
  {
   "cell_type": "markdown",
   "metadata": {},
   "source": [
    "<span class=\"mark\">.remove(valor)</span>: Remueve el valor del set."
   ]
  },
  {
   "cell_type": "code",
   "execution_count": 72,
   "metadata": {
    "ExecuteTime": {
     "end_time": "2020-10-30T00:50:20.894200Z",
     "start_time": "2020-10-30T00:50:20.890244Z"
    }
   },
   "outputs": [
    {
     "name": "stdout",
     "output_type": "stream",
     "text": [
      "{2, 3, 4, 7}\n"
     ]
    }
   ],
   "source": [
    "x = {1,2,3,4,7}\n",
    "x.remove(1)\n",
    "print(x)"
   ]
  },
  {
   "cell_type": "markdown",
   "metadata": {},
   "source": [
    "<span class=\"mark\">.add(valor)</span>: Agrega el valor al set."
   ]
  },
  {
   "cell_type": "code",
   "execution_count": 73,
   "metadata": {
    "ExecuteTime": {
     "end_time": "2020-10-30T00:50:33.830812Z",
     "start_time": "2020-10-30T00:50:33.826823Z"
    }
   },
   "outputs": [
    {
     "name": "stdout",
     "output_type": "stream",
     "text": [
      "{1, 2, 3, 4, 7, 'hola'}\n"
     ]
    }
   ],
   "source": [
    "x = {1,2,3,4,7}\n",
    "x.add(\"hola\")\n",
    "print(x)"
   ]
  },
  {
   "cell_type": "markdown",
   "metadata": {},
   "source": [
    "<span class=\"mark\">len(set)</span> Obtiene el tamaño de un set."
   ]
  },
  {
   "cell_type": "code",
   "execution_count": 74,
   "metadata": {
    "ExecuteTime": {
     "end_time": "2020-10-30T00:51:05.734669Z",
     "start_time": "2020-10-30T00:51:05.729682Z"
    }
   },
   "outputs": [
    {
     "name": "stdout",
     "output_type": "stream",
     "text": [
      "{1, 2, 3, 6}\n",
      "4\n"
     ]
    }
   ],
   "source": [
    "conjunto = { 1, 2, 1, 3, 1, 6}\n",
    "print(conjunto)\n",
    "print(len(conjunto))"
   ]
  },
  {
   "cell_type": "markdown",
   "metadata": {},
   "source": [
    "<span class=\"mark\">set(objeto)</span> permite convertir a objeto en un conjunto, cuando sea posible. Es bastante util si se desean eliminar valores repetidos de una lista."
   ]
  },
  {
   "cell_type": "code",
   "execution_count": 77,
   "metadata": {
    "ExecuteTime": {
     "end_time": "2020-10-30T00:52:40.728327Z",
     "start_time": "2020-10-30T00:52:40.720349Z"
    }
   },
   "outputs": [
    {
     "name": "stdout",
     "output_type": "stream",
     "text": [
      "Lista a set:  {1, 2, 3, 4, 5, 7, 9}\n",
      "Tupla a set:  {1, 2, 5, 7}\n",
      "String a set:  {'c', 'i', 'e', 'a', 'l', 'd', ',', 'n', 'm', 'v', ' ', 'b', 'o', 's', 'H', '.'}\n"
     ]
    }
   ],
   "source": [
    "lista = [1, 2, 3, 4, 1, 5, 7, 9]\n",
    "tupla = (1, 2, 1, 1, 1, 5, 7)\n",
    "string = \"Hola, bienvenido a mi casa.\"\n",
    "print(\"Lista a set: \", set(lista))\n",
    "print(\"Tupla a set: \", set(tupla))\n",
    "print(\"String a set: \", set(string))"
   ]
  },
  {
   "cell_type": "markdown",
   "metadata": {},
   "source": [
    "<span class=\"burk\">MINIDESAFIO</span>"
   ]
  },
  {
   "cell_type": "markdown",
   "metadata": {},
   "source": [
    "Se cuentan con varios sets que contienen las personas que les gusta un cierto sabor de helado:\n",
    "    \n",
    "    vainilla = { \"Juan\", \"Marina\", \"Tomas\", \"Paula\" }\n",
    "    chocolate = { \"Pedro\", \"Paula\", \"Marina\" }\n",
    "    dulceDeLeche = { \"Juan\", \"Julian\", \"Pedro\", \"Marina\" }\n",
    "\n",
    "Responder usando operaciones de sets:\n",
    "\n",
    "-Hay alguna persona que le gusten todos los sabores?\n",
    "\n",
    "-Hay alguna persona que le gusten la vainilla y no el dulce de leche?\n",
    "\n",
    "-Cuantas personas distintas tenemos?"
   ]
  },
  {
   "cell_type": "code",
   "execution_count": null,
   "metadata": {},
   "outputs": [],
   "source": [
    "[]"
   ]
  },
  {
   "cell_type": "markdown",
   "metadata": {},
   "source": [
    "# Ciclos _while_"
   ]
  },
  {
   "cell_type": "markdown",
   "metadata": {},
   "source": [
    "Ciclos de iteracion utiles cuando se desea que una seccion del programa se ejecute hasta que se de la orden. En principio su ejecucion no terminara hasta que se cumpla una cierta condicion sobre un valor llamado _centinela_. Es muy importante que el centinela cumpla con una cierta condicion eventualmente o se obtendra un ciclo infinito\n",
    "\n",
    "La estructura de este tipo de ciclos es:\n",
    "\n",
    "    while condicion == True:\n",
    "        operacion a ejecutar"
   ]
  },
  {
   "cell_type": "code",
   "execution_count": 80,
   "metadata": {
    "ExecuteTime": {
     "end_time": "2020-10-30T00:56:16.344783Z",
     "start_time": "2020-10-30T00:56:16.336805Z"
    },
    "scrolled": false
   },
   "outputs": [
    {
     "name": "stdout",
     "output_type": "stream",
     "text": [
      "Ciclo numero:  0\n",
      "Ciclo numero:  1\n",
      "Ciclo numero:  2\n",
      "Ciclo numero:  3\n",
      "Ciclo numero:  4\n",
      "Ciclo numero:  5\n",
      "Ciclo numero:  6\n",
      "Ciclo numero:  7\n",
      "Ciclo numero:  8\n",
      "Ciclo numero:  9\n"
     ]
    }
   ],
   "source": [
    "# Ejemplo del ciclo while\n",
    "centinela = 0\n",
    "while centinela < 10:\n",
    "    print(\"Ciclo numero: \", centinela)\n",
    "    centinela += 1   "
   ]
  },
  {
   "cell_type": "code",
   "execution_count": null,
   "metadata": {
    "ExecuteTime": {
     "end_time": "2020-10-28T21:03:16.569463Z",
     "start_time": "2020-10-28T21:03:04.353812Z"
    }
   },
   "outputs": [],
   "source": [
    "# Un ciclo infinito; error del centinela\n",
    "centinela = 0\n",
    "while centinela < 10:\n",
    "    print(\"Ciclo numero: \", centinela)  "
   ]
  },
  {
   "cell_type": "code",
   "execution_count": 82,
   "metadata": {
    "ExecuteTime": {
     "end_time": "2020-10-30T01:00:51.204389Z",
     "start_time": "2020-10-30T01:00:31.786140Z"
    }
   },
   "outputs": [
    {
     "name": "stdout",
     "output_type": "stream",
     "text": [
      "Cual es su edad? (insertar un numero de 0 a 100): 104\n",
      "Debe insertar un valor valido.\n",
      "Cual es su edad? (insertar un numero de 0 a 100): 150\n",
      "Debe insertar un valor valido.\n",
      "Cual es su edad? (insertar un numero de 0 a 100): 20\n",
      "Usted nacio en:  2000\n"
     ]
    }
   ],
   "source": [
    "# Ejemplo: Creando un menu\n",
    "\"\"\"\n",
    "Deseo crear un programa que pida la edad del usuario y calcule con ello el anio en que nacio. El programa debe\n",
    "pedir la edad y asegurarse que esta en formato numerico.\n",
    "\"\"\"\n",
    "actual = 2020\n",
    "edad = input(\"Cual es su edad? (insertar un numero de 0 a 100): \")\n",
    "while not edad.isdigit():\n",
    "    print(\"Debe insertar un valor valido.\")\n",
    "    edad = input(\"Cual es su edad? (insertar un numero de 0 a 100): \")\n",
    "while int(edad) > 100:\n",
    "    print(\"Debe insertar un valor valido.\")\n",
    "    edad = input(\"Cual es su edad? (insertar un numero de 0 a 100): \")\n",
    "\n",
    "print(\"Usted nacio en: \", 2020 - int(edad))"
   ]
  },
  {
   "cell_type": "code",
   "execution_count": 83,
   "metadata": {
    "ExecuteTime": {
     "end_time": "2020-10-30T01:02:00.687920Z",
     "start_time": "2020-10-30T01:01:51.430333Z"
    }
   },
   "outputs": [
    {
     "name": "stdout",
     "output_type": "stream",
     "text": [
      "saludos\n",
      "Desea continuar? (S:0/N:1)0\n",
      "saludos\n",
      "Desea continuar? (S:0/N:1)0\n",
      "saludos\n",
      "Desea continuar? (S:0/N:1)0\n",
      "saludos\n",
      "Desea continuar? (S:0/N:1)1\n"
     ]
    }
   ],
   "source": [
    "#  permitiendo al usuario detener el programa\n",
    "centinela = 0\n",
    "while centinela != 1:\n",
    "    print(\"saludos\")\n",
    "    centinela = int(input(\"Desea continuar? (S:0/N:1)\"))"
   ]
  },
  {
   "cell_type": "markdown",
   "metadata": {},
   "source": [
    "Usando <span class=\"mark\">break</span> para salir del ciclo (Funciona tambien para for)"
   ]
  },
  {
   "cell_type": "code",
   "execution_count": 84,
   "metadata": {
    "ExecuteTime": {
     "end_time": "2020-10-30T01:03:18.999476Z",
     "start_time": "2020-10-30T01:03:18.987509Z"
    }
   },
   "outputs": [
    {
     "name": "stdout",
     "output_type": "stream",
     "text": [
      "0 1 2 3 4 5 6 7 8 9 10 11 12 13 14 15 16 17 18 19 20 21 22 23 24 25 26 27 28 29 30 31 32 33 34 35 36 37 38 39 40 41 42 43 44 45 46 47 48 49 50 51 52 53 54 55 56 57 58 59 60 61 62 63 64 65 66 67 68 69 70 71 72 73 74 75 76 77 78 79 80 81 82 83 84 85 86 87 88 89 90 91 92 93 94 95 96 97 98 99 100 101 "
     ]
    }
   ],
   "source": [
    "valor = 0\n",
    "while True:\n",
    "    print(valor, end = \" \")\n",
    "    if valor > 100:\n",
    "        break\n",
    "    valor+=1"
   ]
  },
  {
   "cell_type": "markdown",
   "metadata": {},
   "source": [
    "Usando <span class=\"mark\">continue</span> para saltar parte de la iteracion (Funciona tambien en for)"
   ]
  },
  {
   "cell_type": "code",
   "execution_count": 87,
   "metadata": {
    "ExecuteTime": {
     "end_time": "2020-10-30T01:05:00.847876Z",
     "start_time": "2020-10-30T01:05:00.841892Z"
    }
   },
   "outputs": [
    {
     "name": "stdout",
     "output_type": "stream",
     "text": [
      "2 4 6 8 10 12 14 16 18 20 22 24 26 28 30 32 34 36 38 40 42 44 46 48 50 52 54 56 58 60 62 64 66 68 70 72 74 76 78 80 82 84 86 88 90 92 94 96 98 100 "
     ]
    }
   ],
   "source": [
    "valor = 0\n",
    "while True:\n",
    "    valor += 1\n",
    "    if valor % 2 == 0 and valor < 101:\n",
    "        print(valor, end = \" \")\n",
    "    elif valor < 101:\n",
    "        continue\n",
    "    else:\n",
    "        break\n"
   ]
  },
  {
   "cell_type": "code",
   "execution_count": 88,
   "metadata": {
    "ExecuteTime": {
     "end_time": "2020-10-30T01:06:26.302769Z",
     "start_time": "2020-10-30T01:05:52.705367Z"
    },
    "collapsed": true
   },
   "outputs": [
    {
     "name": "stdout",
     "output_type": "stream",
     "text": [
      "A continuacion encontrara una lista de toppings. Elija los que mas le gusten.\n",
      "Lista de toppings a elegir: aji, salsas, pinia, oregano, salchichas, champignones\n",
      "Elija su topping. (quit para salir)\n",
      "aji\n",
      "Lista de toppings a elegir: aji, salsas, pinia, oregano, salchichas, champignones\n",
      "Elija su topping. (quit para salir)\n",
      "salsas\n",
      "Lista de toppings a elegir: aji, salsas, pinia, oregano, salchichas, champignones\n",
      "Elija su topping. (quit para salir)\n",
      "oregano\n",
      "Lista de toppings a elegir: aji, salsas, pinia, oregano, salchichas, champignones\n",
      "Elija su topping. (quit para salir)\n",
      "quit\n",
      "Sus toppings son:  ['aji', 'salsas', 'oregano']\n"
     ]
    }
   ],
   "source": [
    "# Ejemplo aplicado: Elegir una serie de toppings para mi pizza\n",
    "print(\"A continuacion encontrara una lista de toppings. Elija los que mas le gusten.\")\n",
    "toppings = []\n",
    "while True:\n",
    "    print(\"Lista de toppings a elegir: aji, salsas, pinia, oregano, salchichas, champignones\")\n",
    "    print(\"Elija su topping. (quit para salir)\")\n",
    "    respuesta = input()\n",
    "    if respuesta != \"quit\":\n",
    "        toppings.append(respuesta)\n",
    "    else:\n",
    "        break\n",
    "print(\"Sus toppings son: \", toppings)    "
   ]
  },
  {
   "cell_type": "markdown",
   "metadata": {},
   "source": [
    "Ejemplo de while con listas"
   ]
  },
  {
   "cell_type": "code",
   "execution_count": 91,
   "metadata": {
    "ExecuteTime": {
     "end_time": "2020-10-30T01:07:48.448922Z",
     "start_time": "2020-10-30T01:07:48.442937Z"
    },
    "run_control": {
     "marked": false
    }
   },
   "outputs": [
    {
     "name": "stdout",
     "output_type": "stream",
     "text": [
      "['dog', 'cat', 'dog', 'goldfish', 'cat', 'rabbit', 'cat']\n",
      "['dog', 'dog', 'goldfish', 'rabbit']\n"
     ]
    }
   ],
   "source": [
    "pets = ['dog', 'cat', 'dog', 'goldfish', 'cat', 'rabbit', 'cat']\n",
    "print(pets)\n",
    "while 'cat' in pets:\n",
    "    pets.remove('cat')\n",
    "    \n",
    "print(pets)"
   ]
  },
  {
   "cell_type": "markdown",
   "metadata": {},
   "source": []
  },
  {
   "cell_type": "markdown",
   "metadata": {},
   "source": [
    "<span class=\"burk\">MINIDESAFIO</span>"
   ]
  },
  {
   "cell_type": "markdown",
   "metadata": {
    "solution": "hidden",
    "solution_first": true
   },
   "source": [
    "En matemáticas, la sucesión o serie de Fibonacci hace referencia a la secuencia ordenada de números descrita por Leonardo de Pisa, matemático italiano del siglo XIII:\n",
    "\n",
    "1, 1, 2, 3, 5, 8, 13, 21, 34, 55, 89, 144...\n",
    "\n",
    "A cada uno de los elementos de la serie se le conoce con el nombre de número de Fibonacci.\n",
    "\n",
    "Construya, usando un ciclo _while_, la serie de Fibonacci, hasta el 20avo elemento.\n",
    "\n",
    "**Pista:** El elemento enesimo puede ser obtenido a partir de la siguiente formula\n",
    "\n",
    "$f_n = f_{n-1} + f_{n-2}$\n",
    "\n",
    "en donde, $f_0 = 0$, y $f_1 = 1$"
   ]
  },
  {
   "cell_type": "code",
   "execution_count": 92,
   "metadata": {
    "ExecuteTime": {
     "end_time": "2020-10-30T01:10:05.168378Z",
     "start_time": "2020-10-30T01:10:05.163422Z"
    },
    "run_control": {
     "marked": false
    },
    "solution": "hidden"
   },
   "outputs": [
    {
     "name": "stdout",
     "output_type": "stream",
     "text": [
      "[1, 1, 2, 3, 5, 8, 13, 21, 34, 55, 89, 144, 233, 377, 610, 987, 1597, 2584, 4181, 6765, 10946]\n"
     ]
    }
   ],
   "source": [
    "elementos = [1]\n",
    "f0 = 0\n",
    "f1 = 1\n",
    "centinela = 0\n",
    "while centinela < 20:\n",
    "    fn = f0 + f1\n",
    "    f0 = f1\n",
    "    f1 = fn\n",
    "    centinela += 1\n",
    "    elementos.append(fn)\n",
    "\n",
    "print(elementos)"
   ]
  },
  {
   "attachments": {
    "image.png": {
     "image/png": "[encoded data removed]"
    }
   },
   "cell_type": "markdown",
   "metadata": {},
   "source": [
    "# Ejercitación integradora\n",
    "   \n",
    "\n",
    "## ★ Call me ∂/∂x, or diff for short\n",
    "\n",
    "Una operacion muy comun al manejar datos es la derivada\n",
    "\n",
    "$\\frac{d}{dt}(Datos)$\n",
    "\n",
    "Escribir una función que reciba una lista de números. Llamemos n a la cantidad de elementos en esta lista. Debe devolver una lista de tamaño $n−1$ con los valores de la derivada discreta de la lista recibida.\n",
    "\n",
    "La derivada discreta corresponde a la diferencia entre un elemento y su anterior, podemos usar la siguiente definición:\n",
    "\n",
    "$derivada[i]=x[i+1]−x[i]$\n",
    "\n",
    "\n",
    "## ★★ Las naranjas de Miguel\n",
    "Miguel vive en un pueblo frutero con su hermana en el valle de Oz. Todos los días cosecha bananas y naranjas de su campo. Como son abundantes, suele darle 2 bananas y 1 naranja a su hermana. No obstante Miguel siempre quiere quedarse con por lo menos una naranja, por lo cual le da una naranja a su hermana solo cuando se cosechan al menos 2 naranjas\n",
    "\n",
    "Miguel ahora quiere modernizarse, compró una cinta transportadora que detecta cada fruta que la atraviesa y te pide ayuda para escribir un programa que reciba el código generado por la máquina y devuelva la cantidad de bananas y naranjas que le quedarán luego de quitar las frutas que le dará a su hermana.\n",
    "\n",
    "ejemploCodigoDePedido = \"BBBBBNNNNNNNN\"\n",
    "\n",
    "Cada N representa una naranja y cada B representa una banana.\n",
    "\n",
    "**Tips**\n",
    "\n",
    "La función list() toma un string y lo convierte a una lista\n",
    "\n",
    "    P = list( ejemploCodigoDePedido )\n",
    "    >> P = ['B', 'B', 'B', 'B', 'B', 'N', 'N', 'N', 'N', 'N', 'N', 'N', 'N']\n",
    "\n",
    "## ★★★ Dr. Chaos, el malevolo semiótico\n",
    "\"Chaos es caos en inglés\" te diría Dr. Chaos, charlando con una taza de té Chai en la mano. En verdad no es tán malo como su nombre lo hace aparentar... si es que tenés un buen manejo de los idiomas.\n",
    "\n",
    "Dr. Chaos esta armando un diccionario. Este diccionario tiene la particularidad de no tener definiciones; el diccionario de Dr. Chaos define una palabra como otra. Dr. Chaos quiere comenzar a traducir la literatura de todo el mundo usando el diccionario y ha venido a ti, el Number One programador de Python.\n",
    "\n",
    "Objetivo: Cambiar las palabras de una oración usando el diccionario de Dr. Chaos e imprimir la nueva oración en el lenguaje unificado.\n",
    "\n",
    "Ejemplo:\n",
    "\n",
    "    diccionario = {\"hola\":\"你好\",\"como\":\"how\",\"estás\":\"estáis\"}\n",
    "\n",
    "    oracion = \"hola, como estás?\"\n",
    "\n",
    "    OUTPUT: \"你好, how estáis?\"\n",
    "\n",
    "Ejemplo 2:\n",
    "\n",
    "    diccionario = {\"ve\":\"regards\",\"bien\":\"bom\",\"se\":\"it\"}\n",
    "\n",
    "    oracion = \"se ve bien!\"\n",
    "    \n",
    "    OUTPUT: \"it regards bom?\"\n",
    "\n",
    "Tips:\n",
    "\n",
    "El programa debería tratar los símbolos de interrogación, exclamación, los puntos y comas como whitespace, es decir, espacio en blanco.\n",
    "\n",
    "Suponer que las letras son todas minusculas.\n",
    "\n",
    "\n",
    "## ★★★ Las elecciones\n",
    "Realizar un programa en el cual se decida cual es el ganador de una elección a presidente\n",
    "\n",
    "En el diccionario candidatos la clave es el nombre del cadidato y el contenido la cantidad de votos.\n",
    "\n",
    "Hint: Usen for, if, variables auxiliares.\n",
    "\n",
    "\n",
    "    candidatos = {\n",
    "        \"Michael Jackson\": 34453,\n",
    "        \"Oliver Kahn\": 18445,\n",
    "        \"Micky Vainilla\": 5434444,\n",
    "        \"John Lennon\": 12332,\n",
    "        \"Roque Sáenz Peña\": 5543,\n",
    "        \"Alexandria Ocasio-Cortez\": 343343,\n",
    "        \"Ludwig van Beethoven\":1232322\n",
    "    }\n",
    "\n",
    "\n",
    "## ★★★★  Quiero Retruco\n",
    "El Truco es un juego de cartas muy popular en Argentina. Se suele jugar con naipes españoles de 40 cartas, las cuales tienen 4 palos (basto, oro, espada y copa) y 10 números, 1,2,3,4,5,6,7,10,11 y 12. Si bien en esta ocasión no vamos a programar un juego de truco, sí vamos a resolver uno de los problemas más usuales que surgen cuando jugamos, el cual es definir qué carta gana y qué carta pierde cuando hay un duelo entre dos cartas.\n",
    "\n",
    "![image.png](attachment:image.png)\n",
    "\n",
    "En la imagen podemos observar el orden de importancia de las cartas de izquierda a derecha. El 1 de espada es la más importante (y por lo tanto siempre gana) mientras que los 4s son las cartas de menor importancia (casi siempre pierden). Las cartas en la misma columna empatan si se enfrentan.\n",
    "\n",
    "Programar una función con dos inputs tipo string carta A y carta B que retorne la carta ganadora (tipo string), o \"empate\" en caso de que lo haya. Ejemplos de como debería funcionar\n",
    "\n",
    "    dueloDeCartas(\"1 de espada\", \"1 de basto\")\n",
    "    >>> 1 de espada\n",
    "    \n",
    "    dueloDeCartas(\"7 de oro\", \"5 de oro\")\n",
    "    >>> 7 de oro\n",
    "    \n",
    "    dueloDeCartas(\"11 de copa\", \"11 de espada\")\n",
    "    >>> empate\n",
    "\n",
    "Pista: Usar un diccionario donde la clave sea el nombre de la carta, y su contenido su importancia (un tipo int). Aprovechen la instrucción for para evitar tener que cargar todas las cartas una por una.\n",
    "\n",
    "A veces se suele jugar al truco con más de dos jugadores. Podría ocurrir duelos en los que participan  n  cartas. Programar una función cuyo input sea una lista de strings con todas las cartas y retorne la ganadora. (En caso de empate que retorne alguna de las ganadoras, o una lista con las ganadoras). \n",
    "\n",
    "Ejemplos de como podría funcionar:\n",
    " \n",
    "    dueloDeCartas([\"7 de basto\",\"7 de espada\",\"12 de espada\", \"4 de espada\"])\n",
    "    >>> \"7 de espada\"\n",
    "    dueloDeCartas([\"4 de espada\",\"7 de basto\",\"7 de copa\", \"5 de copa\"]) #también podría haber dado 7 de basto \n",
    "    >>> \"7 de copa\""
   ]
  },
  {
   "cell_type": "markdown",
   "metadata": {},
   "source": [
    "$derivada[i]=x[i+1]−x[i]$"
   ]
  },
  {
   "cell_type": "code",
   "execution_count": 103,
   "metadata": {
    "ExecuteTime": {
     "end_time": "2020-10-30T01:36:39.327754Z",
     "start_time": "2020-10-30T01:36:39.318782Z"
    }
   },
   "outputs": [
    {
     "name": "stdout",
     "output_type": "stream",
     "text": [
      "[1, 1, 1, 1, 5, -3, 1, 1, 1, 1, 1, 1]\n"
     ]
    }
   ],
   "source": [
    "# Derivada discreta\n",
    "lista = [1, 2, 3, 4, 5, 10, 7, 8, 9, 10, 11, 12, 13]\n",
    "derivada = []\n",
    "for i in range(len(lista)-1):\n",
    "    derivada.append(lista[i+1]-lista[i])\n",
    "print(derivada)"
   ]
  },
  {
   "cell_type": "code",
   "execution_count": 107,
   "metadata": {
    "ExecuteTime": {
     "end_time": "2020-10-30T01:40:41.768905Z",
     "start_time": "2020-10-30T01:40:41.758932Z"
    }
   },
   "outputs": [
    {
     "name": "stdout",
     "output_type": "stream",
     "text": [
      "Quedan 3 bananas y 6 naranjas.\n"
     ]
    }
   ],
   "source": [
    "# Naranjas y bananas\n",
    "pedido = \"BBBBBNNNNNNNN\"\n",
    "p = list(pedido)\n",
    "naranjas = 0\n",
    "\n",
    "for i in p:\n",
    "    if i == 'N':\n",
    "        naranjas+=1\n",
    "\n",
    "if naranjas >=2 :\n",
    "    p.remove('N') # luis toma su propia naranja\n",
    "    \n",
    "p.remove('B') # Banana 1 de la hermana\n",
    "p.remove('B') # Banana 2 de la hermana\n",
    "p.remove('N') # Naranja de la hermana\n",
    "\n",
    "print(\"Quedan \" + str(p.count('B')) + \" bananas y \" + str(p.count('N')) + \" naranjas.\")\n"
   ]
  },
  {
   "cell_type": "code",
   "execution_count": 111,
   "metadata": {
    "ExecuteTime": {
     "end_time": "2020-10-30T01:47:29.772117Z",
     "start_time": "2020-10-30T01:47:29.754172Z"
    }
   },
   "outputs": [
    {
     "name": "stdout",
     "output_type": "stream",
     "text": [
      "what !!! quien pero  ole\n"
     ]
    }
   ],
   "source": [
    "# Dr. Chaos\n",
    "d= {\"casa\":\"pero\", \n",
    "    \"esta\":\"what\", \n",
    "    \"es\":\"!!!\", \n",
    "    \".\":\" \", \n",
    "    \",\":\" \", \n",
    "    \" \":\" \", \n",
    "    \"la\":\"quizas\",\n",
    "    \"mi\": \"quien\",\n",
    "    \"bienvenido\":\"ole\"\n",
    "    }\n",
    "frase = \"esta es mi casa, bienvenido\"\n",
    "print(d[\"esta\"] + d[\" \"]+d[\"es\"]+d[\" \"]+d[\"mi\"]+d[\" \"]+d[\"casa\"]+d[\",\"]+d[\" \"]+d[\"bienvenido\"])"
   ]
  },
  {
   "cell_type": "code",
   "execution_count": 115,
   "metadata": {
    "ExecuteTime": {
     "end_time": "2020-10-30T01:51:07.295382Z",
     "start_time": "2020-10-30T01:51:07.288399Z"
    }
   },
   "outputs": [
    {
     "name": "stdout",
     "output_type": "stream",
     "text": [
      "Micky Vainilla\n"
     ]
    }
   ],
   "source": [
    "# Elecciones\n",
    "candidatos = {\n",
    "    \"Michael Jackson\": 34453,\n",
    "    \"Oliver Kahn\": 18445,\n",
    "    \"Micky Vainilla\": 5434444,\n",
    "    \"John Lennon\": 12332,\n",
    "    \"Roque Sáenz Peña\": 5543,\n",
    "    \"Alexandria Ocasio-Cortez\": 343343,\n",
    "    \"Ludwig van Beethoven\":1232322\n",
    "}\n",
    "maximo = 0\n",
    "candidato = \" \"\n",
    "for i in candidatos:\n",
    "    maxi = candidatos[i]\n",
    "    if maxi > maximo:\n",
    "        maximo = maxi\n",
    "        candidato = i\n",
    "print(candidato)    "
   ]
  },
  {
   "cell_type": "code",
   "execution_count": null,
   "metadata": {},
   "outputs": [],
   "source": []
  }
 ],
 "metadata": {
  "kernelspec": {
   "display_name": "Python 3",
   "language": "python",
   "name": "python3"
  },
  "language_info": {
   "codemirror_mode": {
    "name": "ipython",
    "version": 3
   },
   "file_extension": ".py",
   "mimetype": "text/x-python",
   "name": "python",
   "nbconvert_exporter": "python",
   "pygments_lexer": "ipython3",
   "version": "3.8.3"
  },
  "toc": {
   "base_numbering": 1,
   "nav_menu": {},
   "number_sections": true,
   "sideBar": true,
   "skip_h1_title": false,
   "title_cell": "Table of Contents",
   "title_sidebar": "Contents",
   "toc_cell": false,
   "toc_position": {
    "height": "calc(100% - 180px)",
    "left": "10px",
    "top": "150px",
    "width": "307.2px"
   },
   "toc_section_display": true,
   "toc_window_display": false
  },
  "varInspector": {
   "cols": {
    "lenName": 16,
    "lenType": 16,
    "lenVar": 40
   },
   "kernels_config": {
    "python": {
     "delete_cmd_postfix": "",
     "delete_cmd_prefix": "del ",
     "library": "var_list.py",
     "varRefreshCmd": "print(var_dic_list())"
    },
    "r": {
     "delete_cmd_postfix": ") ",
     "delete_cmd_prefix": "rm(",
     "library": "var_list.r",
     "varRefreshCmd": "cat(var_dic_list()) "
    }
   },
   "oldHeight": 302.4,
   "position": {
    "height": "40px",
    "left": "1126px",
    "right": "20px",
    "top": "34px",
    "width": "392px"
   },
   "types_to_exclude": [
    "module",
    "function",
    "builtin_function_or_method",
    "instance",
    "_Feature"
   ],
   "varInspector_section_display": "none",
   "window_display": true
  }
 },
 "nbformat": 4,
 "nbformat_minor": 4
}
