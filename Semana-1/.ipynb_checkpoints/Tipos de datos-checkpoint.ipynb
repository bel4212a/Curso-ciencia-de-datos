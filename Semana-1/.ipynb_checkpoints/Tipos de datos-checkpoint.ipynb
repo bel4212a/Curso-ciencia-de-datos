{
 "cells": [
  {
   "cell_type": "markdown",
   "metadata": {},
   "source": [
    "## 0 Comando print"
   ]
  },
  {
   "cell_type": "markdown",
   "metadata": {},
   "source": [
    "## Cadenas de texto: Strings"
   ]
  },
  {
   "cell_type": "markdown",
   "metadata": {},
   "source": [
    "Metodos: \n",
    "\n",
    "    .title()\n",
    "    .upper()\n",
    "    .lower()\n",
    "    Concatenacion\n",
    "    Tabulacion y espaciado (\\t)\n",
    "    Nueva linea (\\n)\n",
    "    Metodo .rstrip(); funcionamiento temporal\n",
    "    Metodo .lstrip()\n",
    "    Metodo .strip()   "
   ]
  },
  {
   "cell_type": "markdown",
   "metadata": {},
   "source": [
    "## Ejercicios de Strings"
   ]
  },
  {
   "cell_type": "markdown",
   "metadata": {},
   "source": [
    "<span class=\"mark\">Inténtalo tú mismo</span>\n",
    "\n",
    "1. Mensaje personal: almacena el nombre de una persona en una variable e imprime un mensaje para esa persona. Su mensaje debe ser simple, como \"Hola Eric, ¿te gustaría aprender algo de Python hoy?\"\n",
    "2. Casos de nombre: almacene el nombre de una persona en una variable y luego escriba el nombre de esa persona en minúsculas, mayúsculas y mayúsculas.\n",
    "3. Cita famosa: encuentre una cita de una persona famosa que admire. Imprime la cita y el nombre de su autor. El resultado debe tener un aspecto similar al siguiente, incluidas las comillas:\n",
    "Albert Einstein dijo una vez: \"Una persona que nunca hizo un\n",
    "error nunca probé nada nuevo \".\n",
    "4. Cita famosa 2: Repita el ejercicio 3, pero esta vez guarde el nombre de la persona famosa en una variable llamada persona_famoso. Luego redacte su mensaje y guárdelo en una nueva variable llamada mensaje. Imprime tu mensaje.\n",
    "5. Eliminación de nombres: guarde el nombre de una persona e incluya algunos caracteres de espacio en blanco al principio y al final del nombre. Asegúrese de usar cada combinación de caracteres, \"\\ t\" y \"\\ n\", al menos una vez.\n",
    "Imprima el nombre una vez, de modo que se muestre el espacio en blanco alrededor del nombre.\n",
    "Luego imprima el nombre usando cada una de las tres funciones de eliminación, lstrip (), rstrip () y strip ()."
   ]
  },
  {
   "cell_type": "markdown",
   "metadata": {},
   "source": [
    "## 4 Numeros"
   ]
  },
  {
   "cell_type": "markdown",
   "metadata": {},
   "source": [
    "Enteros, flotantes:\n",
    "\n",
    "    Suma, resta, Multiplicacion y division\n",
    "    Potencias\n",
    "    str()\n",
    "    Agregando comentarios"
   ]
  }
 ],
 "metadata": {
  "kernelspec": {
   "display_name": "Python 3",
   "language": "python",
   "name": "python3"
  },
  "language_info": {
   "codemirror_mode": {
    "name": "ipython",
    "version": 3
   },
   "file_extension": ".py",
   "mimetype": "text/x-python",
   "name": "python",
   "nbconvert_exporter": "python",
   "pygments_lexer": "ipython3",
   "version": "3.8.3"
  },
  "toc": {
   "base_numbering": 1,
   "nav_menu": {},
   "number_sections": true,
   "sideBar": true,
   "skip_h1_title": false,
   "title_cell": "Table of Contents",
   "title_sidebar": "Contents",
   "toc_cell": false,
   "toc_position": {},
   "toc_section_display": true,
   "toc_window_display": false
  },
  "varInspector": {
   "cols": {
    "lenName": 16,
    "lenType": 16,
    "lenVar": 40
   },
   "kernels_config": {
    "python": {
     "delete_cmd_postfix": "",
     "delete_cmd_prefix": "del ",
     "library": "var_list.py",
     "varRefreshCmd": "print(var_dic_list())"
    },
    "r": {
     "delete_cmd_postfix": ") ",
     "delete_cmd_prefix": "rm(",
     "library": "var_list.r",
     "varRefreshCmd": "cat(var_dic_list()) "
    }
   },
   "types_to_exclude": [
    "module",
    "function",
    "builtin_function_or_method",
    "instance",
    "_Feature"
   ],
   "window_display": false
  }
 },
 "nbformat": 4,
 "nbformat_minor": 4
}
