{
 "cells": [
  {
   "cell_type": "markdown",
   "metadata": {
    "id": "D9ohvNTqhmoD"
   },
   "source": [
    "### Operaciones con strings\n",
    "\n",
    "Con los strings podemos realizar muchas operaciones, por ejemplo:\n",
    "\n",
    "- **x+y**: En esta operacion se agrega al final de la string x el contenido de y. Ejemplo:\n"
   ]
  },
  {
   "cell_type": "code",
   "execution_count": null,
   "metadata": {
    "id": "mwYffWASkWAt"
   },
   "outputs": [],
   "source": [
    "x= 'ho'\n",
    "y= 'la'\n",
    "print(x + y)\n",
    "print(y + x)"
   ]
  },
  {
   "cell_type": "markdown",
   "metadata": {
    "id": "aCoKs_fcHWzv"
   },
   "source": [
    " - **len**( $string$ ): Obtiene el tamaño de un string. Ejemplo:\n"
   ]
  },
  {
   "cell_type": "code",
   "execution_count": null,
   "metadata": {
    "id": "FBkJn86dHeDl"
   },
   "outputs": [],
   "source": [
    "x = \"Hola\"\n",
    "y = 'Adios'\n",
    "\n",
    "print( len(x) )\n",
    "print( len(y) )"
   ]
  },
  {
   "cell_type": "markdown",
   "metadata": {
    "id": "5ytFOjAhkWYR"
   },
   "source": [
    " - **.startswith**( $algo$ ): Le preguntamos a la string si empieza con cierto texto. Ejemplo:\n"
   ]
  },
  {
   "cell_type": "code",
   "execution_count": null,
   "metadata": {
    "id": "b-yjwlABkc22"
   },
   "outputs": [],
   "source": [
    "x= 'hola'\n",
    "print(x.startswith('h'))\n",
    "print(x.startswith('x'))"
   ]
  },
  {
   "cell_type": "markdown",
   "metadata": {
    "id": "neyr-9WckncT"
   },
   "source": [
    " - **.endswith**( $algo$ ): Le preguntamos a la string si termina con cierto texto. Ejemplo:"
   ]
  },
  {
   "cell_type": "code",
   "execution_count": null,
   "metadata": {
    "id": "eOpZjrHlkvg6"
   },
   "outputs": [],
   "source": [
    "x= 'hola'\n",
    "print(x.endswith('o'))\n",
    "print(x.endswith('ola'))\n",
    "print(x.endswith('z'))"
   ]
  },
  {
   "cell_type": "markdown",
   "metadata": {
    "id": "uFlMcXbHCqGL"
   },
   "source": [
    " - **[ *índice* ]**: Se pueden obtener letras de un string. Entre corchetes se indica el índice de la letra deseada, empezando a contar desde cero. Ejemplo:"
   ]
  },
  {
   "cell_type": "code",
   "execution_count": null,
   "metadata": {
    "id": "ccAWKaqrFySn"
   },
   "outputs": [],
   "source": [
    "x= 'hola'\n",
    "\n",
    "print(x[0])\n",
    "print(x[1])\n",
    "print(x[2])\n",
    "print(x[3])\n",
    "\n",
    "print(x[3]+x[2]+x[1]+x[0]+x[3])"
   ]
  },
  {
   "cell_type": "markdown",
   "metadata": {
    "id": "W7UlG1m2Dpxj"
   },
   "source": [
    " - **[ *comienzo* : *fin* ]**: Se puede obtener una secuencia consecutiva de letras de un string. Entre corchetes se indica el índice de la primer letra deseada, luego dos puntos, luego el índice de la última letra (la última letra no será incluída). Ejemplo:"
   ]
  },
  {
   "cell_type": "code",
   "execution_count": null,
   "metadata": {
    "id": "QM25tyZqEEBX"
   },
   "outputs": [],
   "source": [
    "x = 'programacion'\n",
    "\n",
    "print( x[0:8] )\n",
    "print( x[4:8] )\n",
    "\n",
    "# Se pueden usar signos negativos para referir los índices desde el final para atras\n",
    "print( x[-7:-4] )\n",
    "\n",
    "# Se puede omitir el parametro de fin para seguir hasta el final\n",
    "print( x[8: ])\n",
    "\n",
    "# Se puede omitir el parametro de inicio para comenzar desde el principio\n",
    "print( x[ :8])"
   ]
  },
  {
   "cell_type": "markdown",
   "metadata": {
    "id": "4fDilixlFOv5"
   },
   "source": [
    " - **[ *comienzo* : *fin* : *salto* ]**: Se puede obtener una secuencia de letras a una separación regular de un string. Entre corchetes se indica el índice de la primer letra deseada, luego dos puntos, luego el índice de la última letra, luego 2 puntos, luego el salto entre letra y letra. (La última letra no será incluída). Ejemplo:"
   ]
  },
  {
   "cell_type": "code",
   "execution_count": null,
   "metadata": {
    "id": "hy_CaSgxFfge"
   },
   "outputs": [],
   "source": [
    "x = 'Curso de Python'\n",
    "\n",
    "print( x[0:5:2] )\n",
    "\n",
    "# Se pueden usar signos negativos para referir los índices desde el final para atras\n",
    "# Se puede omitir el parametro de inicio para comenzar desde el principio\n",
    "# Se puede omitir el parametro de fin para seguir hasta el final\n",
    "print( x[0: :3] )\n",
    "\n",
    "# Se puede usar un salto negativo para recorrer el string en sentido inverso\n",
    "print( x[11:1:-2] )\n",
    "# Se puede invertir un string de la siguiente forma\n",
    "print( x[ : :-1] )"
   ]
  },
  {
   "cell_type": "markdown",
   "metadata": {
    "id": "L_4r67VRUpNC"
   },
   "source": [
    "### Mini-desafío: Operaciones con strings\n",
    "Hacer un programa que permita ingresar un nombre y un apellido usando dos veces la función input( ). Luego debe crear la variable *nombre_y_apellido* que contenga ambos datos separados por un espacio. Un fabricante de tarjetas admite la impresión de hasta 26 caracteres para el nombre del dueño de la tarjeta, el programa debe imprimir \"Nombre admitido\" si *nombre_y_apellido* cumple con esta restricción y \"Nombre no admitido\" en caso contrario (el espacio cuenta como uno de los 26 caracteres disponibles).\n",
    "\n",
    "**Para un desafío mayor:** Si *nombre_y_apellido* cumple la restricción, mostrar el nombre y apellido. En caso contrario *nombre_y_apellido* debe valer la inicial del nombre y luego el apellido separado por un espacio. Si todavía no se cumple la restricción entonces el valor será la inicial del nombre y las primeras 24 letras del apellido. Mostrar el nombre resultante."
   ]
  },
  {
   "cell_type": "code",
   "execution_count": null,
   "metadata": {
    "id": "5rBruUXJUqo0"
   },
   "outputs": [],
   "source": []
  },
  {
   "cell_type": "markdown",
   "metadata": {
    "id": "Cd8qsFnaLdHn"
   },
   "source": [
    "## Métodos\n",
    "\n",
    "Podemos observar que algunas de las operaciones con strings que vimos funcionan de una manera diferente a las que usamos hasta ahora. Por ejemplo, para usar **.startswith( )** debemos escribir la instrucción separada por un punto luego de la variable:\n",
    "\n",
    "```\n",
    "nombre = \"juan\"\n",
    "print( nombre.startswith('j') )\n",
    "```\n",
    "\n",
    "Este tipo de instrucción se la denomina un método (se utiliza con un punto luego de un objeto). La diferencia entre este y una función es sutil, el concepto es que un método es aplicado *sobre* un elemento. Tengo un elemento, como puede ser una variable de tipo string, y sobre ese elemento efectúo cierta acción. Los métodos pueden recibir parámetros, como es en el caso anterior la letra a evaluar.\n",
    "\n",
    "Es normal que todavía no quede clara realmente la diferencia con las funciones, pero a medida que avanza el curso se encontrarán con más métodos e irán adquiriendo este criterio de a poco.\n",
    "\n",
    "Python nos provee de muchos métodos distintos para todos los tipos de variables. Nadie conoce todos, ni siquiera los que programaron en Python toda su carrera, por lo cual nunca teman buscar qué métodos existen para ver si hay alguno que resuelva su problema.\n",
    "\n",
    "Esta es una lista de los métodos que existen para strings: https://docs.python.org/3/library/stdtypes.html#string-methods\n"
   ]
  },
  {
   "cell_type": "markdown",
   "metadata": {
    "id": "3tipHbU_OHnQ"
   },
   "source": [
    "#Estructuras de datos\n",
    "\n",
    "Utilizando variables de los distintos tipos de datos como los mostrados anteriormente se puede armar programas con una complejidad notable. Sin embargo, hay un límite en la versatilidad de los programas si solo utilizamos los tipos de datos que vimos hasta ahora.\n",
    "\n",
    "<img src=\"https://github.com/parrt/lolviz/raw/master/images/tree.png\" alt = \"Visualización básica de una data structure\" height = 280 title=\"Las estructuras de datos son un concepto muy importante para cualquier lenguaje de programacion\">\n",
    "\n",
    "\n",
    "Se suele llamar \"estructura de datos\" a cierta clase de tipos de datos más complejos, los cuales nos permiten organizar la información de manera más efectiva. \n",
    "\n",
    "En particular, nos permiten agrupar datos (cada uno de ellos con su tipo), e interactuar con ellos de la forma más apropiada. \n",
    "\n",
    "A continuación mostraremos tres de las estructuras de datos más sencillas (¡pero útiles!) que Python nos ofrece."
   ]
  },
  {
   "cell_type": "markdown",
   "metadata": {
    "id": "0VoVNCBaPdoF"
   },
   "source": [
    "## Listas\n"
   ]
  },
  {
   "cell_type": "markdown",
   "metadata": {
    "id": "MfnKbbeBPjpJ"
   },
   "source": [
    "Es una estructura de datos muy sencilla: nos permite almacenar elementos de manera secuencial, los cuales pueden ser accedidos mediante el conocimiento de su posición en la lista. Estas las creamos usando corchetes de la siguiente manera:\n",
    "\n",
    "> a = **[** $ a_{0},a_{1},a_{2},\\dots $ **]**\n",
    "\n",
    "A continuación se mostrara un ejemplo sencillo con una lista"
   ]
  },
  {
   "cell_type": "code",
   "execution_count": null,
   "metadata": {
    "id": "K23GjgqMQB9-"
   },
   "outputs": [],
   "source": [
    "a = [ 13, 40, 10, 30, 67 ] \n",
    "print(a)"
   ]
  },
  {
   "cell_type": "markdown",
   "metadata": {
    "id": "UlcBp_8UvehI"
   },
   "source": [
    "Tambien podemos crear una lista del tamaño que queramos de la siguiente manera:\n",
    "\n",
    "> a = **[** x **for** x **in** **range**(N) **]**"
   ]
  },
  {
   "cell_type": "code",
   "execution_count": null,
   "metadata": {
    "id": "2tg0JHq_KwOM"
   },
   "outputs": [],
   "source": [
    "b = [x for x in range(10)]\n",
    "print(b)"
   ]
  },
  {
   "cell_type": "markdown",
   "metadata": {
    "id": "3NnBGiXYKoFd"
   },
   "source": [
    "\n",
    "Podemos tambien aplicarle una operación a la variable x\n",
    "> a = **[** (operacion con x) **for** x **in** **range**(N) **]**"
   ]
  },
  {
   "cell_type": "code",
   "execution_count": null,
   "metadata": {
    "id": "hiu1MacNvyQd"
   },
   "outputs": [],
   "source": [
    "j = [ x for x in range(0, 101)]\n",
    "print(j)\n",
    "a = [x*2 for x in range(15)]\n",
    "print(a)\n",
    "b = [3 * i for i in \"hola\"]\n",
    "print(b)\n",
    "p = []\n",
    "print(p)"
   ]
  },
  {
   "cell_type": "markdown",
   "metadata": {
    "id": "BYiMd8IzlhNO"
   },
   "source": [
    "Para acceder a un elemento de una lista se utiliza `lista[posicion]`.\n",
    "\n",
    "Tambien podemos modificar el elemento asignandole un valor.\n",
    "\n",
    "Nota: Para acceder al ultimo elemento podemos acceder con -1"
   ]
  },
  {
   "cell_type": "code",
   "execution_count": null,
   "metadata": {
    "id": "hH1f4B8fl1vG"
   },
   "outputs": [],
   "source": [
    "a = [x+2 for x in [2,3,4,5]]\n",
    "print(a)\n",
    "print(a[0]) \n",
    "print(a[2])\n",
    "print(a[-1])\n",
    "a[2] = 0\n",
    "print(a)\n",
    "a[3] = 0\n",
    "print(a)"
   ]
  },
  {
   "cell_type": "markdown",
   "metadata": {
    "id": "njU7dNS8l9FL"
   },
   "source": [
    "Notar que, a diferencia de lo que diría el sentido común, el primer elemento de la lista se accede con la posición 0. Esto sucede en muchos lenguajes de programación hoy en día y una vez que uno se acostumbra resulta muy práctico empezar a contar desde 0 para aplicaciones de programación.\n",
    "\n",
    "Otro tema a tener en cuenta es que no es posible ponerle el nombre *list* a una lista, ya que es una palabra reservada. Esta es una función para generar una lista a partir de otro objeto, como un string. Por ejemplo:"
   ]
  },
  {
   "cell_type": "code",
   "execution_count": null,
   "metadata": {
    "id": "dACHK9WkQoo8"
   },
   "outputs": [],
   "source": [
    "texto = \"Hola\"\n",
    "lista = list(texto)\n",
    "\n",
    "print(texto)\n",
    "print(lista)"
   ]
  },
  {
   "cell_type": "markdown",
   "metadata": {
    "id": "QSB8OdyDw1i7"
   },
   "source": [
    "### Operaciones sobre una lista\n",
    "Podemos realizar multiples operaciones sobre una lista:\n",
    "\n",
    "- **a+b**: Al igual que los strings se agrega el contenido de **b** al final de **a**."
   ]
  },
  {
   "cell_type": "code",
   "execution_count": null,
   "metadata": {
    "id": "dSYKydfFxTSr"
   },
   "outputs": [],
   "source": [
    "a = [1,2]\n",
    "b = [3,4]\n",
    "z = a+b\n",
    "print(z)"
   ]
  },
  {
   "cell_type": "markdown",
   "metadata": {
    "id": "EomkxLecMMj3"
   },
   "source": [
    "- **len**( $lista$ ) Obtiene el largo de una lista."
   ]
  },
  {
   "cell_type": "code",
   "execution_count": null,
   "metadata": {
    "id": "4tCnGdcTMTvz"
   },
   "outputs": [],
   "source": [
    "a = [1,2,3,4]\n",
    "print(len(a))"
   ]
  },
  {
   "cell_type": "markdown",
   "metadata": {
    "id": "DsZxDU1wVuuv"
   },
   "source": [
    "- **.sort**(): Ordena los elementos de la lista."
   ]
  },
  {
   "cell_type": "code",
   "execution_count": null,
   "metadata": {
    "id": "xSqtP2NxV-SY"
   },
   "outputs": [],
   "source": [
    "a = [\"Hola\", \"Adios\", \"Como esta\", \"Buen día\" ]\n",
    "a.sort()\n",
    "print(a)\n",
    "\n",
    "b = [1, 2, 3, 123, 23, 12]\n",
    "b.sort()\n",
    "print(b)\n",
    "\n",
    "# Es posible hacer un orden inverso indicando reverse=True\n",
    "b.sort(reverse=True)\n",
    "print(b)"
   ]
  },
  {
   "cell_type": "markdown",
   "metadata": {
    "id": "-CLWt4-gYtaR"
   },
   "source": [
    "Es posible definir una regla de ordenamiento personalizada. Se debe definir una función, la cuál será evaluada en cada elemento de la lista, y el resultado de esta función se usa como criterio de orden. En la función *sort* se debe ingresar como parámetro *key=nombre_de_funcion*"
   ]
  },
  {
   "cell_type": "code",
   "execution_count": null,
   "metadata": {
    "id": "tVtWHKGjZB09"
   },
   "outputs": [],
   "source": [
    "# En este ejemplo la regla es la longitud del elemento\n",
    "def mi_orden1(e):\n",
    "  return len(e)\n",
    "\n",
    "a = [\"Hola\", \"Adios\", \"Como esta\", \"Buen día\" ]\n",
    "a.sort(key=mi_orden1)\n",
    "print(a)\n",
    "\n",
    "# En este ejemplo se analiza el segundo valor de cada elemento\n",
    "def mi_orden2(e):\n",
    "  return e[1]\n",
    "\n",
    "area = [ [\"Argentina\", 2.78], [\"Brazil\", 8.51], [\"Mexico\", 1.96] ]\n",
    "area.sort(key=mi_orden2)\n",
    "print(area)"
   ]
  },
  {
   "cell_type": "markdown",
   "metadata": {
    "id": "4hht8kbW3Qvv"
   },
   "source": [
    "- **.append**($algo$): Permite agregar un elemento al final de la lista."
   ]
  },
  {
   "cell_type": "code",
   "execution_count": null,
   "metadata": {
    "id": "vSgGzYcINGRv"
   },
   "outputs": [],
   "source": [
    "hola = \"Hola como estas\"\n",
    "v = [50,hola,150.5, True]\n",
    "print(v)\n",
    "v.append(200) # agrego al final de la lista un elemento que vale 200 (tipo int)\n",
    "v.append(\"hola\")\n",
    "print(v*2)"
   ]
  },
  {
   "cell_type": "markdown",
   "metadata": {
    "id": "kZjHeYw3xpu7"
   },
   "source": [
    "- **.pop**(): Permite remover el ultimo elemento de la lista."
   ]
  },
  {
   "cell_type": "code",
   "execution_count": null,
   "metadata": {
    "id": "UDWAtoERNfCw"
   },
   "outputs": [],
   "source": [
    "v = [1,'1',\"a\",'c']\n",
    "v.pop() #saco el ultimo elemento \n",
    "\n",
    "print(v)"
   ]
  },
  {
   "cell_type": "markdown",
   "metadata": {
    "id": "xuJGzxm_30Vu"
   },
   "source": [
    "- **.remove**($valor$): Remueve el primer elemento que sea igual al valor."
   ]
  },
  {
   "cell_type": "code",
   "execution_count": null,
   "metadata": {
    "id": "rHDPAGdHNwlH"
   },
   "outputs": [],
   "source": [
    "v = [1,2,1,2]\n",
    "v.remove(2) # elimino el primer valor que cumpla\n",
    "print(v)\n",
    "v.remove(2) # elimino el primer valor que cumpla\n",
    "print(v)"
   ]
  },
  {
   "cell_type": "markdown",
   "metadata": {
    "id": "5fLZ42t4zKbG"
   },
   "source": [
    "- **del** lista**[**posicion**]**: Para eliminar un elemento en una posición determinada."
   ]
  },
  {
   "cell_type": "code",
   "execution_count": null,
   "metadata": {
    "id": "yTvsT5UazWN0"
   },
   "outputs": [],
   "source": [
    "a = [\"hola\",\"como\",\"estas\"]\n",
    "del a[1]\n",
    "print(a)"
   ]
  },
  {
   "cell_type": "markdown",
   "metadata": {
    "id": "JBxjC81WznRe"
   },
   "source": [
    "- $algo$ **in** lista: Muchas veces es necesario saber si un elemento esta dentro de una lista, para ello utilizamos esta estructura.\n"
   ]
  },
  {
   "cell_type": "code",
   "execution_count": null,
   "metadata": {
    "id": "mnrOeoecz4mI"
   },
   "outputs": [],
   "source": [
    "x = [1,2,3,4]\n",
    "print(x)\n",
    "\n",
    "if 5 in x:\n",
    "    x.remove(5)\n",
    "  \n",
    "if 4 in x:\n",
    "    print(str(4)+' esta en la lista')\n",
    "\n",
    "if 6 not in x:\n",
    "    print(6,'no esta en la lista',4,6,7)\n",
    "\n",
    "if 5 in x:\n",
    "    print(5,'esta en la lista')\n",
    "else:\n",
    "    print(5,'no esta en la lista')"
   ]
  },
  {
   "cell_type": "code",
   "execution_count": null,
   "metadata": {
    "id": "TcAgoTD-Ocvz"
   },
   "outputs": [],
   "source": [
    "x = [1,2,3]\n",
    "if 5 in x:\n",
    "    x.remove(5)\n",
    "print(x)"
   ]
  },
  {
   "cell_type": "markdown",
   "metadata": {
    "id": "XDGgUB3opnot"
   },
   "source": [
    "### for sobre una lista\n",
    "Ahora cobra mas sentido la estructura *for* que vimos la clase pasada ya que puede ir avanzando sobre todos los elementos de una lista"
   ]
  },
  {
   "cell_type": "code",
   "execution_count": null,
   "metadata": {
    "id": "UNFJKu_YpwmU"
   },
   "outputs": [],
   "source": [
    "lista = [1,10,100,1000, [5,6,7], 5, \"hola\"]\n",
    "\n",
    "for elemento in lista:\n",
    "    print(elemento)"
   ]
  },
  {
   "cell_type": "markdown",
   "metadata": {
    "id": "3plZLq9dT-1t"
   },
   "source": [
    "### Ejercicios de listas\n",
    "1. Crear una lista con los números pares menores a 50.\n",
    "2. Crear una lista con el nombre de los días de la semana. Realizar un programa al cual se ingresa el día del año mediante un número de 0 a 364, que determine a qué día de la semana corresponde mediante un número de 0 (Lunes) a 6 (Domingo) y luego muestre en pantalla el elemento correspondiente de la lista (suponemos que el día 0 del año es Lunes).\n",
    "3. Realizar un programa que ordena nombres alfabeticamente. Primero debe pedir al usuario que ingrese el número de nombres que serán ingresados, luego debe pedir al usuario que ingrese un nombre y repetir ese pedido la cantidad de veces indicada. Los nombres se deben ir agregando a una lista. Por último, ordenar la lista alfabéticamente y mostrar en pantalla de a uno por vez los nombres ordenados (usando un for)."
   ]
  },
  {
   "cell_type": "code",
   "execution_count": null,
   "metadata": {
    "colab": {
     "base_uri": "https://localhost:8080/",
     "height": 52
    },
    "id": "YC8rVjYOVSO0",
    "outputId": "457d4ff9-8883-4f59-c609-0741e3be786b"
   },
   "outputs": [
    {
     "name": "stdout",
     "output_type": "stream",
     "text": [
      "Ingrese el dia del año: 115\n",
      "Jueves\n"
     ]
    }
   ],
   "source": [
    "weekdays = ['Lunes', 'Martes', 'Miercoles', 'Jueves', 'Viernes', 'Sabado', 'Domingo']\n",
    "day_of_the_year = int(input(\"Ingrese el dia del año: \"))\n",
    "day_of_the_week = day_of_the_year % 7\n",
    "print( weekdays[day_of_the_week] )"
   ]
  },
  {
   "cell_type": "code",
   "execution_count": null,
   "metadata": {
    "id": "ssRR4W2XcuX7"
   },
   "outputs": [],
   "source": []
  },
  {
   "cell_type": "code",
   "execution_count": null,
   "metadata": {
    "id": "JXEUtiOtcuIk"
   },
   "outputs": [],
   "source": []
  },
  {
   "cell_type": "markdown",
   "metadata": {
    "id": "ple-OvO2QdeD"
   },
   "source": [
    "#### Challenge de listas: ¿Cómo se podría hacer una matriz?"
   ]
  },
  {
   "cell_type": "code",
   "execution_count": null,
   "metadata": {
    "id": "Mh25rvel6BLJ"
   },
   "outputs": [],
   "source": []
  },
  {
   "cell_type": "markdown",
   "metadata": {
    "id": "unAFRKQ24-ym"
   },
   "source": [
    "### Nota final\n",
    "Es importante observar que en las listas los elementos se almacenan en un orden bien definido, es decir: siempre hay un elemento que está antes y otro que está después. Esto no será siempre cierto con otras estructuras de datos. \n",
    "\n",
    "Otro detalle es que es posible crear listas con elementos de cualquier tipo de dato, o con cualquier estructura de datos. De forma que se pueden crear listas de listas, o cualquier otra combinación de las estructuras que veremos más adelante.\n",
    "\n",
    "Mas información acerca de los métodos de una lista: https://docs.python.org/3/tutorial/datastructures.html#more-on-lists\n"
   ]
  },
  {
   "cell_type": "markdown",
   "metadata": {
    "id": "LWdgjC8mSxuE"
   },
   "source": [
    "## Diccionarios"
   ]
  },
  {
   "cell_type": "markdown",
   "metadata": {
    "id": "KhV4CUvITVmc"
   },
   "source": [
    "Un diccionario es otra estructura de datos muy útil y muy utilizada cotidianamente. La analogía directa que se suele hacer es con un diccionario físico. Un diccionario (en el sentido físico) contiene una gran cantidad de información organizada por palabras y contenido asociado a ellas. Más precisamente, cada una ordenadas alfabéticamente tiene asociada una información que describe en profundidad su significado. Lo que nos interesa obtener de un diccionario son las definiciones, y la palabra correspondiente es lo que nos ayuda a encontrarlas.\n",
    "\n",
    "<img src=\"https://miro.medium.com/max/1352/1*hGyBdj9oX7aGlKTQ_sAoEw.png\" height = 200 alt = \"Un diccionario, literalmente\" title=\"No les puedo asegurar que la imagen sea una buena analogia de lo que es un diccionario en Python...\">\n",
    "\n",
    "\n",
    "En programación los diccionarios no son muy distintos. Un \"diccionario\" en este contexto es una estructura de datos cuya información esta organizada igual que en un diccionario físico; cada bloque de información, es decir, cada elemento, tiene asociada una palabra. La palabra que se utiliza para encontrar el bloque de información se la suele denominar **key**. Mediante la **key** se puede acceder a dicha informacion, la cual se suele denominar **contenido**. El par **key,contenido** suele llamarse **elemento**.\n",
    "\n",
    "Es muy importante notar que no pueden existir dos elementos con igual clave, estos serían indistinguibles.\n",
    "\n",
    "La clave suele ser información con tipo de dato **string** (aunque no necesariamente), mientras que el contenido puede tener cualquier tipo de dato, esto será decisión de ustedes.\n",
    "\n",
    "Estos se crean utilizando la siguiente estructura:\n",
    "\n",
    "> x = **{**  $k_{0}$ **:** $c_{0}$**,** $k_{1}$ **:** $c_{1}$, $\\dots$**}**\n",
    ">\n",
    "> Noten el \"**:**\" que divide el *key* del *contenido*, y que se usa entre llaves: **{ }**\n",
    "\n",
    "Comenzemos por crear un diccionario con la descripción de las palabras:"
   ]
  },
  {
   "cell_type": "code",
   "execution_count": null,
   "metadata": {
    "id": "x_M_vy5fUtyd"
   },
   "outputs": [],
   "source": [
    "d = {\n",
    "    \"trueno\": \"Ruido muy fuerte que sigue al rayo durante una tempestad, producido por la expansión del aire al paso de la descarga eléctrica.\",\n",
    "    \"rayo\": \"Chispa eléctrica de gran intensidad producida por la descarga entre dos nubes o entre una nube y la tierra.\"\n",
    "} \n",
    "a = {} # Diccionario vacío\n",
    "print(d)\n",
    "print(a)"
   ]
  },
  {
   "cell_type": "markdown",
   "metadata": {
    "id": "L4qzUGar266U"
   },
   "source": [
    "Para acceder a los datos de un diccionario se utiliza la misma sintaxis que las listas pero en lugar de un *índice* numérico, utilizando la *key* a la que queremos acceder."
   ]
  },
  {
   "cell_type": "code",
   "execution_count": null,
   "metadata": {
    "id": "X4NcAVrb3IOa"
   },
   "outputs": [],
   "source": [
    "print(d['rayo'])"
   ]
  },
  {
   "cell_type": "markdown",
   "metadata": {
    "id": "Abnxh6zsuJp9"
   },
   "source": [
    "Tambien podemos usar los diccionarios para acceder de forma sencilla a datos. Creamos una base de datos donde se guarda de la siguiente manera:\n",
    "\n",
    "> **key**=Cédula **contenido**=Nombre"
   ]
  },
  {
   "cell_type": "code",
   "execution_count": null,
   "metadata": {
    "id": "FLfNRSbXVxOr"
   },
   "outputs": [],
   "source": [
    "database = {\n",
    "    50033:\"Karen Fernandez\",\n",
    "    50002:\"Matías Perez\"\n",
    "}\n",
    "print(\"Nombre completo del legajo\",50002,\": \",database[50002])\n"
   ]
  },
  {
   "cell_type": "markdown",
   "metadata": {
    "id": "XfBwbaJi2Epw"
   },
   "source": [
    "### Operaciones con diccionarios\n",
    "- $key$ **in** diccionario: Nos permite saber si esa key se encuentra en el diccionario."
   ]
  },
  {
   "cell_type": "code",
   "execution_count": null,
   "metadata": {
    "id": "IXfr9AU0JMMc"
   },
   "outputs": [],
   "source": [
    "database = {\n",
    "    50001:\"Karen Fernandez\",\n",
    "    50002:\"Matías Perez\"\n",
    "}\n",
    "if 50001 in database:\n",
    "    print(\"la key 50001 se encuentra en el diccionario\")\n",
    "x = int(input())\n",
    "if x in database:\n",
    "    print(x, 'Esta en el diccionario')"
   ]
  },
  {
   "cell_type": "markdown",
   "metadata": {
    "id": "ved0xALF2ffS"
   },
   "source": [
    "- **for** key **in** diccionario: Nos permite iterar por todas las keys del diccionario."
   ]
  },
  {
   "cell_type": "code",
   "execution_count": null,
   "metadata": {
    "id": "Vrf_s_F1J7uA"
   },
   "outputs": [],
   "source": [
    "database = {\n",
    "    50001:\"Karen Fernandez\",\n",
    "    50002:\"Matías Perez\"\n",
    "}\n",
    "\n",
    "for key in database:\n",
    "    print('La key',key,'tiene asociado el valor',database[key])"
   ]
  },
  {
   "cell_type": "markdown",
   "metadata": {
    "id": "xHAzhLywGEvB"
   },
   "source": [
    "- **.items**(): nos devuelve la lista de llaves y valores contenidas por el diccionario."
   ]
  },
  {
   "cell_type": "code",
   "execution_count": null,
   "metadata": {
    "id": "e58nY61-J_0D"
   },
   "outputs": [],
   "source": [
    "database = {\n",
    "    50001:\"Karen Fernandez\",\n",
    "    50002:\"Matías Perez\"\n",
    "}\n",
    "\n",
    "for k,c in database.items():\n",
    "    print(\"key:\",k,\" content: \",c)\n",
    "    "
   ]
  },
  {
   "cell_type": "markdown",
   "metadata": {
    "id": "pr-mdzVqTKYH"
   },
   "source": [
    "Ya que se obtienen 2 datos por elemento, para utilizarlo en un *for* tendremos que indicar 2 nombres de variable separados por coma. En este ejemplo la variable *k* tomará el valor de la *key* de cada elemento y la variable *c* tomará el valor de cada *contenido*."
   ]
  },
  {
   "cell_type": "markdown",
   "metadata": {
    "id": "zQlclroya-2Y"
   },
   "source": [
    "Para agregar elementos a un diccionario utilizamos `diccionario[clave] = valor`\n",
    "\n",
    "\n"
   ]
  },
  {
   "cell_type": "code",
   "execution_count": null,
   "metadata": {
    "id": "s0k9_NjxbGFm"
   },
   "outputs": [],
   "source": [
    "x = {\n",
    "    'año':2019,\n",
    "    'mes':12\n",
    "}\n",
    "\n",
    "x['dia'] = 24\n",
    "print(x)\n",
    "\n",
    "x['mes'] = 'Diciembre'\n",
    "x['horas'] = 23\n",
    "x['minutos'] = 59\n",
    "print(x)"
   ]
  },
  {
   "cell_type": "markdown",
   "metadata": {
    "id": "eK4Lm4w9WHfk"
   },
   "source": [
    "### Mini-desafío: Diccionarios\n",
    "Realizar un programa que pida al usuario un número de legajo y el nombre completo, luego lo guarde en un diccionario.\n",
    "\n",
    "Usar dos celdas de codigo, en una crear el diccionario, y en la otra agregar el nombre y legajo, mostrar el contenido. La idea es que cuando se ejecute varias veces la segunda celda se agrege un nuevo nombre y legajo a lo que ya había sido almacenado en el diccionario."
   ]
  },
  {
   "cell_type": "code",
   "execution_count": null,
   "metadata": {
    "id": "2dcL9YmnWfbv"
   },
   "outputs": [],
   "source": [
    "# celda 1\n",
    "dic = {}\n",
    "print(dic)"
   ]
  },
  {
   "cell_type": "code",
   "execution_count": null,
   "metadata": {
    "id": "8yuSm7HoA54V"
   },
   "outputs": [],
   "source": [
    "# celda 2"
   ]
  },
  {
   "cell_type": "markdown",
   "metadata": {
    "id": "VWdCPrBJxITk"
   },
   "source": [
    "#### **Para un desafío mayor:** Mini-desafío: Diccionario²\n",
    "Se recibieron distintos postulantes para un empleo de traductor. Crear un diccionario en el cuál la *key* de cada elemento sea el nombre de un candidato y el *contenido* sea un diccionario de los idiomas que aprendió. Para armar el diccionario de idiomas de cada candidato, los elementos deben tener como *key* el nombre del idioma y como *contenido* el valor True o False para los siguientes idiomas: Español, Ingles, Chino, Frances, Italiano.\n",
    "\n",
    "Ejemplo del diccionario de idiomas:\n",
    "\n",
    "```\n",
    "{\"Español\":True, \"Ingles\":True, \"Chino\":False, \"Frances\":False, \"Italiano\":True}\n",
    "```\n",
    "\n",
    "Inventar valores para 5 candidatos.\n",
    "\n",
    "El usuario luego debe poder ingresar el nombre de un idioma y el programa deberá mostrar en pantalla el nombre de aquellos candidatos que aprendieron ese idioma."
   ]
  },
  {
   "cell_type": "code",
   "execution_count": null,
   "metadata": {
    "id": "-nOROXjbl0aJ"
   },
   "outputs": [],
   "source": []
  },
  {
   "cell_type": "markdown",
   "metadata": {
    "id": "EbcY0DGr9mwE"
   },
   "source": [
    "### Nota final\n",
    "Es importante ver que un diccionario tiene un cierto orden al igual que las listas, por otro lado también aceptan contenidos repetidos y todo marchará correctamente siempre que tengan distintas claves. Uno de los dilemas más comunes cuando se trabaja con grandes volúmenes de información es qué tomar como clave.\n",
    "\n",
    "En la proxima sección veremos un tipo de datos que ya no organizará la información de manera tal que exista un orden establecido; en algunos casos es provechoso que la información se estructure de manera tal que no exista un orden en los elementos."
   ]
  },
  {
   "cell_type": "markdown",
   "metadata": {
    "id": "otim_uNIDYcm"
   },
   "source": [
    "## Sets\n",
    "Un **set** es una estructura de datos más avanzada que las anteriores, la cual nos permite almacenar un grupo de elementos cuyo orden no es relevante. Lo único que tiene importancia cuando utilizamos un **set** es qué elemento está y qué elemento no. \n",
    "\n",
    "<img src=\"https://files.realpython.com/media/t.8b7abb515ae8.png\" height = 200 alt = \"Representación de Set usando diagrama Venn\" title= \"A&B\">\n",
    "\n",
    "\n",
    "Un **set** no admite repetidos, ya que por su funcionamiento interno no tiene la capacidad de determinar cuando un elemento se encuentra más de una vez, tan solo puede saber qué elementos están y qué elementos no.\n",
    "A primera vista parecería entonces que un **set** es muy limitado, ya que no está ordenado y no acepta repetidos, no obstante este es muy práctico para algunos tipos de operaciones, las cuales serían muy tediosas de  programar en listas o diccionarios.\n",
    "\n",
    "Para crear un **set** se utilizan llaves **{ }** y se colocan elementos separados por comas, su sintaxis es similar al de las listas."
   ]
  },
  {
   "cell_type": "code",
   "execution_count": null,
   "metadata": {
    "id": "pGzhs39jEhPl"
   },
   "outputs": [],
   "source": [
    "x = {1,2,3,4,7,7,7,7,7,7}\n",
    "print(\"Set x=\",x)"
   ]
  },
  {
   "cell_type": "markdown",
   "metadata": {
    "id": "vwXNR2eLMEHH"
   },
   "source": [
    "### Operaciones con sets\n",
    "- **|** : Es la operacion de $A \\cup B$ llamada \"*unión*\"."
   ]
  },
  {
   "cell_type": "code",
   "execution_count": null,
   "metadata": {
    "id": "yUtHifyMgoYc"
   },
   "outputs": [],
   "source": [
    "x = {1,2,3,4,7,7,7,7,7,7}\n",
    "y = {1,2,10}\n",
    "z = {15, 20}\n",
    "\n",
    "k = x | y | z\n",
    "print(k)"
   ]
  },
  {
   "cell_type": "markdown",
   "metadata": {
    "id": "d51LnJdhMgxr"
   },
   "source": [
    "\n",
    "-  **&**: Es la operacion de $A \\cap B$ llamada \"*intersección*\"."
   ]
  },
  {
   "cell_type": "code",
   "execution_count": null,
   "metadata": {
    "id": "7pXUUZBMMunZ"
   },
   "outputs": [],
   "source": [
    "x = {1,2,3,4,7,7,7,7,7,7}\n",
    "y = {1,2,10}\n",
    "w = x & y\n",
    "print(w)"
   ]
  },
  {
   "cell_type": "markdown",
   "metadata": {
    "id": "i-jBKc8rQz2I"
   },
   "source": [
    "- **A-B**: Todo elemento de A que también se encuentre en B, será quitado de A. El equivalente logico es $ A\\cap \\neg B$."
   ]
  },
  {
   "cell_type": "code",
   "execution_count": null,
   "metadata": {
    "id": "Y-ERvaLKRFbS"
   },
   "outputs": [],
   "source": [
    "x = {1,2,3,4,7,7,7,7,7,7}\n",
    "y = {1,2,10}\n",
    "z = x-y\n",
    "print(z)\n",
    "print(y-x)"
   ]
  },
  {
   "cell_type": "markdown",
   "metadata": {
    "id": "bD9Y4BIeQOY2"
   },
   "source": [
    "- **.remove**($valor$): Remueve el valor del set."
   ]
  },
  {
   "cell_type": "code",
   "execution_count": null,
   "metadata": {
    "id": "tLd3WIpxGT-o"
   },
   "outputs": [],
   "source": [
    "x = {1,2,3,4,7}\n",
    "x.remove(1)\n",
    "print(x)\n",
    "\n"
   ]
  },
  {
   "cell_type": "markdown",
   "metadata": {
    "id": "B7B3zozkQZKe"
   },
   "source": [
    "- **.add**($valor$): Agrega el valor al set."
   ]
  },
  {
   "cell_type": "code",
   "execution_count": null,
   "metadata": {
    "id": "04Qm70ySHlEn"
   },
   "outputs": [],
   "source": [
    "x = {1,2,3,4,7}\n",
    "x.add(\"hola\")\n",
    "print(x)"
   ]
  },
  {
   "cell_type": "markdown",
   "metadata": {
    "id": "4AaFXPmnpH6L"
   },
   "source": [
    "- **len**( $set$ ) Obtiene el tamaño de un set."
   ]
  },
  {
   "cell_type": "code",
   "execution_count": null,
   "metadata": {
    "id": "Z2xvvwqXpTRo"
   },
   "outputs": [],
   "source": [
    "conjunto = { 1, 2, 1, 3, 1, 6}\n",
    "print(conjunto)\n",
    "print(len(conjunto))"
   ]
  },
  {
   "cell_type": "markdown",
   "metadata": {
    "id": "GTYqk43YWl_3"
   },
   "source": [
    "### Mini-desafío: Sets\n",
    "Se cuentan con varios sets que contienen las personas que les gusta un cierto sabor de helado:\n",
    "\n",
    "```\n",
    "vainilla = { \"Juan\", \"Marina\", \"Tomas\", \"Paula\" }\n",
    "chocolate = { \"Pedro\", \"Paula\", \"Marina\" }\n",
    "dulceDeLeche = { \"Juan\", \"Julian\", \"Pedro\", \"Marina\" }\n",
    "```\n",
    "\n",
    "Responder usando operaciones de sets:\n",
    "\n",
    "- Hay alguna persona que le gusten todos los gustos?\n",
    "\n",
    "- Hay alguna persona que le gusten la vainilla y no el dulce de leche?\n",
    "\n",
    "- Cuantas personas distintas tenemos?"
   ]
  },
  {
   "cell_type": "code",
   "execution_count": null,
   "metadata": {
    "id": "g3blObRMYI1O"
   },
   "outputs": [],
   "source": []
  },
  {
   "cell_type": "markdown",
   "metadata": {
    "id": "hpW3cNya1ESA"
   },
   "source": [
    "# Ejercitación integradora\n",
    "$\\newcommand{\\dif}{\\bigstar}$$\\newcommand{\\facil}{\\color{\\green}{\\dif}}$ $\\newcommand{\\pieceofcake}{\\color{\\cyan}{\\dif}}$$\\newcommand{\\medio}{\\color{\\yellow}{\\dif\\dif}}$$\\newcommand{\\media}{\\medio}$$\\newcommand{\\normal}{\\medio}$  $\\newcommand{\\dificil}{\\color{\\orange}{\\dif\\dif\\dif}}$ $\\newcommand{\\imposible}{\\color{\\red}{\\dif\\dif\\dif\\dif}}$"
   ]
  },
  {
   "cell_type": "markdown",
   "metadata": {
    "id": "dz1uvBrZlIHA"
   },
   "source": [
    "### $\\facil$ Call me $\\frac{\\partial}{\\partial x}$, or $\\mathrm{diff}$ for short\n",
    "Una operacion muy comun al manejar datos es la derivada\n",
    "\n",
    "$$ \\frac{d }{dt} (\\mathrm{Datos}) $$\n",
    "\n",
    "Escribir una función que reciba una lista de números. Llamemos $n$ a la cantidad de elementos en esta lista. Debe devolver una lista de tamaño $n-1$ con los valores de la *derivada discreta* de la lista recibida.\n",
    "\n",
    "La *derivada discreta* corresponde a la diferencia entre un elemento y su anterior, podemos usar la siguiente definición:\n",
    "* $\\mathrm{derivada}[i]=x[i+1]-x[i]$ \n"
   ]
  },
  {
   "cell_type": "code",
   "execution_count": null,
   "metadata": {
    "id": "NwAlHXUVrc7M"
   },
   "outputs": [],
   "source": [
    "# [5,6,7]"
   ]
  },
  {
   "cell_type": "markdown",
   "metadata": {
    "id": "0CqTiYpZG-AO"
   },
   "source": [
    "###$\\normal$  Une y triunfarás\n",
    "Se recibieron distintos postulantes para un empleo de traductor. Crear un **diccionario** en el cuál la *key* de cada elemento sea el nombre de un candidato y el *contenido* sea un **set** con los idiomas que aprendió.\n",
    "Inventar valores para 5 candidatos.\n",
    "\n",
    "- Mostrar en pantalla los idiomas que todos los candidatos aprendieron.\n",
    "- Mostrar en pantalla todos los candidatos que aprendieron por lo menos Español e Inglés.\n",
    "\n",
    "El usuario luego debe poder ingresar el nombre de un idioma y el programa deberá mostrar en pantalla el nombre de aquellos candidatos que aprendieron ese idioma."
   ]
  },
  {
   "cell_type": "code",
   "execution_count": null,
   "metadata": {
    "id": "81Kzws-ka5L9"
   },
   "outputs": [],
   "source": []
  },
  {
   "cell_type": "markdown",
   "metadata": {
    "id": "3YitqSp9Z3sD"
   },
   "source": [
    "###$\\normal$ Las naranjas de Miguel \n",
    "Miguel vive en un pueblo frutero con su hermana en el valle de Oz. Todos los días cosecha bananas y naranjas de su campo. Como son abundantes, suele darle 2 bananas y 1 naranja a su hermana. No obstante Miguel siempre quiere quedarse con por lo menos una naranja, por lo cual le da una naranja a su hermana solo cuando se cosechan al menos 2 naranjas\n",
    "\n",
    "Miguel ahora quiere modernizarse, compró una cinta transportadora que detecta cada fruta que la atraviesa y te pide ayuda para  escribir un programa que reciba el código generado por la máquina y *devuelva la cantidad de bananas y naranjas que le quedarán* luego de quitar las frutas que le dará a su hermana.\n",
    "\n",
    "``\n",
    "ejemploCodigoDePedido = \"BBBBBNNNNNNNN\"\n",
    "``\n",
    "\n",
    "Cada N representa una naranja y cada B representa una banana.\n",
    "\n",
    "**Tips**\n",
    "* La función `list()` toma un string y lo convierte a una lista\n",
    "\n",
    "```\n",
    "P = list( ejemploCodigoDePedido )\n",
    ">> P = ['B', 'B', 'B', 'B', 'B', 'N', 'N', 'N', 'N', 'N', 'N', 'N', 'N']\n",
    "```"
   ]
  },
  {
   "cell_type": "code",
   "execution_count": null,
   "metadata": {
    "id": "3fotZ5anaVs6"
   },
   "outputs": [],
   "source": []
  },
  {
   "cell_type": "markdown",
   "metadata": {
    "id": "58bbfFzqurNj"
   },
   "source": [
    "### $\\dificil$ Dr. Chaos, el malevolo semiótico\n",
    "\n",
    "\"Chaos es caos en inglés\" te diría Dr. Chaos, charlando con una taza de té Chai en la mano. En verdad no es tán malo como su nombre lo hace aparentar... si es que tenés un buen manejo de los idiomas.\n",
    "\n",
    "Dr. Chaos esta armando un diccionario. Este diccionario tiene la particularidad de no tener definiciones; el diccionario de Dr. Chaos define *una palabra como otra*. Dr. Chaos quiere comenzar a traducir la literatura de todo el mundo usando el diccionario y ha venido a ti, el *Number One* programador de Python. \n",
    "\n",
    "**Objetivo:** Cambiar las palabras de una oración usando el diccionario de Dr. Chaos e imprimir la nueva oración en el lenguaje unificado.\n",
    "\n",
    "*Ejemplo:*\n",
    "\n",
    "``\n",
    "diccionario = {\"hola\":\"你好\",\"como\":\"how\",\"estás\":\"estáis\"}\n",
    "``\n",
    "\n",
    "``\n",
    "oracion = \"hola, como estás?\"\n",
    "``\n",
    "\n",
    "\n",
    "*OUTPUT:*\n",
    "``\n",
    "\"你好, how estáis?\"\n",
    "``\n",
    "\n",
    "\n",
    "*Ejemplo 2:*\n",
    "\n",
    "``\n",
    "diccionario = {\"ve\":\"regards\",\"bien\":\"bom\",\"se\":\"it\"}\n",
    "``\n",
    "\n",
    "``\n",
    "oracion = \"se ve bien!\"\n",
    "``\n",
    "\n",
    "**Tips:** \n",
    "\n",
    "* El programa debería tratar los símbolos de interrogación, exclamación, los puntos y comas como `whitespace`, es decir, espacio en blanco.\n",
    " \n",
    "* Suponer que las letras son todas minusculas.\n"
   ]
  },
  {
   "cell_type": "code",
   "execution_count": null,
   "metadata": {
    "id": "kDvIsxZCxawO"
   },
   "outputs": [],
   "source": []
  },
  {
   "cell_type": "markdown",
   "metadata": {
    "id": "0_lEQuB-fIH4"
   },
   "source": [
    "###$\\dificil$ Las elecciones\n",
    "Realizar un programa en el cual se decida cual es el ganador de una **elección a presidente**\n",
    "\n",
    "En el diccionario candidatos la clave es el nombre del cadidato y el contenido la cantidad de votos. \n",
    "\n",
    "**Hint**: Usen for, if, variables auxiliares."
   ]
  },
  {
   "cell_type": "code",
   "execution_count": null,
   "metadata": {
    "id": "QH9KkPS6fMzX"
   },
   "outputs": [],
   "source": [
    "candidatos = {\n",
    "    \"Michael Jackson\": 34453,\n",
    "    \"Oliver Kahn\": 18445,\n",
    "    \"Micky Vainilla\": 5434444,\n",
    "    \"John Lennon\": 12332,\n",
    "    \"Roque Sáenz Peña\": 5543,\n",
    "    \"Alexandria Ocasio-Cortez\": 343343,\n",
    "    \"Ludwig van Beethoven\":1232322\n",
    "}\n",
    "\n",
    "for nombre, votos in candidatos.items():\n",
    "    print(nombre,\":\", votos)"
   ]
  },
  {
   "cell_type": "markdown",
   "metadata": {
    "id": "EB1w1IxifRzY"
   },
   "source": [
    "Hacer que el programa anterior indique si debe haber **[ballotage](https://es.wikipedia.org/wiki/Segunda_vuelta_electoral)** (es decir, si el ganador obtuvo menos del 50%+1 de los votos). "
   ]
  },
  {
   "cell_type": "code",
   "execution_count": null,
   "metadata": {
    "id": "RU0qaWD5fUjY"
   },
   "outputs": [],
   "source": []
  },
  {
   "cell_type": "markdown",
   "metadata": {
    "id": "2a0QjbS3QrlX"
   },
   "source": [
    "###$\\imposible$ Quiero Retruco\n",
    "El [Truco](https://es.wikipedia.org/wiki/Truco_argentino) es un juego de cartas muy popular en Argentina. Se suele jugar con naipes españoles de 40 cartas, las cuales tienen 4 palos (basto, oro, espada y copa) y 10 números, 1,2,3,4,5,6,7,10,11 y 12.\n",
    "Si bien en esta ocasión no vamos a programar un juego de truco, sí vamos a resolver uno de los problemas más usuales que surgen cuando jugamos, el cual es definir qué carta gana y qué carta pierde cuando hay un duelo entre dos cartas. \n",
    "\n",
    "<img src=\"https://k31.kn3.net/4A0BBF71D.png\" height=300 alt =\"Esquema de hierarquia de cartas para el juego truco argentino\" title=\"Un palo le gana a 7 espadas y ambos pierden ante una espada envainada? What?\">\n",
    "\n",
    "\n",
    "\n",
    "En la imagen podemos observar el orden de importancia de las cartas de izquierda a derecha. El 1 de espada es la más importante (y por lo tanto **siempre** gana) mientras que los 4s son las cartas de menor importancia (casi siempre pierden). Las cartas en la misma columna empatan si se enfrentan.\n",
    "\n",
    "- Programar una función con dos inputs tipo string **carta A** y **carta B** que retorne la carta ganadora (tipo string), o \"empate\" en caso de que lo haya. Ejemplos de como debería funcionar\n",
    "\n",
    "```\n",
    "   dueloDeCartas(\"1 de espada\", \"1 de basto\")\n",
    "   >>> 1 de espada\n",
    "   dueloDeCartas(\"7 de oro\", \"5 de oro\")\n",
    "   >>> 7 de oro\n",
    "   dueloDeCartas(\"11 de copa\", \"11 de espada\")\n",
    "   >>> empate\n",
    "```\n",
    "\n",
    "**Pista** (seleccionar texto para ver): <font color=\"white\"> Usar un diccionario donde la **clave** sea el nombre de la carta, y su **contenido** su importancia (un tipo **int**). Aprovechen la instrucción *for* para evitar tener que cargar todas las cartas una por una.\n",
    "</font>\n",
    "\n",
    "- A veces se suele jugar al truco con más de dos jugadores. Podría ocurrir duelos en los que participan $n$ cartas. Programar una función cuyo input sea una lista de strings con todas las cartas y retorne la ganadora. (En caso de empate que retorne alguna de las ganadoras, o una lista con las ganadoras).\n",
    "Ejemplos de como podría funcionar:\n",
    "```\n",
    "   dueloDeCartas([\"7 de basto\",\"7 de espada\",\"12 de espada\", \"4 de espada\"])\n",
    "   >>> \"7 de espada\"\n",
    "   dueloDeCartas([\"4 de espada\",\"7 de basto\",\"7 de copa\", \"5 de copa\"]) #también podría haber dado 7 de basto \n",
    "   >>> \"7 de copa\"\n",
    "```"
   ]
  },
  {
   "cell_type": "code",
   "execution_count": null,
   "metadata": {
    "colab": {
     "base_uri": "https://localhost:8080/",
     "height": 55
    },
    "id": "ueZhnfXxobqG",
    "outputId": "1197a33b-1a07-435f-8bb7-8f98f4d293ed"
   },
   "outputs": [
    {
     "name": "stdout",
     "output_type": "stream",
     "text": [
      "{'1 de espada': 14, '1 de basto': 13, '7 de espada': 12, '7 de oro': 11, '3 de oro': 10, '3 de copa': 10, '3 de basto': 10, '3 de espada': 10, '2 de oro': 9, '2 de copa': 9, '2 de basto': 9, '2 de espada': 9, '1 de oro': 8, '1 de copa': 8, '12 de oro': 7, '12 de copa': 7, '12 de basto': 7, '12 de espada': 7, '11 de oro': 6, '11 de copa': 6, '11 de basto': 6, '11 de espada': 6, '10 de oro': 5, '10 de copa': 5, '10 de basto': 5, '10 de espada': 5, '7 de basto': 4, '7 de copa': 4, '6 de oro': 3, '6 de copa': 3, '6 de basto': 3, '6 de espada': 3, '5 de oro': 2, '5 de copa': 2, '5 de basto': 2, '5 de espada': 2, '4 de oro': 1, '4 de copa': 1, '4 de basto': 1, '4 de espada': 1}\n"
     ]
    }
   ],
   "source": []
  },
  {
   "cell_type": "markdown",
   "metadata": {
    "id": "cPg3_nytSrCG"
   },
   "source": [
    "# Anexo: Funcionamiento de la memoria\n",
    "\n",
    "En la explicación al principio de la clase representamos la memoria como un conjunto de casilleros que almacenan números, vamos a explicar un poco más en detalle de dónde salen esos números, y por qué es la única manera de almacenar información en la memoria.\n",
    "\n",
    "La memoria de una computadora es un dispositivo que contiene un conjunto de componentes electrónicos que pueden alternar entre 2 estados, un estado de encendido y uno de apagado. La computadora puede dar instrucciones a la memoria para modificar el estado de estos componentes, de forma que determine si cada uno está encendido o apagado, y más tarde puede revisar estos componentes para saber el estado en el que están. De alguna forma tenemos que usar las distintas combinaciones de encendidos y apagados (también llamados 0 y 1) de los distintos componentes para representar toda la información que necesitamos. Cada uno de estos \"pedacitos\" de información que únicamente tienen 2 estados se los llama \"digitos binarios\" o \"bits\", y como dijimos anteriormente cada *bit* puede valer 0 o 1.\n",
    "\n",
    "En los comienzos de la informática se adoptó una convención que es ahora casi universal, esta gran cantidad de *bits* que tiene la memoria se van a separar en grupos de 8. Cada \"casillero\" de la memoria en la imagen de la explicación del inicio, corresponde a un grupo de 8 *bits* de memoria, es decir, a 8 de estos componentes que pueden estar encendidos o apagados.\n",
    "\n",
    "*¿Entonces por qué dijimos que cada casillero es un número, cuando es realidad son 8 dígitos binarios?*\n",
    "\n",
    "La respuesta es que es mucho más fácil usar números decimales (los números \"normales\") en lugar de 8 dígitos binarios, entonces convertimos esos 8 *bits* en un número decimal usando el [sistema binario](https://es.wikipedia.org/wiki/Sistema_binario). Usando este sistema, cada combinación de 8 *bits*, es decir 8 ceros y unos, corresponde a un número decimal.\n",
    "\n",
    "Por ejemplo:\n",
    "\n",
    "| Binario | Decimal   |\n",
    "|----------|-----|\n",
    "| 00000000 | 0   |\n",
    "| 00000001 | 1   |\n",
    "| 00000010 | 2   |\n",
    "| 00000011 | 3   |\n",
    "| ...      | ... |\n",
    "| 11111111 | 255 |\n",
    "\n",
    "<br />\n",
    "\n",
    "Usando 8 *bits* se pueden generar 256 combinaciones distintas, y en el sistema decimal corresponden a los números del 0 al 255. Cada uno de estos paquetes de 8 *bits* se denomina \"byte\", cuando nos referíamos a un \"casillero\" de memoria en realidad estabamos haciendo referencia a un *byte*.\n",
    "\n",
    "Para guardar números mayores a 255, la variable correspondiente deberá ocupar más de 1 *byte* o \"casillero\". Cuándo se utilizan 2 *bytes* para almacenar un número, una estrategia posible es usar un *byte* para almacenar el cociente N/256 y el otro para almacenar el resto N%256 (en donde N es el número que se desea guardar). Luego para recrear el número original se multiplica el cociente por 256 y se suma el resto. Este es sólo un ejemplo, se utilizan diferentes estrategias para almacenar números negativos, números con decimales, y más.\n",
    "\n",
    "Otro tipo de variables como strings, listas, sets, etc. utilizan diferentes técnicas. En algunos casos se reserva una cantidad grande de *bytes* por si el tamaño de la variable crece mucho, en algunos casos se pueden reservar más *bytes* si la cantidad reservada previamente no es suficiente.\n",
    "\n",
    "Hay muchos más detalles acerca de cada una de las cosas que mencionamos, y de cada tema se podrían hacer varias materias, por lo cual si quieren conocer más pueden seguir investigando por su cuenta.\n",
    "\n",
    "Algunos links interesantes:\n",
    "\n",
    "https://es.wikipedia.org/wiki/ASCII\n",
    "\n",
    "https://es.wikipedia.org/wiki/Unicode\n",
    "\n",
    "https://es.wikipedia.org/wiki/Byte\n",
    "\n",
    "https://es.wikipedia.org/wiki/Coma_flotante\n",
    "\n",
    "https://es.wikipedia.org/wiki/Direcci%C3%B3n_de_memoria\n",
    "\n",
    "https://es.wikipedia.org/wiki/Puntero_(inform%C3%A1tica)\n",
    "\n",
    "https://es.wikipedia.org/wiki/Biestable"
   ]
  }
 ],
 "metadata": {
  "colab": {
   "collapsed_sections": [
    "ple-OvO2QdeD"
   ],
   "name": "Taller 2 - Curso Python.ipynb",
   "provenance": []
  },
  "kernelspec": {
   "display_name": "Python 3",
   "language": "python",
   "name": "python3"
  },
  "language_info": {
   "codemirror_mode": {
    "name": "ipython",
    "version": 3
   },
   "file_extension": ".py",
   "mimetype": "text/x-python",
   "name": "python",
   "nbconvert_exporter": "python",
   "pygments_lexer": "ipython3",
   "version": "3.8.3"
  },
  "toc": {
   "base_numbering": 1,
   "nav_menu": {},
   "number_sections": true,
   "sideBar": true,
   "skip_h1_title": false,
   "title_cell": "Table of Contents",
   "title_sidebar": "Contents",
   "toc_cell": false,
   "toc_position": {},
   "toc_section_display": true,
   "toc_window_display": false
  },
  "varInspector": {
   "cols": {
    "lenName": 16,
    "lenType": 16,
    "lenVar": 40
   },
   "kernels_config": {
    "python": {
     "delete_cmd_postfix": "",
     "delete_cmd_prefix": "del ",
     "library": "var_list.py",
     "varRefreshCmd": "print(var_dic_list())"
    },
    "r": {
     "delete_cmd_postfix": ") ",
     "delete_cmd_prefix": "rm(",
     "library": "var_list.r",
     "varRefreshCmd": "cat(var_dic_list()) "
    }
   },
   "types_to_exclude": [
    "module",
    "function",
    "builtin_function_or_method",
    "instance",
    "_Feature"
   ],
   "window_display": false
  }
 },
 "nbformat": 4,
 "nbformat_minor": 1
}
