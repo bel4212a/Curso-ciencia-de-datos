{
 "cells": [
  {
   "cell_type": "markdown",
   "metadata": {},
   "source": [
    "# Proyecto semana 5\n",
    "\n",
    "Este proyecto se realizara durante las clases de la semana 5, e incluye la reunion, limpieza, visualizacion, de datos asi como su interpretacion y su correcta comunicacion.\n",
    "\n",
    "Se requiere que encuentre al menos dos conjuntos de datos en la web que estén relacionados, y que visualice estos conjuntos de datos para responder una pregunta con el tema amplio de los fenómenos meteorológicos para la región de Funza, Cundinamarca, Colombia o Colombia en general.\n",
    "\n",
    "¡Puede combinar estos conjuntos de datos con datos de diferentes regiones si lo desea! Por ejemplo, es posible que desee comparar Funza, Cundinamarca con Santa Marta, Cartagena, Villavicencio o con otro pais. En ese caso, al menos un archivo fuente debe ser sobre Funza, Cundinamarca, Colombia.\n",
    "\n",
    "Aquí están las instrucciones de la asignación:\n",
    "\n",
    "Indique la región y la categoría de dominio sobre la que tratan sus conjuntos de datos (por ejemplo, Funza, Cundinamarca, Colombia y fenómenos meteorológicos).\n",
    "\n",
    "Debe formular una pregunta sobre la categoría de dominio y la región que identificó como interesantes.\n",
    "Debe proporcionar al menos dos enlaces a los conjuntos de datos disponibles. Estos pueden ser enlaces a archivos como archivos CSV o Excel, o enlaces a sitios web que pueden tener datos en forma de tabla, como páginas de Wikipedia.\n",
    "Debe cargar una imagen que aborde la pregunta de investigación que indicó. Además de abordar la pregunta, esta imagen debe seguir los principios de veracidad, funcionalidad, belleza y perspicacia de El Cairo. (Recordar los articulos que se dejaron para leer en las clase pasadas)\n",
    "\n",
    "Debe contribuir con una breve justificación escrita (1-2 párrafos) de cómo su visualización aborda la pregunta de investigación establecida.\n",
    "\n",
    "¿Qué entendemos por fenómenos meteorológicos? Para esta categoría, es posible que desee considerar los cambios estacionales, los desastres naturales o las tendencias históricas.\n",
    "\n",
    "## Consejos\n",
    "\n",
    "* Wikipedia es una excelente fuente de datos.\n",
    "\n",
    "* Muchos gobiernos ejecutan iniciativas de datos abiertos a nivel de ciudad, región y país, y estos son recursos maravillosos para fuentes de datos localizadas.\n",
    "\n",
    "* Varias agencias internacionales, como las Naciones Unidas, el Banco Mundial, el Índice Global de Datos Abiertos son otros lugares excelentes para buscar datos.\n",
    "\n",
    "* Esta asignación requiere que convierta y limpie archivos de datos, lo cual sera considerado como parte de la mineria de datos cuando ya se encuentre laborando en el sector.\n",
    "\n",
    "Buena suerte."
   ]
  }
 ],
 "metadata": {
  "kernelspec": {
   "display_name": "Python 3",
   "language": "python",
   "name": "python3"
  },
  "language_info": {
   "codemirror_mode": {
    "name": "ipython",
    "version": 3
   },
   "file_extension": ".py",
   "mimetype": "text/x-python",
   "name": "python",
   "nbconvert_exporter": "python",
   "pygments_lexer": "ipython3",
   "version": "3.8.3"
  },
  "toc": {
   "base_numbering": 1,
   "nav_menu": {},
   "number_sections": true,
   "sideBar": true,
   "skip_h1_title": false,
   "title_cell": "Table of Contents",
   "title_sidebar": "Contents",
   "toc_cell": false,
   "toc_position": {},
   "toc_section_display": true,
   "toc_window_display": false
  },
  "varInspector": {
   "cols": {
    "lenName": 16,
    "lenType": 16,
    "lenVar": 40
   },
   "kernels_config": {
    "python": {
     "delete_cmd_postfix": "",
     "delete_cmd_prefix": "del ",
     "library": "var_list.py",
     "varRefreshCmd": "print(var_dic_list())"
    },
    "r": {
     "delete_cmd_postfix": ") ",
     "delete_cmd_prefix": "rm(",
     "library": "var_list.r",
     "varRefreshCmd": "cat(var_dic_list()) "
    }
   },
   "types_to_exclude": [
    "module",
    "function",
    "builtin_function_or_method",
    "instance",
    "_Feature"
   ],
   "window_display": false
  }
 },
 "nbformat": 4,
 "nbformat_minor": 1
}
